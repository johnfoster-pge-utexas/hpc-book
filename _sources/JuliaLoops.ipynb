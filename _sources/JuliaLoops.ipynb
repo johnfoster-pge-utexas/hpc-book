{
 "cells": [
  {
   "cell_type": "markdown",
   "id": "50da6e62",
   "metadata": {
    "slideshow": {
     "slide_type": "skip"
    }
   },
   "source": [
    "# For and While Loops\n",
    "\n",
    "Looping structures, i.e. `for` and `while` loops, are another method of flow control in Julia programming.  They can be used to perform structured and/or repeated tasks that occur numerous times in a compact way."
   ]
  },
  {
   "cell_type": "markdown",
   "id": "afa7e55d",
   "metadata": {
    "slideshow": {
     "slide_type": "slide"
    }
   },
   "source": [
    "## For loops"
   ]
  },
  {
   "cell_type": "markdown",
   "id": "5560b4bc",
   "metadata": {
    "slideshow": {
     "slide_type": "skip"
    }
   },
   "source": [
    "For loops are a looping structure that allows for iteration over a fixed number of items.  The items can simply be monotonically increasing integers, in which case the loop simply cycles a fixed number of times.  Additionally, the items can by items from a Julia `Array`, `Tuple`, or `Dict` or other iterable types\n",
    "\n",
    "For demonstration purposes, let's start with a Julia `Array` of type `Any`."
   ]
  },
  {
   "cell_type": "code",
   "execution_count": 1,
   "id": "90d38428",
   "metadata": {
    "slideshow": {
     "slide_type": "-"
    }
   },
   "outputs": [
    {
     "data": {
      "text/plain": [
       "3-element Vector{Any}:\n",
       " 1\n",
       " 2.0\n",
       "  \"hello\""
      ]
     },
     "execution_count": 1,
     "metadata": {},
     "output_type": "execute_result"
    }
   ],
   "source": [
    "alist = [1, 2.0, \"hello\"]"
   ]
  },
  {
   "cell_type": "markdown",
   "id": "fcf86711",
   "metadata": {
    "slideshow": {
     "slide_type": "skip"
    }
   },
   "source": [
    "Now we can write a `for` loop that iterates over each item in the list one at a time and prints the item to the screen."
   ]
  },
  {
   "cell_type": "markdown",
   "id": "a8025e50",
   "metadata": {
    "slideshow": {
     "slide_type": "skip"
    },
    "tags": [
     "popout"
    ]
   },
   "source": [
    "In this loop `item` becomes a *variable* internal to the loop that each entry in `alist` gets assigned to one-by-one as the program cycles through the body of the loop until the end of `alist` has been reached."
   ]
  },
  {
   "cell_type": "code",
   "execution_count": 2,
   "id": "a426efb3",
   "metadata": {
    "slideshow": {
     "slide_type": "-"
    }
   },
   "outputs": [
    {
     "name": "stdout",
     "output_type": "stream",
     "text": [
      "1\n",
      "2.0\n",
      "hello\n"
     ]
    }
   ],
   "source": [
    "for item in alist\n",
    "    println(item)\n",
    "end"
   ]
  },
  {
   "cell_type": "markdown",
   "id": "ee7d5b12",
   "metadata": {
    "slideshow": {
     "slide_type": "fragment"
    }
   },
   "source": [
    "The loop above is exactly equivalent to this code"
   ]
  },
  {
   "cell_type": "code",
   "execution_count": 3,
   "id": "b3336523",
   "metadata": {
    "slideshow": {
     "slide_type": "-"
    }
   },
   "outputs": [
    {
     "name": "stdout",
     "output_type": "stream",
     "text": [
      "1\n",
      "2.0\n",
      "hello\n"
     ]
    }
   ],
   "source": [
    "item = alist[1]\n",
    "println(item)\n",
    "item = alist[2]\n",
    "println(item)\n",
    "item = alist[3]\n",
    "println(item)"
   ]
  },
  {
   "cell_type": "markdown",
   "id": "b4f10cde",
   "metadata": {
    "slideshow": {
     "slide_type": "skip"
    }
   },
   "source": [
    "The code above is said to be the *unrolling* of the loop.  Of course, if `alist` had many items in it, we would not want to type all the lines of code required to perform the operation without the loop."
   ]
  },
  {
   "cell_type": "markdown",
   "id": "69d1a78c",
   "metadata": {
    "slideshow": {
     "slide_type": "skip"
    }
   },
   "source": [
    "Just like Julia functions and if statements, loops use and `end` keyword to indicate the end of *body* of the loop.  What is in the body gets executed every cycle through the loop, any valid Julia code can be placed in the body."
   ]
  },
  {
   "cell_type": "markdown",
   "id": "bced0e00",
   "metadata": {
    "slideshow": {
     "slide_type": "fragment"
    },
    "tags": [
     "popout"
    ]
   },
   "source": [
    "The [`StepRange`](https://docs.julialang.org/en/v1.7/base/collections/#Base.StepRange) type provides a quick way to generate a monotonically increasing set of integers for iteration."
   ]
  },
  {
   "cell_type": "code",
   "execution_count": 4,
   "id": "8cecbadf",
   "metadata": {
    "slideshow": {
     "slide_type": "-"
    }
   },
   "outputs": [
    {
     "name": "stdout",
     "output_type": "stream",
     "text": [
      "0\n",
      "4\n",
      "16\n",
      "36\n"
     ]
    }
   ],
   "source": [
    "for i = 0:2:6\n",
    "    println(i ^ 2)\n",
    "end"
   ]
  },
  {
   "cell_type": "markdown",
   "id": "cd04a35c",
   "metadata": {
    "slideshow": {
     "slide_type": "fragment"
    }
   },
   "source": [
    "Tuples can be iterated over in a for loop just like lists."
   ]
  },
  {
   "cell_type": "code",
   "execution_count": 5,
   "id": "42cef05c",
   "metadata": {
    "slideshow": {
     "slide_type": "-"
    }
   },
   "outputs": [
    {
     "name": "stdout",
     "output_type": "stream",
     "text": [
      "1\n",
      "3\n",
      "5\n"
     ]
    }
   ],
   "source": [
    "atuple = (1, 3, 5)\n",
    "\n",
    "for item in atuple\n",
    "    println(item)\n",
    "end"
   ]
  },
  {
   "cell_type": "markdown",
   "id": "dada3a7a",
   "metadata": {
    "slideshow": {
     "slide_type": "fragment"
    }
   },
   "source": [
    "Dictionaries can also be iterated over, by default iterating over a `Dict` returns a tuple of (key, value) pairs to be unpacked and assigned each to variables local to the loop."
   ]
  },
  {
   "cell_type": "markdown",
   "id": "dbd1e40c",
   "metadata": {
    "slideshow": {
     "slide_type": "skip"
    },
    "tags": [
     "popout"
    ]
   },
   "source": [
    "If only dictionary keywords where desired for iteration in the loop, the `keys()` function could be used.  Likewise `values()` can be used if only the values are desired.  The functions turn the respective keys and/or values into an `Array`."
   ]
  },
  {
   "cell_type": "code",
   "execution_count": 6,
   "id": "8f52c290",
   "metadata": {
    "slideshow": {
     "slide_type": "-"
    }
   },
   "outputs": [
    {
     "name": "stdout",
     "output_type": "stream",
     "text": [
      "name2 is Juliet\n",
      "name1 is Romeo\n"
     ]
    }
   ],
   "source": [
    "adict = Dict(\"name1\" => \"Romeo\", \"name2\" => \"Juliet\")\n",
    "\n",
    "for (keyword, value) in adict\n",
    "    println(\"$(keyword) is $(value)\")\n",
    "end"
   ]
  },
  {
   "cell_type": "markdown",
   "id": "4e4e5053",
   "metadata": {
    "slideshow": {
     "slide_type": "skip"
    }
   },
   "source": [
    "Often times we would like to store the results of computations in a `Array` as the loop executes.  One way to do this is using the `push!()` function defined for `Array`s.  Here we start with an empty `Array` of type `Any` and append the square of the integer range of numbers from 0 to 10 each cycle through the loop."
   ]
  },
  {
   "cell_type": "code",
   "execution_count": 7,
   "id": "591fcc0c",
   "metadata": {
    "slideshow": {
     "slide_type": "fragment"
    }
   },
   "outputs": [
    {
     "name": "stdout",
     "output_type": "stream",
     "text": [
      "Any[0]\n",
      "Any[0, 1]\n",
      "Any[0, 1, 4]\n",
      "Any[0, 1, 4, 9]\n",
      "Any[0, 1, 4, 9, 16]\n",
      "Any[0, 1, 4, 9, 16, 25]\n",
      "Any[0, 1, 4, 9, 16, 25, 36]\n",
      "Any[0, 1, 4, 9, 16, 25, 36, 49]\n",
      "Any[0, 1, 4, 9, 16, 25, 36, 49, 64]\n",
      "Any[0, 1, 4, 9, 16, 25, 36, 49, 64, 81]\n",
      "Any[0, 1, 4, 9, 16, 25, 36, 49, 64, 81, 100]\n",
      "Any[0, 1, 4, 9, 16, 25, 36, 49, 64, 81, 100]"
     ]
    }
   ],
   "source": [
    "alist = []\n",
    "\n",
    "for item = 0:10\n",
    "    push!(alist, item ^ 2)\n",
    "    println(alist)\n",
    "end\n",
    "    \n",
    "print(alist)"
   ]
  },
  {
   "cell_type": "markdown",
   "id": "a06cd209",
   "metadata": {
    "slideshow": {
     "slide_type": "subslide"
    }
   },
   "source": [
    "## List comprehensions"
   ]
  },
  {
   "cell_type": "markdown",
   "id": "5b2b1cb1",
   "metadata": {
    "slideshow": {
     "slide_type": "skip"
    }
   },
   "source": [
    "There is another type of for loop structure that can be used in Julia when it is desired to store the output of computations from a loop in a `Array`.  These are called *comprehensions*.  An example of a list comprehension that produces the same result as the for loop above is"
   ]
  },
  {
   "cell_type": "markdown",
   "id": "1beeeb10",
   "metadata": {
    "slideshow": {
     "slide_type": "skip"
    },
    "tags": [
     "popout"
    ]
   },
   "source": [
    "In a list comprehension, the body of the loop goes before the `for` keyword."
   ]
  },
  {
   "cell_type": "code",
   "execution_count": 8,
   "id": "c774265f",
   "metadata": {
    "slideshow": {
     "slide_type": "-"
    }
   },
   "outputs": [
    {
     "name": "stdout",
     "output_type": "stream",
     "text": [
      "Any[0, 1, 4, 9, 16, 25, 36, 49, 64, 81, 100]"
     ]
    }
   ],
   "source": [
    "alist = Any[item ^ 2 for item = 0:10]\n",
    "print(alist)"
   ]
  },
  {
   "cell_type": "markdown",
   "id": "7ecce2c0",
   "metadata": {
    "slideshow": {
     "slide_type": "subslide"
    }
   },
   "source": [
    "## Enumerate"
   ]
  },
  {
   "cell_type": "markdown",
   "id": "ea28fa7a",
   "metadata": {
    "slideshow": {
     "slide_type": "skip"
    }
   },
   "source": [
    "Occasionally, in addition to iterating over the actual items in a `Array`/`Tuple`, the integer index corresponding to the location in the data structure is also desired.  This can be returned with the `enumerate()` function.  For example,"
   ]
  },
  {
   "cell_type": "code",
   "execution_count": 9,
   "id": "9b3b1b0e",
   "metadata": {
    "slideshow": {
     "slide_type": "-"
    }
   },
   "outputs": [
    {
     "name": "stdout",
     "output_type": "stream",
     "text": [
      "a -- has the index 1\n",
      "tuple -- has the index 2\n",
      "of -- has the index 3\n",
      "strings -- has the index 4\n"
     ]
    }
   ],
   "source": [
    "atuple = (\"a\", \"tuple\", \"of\", \"strings\")\n",
    "\n",
    "for (count, item) in enumerate(atuple)\n",
    "    println(\"$(item) -- has the index $(count)\")\n",
    "end"
   ]
  },
  {
   "cell_type": "markdown",
   "id": "a279a1ac",
   "metadata": {
    "slideshow": {
     "slide_type": "slide"
    }
   },
   "source": [
    "## While loops"
   ]
  },
  {
   "cell_type": "markdown",
   "id": "9f9efe2b",
   "metadata": {
    "slideshow": {
     "slide_type": "skip"
    }
   },
   "source": [
    "While loops continuously execute the body of the loop so long as some conditional statement is evaluating to `true`.  The conditional statement appears to the right of the `while` keyword.  In the example below, we use a very simple conditional statement, but any valid conditional expression in Julia, including `&&` and `||` operators can be used."
   ]
  },
  {
   "cell_type": "markdown",
   "id": "996d03e2",
   "metadata": {
    "slideshow": {
     "slide_type": "skip"
    },
    "tags": [
     "popout"
    ]
   },
   "source": [
    "Here the conditional statement is `i < 5` which of course is `true` with the given initial value of `i=0`.  So the body of the loop executes, each time incrementing `i` by 1, until `i = 5` which causes the conditional statement to evaluate to `false` and the loop exits."
   ]
  },
  {
   "cell_type": "code",
   "execution_count": 10,
   "id": "9b56ab8a",
   "metadata": {
    "slideshow": {
     "slide_type": "-"
    }
   },
   "outputs": [
    {
     "name": "stdout",
     "output_type": "stream",
     "text": [
      "0\n",
      "1\n",
      "2\n",
      "3\n",
      "4\n"
     ]
    }
   ],
   "source": [
    "i = 0\n",
    "\n",
    "while (i < 5)\n",
    "    \n",
    "    println(i)\n",
    "    \n",
    "    i += 1\n",
    "end"
   ]
  },
  {
   "cell_type": "markdown",
   "id": "4d8fc774",
   "metadata": {
    "slideshow": {
     "slide_type": "skip"
    }
   },
   "source": [
    "If the conditional statement in a while loop never evaluates to `false`, the loop will execute ad infinitum.  If new variables are being assigned in the body of the loop or the results of computations are stored, the infinite cycling can cause the computer's memory to fill and possibly lead to a crash of the program and/or computer.  It's often desirable to have a set number of maximum iterations that if reached will guarantee the loop will exit.  In this case, the functionality of a while loop can be replicated with the combination of a for loop and an if statement with a `break` keyword.  For example, the while loop structure above is replicated in the following code, but with the guard that the maximum number of iterations cannot exceed 10."
   ]
  },
  {
   "cell_type": "code",
   "execution_count": 11,
   "id": "453e3a91",
   "metadata": {
    "slideshow": {
     "slide_type": "fragment"
    }
   },
   "outputs": [
    {
     "name": "stdout",
     "output_type": "stream",
     "text": [
      "0\n",
      "1\n",
      "2\n",
      "3\n",
      "4\n"
     ]
    }
   ],
   "source": [
    "for i = 0:10\n",
    "    if i > 4\n",
    "        break\n",
    "    end\n",
    "    println(i)\n",
    "end"
   ]
  },
  {
   "cell_type": "code",
   "execution_count": 12,
   "id": "30df30ff",
   "metadata": {
    "hide_input": true,
    "init_cell": true,
    "slideshow": {
     "slide_type": "skip"
    },
    "tags": [
     "remove_cell"
    ]
   },
   "outputs": [
    {
     "data": {
      "application/javascript": [
       "function hideElements(elements, start) {\n",
       "for(var i = 0, length = elements.length; i < length;i++) {\n",
       "    if(i >= start) {\n",
       "        elements[i].style.display = \"none\";\n",
       "    }\n",
       "}\n",
       "}\n",
       "var prompt_elements = document.getElementsByClassName(\"prompt\");\n",
       "hideElements(prompt_elements, 0)\n"
      ]
     },
     "metadata": {},
     "output_type": "display_data"
    }
   ],
   "source": [
    "macro javascript_str(s) display(\"text/javascript\", s); end\n",
    "javascript\"\"\"\n",
    "function hideElements(elements, start) {\n",
    "for(var i = 0, length = elements.length; i < length;i++) {\n",
    "    if(i >= start) {\n",
    "        elements[i].style.display = \"none\";\n",
    "    }\n",
    "}\n",
    "}\n",
    "var prompt_elements = document.getElementsByClassName(\"prompt\");\n",
    "hideElements(prompt_elements, 0)\n",
    "\"\"\""
   ]
  }
 ],
 "metadata": {
  "jupytext": {
   "text_representation": {
    "extension": ".md",
    "format_name": "myst",
    "format_version": 0.13,
    "jupytext_version": "1.11.5"
   }
  },
  "kernelspec": {
   "display_name": "Julia 1.7.2",
   "language": "julia",
   "name": "julia-1.7"
  },
  "language_info": {
   "file_extension": ".jl",
   "mimetype": "application/julia",
   "name": "julia",
   "version": "1.7.2"
  },
  "source_map": [
   14,
   20,
   24,
   30,
   38,
   42,
   46,
   56,
   60,
   73,
   77,
   81,
   85,
   95,
   99,
   111,
   115,
   119,
   131,
   135,
   150,
   154,
   158,
   162,
   171,
   175,
   179,
   191,
   195,
   199,
   203,
   218,
   222,
   235
  ]
 },
 "nbformat": 4,
 "nbformat_minor": 5
}