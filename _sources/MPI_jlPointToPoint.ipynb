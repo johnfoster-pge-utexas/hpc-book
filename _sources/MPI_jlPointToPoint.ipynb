{
 "cells": [
  {
   "cell_type": "markdown",
   "id": "8465f4c9",
   "metadata": {
    "slideshow": {
     "slide_type": "slide"
    }
   },
   "source": [
    "# Point-to-Point Communication\n",
    "\n",
    "Sending data from one point (process/task) to another point (process/task)"
   ]
  },
  {
   "cell_type": "markdown",
   "id": "f2ac2c4f",
   "metadata": {
    "slideshow": {
     "slide_type": "subslide"
    }
   },
   "source": [
    "## send/recv"
   ]
  },
  {
   "cell_type": "markdown",
   "id": "f7e33c4b",
   "metadata": {
    "hide_input": false,
    "slideshow": {
     "slide_type": "-"
    }
   },
   "source": [
    "```julia\n",
    "using MPI\n",
    "MPI.Init()\n",
    "\n",
    "comm = MPI.COMM_WORLD\n",
    "rank = MPI.Comm_rank(comm)\n",
    "size = MPI.Comm_size(comm)\n",
    "\n",
    "struct Point\n",
    "  x::Float64\n",
    "  y::Float64\n",
    "end\n",
    "\n",
    "p = Point(rank, rank)\n",
    "\n",
    "if rank == 0\n",
    "    MPI.send(p, comm; dest=1)\n",
    "elseif rank > 0\n",
    "    data = MPI.recv(comm; source=(rank - 1))\n",
    "    MPI.send(p, comm; dest=(rank + 1) % size)\n",
    "end\n",
    "\n",
    "if rank == 0\n",
    "    data = MPI.recv(comm; source=(size - 1))\n",
    "end\n",
    "\n",
    "print(\"My rank is $(rank)\\n I received this: $(data)\\n\")\n",
    "MPI.Barrier(comm)\n",
    "```"
   ]
  },
  {
   "cell_type": "code",
   "execution_count": 1,
   "id": "c4bc48ec",
   "metadata": {
    "hide_input": false,
    "slideshow": {
     "slide_type": "skip"
    },
    "tags": [
     "remove_cell"
    ]
   },
   "outputs": [
    {
     "name": "stdout",
     "output_type": "stream",
     "text": [
      "Writing send_recv.jl\n"
     ]
    }
   ],
   "source": [
    "%%file send_recv.jl\n",
    "#!/usr/bin/env julia\n",
    "using MPI\n",
    "MPI.Init()\n",
    "\n",
    "comm = MPI.COMM_WORLD\n",
    "rank = MPI.Comm_rank(comm)\n",
    "size = MPI.Comm_size(comm)\n",
    "\n",
    "struct Point\n",
    "  x::Float64\n",
    "  y::Float64\n",
    "end\n",
    "\n",
    "p = Point(rank, rank)\n",
    "\n",
    "if rank == 0\n",
    "    MPI.send(p, comm; dest=1)\n",
    "elseif rank > 0\n",
    "    data = MPI.recv(comm; source=(rank - 1))\n",
    "    MPI.send(p, comm; dest=(rank + 1) % size)\n",
    "end\n",
    "\n",
    "if rank == 0\n",
    "    data = MPI.recv(comm; source=(size - 1))\n",
    "end\n",
    "\n",
    "print(\"My rank is $(rank)\\n I received this: $(data)\\n\")\n",
    "MPI.Barrier(comm)"
   ]
  },
  {
   "cell_type": "markdown",
   "id": "de6508b6",
   "metadata": {
    "slideshow": {
     "slide_type": "fragment"
    }
   },
   "source": [
    "If the preceding code is saved as a file [send_recv.jl](send_recv.jl), we can run"
   ]
  },
  {
   "cell_type": "code",
   "execution_count": 2,
   "id": "30258484",
   "metadata": {
    "hide_input": false,
    "slideshow": {
     "slide_type": "-"
    }
   },
   "outputs": [
    {
     "name": "stdout",
     "output_type": "stream",
     "text": [
      "My rank is 1\r\n",
      " I received this: Point(0.0, 0.0)\r\n"
     ]
    },
    {
     "name": "stdout",
     "output_type": "stream",
     "text": [
      "My rank is 2\r\n",
      " I received this: Point(1.0, 1.0)\r\n"
     ]
    },
    {
     "name": "stdout",
     "output_type": "stream",
     "text": [
      "My rank is 0\r\n",
      " I received this: Point(2.0, 2.0)\r\n"
     ]
    }
   ],
   "source": [
    "!~/.julia/bin/mpiexecjl --project=.. -np 3 julia send_recv.jl"
   ]
  },
  {
   "cell_type": "markdown",
   "id": "aae179dd",
   "metadata": {
    "slideshow": {
     "slide_type": "subslide"
    }
   },
   "source": [
    "## Send/Recv"
   ]
  },
  {
   "cell_type": "markdown",
   "id": "c2279f83",
   "metadata": {
    "hide_input": false,
    "slideshow": {
     "slide_type": "-"
    }
   },
   "source": [
    "```julia\n",
    "using MPI\n",
    "MPI.Init()\n",
    "\n",
    "comm = MPI.COMM_WORLD\n",
    "rank = MPI.Comm_rank(comm)\n",
    "size = MPI.Comm_size(comm)\n",
    "\n",
    "\n",
    "send_buf = Array{Float64}(undef, 10)\n",
    "recv_buf = Array{Float64}(undef, 10)\n",
    "\n",
    "fill!(send_buf, Float64(rank))\n",
    "\n",
    "if rank == 0\n",
    "    MPI.Send(send_buf, comm; dest=1)\n",
    "elseif rank > 0\n",
    "    MPI.Recv!(recv_buf, comm; source=(rank - 1))\n",
    "    MPI.Send(send_buf, comm; dest=(rank + 1) % size)\n",
    "end\n",
    "\n",
    "if rank == 0\n",
    "    MPI.Recv!(recv_buf, comm; source=(size - 1))\n",
    "end\n",
    "\n",
    "print(\"My rank is $(rank)\\n I received this: $(recv_buf)\\n\")\n",
    "MPI.Barrier(comm)\n",
    "```"
   ]
  },
  {
   "cell_type": "code",
   "execution_count": 3,
   "id": "94866c1e",
   "metadata": {
    "hide_input": false,
    "slideshow": {
     "slide_type": "skip"
    },
    "tags": [
     "remove_cell"
    ]
   },
   "outputs": [
    {
     "name": "stdout",
     "output_type": "stream",
     "text": [
      "Writing Send_Recv.jl\n"
     ]
    }
   ],
   "source": [
    "%%file Send_Recv.jl\n",
    "#!/usr/bin/env julia\n",
    "using MPI\n",
    "MPI.Init()\n",
    "\n",
    "comm = MPI.COMM_WORLD\n",
    "rank = MPI.Comm_rank(comm)\n",
    "size = MPI.Comm_size(comm)\n",
    "\n",
    "\n",
    "send_buf = Array{Float64}(undef, 10)\n",
    "recv_buf = Array{Float64}(undef, 10)\n",
    "\n",
    "fill!(send_buf, Float64(rank))\n",
    "\n",
    "if rank == 0\n",
    "    MPI.Send(send_buf, comm; dest=1)\n",
    "elseif rank > 0\n",
    "    MPI.Recv!(recv_buf, comm; source=(rank - 1))\n",
    "    MPI.Send(send_buf, comm; dest=(rank + 1) % size)\n",
    "end\n",
    "\n",
    "if rank == 0\n",
    "    MPI.Recv!(recv_buf, comm; source=(size - 1))\n",
    "end\n",
    "\n",
    "print(\"My rank is $(rank)\\n I received this: $(recv_buf)\\n\")\n",
    "MPI.Barrier(comm)"
   ]
  },
  {
   "cell_type": "markdown",
   "id": "066a64ba",
   "metadata": {
    "slideshow": {
     "slide_type": "fragment"
    }
   },
   "source": [
    "If the preceding code is saved as a file [Send_Recv.jl](Send_Recv.jl), we can run"
   ]
  },
  {
   "cell_type": "code",
   "execution_count": 4,
   "id": "8dec6698",
   "metadata": {
    "hide_input": false,
    "slideshow": {
     "slide_type": "-"
    }
   },
   "outputs": [
    {
     "name": "stdout",
     "output_type": "stream",
     "text": [
      "\u001b[91m\u001b[1mERROR: \u001b[22m\u001b[39m"
     ]
    },
    {
     "name": "stdout",
     "output_type": "stream",
     "text": [
      "ArgumentError: Package MPI not found in current path:\r\n",
      "- Run `import Pkg; Pkg.add(\"MPI\")` to install the MPI package.\r\n",
      "\r\n",
      "Stacktrace:\r\n",
      " [1] \u001b[0m\u001b[1mrequire\u001b[22m\u001b[0m\u001b[1m(\u001b[22m\u001b[90minto\u001b[39m::\u001b[0mModule, \u001b[90mmod\u001b[39m::\u001b[0mSymbol\u001b[0m\u001b[1m)\u001b[22m\r\n",
      "\u001b[90m   @ \u001b[39m\u001b[90mBase\u001b[39m \u001b[90m./\u001b[39m\u001b[90m\u001b[4mloading.jl:967\u001b[24m\u001b[39m\r\n"
     ]
    }
   ],
   "source": [
    "!~/.julia/bin/mpiexecjl -np 3 julia Send_Recv.jl"
   ]
  },
  {
   "cell_type": "markdown",
   "id": "046e80ac",
   "metadata": {
    "slideshow": {
     "slide_type": "subslide"
    }
   },
   "source": [
    "## Isend/Irecv"
   ]
  },
  {
   "cell_type": "markdown",
   "id": "3eb4b1b4",
   "metadata": {
    "hide_input": false,
    "slideshow": {
     "slide_type": "-"
    }
   },
   "source": [
    "```julia\n",
    "using MPI\n",
    "MPI.Init()\n",
    "\n",
    "comm = MPI.COMM_WORLD\n",
    "rank = MPI.Comm_rank(comm)\n",
    "size = MPI.Comm_size(comm)\n",
    "\n",
    "\n",
    "send_buf = Array{Float64}(undef, 10)\n",
    "recv_buf = Array{Float64}(undef, 10)\n",
    "\n",
    "fill!(send_buf, Float64(rank))\n",
    "\n",
    "if rank == 0\n",
    "    send_status = MPI.Isend(send_buf, comm; dest=1)\n",
    "elseif rank > 0\n",
    "    recv_status = MPI.Irecv!(recv_buf, comm; source=(rank - 1))\n",
    "    send_status = MPI.Isend(send_buf, comm; dest=(rank + 1) % size)\n",
    "end\n",
    "\n",
    "if rank == 0\n",
    "    recv_status = MPI.Irecv!(recv_buf, comm; source=(size - 1))\n",
    "end\n",
    "\n",
    "stats = MPI.Waitall!([send_status, recv_status])\n",
    "\n",
    "print(\"My rank is $(rank)\\n I received this: $(recv_buf)\\n\")\n",
    "```"
   ]
  },
  {
   "cell_type": "code",
   "execution_count": 5,
   "id": "dfdf91c8",
   "metadata": {
    "hide_input": false,
    "slideshow": {
     "slide_type": "skip"
    },
    "tags": [
     "remove_cell"
    ]
   },
   "outputs": [
    {
     "name": "stdout",
     "output_type": "stream",
     "text": [
      "Writing Isend_Irecv.jl\n"
     ]
    }
   ],
   "source": [
    "%%file Isend_Irecv.jl\n",
    "#!/usr/bin/env julia\n",
    "using MPI\n",
    "MPI.Init()\n",
    "\n",
    "comm = MPI.COMM_WORLD\n",
    "rank = MPI.Comm_rank(comm)\n",
    "size = MPI.Comm_size(comm)\n",
    "\n",
    "\n",
    "send_buf = Array{Float64}(undef, 10)\n",
    "recv_buf = Array{Float64}(undef, 10)\n",
    "\n",
    "fill!(send_buf, Float64(rank))\n",
    "\n",
    "if rank == 0\n",
    "    send_status = MPI.Isend(send_buf, comm; dest=1)\n",
    "elseif rank > 0\n",
    "    recv_status = MPI.Irecv!(recv_buf, comm; source=(rank - 1))\n",
    "    send_status = MPI.Isend(send_buf, comm; dest=(rank + 1) % size)\n",
    "end\n",
    "\n",
    "if rank == 0\n",
    "    recv_status = MPI.Irecv!(recv_buf, comm; source=(size - 1))\n",
    "end\n",
    "\n",
    "stats = MPI.Waitall!([send_status, recv_status])\n",
    "\n",
    "print(\"My rank is $(rank)\\n I received this: $(recv_buf)\\n\")"
   ]
  },
  {
   "cell_type": "markdown",
   "id": "8dc947b8",
   "metadata": {
    "slideshow": {
     "slide_type": "fragment"
    }
   },
   "source": [
    "If the preceding code is saved as a file `Isend_Irecv.jl`, we can run"
   ]
  },
  {
   "cell_type": "code",
   "execution_count": 6,
   "id": "27de7d10",
   "metadata": {
    "hide_input": false,
    "slideshow": {
     "slide_type": "-"
    }
   },
   "outputs": [
    {
     "name": "stdout",
     "output_type": "stream",
     "text": [
      "\u001b[91m\u001b[1mERROR: \u001b[22m\u001b[39m"
     ]
    },
    {
     "name": "stdout",
     "output_type": "stream",
     "text": [
      "ArgumentError: Package MPI not found in current path:\r\n",
      "- Run `import Pkg; Pkg.add(\"MPI\")` to install the MPI package.\r\n",
      "\r\n",
      "Stacktrace:\r\n",
      " [1] \u001b[0m\u001b[1mrequire\u001b[22m\u001b[0m\u001b[1m(\u001b[22m\u001b[90minto\u001b[39m::\u001b[0mModule, \u001b[90mmod\u001b[39m::\u001b[0mSymbol\u001b[0m\u001b[1m)\u001b[22m\r\n",
      "\u001b[90m   @ \u001b[39m\u001b[90mBase\u001b[39m \u001b[90m./\u001b[39m\u001b[90m\u001b[4mloading.jl:967\u001b[24m\u001b[39m\r\n"
     ]
    }
   ],
   "source": [
    "!~/.julia/bin/mpiexecjl -np 3 julia ISend_IRecv.jl"
   ]
  },
  {
   "cell_type": "code",
   "execution_count": 7,
   "id": "2baeecda",
   "metadata": {
    "hide_input": true,
    "init_cell": true,
    "slideshow": {
     "slide_type": "skip"
    },
    "tags": [
     "remove_cell"
    ]
   },
   "outputs": [
    {
     "data": {
      "application/javascript": [
       "function hideElements(elements, start) {\n",
       "    for(var i = 0, length = elements.length; i < length;i++) {\n",
       "        if(i >= start) {\n",
       "            elements[i].style.display = \"none\";\n",
       "        }\n",
       "    }\n",
       "}\n",
       "\n",
       "var prompt_elements = document.getElementsByClassName(\"prompt\");\n",
       "hideElements(prompt_elements, 0)\n"
      ],
      "text/plain": [
       "<IPython.core.display.Javascript object>"
      ]
     },
     "metadata": {},
     "output_type": "display_data"
    }
   ],
   "source": [
    "%%javascript\n",
    "function hideElements(elements, start) {\n",
    "    for(var i = 0, length = elements.length; i < length;i++) {\n",
    "        if(i >= start) {\n",
    "            elements[i].style.display = \"none\";\n",
    "        }\n",
    "    }\n",
    "}\n",
    "\n",
    "var prompt_elements = document.getElementsByClassName(\"prompt\");\n",
    "hideElements(prompt_elements, 0)"
   ]
  }
 ],
 "metadata": {
  "jupytext": {
   "formats": "ipynb,md:myst",
   "text_representation": {
    "extension": ".md",
    "format_name": "myst",
    "format_version": 0.13,
    "jupytext_version": "1.13.7"
   }
  },
  "kernelspec": {
   "display_name": "Python 3 (ipykernel)",
   "language": "python",
   "name": "python3"
  },
  "language_info": {
   "codemirror_mode": {
    "name": "ipython",
    "version": 3
   },
   "file_extension": ".py",
   "mimetype": "text/x-python",
   "name": "python",
   "nbconvert_exporter": "python",
   "pygments_lexer": "ipython3",
   "version": "3.8.12"
  },
  "source_map": [
   15,
   21,
   25,
   57,
   95,
   99,
   108,
   112,
   143,
   180,
   184,
   193,
   197,
   229,
   267,
   271,
   280
  ]
 },
 "nbformat": 4,
 "nbformat_minor": 5
}