{
 "cells": [
  {
   "cell_type": "markdown",
   "id": "a59e5f97",
   "metadata": {
    "slideshow": {
     "slide_type": "slide"
    }
   },
   "source": [
    "# Point-to-Point Communication\n",
    "\n",
    "Sending data from one point (process/task) to another point (process/task)"
   ]
  },
  {
   "cell_type": "markdown",
   "id": "b6d15cb0",
   "metadata": {
    "slideshow": {
     "slide_type": "subslide"
    }
   },
   "source": [
    "## send/recv"
   ]
  },
  {
   "cell_type": "markdown",
   "id": "abbaf468",
   "metadata": {
    "hide_input": false,
    "slideshow": {
     "slide_type": "-"
    }
   },
   "source": [
    "```julia\n",
    "using MPI\n",
    "MPI.Init()\n",
    "\n",
    "comm = MPI.COMM_WORLD\n",
    "rank = MPI.Comm_rank(comm)\n",
    "size = MPI.Comm_size(comm)\n",
    "\n",
    "struct Point\n",
    "  x::Float64\n",
    "  y::Float64\n",
    "end\n",
    "\n",
    "p = Point(rank, rank)\n",
    "\n",
    "if rank == 0\n",
    "    MPI.send(p, comm; dest=1)\n",
    "elseif rank > 0\n",
    "    data = MPI.recv(comm; source=(rank - 1))\n",
    "    MPI.send(p, comm; dest=(rank + 1) % size)\n",
    "end\n",
    "\n",
    "if rank == 0\n",
    "    data = MPI.recv(comm; source=(size - 1))\n",
    "end\n",
    "\n",
    "print(\"My rank is $(rank)\\n I received this: $(data)\\n\")\n",
    "MPI.Barrier(comm)\n",
    "```"
   ]
  },
  {
   "cell_type": "code",
   "execution_count": 1,
   "id": "44d78f0d",
   "metadata": {
    "hide_input": false,
    "slideshow": {
     "slide_type": "skip"
    },
    "tags": [
     "remove_cell"
    ]
   },
   "outputs": [
    {
     "name": "stdout",
     "output_type": "stream",
     "text": [
      "Writing send_recv.jl\n"
     ]
    }
   ],
   "source": [
    "%%file send_recv.jl\n",
    "#!/usr/bin/env julia\n",
    "using MPI\n",
    "MPI.Init()\n",
    "\n",
    "comm = MPI.COMM_WORLD\n",
    "rank = MPI.Comm_rank(comm)\n",
    "size = MPI.Comm_size(comm)\n",
    "\n",
    "struct Point\n",
    "  x::Float64\n",
    "  y::Float64\n",
    "end\n",
    "\n",
    "p = Point(rank, rank)\n",
    "\n",
    "if rank == 0\n",
    "    MPI.send(p, comm; dest=1)\n",
    "elseif rank > 0\n",
    "    data = MPI.recv(comm; source=(rank - 1))\n",
    "    MPI.send(p, comm; dest=(rank + 1) % size)\n",
    "end\n",
    "\n",
    "if rank == 0\n",
    "    data = MPI.recv(comm; source=(size - 1))\n",
    "end\n",
    "\n",
    "print(\"My rank is $(rank)\\n I received this: $(data)\\n\")\n",
    "MPI.Barrier(comm)"
   ]
  },
  {
   "cell_type": "markdown",
   "id": "a032bb63",
   "metadata": {
    "slideshow": {
     "slide_type": "fragment"
    }
   },
   "source": [
    "If the preceding code is saved as a file [send_recv.jl](send_recv.jl), we can run"
   ]
  },
  {
   "cell_type": "code",
   "execution_count": 2,
   "id": "783089a5",
   "metadata": {
    "hide_input": false,
    "slideshow": {
     "slide_type": "-"
    }
   },
   "outputs": [
    {
     "name": "stdout",
     "output_type": "stream",
     "text": [
      "ERROR: ERROR: "
     ]
    },
    {
     "name": "stdout",
     "output_type": "stream",
     "text": [
      "LoadError: ERROR: "
     ]
    },
    {
     "name": "stdout",
     "output_type": "stream",
     "text": [
      "LoadError: "
     ]
    },
    {
     "name": "stdout",
     "output_type": "stream",
     "text": [
      "LoadError: "
     ]
    },
    {
     "name": "stdout",
     "output_type": "stream",
     "text": [
      "MethodError: "
     ]
    },
    {
     "name": "stdout",
     "output_type": "stream",
     "text": [
      "MethodError: "
     ]
    },
    {
     "name": "stdout",
     "output_type": "stream",
     "text": [
      "no method matching recv("
     ]
    },
    {
     "name": "stdout",
     "output_type": "stream",
     "text": [
      "::"
     ]
    },
    {
     "name": "stdout",
     "output_type": "stream",
     "text": [
      "no method matching "
     ]
    },
    {
     "name": "stdout",
     "output_type": "stream",
     "text": [
      "send(::"
     ]
    },
    {
     "name": "stdout",
     "output_type": "stream",
     "text": [
      "MPI.Comm"
     ]
    },
    {
     "name": "stdout",
     "output_type": "stream",
     "text": [
      "; source=1"
     ]
    },
    {
     "name": "stdout",
     "output_type": "stream",
     "text": [
      ")"
     ]
    },
    {
     "name": "stdout",
     "output_type": "stream",
     "text": [
      "Point, ::MPI.Comm; "
     ]
    },
    {
     "name": "stdout",
     "output_type": "stream",
     "text": [
      "MethodError: dest=1)"
     ]
    },
    {
     "name": "stdout",
     "output_type": "stream",
     "text": [
      "\r\n",
      "Closest candidates are:\r\n",
      "  recv(!Matched::Integer, !Matched::Integer, !Matched::MPI.Comm) at ~/.julia/packages/MPI/08SPr/src/pointtopoint.jl:310 got unsupported keyword argument \"source\"\r\n",
      "Stacktrace:\r\n",
      " [1] top-level scope\r\n",
      "no method matching \r\n",
      "Closest candidates are:\r\n",
      "  send(::Any, !Matched::Integer, !Matched::Integer, !Matched::MPI.Comm) at ~/.julia/packages/MPI/08SPr/src/pointtopoint.jl:207 got unsupported keyword argument \"dest\"\r\n",
      "Stacktrace:\r\n",
      " [1] top-level scope\r\n"
     ]
    },
    {
     "name": "stdout",
     "output_type": "stream",
     "text": [
      "recv("
     ]
    },
    {
     "name": "stdout",
     "output_type": "stream",
     "text": [
      "::"
     ]
    },
    {
     "name": "stdout",
     "output_type": "stream",
     "text": [
      "   @ ~/work/hpc-book/hpc-book/src/"
     ]
    },
    {
     "name": "stdout",
     "output_type": "stream",
     "text": [
      "   @ ~/work/hpc-book/hpc-book/src/send_recv.jl:17\r\n",
      "in expression starting at /home/runner/work/hpc-book/hpc-book/src/send_recv.jl:16\r\n"
     ]
    },
    {
     "name": "stdout",
     "output_type": "stream",
     "text": [
      "\r\n",
      "===================================================================================\r\n",
      "=   BAD TERMINATION OF ONE OF YOUR APPLICATION PROCESSES\r\n",
      "=   PID 3303 RUNNING AT fv-az91-811\r\n",
      "=   EXIT CODE: 9\r\n",
      "=   CLEANING UP REMAINING PROCESSES\r\n",
      "=   YOU CAN IGNORE THE BELOW CLEANUP MESSAGES\r\n",
      "===================================================================================\r\n",
      "YOUR APPLICATION TERMINATED WITH THE EXIT STRING: Killed (signal 9)\r\n",
      "This typically refers to a problem with your application.\r\n",
      "Please see the FAQ page for debugging suggestions\r\n",
      "\u001b[91m\u001b[1mERROR: \u001b[22m\u001b[39m"
     ]
    },
    {
     "name": "stdout",
     "output_type": "stream",
     "text": [
      "failed process: Process(`"
     ]
    },
    {
     "name": "stdout",
     "output_type": "stream",
     "text": [
      "\u001b[4m/home/runner/.julia/artifacts/af2355b4e003d5800b907f71eaf64c62b6e365f1/bin/mpiexec\u001b[24m \u001b[4m-np\u001b[24m \u001b[4m3\u001b[24m \u001b[4mjulia\u001b[24m \u001b[4msend_recv.jl\u001b[24m`, ProcessExited(9)) [9]\r\n",
      "\r\n",
      "Stacktrace:\r\n",
      "  [1] \u001b[0m\u001b[1mpipeline_error\u001b[22m\r\n",
      "\u001b[90m    @ \u001b[39m\u001b[90m./\u001b[39m\u001b[90m\u001b[4mprocess.jl:531\u001b[24m\u001b[39m\u001b[90m [inlined]\u001b[39m\r\n",
      "  [2] \u001b[0m\u001b[1mrun\u001b[22m\u001b[0m\u001b[1m(\u001b[22m::\u001b[0mCmd; \u001b[90mwait\u001b[39m::\u001b[0mBool\u001b[0m\u001b[1m)\u001b[22m\r\n",
      "\u001b[90m    @ \u001b[39m\u001b[90mBase\u001b[39m \u001b[90m./\u001b[39m\u001b[90m\u001b[4mprocess.jl:446\u001b[24m\u001b[39m\r\n",
      "  [3] \u001b[0m\u001b[1mrun\u001b[22m\u001b[0m\u001b[1m(\u001b[22m::\u001b[0mCmd\u001b[0m\u001b[1m)\u001b[22m\r\n",
      "\u001b[90m    @ \u001b[39m\u001b[90mBase\u001b[39m \u001b[90m\u001b[4mprocess.jl:444\u001b[24m\u001b[39m\r\n",
      "  [4] \u001b[0m\u001b[1m(::var\"#1#2\")\u001b[22m\u001b[0m\u001b[1m(\u001b[22m\u001b[90mexe\u001b[39m::\u001b[0mCmd\u001b[0m\u001b[1m)\u001b[22m\r\n",
      "\u001b[90m    @ \u001b[39m\u001b[35mMain\u001b[39m \u001b[90m\u001b[4mnone:4\u001b[24m\u001b[39m\r\n",
      "  [5] \u001b[0m\u001b[1m(::MPI.var\"#10#11\"{var\"#1#2\"})\u001b[22m\u001b[0m\u001b[1m(\u001b[22m\u001b[90mcmd\u001b[39m::\u001b[0mString\u001b[0m\u001b[1m)\u001b[22m\r\n",
      "\u001b[90m    @ \u001b[39m\u001b[36mMPI\u001b[39m \u001b[90m~/.julia/packages/MPI/08SPr/src/\u001b[39m\u001b[90m\u001b[4menvironment.jl:25\u001b[24m\u001b[39m\r\n",
      "  [6] \u001b[0m\u001b[1m(::JLLWrappers.var\"#2#3\"{MPI.var\"#10#11\"{var\"#1#2\"}, String})\u001b[22m\u001b[0m\u001b[1m(\u001b[22m\u001b[0m\u001b[1m)\u001b[22m\r\n",
      "\u001b[90m    @ \u001b[39m\u001b[32mJLLWrappers\u001b[39m \u001b[90m~/.julia/packages/JLLWrappers/QpMQW/src/\u001b[39m\u001b[90m\u001b[4mruntime.jl:49\u001b[24m\u001b[39m\r\n",
      "  [7] \u001b[0m\u001b[1mwithenv\u001b[22m\u001b[0m\u001b[1m(\u001b[22m::\u001b[0mJLLWrappers.var\"#2#3\"\u001b[90m{MPI.var\"#10#11\"{var\"#1#2\"}, String}\u001b[39m, ::\u001b[0mPair\u001b[90m{String, String}\u001b[39m, ::\u001b[0mVararg\u001b[90m{Pair{String, String}}\u001b[39m\u001b[0m\u001b[1m)\u001b[22m\r\n",
      "\u001b[90m    @ \u001b[39m\u001b[90mBase\u001b[39m \u001b[90m\u001b[4menv.jl:172\u001b[24m\u001b[39m\r\n",
      "  [8] \u001b[0m\u001b[1mwithenv_executable_wrapper\u001b[22m\u001b[0m\u001b[1m(\u001b[22m\u001b[90mf\u001b[39m::\u001b[0mFunction, \u001b[90mexecutable_path\u001b[39m::\u001b[0mString, \u001b[90mPATH\u001b[39m::\u001b[0mString, \u001b[90mLIBPATH\u001b[39m::\u001b[0mString, \u001b[90madjust_PATH\u001b[39m::\u001b[0mBool, \u001b[90madjust_LIBPATH\u001b[39m::\u001b[0mBool\u001b[0m\u001b[1m)\u001b[22m\r\n",
      "\u001b[90m    @ \u001b[39m\u001b[32mJLLWrappers\u001b[39m \u001b[90m~/.julia/packages/JLLWrappers/QpMQW/src/\u001b[39m\u001b[90m\u001b[4mruntime.jl:48\u001b[24m\u001b[39m\r\n",
      "  [9] \u001b[0m\u001b[1minvokelatest\u001b[22m\u001b[0m\u001b[1m(\u001b[22m::\u001b[0mAny, ::\u001b[0mAny, ::\u001b[0mVararg\u001b[90m{Any}\u001b[39m; \u001b[90mkwargs\u001b[39m::\u001b[0mBase.Pairs\u001b[90m{Symbol, Union{}, Tuple{}, NamedTuple{(), Tuple{}}}\u001b[39m\u001b[0m\u001b[1m)\u001b[22m\r\n",
      "\u001b[90m    @ \u001b[39m\u001b[90mBase\u001b[39m \u001b[90m./\u001b[39m\u001b[90m\u001b[4messentials.jl:716\u001b[24m\u001b[39m\r\n",
      " [10] \u001b[0m\u001b[1minvokelatest\u001b[22m\u001b[0m\u001b[1m(\u001b[22m::\u001b[0mAny, ::\u001b[0mAny, ::\u001b[0mVararg\u001b[90m{Any}\u001b[39m\u001b[0m\u001b[1m)\u001b[22m\r\n",
      "\u001b[90m    @ \u001b[39m\u001b[90mBase\u001b[39m \u001b[90m./\u001b[39m\u001b[90m\u001b[4messentials.jl:714\u001b[24m\u001b[39m\r\n",
      " [11] \u001b[0m\u001b[1mmpiexec\u001b[22m\u001b[0m\u001b[1m(\u001b[22m\u001b[90mf\u001b[39m::\u001b[0mFunction; \u001b[90madjust_PATH\u001b[39m::\u001b[0mBool, \u001b[90madjust_LIBPATH\u001b[39m::\u001b[0mBool\u001b[0m\u001b[1m)\u001b[22m\r\n",
      "\u001b[90m    @ \u001b[39m\u001b[33mMPICH_jll\u001b[39m \u001b[90m~/.julia/packages/JLLWrappers/QpMQW/src/products/\u001b[39m\u001b[90m\u001b[4mexecutable_generators.jl:21\u001b[24m\u001b[39m\r\n",
      " [12] \u001b[0m\u001b[1mmpiexec\u001b[22m\u001b[0m\u001b[1m(\u001b[22m\u001b[90mf\u001b[39m::\u001b[0mFunction\u001b[0m\u001b[1m)\u001b[22m\r\n",
      "\u001b[90m    @ \u001b[39m\u001b[33mMPICH_jll\u001b[39m \u001b[90m~/.julia/packages/JLLWrappers/QpMQW/src/products/\u001b[39m\u001b[90m\u001b[4mexecutable_generators.jl:21\u001b[24m\u001b[39m\r\n",
      " [13] \u001b[0m\u001b[1mmpiexec\u001b[22m\u001b[0m\u001b[1m(\u001b[22m\u001b[90mfn\u001b[39m::\u001b[0mvar\"#1#2\"\u001b[0m\u001b[1m)\u001b[22m\r\n",
      "\u001b[90m    @ \u001b[39m\u001b[36mMPI\u001b[39m \u001b[90m~/.julia/packages/MPI/08SPr/src/\u001b[39m\u001b[90m\u001b[4menvironment.jl:25\u001b[24m\u001b[39m\r\n",
      " [14] top-level scope\r\n",
      "\u001b[90m    @ \u001b[39m\u001b[90m\u001b[4mnone:4\u001b[24m\u001b[39m\r\n"
     ]
    }
   ],
   "source": [
    "!~/.julia/bin/mpiexecjl --project=.. -np 3 julia send_recv.jl"
   ]
  },
  {
   "cell_type": "markdown",
   "id": "74960a72",
   "metadata": {
    "slideshow": {
     "slide_type": "subslide"
    }
   },
   "source": [
    "## Send/Recv"
   ]
  },
  {
   "cell_type": "markdown",
   "id": "fae50318",
   "metadata": {
    "hide_input": false,
    "slideshow": {
     "slide_type": "-"
    }
   },
   "source": [
    "```julia\n",
    "using MPI\n",
    "MPI.Init()\n",
    "\n",
    "comm = MPI.COMM_WORLD\n",
    "rank = MPI.Comm_rank(comm)\n",
    "size = MPI.Comm_size(comm)\n",
    "\n",
    "\n",
    "send_buf = Array{Float64}(undef, 10)\n",
    "recv_buf = Array{Float64}(undef, 10)\n",
    "\n",
    "fill!(send_buf, Float64(rank))\n",
    "\n",
    "if rank == 0\n",
    "    MPI.Send(send_buf, comm; dest=1)\n",
    "elseif rank > 0\n",
    "    MPI.Recv!(recv_buf, comm; source=(rank - 1))\n",
    "    MPI.Send(send_buf, comm; dest=(rank + 1) % size)\n",
    "end\n",
    "\n",
    "if rank == 0\n",
    "    MPI.Recv!(recv_buf, comm; source=(size - 1))\n",
    "end\n",
    "\n",
    "print(\"My rank is $(rank)\\n I received this: $(recv_buf)\\n\")\n",
    "MPI.Barrier(comm)\n",
    "```"
   ]
  },
  {
   "cell_type": "code",
   "execution_count": 3,
   "id": "d5fcfb32",
   "metadata": {
    "hide_input": false,
    "slideshow": {
     "slide_type": "skip"
    },
    "tags": [
     "remove_cell"
    ]
   },
   "outputs": [
    {
     "name": "stdout",
     "output_type": "stream",
     "text": [
      "Writing Send_Recv.jl\n"
     ]
    }
   ],
   "source": [
    "%%file Send_Recv.jl\n",
    "#!/usr/bin/env julia\n",
    "using MPI\n",
    "MPI.Init()\n",
    "\n",
    "comm = MPI.COMM_WORLD\n",
    "rank = MPI.Comm_rank(comm)\n",
    "size = MPI.Comm_size(comm)\n",
    "\n",
    "\n",
    "send_buf = Array{Float64}(undef, 10)\n",
    "recv_buf = Array{Float64}(undef, 10)\n",
    "\n",
    "fill!(send_buf, Float64(rank))\n",
    "\n",
    "if rank == 0\n",
    "    MPI.Send(send_buf, comm; dest=1)\n",
    "elseif rank > 0\n",
    "    MPI.Recv!(recv_buf, comm; source=(rank - 1))\n",
    "    MPI.Send(send_buf, comm; dest=(rank + 1) % size)\n",
    "end\n",
    "\n",
    "if rank == 0\n",
    "    MPI.Recv!(recv_buf, comm; source=(size - 1))\n",
    "end\n",
    "\n",
    "print(\"My rank is $(rank)\\n I received this: $(recv_buf)\\n\")\n",
    "MPI.Barrier(comm)"
   ]
  },
  {
   "cell_type": "markdown",
   "id": "6b0c3192",
   "metadata": {
    "slideshow": {
     "slide_type": "fragment"
    }
   },
   "source": [
    "If the preceding code is saved as a file [Send_Recv.jl](Send_Recv.jl), we can run"
   ]
  },
  {
   "cell_type": "code",
   "execution_count": 4,
   "id": "64aba53b",
   "metadata": {
    "hide_input": false,
    "slideshow": {
     "slide_type": "-"
    }
   },
   "outputs": [
    {
     "name": "stdout",
     "output_type": "stream",
     "text": [
      "\u001b[91m\u001b[1mERROR: \u001b[22m\u001b[39m"
     ]
    },
    {
     "name": "stdout",
     "output_type": "stream",
     "text": [
      "ArgumentError: Package MPI not found in current path:\r\n",
      "- Run `import Pkg; Pkg.add(\"MPI\")` to install the MPI package.\r\n",
      "\r\n",
      "Stacktrace:\r\n",
      " [1] \u001b[0m\u001b[1mrequire\u001b[22m\u001b[0m\u001b[1m(\u001b[22m\u001b[90minto\u001b[39m::\u001b[0mModule, \u001b[90mmod\u001b[39m::\u001b[0mSymbol\u001b[0m\u001b[1m)\u001b[22m\r\n",
      "\u001b[90m   @ \u001b[39m\u001b[90mBase\u001b[39m \u001b[90m./\u001b[39m\u001b[90m\u001b[4mloading.jl:967\u001b[24m\u001b[39m\r\n"
     ]
    }
   ],
   "source": [
    "!~/.julia/bin/mpiexecjl -np 3 julia Send_Recv.jl"
   ]
  },
  {
   "cell_type": "markdown",
   "id": "c312b1a7",
   "metadata": {
    "slideshow": {
     "slide_type": "subslide"
    }
   },
   "source": [
    "## Isend/Irecv"
   ]
  },
  {
   "cell_type": "markdown",
   "id": "3ab12fc6",
   "metadata": {
    "hide_input": false,
    "slideshow": {
     "slide_type": "-"
    }
   },
   "source": [
    "```julia\n",
    "using MPI\n",
    "MPI.Init()\n",
    "\n",
    "comm = MPI.COMM_WORLD\n",
    "rank = MPI.Comm_rank(comm)\n",
    "size = MPI.Comm_size(comm)\n",
    "\n",
    "\n",
    "send_buf = Array{Float64}(undef, 10)\n",
    "recv_buf = Array{Float64}(undef, 10)\n",
    "\n",
    "fill!(send_buf, Float64(rank))\n",
    "\n",
    "if rank == 0\n",
    "    send_status = MPI.Isend(send_buf, comm; dest=1)\n",
    "elseif rank > 0\n",
    "    recv_status = MPI.Irecv!(recv_buf, comm; source=(rank - 1))\n",
    "    send_status = MPI.Isend(send_buf, comm; dest=(rank + 1) % size)\n",
    "end\n",
    "\n",
    "if rank == 0\n",
    "    recv_status = MPI.Irecv!(recv_buf, comm; source=(size - 1))\n",
    "end\n",
    "\n",
    "stats = MPI.Waitall!([send_status, recv_status])\n",
    "\n",
    "print(\"My rank is $(rank)\\n I received this: $(recv_buf)\\n\")\n",
    "```"
   ]
  },
  {
   "cell_type": "code",
   "execution_count": 5,
   "id": "5f91cd32",
   "metadata": {
    "hide_input": false,
    "slideshow": {
     "slide_type": "skip"
    },
    "tags": [
     "remove_cell"
    ]
   },
   "outputs": [
    {
     "name": "stdout",
     "output_type": "stream",
     "text": [
      "Writing Isend_Irecv.jl\n"
     ]
    }
   ],
   "source": [
    "%%file Isend_Irecv.jl\n",
    "#!/usr/bin/env julia\n",
    "using MPI\n",
    "MPI.Init()\n",
    "\n",
    "comm = MPI.COMM_WORLD\n",
    "rank = MPI.Comm_rank(comm)\n",
    "size = MPI.Comm_size(comm)\n",
    "\n",
    "\n",
    "send_buf = Array{Float64}(undef, 10)\n",
    "recv_buf = Array{Float64}(undef, 10)\n",
    "\n",
    "fill!(send_buf, Float64(rank))\n",
    "\n",
    "if rank == 0\n",
    "    send_status = MPI.Isend(send_buf, comm; dest=1)\n",
    "elseif rank > 0\n",
    "    recv_status = MPI.Irecv!(recv_buf, comm; source=(rank - 1))\n",
    "    send_status = MPI.Isend(send_buf, comm; dest=(rank + 1) % size)\n",
    "end\n",
    "\n",
    "if rank == 0\n",
    "    recv_status = MPI.Irecv!(recv_buf, comm; source=(size - 1))\n",
    "end\n",
    "\n",
    "stats = MPI.Waitall!([send_status, recv_status])\n",
    "\n",
    "print(\"My rank is $(rank)\\n I received this: $(recv_buf)\\n\")"
   ]
  },
  {
   "cell_type": "markdown",
   "id": "5f9d76be",
   "metadata": {
    "slideshow": {
     "slide_type": "fragment"
    }
   },
   "source": [
    "If the preceding code is saved as a file `Isend_Irecv.jl`, we can run"
   ]
  },
  {
   "cell_type": "code",
   "execution_count": 6,
   "id": "07c7c20e",
   "metadata": {
    "hide_input": false,
    "slideshow": {
     "slide_type": "-"
    }
   },
   "outputs": [
    {
     "name": "stdout",
     "output_type": "stream",
     "text": [
      "\u001b[91m\u001b[1mERROR: \u001b[22m\u001b[39m"
     ]
    },
    {
     "name": "stdout",
     "output_type": "stream",
     "text": [
      "ArgumentError: Package MPI not found in current path:\r\n",
      "- Run `import Pkg; Pkg.add(\"MPI\")` to install the MPI package.\r\n",
      "\r\n",
      "Stacktrace:\r\n",
      " [1] \u001b[0m\u001b[1mrequire\u001b[22m\u001b[0m\u001b[1m(\u001b[22m\u001b[90minto\u001b[39m::\u001b[0mModule, \u001b[90mmod\u001b[39m::\u001b[0mSymbol\u001b[0m\u001b[1m)\u001b[22m\r\n",
      "\u001b[90m   @ \u001b[39m\u001b[90mBase\u001b[39m \u001b[90m./\u001b[39m\u001b[90m\u001b[4mloading.jl:967\u001b[24m\u001b[39m\r\n"
     ]
    }
   ],
   "source": [
    "!~/.julia/bin/mpiexecjl -np 3 julia ISend_IRecv.jl"
   ]
  },
  {
   "cell_type": "code",
   "execution_count": 7,
   "id": "345bd693",
   "metadata": {
    "hide_input": true,
    "init_cell": true,
    "slideshow": {
     "slide_type": "skip"
    },
    "tags": [
     "remove_cell"
    ]
   },
   "outputs": [
    {
     "data": {
      "application/javascript": [
       "function hideElements(elements, start) {\n",
       "    for(var i = 0, length = elements.length; i < length;i++) {\n",
       "        if(i >= start) {\n",
       "            elements[i].style.display = \"none\";\n",
       "        }\n",
       "    }\n",
       "}\n",
       "\n",
       "var prompt_elements = document.getElementsByClassName(\"prompt\");\n",
       "hideElements(prompt_elements, 0)\n"
      ],
      "text/plain": [
       "<IPython.core.display.Javascript object>"
      ]
     },
     "metadata": {},
     "output_type": "display_data"
    }
   ],
   "source": [
    "%%javascript\n",
    "function hideElements(elements, start) {\n",
    "    for(var i = 0, length = elements.length; i < length;i++) {\n",
    "        if(i >= start) {\n",
    "            elements[i].style.display = \"none\";\n",
    "        }\n",
    "    }\n",
    "}\n",
    "\n",
    "var prompt_elements = document.getElementsByClassName(\"prompt\");\n",
    "hideElements(prompt_elements, 0)"
   ]
  }
 ],
 "metadata": {
  "jupytext": {
   "formats": "ipynb,md:myst",
   "text_representation": {
    "extension": ".md",
    "format_name": "myst",
    "format_version": 0.13,
    "jupytext_version": "1.13.7"
   }
  },
  "kernelspec": {
   "display_name": "Python 3 (ipykernel)",
   "language": "python",
   "name": "python3"
  },
  "language_info": {
   "codemirror_mode": {
    "name": "ipython",
    "version": 3
   },
   "file_extension": ".py",
   "mimetype": "text/x-python",
   "name": "python",
   "nbconvert_exporter": "python",
   "pygments_lexer": "ipython3",
   "version": "3.8.12"
  },
  "source_map": [
   15,
   21,
   25,
   57,
   95,
   99,
   108,
   112,
   143,
   180,
   184,
   193,
   197,
   229,
   267,
   271,
   280
  ]
 },
 "nbformat": 4,
 "nbformat_minor": 5
}