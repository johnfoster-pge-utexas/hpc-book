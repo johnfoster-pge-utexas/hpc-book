{
 "cells": [
  {
   "cell_type": "markdown",
   "id": "cda3529e",
   "metadata": {
    "slideshow": {
     "slide_type": "skip"
    }
   },
   "source": [
    "# Functions"
   ]
  },
  {
   "cell_type": "markdown",
   "id": "cf7495ea",
   "metadata": {
    "slideshow": {
     "slide_type": "slide"
    }
   },
   "source": [
    "## Function definitions"
   ]
  },
  {
   "cell_type": "code",
   "execution_count": 1,
   "id": "6753ab93",
   "metadata": {
    "slideshow": {
     "slide_type": "-"
    }
   },
   "outputs": [
    {
     "data": {
      "text/plain": [
       "f (generic function with 1 method)"
      ]
     },
     "execution_count": 1,
     "metadata": {},
     "output_type": "execute_result"
    }
   ],
   "source": [
    "function f(x, y)\n",
    "    x += 2\n",
    "    x + y\n",
    "end"
   ]
  },
  {
   "cell_type": "code",
   "execution_count": 2,
   "id": "8e83adba",
   "metadata": {
    "slideshow": {
     "slide_type": "fragment"
    }
   },
   "outputs": [
    {
     "data": {
      "text/plain": [
       "f (generic function with 1 method)"
      ]
     },
     "execution_count": 2,
     "metadata": {},
     "output_type": "execute_result"
    }
   ],
   "source": [
    "f(x, y) = x + y"
   ]
  },
  {
   "cell_type": "code",
   "execution_count": 3,
   "id": "e699cdfb",
   "metadata": {
    "slideshow": {
     "slide_type": "fragment"
    }
   },
   "outputs": [
    {
     "data": {
      "text/plain": [
       "∑ (generic function with 1 method)"
      ]
     },
     "execution_count": 3,
     "metadata": {},
     "output_type": "execute_result"
    }
   ],
   "source": [
    "∑(x, y) = f(x, y)"
   ]
  },
  {
   "cell_type": "code",
   "execution_count": 4,
   "id": "7829b810",
   "metadata": {
    "slideshow": {
     "slide_type": "-"
    }
   },
   "outputs": [
    {
     "data": {
      "text/plain": [
       "7"
      ]
     },
     "execution_count": 4,
     "metadata": {},
     "output_type": "execute_result"
    }
   ],
   "source": [
    "∑(3, 4)"
   ]
  },
  {
   "cell_type": "markdown",
   "id": "3dd269d2",
   "metadata": {
    "slideshow": {
     "slide_type": "subslide"
    }
   },
   "source": [
    "## Return statement"
   ]
  },
  {
   "cell_type": "code",
   "execution_count": 5,
   "id": "8e1a7f72",
   "metadata": {
    "slideshow": {
     "slide_type": "-"
    }
   },
   "outputs": [
    {
     "data": {
      "text/plain": [
       "g (generic function with 1 method)"
      ]
     },
     "execution_count": 5,
     "metadata": {},
     "output_type": "execute_result"
    }
   ],
   "source": [
    "function g(x, y)\n",
    "    return x * y\n",
    "    x + y\n",
    "end"
   ]
  },
  {
   "cell_type": "code",
   "execution_count": 6,
   "id": "f003cdcc",
   "metadata": {
    "slideshow": {
     "slide_type": "-"
    }
   },
   "outputs": [
    {
     "data": {
      "text/plain": [
       "6"
      ]
     },
     "execution_count": 6,
     "metadata": {},
     "output_type": "execute_result"
    }
   ],
   "source": [
    "g(2, 3)"
   ]
  },
  {
   "cell_type": "markdown",
   "id": "641c2f20",
   "metadata": {
    "slideshow": {
     "slide_type": "subslide"
    }
   },
   "source": [
    "## Specifying Types"
   ]
  },
  {
   "cell_type": "code",
   "execution_count": 7,
   "id": "658eb158",
   "metadata": {
    "slideshow": {
     "slide_type": "-"
    }
   },
   "outputs": [
    {
     "data": {
      "text/plain": [
       "g (generic function with 2 methods)"
      ]
     },
     "execution_count": 7,
     "metadata": {},
     "output_type": "execute_result"
    }
   ],
   "source": [
    "g(x::Integer, y::Integer)::Int8 = x + y"
   ]
  },
  {
   "cell_type": "code",
   "execution_count": 8,
   "id": "918cc597",
   "metadata": {
    "slideshow": {
     "slide_type": "-"
    }
   },
   "outputs": [
    {
     "data": {
      "text/plain": [
       "Int8"
      ]
     },
     "execution_count": 8,
     "metadata": {},
     "output_type": "execute_result"
    }
   ],
   "source": [
    "typeof(g(2,2))"
   ]
  },
  {
   "cell_type": "markdown",
   "id": "5fb88518",
   "metadata": {
    "slideshow": {
     "slide_type": "subslide"
    }
   },
   "source": [
    "## Return tuples"
   ]
  },
  {
   "cell_type": "code",
   "execution_count": 9,
   "id": "06acf9e8",
   "metadata": {
    "slideshow": {
     "slide_type": "-"
    }
   },
   "outputs": [
    {
     "data": {
      "text/plain": [
       "return_tuple (generic function with 1 method)"
      ]
     },
     "execution_count": 9,
     "metadata": {},
     "output_type": "execute_result"
    }
   ],
   "source": [
    "function return_tuple(x, y)\n",
    "    x + 2, y + 2\n",
    "end"
   ]
  },
  {
   "cell_type": "code",
   "execution_count": 10,
   "id": "fd60b36b",
   "metadata": {
    "slideshow": {
     "slide_type": "-"
    }
   },
   "outputs": [
    {
     "data": {
      "text/plain": [
       "(4, 6)"
      ]
     },
     "execution_count": 10,
     "metadata": {},
     "output_type": "execute_result"
    }
   ],
   "source": [
    "return_tuple(2, 4)"
   ]
  },
  {
   "cell_type": "markdown",
   "id": "3e325e93",
   "metadata": {
    "slideshow": {
     "slide_type": "fragment"
    }
   },
   "source": [
    "### Unpacking"
   ]
  },
  {
   "cell_type": "code",
   "execution_count": 11,
   "id": "3eb2ca5e",
   "metadata": {
    "slideshow": {
     "slide_type": "-"
    }
   },
   "outputs": [
    {
     "name": "stdout",
     "output_type": "stream",
     "text": [
      "(a, b) = (4, 6)\n"
     ]
    }
   ],
   "source": [
    "a, b = return_tuple(2, 4)\n",
    "@show a, b;"
   ]
  },
  {
   "cell_type": "markdown",
   "id": "efb95c7a",
   "metadata": {
    "slideshow": {
     "slide_type": "subslide"
    }
   },
   "source": [
    "## Optional Arguments"
   ]
  },
  {
   "cell_type": "code",
   "execution_count": 12,
   "id": "d19be06e",
   "metadata": {
    "slideshow": {
     "slide_type": "-"
    }
   },
   "outputs": [
    {
     "data": {
      "text/plain": [
       "optional (generic function with 2 methods)"
      ]
     },
     "execution_count": 12,
     "metadata": {},
     "output_type": "execute_result"
    }
   ],
   "source": [
    "function optional(x, y=1)\n",
    "    x + y\n",
    "end"
   ]
  },
  {
   "cell_type": "code",
   "execution_count": 13,
   "id": "e07b732b",
   "metadata": {
    "slideshow": {
     "slide_type": "-"
    }
   },
   "outputs": [
    {
     "data": {
      "text/plain": [
       "5"
      ]
     },
     "execution_count": 13,
     "metadata": {},
     "output_type": "execute_result"
    }
   ],
   "source": [
    "optional(4)"
   ]
  },
  {
   "cell_type": "code",
   "execution_count": 14,
   "id": "4bedd6ee",
   "metadata": {
    "slideshow": {
     "slide_type": "fragment"
    }
   },
   "outputs": [
    {
     "data": {
      "text/plain": [
       "7"
      ]
     },
     "execution_count": 14,
     "metadata": {},
     "output_type": "execute_result"
    }
   ],
   "source": [
    "optional(4, 3)"
   ]
  },
  {
   "cell_type": "markdown",
   "id": "fc3e41ea",
   "metadata": {
    "slideshow": {
     "slide_type": "subslide"
    }
   },
   "source": [
    "## Keyword arguments"
   ]
  },
  {
   "cell_type": "code",
   "execution_count": 15,
   "id": "0f15fbcb",
   "metadata": {
    "slideshow": {
     "slide_type": "-"
    }
   },
   "outputs": [
    {
     "data": {
      "text/plain": [
       "keywd (generic function with 1 method)"
      ]
     },
     "execution_count": 15,
     "metadata": {},
     "output_type": "execute_result"
    }
   ],
   "source": [
    "function keywd(x; plus=2)\n",
    "    x + plus\n",
    "end"
   ]
  },
  {
   "cell_type": "code",
   "execution_count": 16,
   "id": "b130af72",
   "metadata": {
    "slideshow": {
     "slide_type": "-"
    }
   },
   "outputs": [
    {
     "data": {
      "text/plain": [
       "6"
      ]
     },
     "execution_count": 16,
     "metadata": {},
     "output_type": "execute_result"
    }
   ],
   "source": [
    "keywd(3, plus=3)"
   ]
  },
  {
   "cell_type": "code",
   "execution_count": 17,
   "id": "b42cda42",
   "metadata": {
    "slideshow": {
     "slide_type": "fragment"
    }
   },
   "outputs": [
    {
     "ename": "LoadError",
     "evalue": "MethodError: no method matching keywd(::Int64, ::Int64)\n\u001b[0mClosest candidates are:\n\u001b[0m  keywd(::Any; plus) at In[15]:1",
     "output_type": "error",
     "traceback": [
      "MethodError: no method matching keywd(::Int64, ::Int64)\n\u001b[0mClosest candidates are:\n\u001b[0m  keywd(::Any; plus) at In[15]:1",
      "",
      "Stacktrace:",
      " [1] top-level scope",
      "   @ In[17]:1",
      " [2] eval",
      "   @ ./boot.jl:373 [inlined]",
      " [3] include_string(mapexpr::typeof(REPL.softscope), mod::Module, code::String, filename::String)",
      "   @ Base ./loading.jl:1196"
     ]
    }
   ],
   "source": [
    "keywd(3, 3)"
   ]
  },
  {
   "cell_type": "markdown",
   "id": "b5af36e1",
   "metadata": {
    "slideshow": {
     "slide_type": "subslide"
    }
   },
   "source": [
    "## Anonymous functions"
   ]
  },
  {
   "cell_type": "code",
   "execution_count": null,
   "id": "6143561a",
   "metadata": {
    "slideshow": {
     "slide_type": "-"
    }
   },
   "outputs": [],
   "source": [
    "function call_fn(f)\n",
    "    f(3)\n",
    "end"
   ]
  },
  {
   "cell_type": "code",
   "execution_count": null,
   "id": "a297df38",
   "metadata": {
    "slideshow": {
     "slide_type": "-"
    }
   },
   "outputs": [],
   "source": [
    "call_fn(x -> x ^ 2)"
   ]
  },
  {
   "cell_type": "code",
   "execution_count": null,
   "id": "f5a548f5",
   "metadata": {},
   "outputs": [],
   "source": [
    "call_fn(x -> x + 4)"
   ]
  },
  {
   "cell_type": "code",
   "execution_count": null,
   "id": "b8d3c01f",
   "metadata": {
    "hide_input": true,
    "init_cell": true,
    "slideshow": {
     "slide_type": "skip"
    },
    "tags": [
     "remove_cell"
    ]
   },
   "outputs": [],
   "source": [
    "macro javascript_str(s) display(\"text/javascript\", s); end\n",
    "javascript\"\"\"\n",
    "function hideElements(elements, start) {\n",
    "for(var i = 0, length = elements.length; i < length;i++) {\n",
    "    if(i >= start) {\n",
    "        elements[i].style.display = \"none\";\n",
    "    }\n",
    "}\n",
    "}\n",
    "var prompt_elements = document.getElementsByClassName(\"prompt\");\n",
    "hideElements(prompt_elements, 0)\n",
    "\"\"\""
   ]
  }
 ],
 "metadata": {
  "jupytext": {
   "text_representation": {
    "extension": ".md",
    "format_name": "myst",
    "format_version": 0.13,
    "jupytext_version": "1.11.5"
   }
  },
  "kernelspec": {
   "display_name": "Julia 1.7.2",
   "language": "julia",
   "name": "julia-1.7"
  },
  "language_info": {
   "file_extension": ".jl",
   "mimetype": "application/julia",
   "name": "julia",
   "version": "1.7.2"
  },
  "source_map": [
   14,
   18,
   22,
   33,
   41,
   49,
   57,
   61,
   72,
   80,
   84,
   92,
   100,
   104,
   114,
   122,
   126,
   135,
   139,
   149,
   157,
   165,
   169,
   179,
   187,
   195,
   199,
   209,
   217,
   221
  ]
 },
 "nbformat": 4,
 "nbformat_minor": 5
}