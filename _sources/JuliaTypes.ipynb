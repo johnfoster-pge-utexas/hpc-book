{
 "cells": [
  {
   "cell_type": "markdown",
   "id": "144d81e5",
   "metadata": {
    "slideshow": {
     "slide_type": "slide"
    }
   },
   "source": [
    "# Types and type declarations"
   ]
  },
  {
   "cell_type": "code",
   "execution_count": 1,
   "id": "05e7bb95",
   "metadata": {
    "slideshow": {
     "slide_type": "-"
    }
   },
   "outputs": [
    {
     "data": {
      "text/plain": [
       "Float64"
      ]
     },
     "execution_count": 1,
     "metadata": {},
     "output_type": "execute_result"
    }
   ],
   "source": [
    "x = 100.0\n",
    "typeof(x)"
   ]
  },
  {
   "cell_type": "code",
   "execution_count": 2,
   "id": "d0171d3f",
   "metadata": {
    "slideshow": {
     "slide_type": "fragment"
    }
   },
   "outputs": [
    {
     "data": {
      "text/plain": [
       "Int8"
      ]
     },
     "execution_count": 2,
     "metadata": {},
     "output_type": "execute_result"
    }
   ],
   "source": [
    "function foo()\n",
    "    x::Int8 = 100\n",
    "    x\n",
    "end\n",
    "\n",
    "x = foo()\n",
    "typeof(x)"
   ]
  },
  {
   "cell_type": "markdown",
   "id": "613b6067",
   "metadata": {
    "slideshow": {
     "slide_type": "slide"
    }
   },
   "source": [
    "## Type trees"
   ]
  },
  {
   "cell_type": "code",
   "execution_count": 3,
   "id": "2f5fa534",
   "metadata": {
    "slideshow": {
     "slide_type": "skip"
    },
    "tags": [
     "remove_cell"
    ]
   },
   "outputs": [
    {
     "ename": "LoadError",
     "evalue": "ArgumentError: Package AbstractTrees not found in current path:\n- Run `import Pkg; Pkg.add(\"AbstractTrees\")` to install the AbstractTrees package.\n",
     "output_type": "error",
     "traceback": [
      "ArgumentError: Package AbstractTrees not found in current path:\n- Run `import Pkg; Pkg.add(\"AbstractTrees\")` to install the AbstractTrees package.\n",
      "",
      "Stacktrace:",
      " [1] require(into::Module, mod::Symbol)",
      "   @ Base ./loading.jl:967",
      " [2] eval",
      "   @ ./boot.jl:373 [inlined]",
      " [3] include_string(mapexpr::typeof(REPL.softscope), mod::Module, code::String, filename::String)",
      "   @ Base ./loading.jl:1196"
     ]
    }
   ],
   "source": [
    "using AbstractTrees\n",
    "AbstractTrees.children(x::Type) = subtypes(x)"
   ]
  },
  {
   "cell_type": "code",
   "execution_count": 4,
   "id": "5047707a",
   "metadata": {
    "slideshow": {
     "slide_type": "skip"
    },
    "tags": [
     "remove_cell"
    ]
   },
   "outputs": [
    {
     "ename": "LoadError",
     "evalue": "UndefVarError: print_tree not defined",
     "output_type": "error",
     "traceback": [
      "UndefVarError: print_tree not defined",
      "",
      "Stacktrace:",
      " [1] top-level scope",
      "   @ In[4]:1",
      " [2] eval",
      "   @ ./boot.jl:373 [inlined]",
      " [3] include_string(mapexpr::typeof(REPL.softscope), mod::Module, code::String, filename::String)",
      "   @ Base ./loading.jl:1196"
     ]
    }
   ],
   "source": [
    "print_tree(Any)"
   ]
  },
  {
   "cell_type": "code",
   "execution_count": 5,
   "id": "15d2f14b",
   "metadata": {
    "slideshow": {
     "slide_type": "-"
    }
   },
   "outputs": [
    {
     "ename": "LoadError",
     "evalue": "UndefVarError: print_tree not defined",
     "output_type": "error",
     "traceback": [
      "UndefVarError: print_tree not defined",
      "",
      "Stacktrace:",
      " [1] top-level scope",
      "   @ In[5]:1",
      " [2] eval",
      "   @ ./boot.jl:373 [inlined]",
      " [3] include_string(mapexpr::typeof(REPL.softscope), mod::Module, code::String, filename::String)",
      "   @ Base ./loading.jl:1196"
     ]
    }
   ],
   "source": [
    "print_tree(AbstractArray)"
   ]
  },
  {
   "cell_type": "markdown",
   "id": "da22be04",
   "metadata": {
    "slideshow": {
     "slide_type": "slide"
    }
   },
   "source": [
    "## Types in function arguments"
   ]
  },
  {
   "cell_type": "code",
   "execution_count": 6,
   "id": "e0969b0a",
   "metadata": {
    "slideshow": {
     "slide_type": "-"
    }
   },
   "outputs": [
    {
     "name": "stdout",
     "output_type": "stream",
     "text": [
      "x = 6\n"
     ]
    },
    {
     "data": {
      "text/plain": [
       "Int64"
      ]
     },
     "execution_count": 6,
     "metadata": {},
     "output_type": "execute_result"
    }
   ],
   "source": [
    "function g(x, y)\n",
    "    return x * y\n",
    "end\n",
    "\n",
    "x = g(2, 3)\n",
    "@show x\n",
    "typeof(x)"
   ]
  },
  {
   "cell_type": "code",
   "execution_count": 7,
   "id": "2f1b1546",
   "metadata": {
    "slideshow": {
     "slide_type": "fragment"
    }
   },
   "outputs": [
    {
     "name": "stdout",
     "output_type": "stream",
     "text": [
      "x = 6.0\n"
     ]
    },
    {
     "data": {
      "text/plain": [
       "Float64"
      ]
     },
     "execution_count": 7,
     "metadata": {},
     "output_type": "execute_result"
    }
   ],
   "source": [
    "x = g(2.0, 3.0)\n",
    "@show x\n",
    "typeof(x)"
   ]
  },
  {
   "cell_type": "code",
   "execution_count": 8,
   "id": "a8d2e77b",
   "metadata": {
    "slideshow": {
     "slide_type": "fragment"
    }
   },
   "outputs": [
    {
     "name": "stdout",
     "output_type": "stream",
     "text": [
      "x = \"foobar\"\n"
     ]
    },
    {
     "data": {
      "text/plain": [
       "String"
      ]
     },
     "execution_count": 8,
     "metadata": {},
     "output_type": "execute_result"
    }
   ],
   "source": [
    "x = g(\"foo\", \"bar\")\n",
    "@show x\n",
    "typeof(x)"
   ]
  },
  {
   "cell_type": "code",
   "execution_count": 9,
   "id": "c20d202e",
   "metadata": {
    "slideshow": {
     "slide_type": "fragment"
    }
   },
   "outputs": [
    {
     "name": "stdout",
     "output_type": "stream",
     "text": [
      "x = 6\n"
     ]
    },
    {
     "data": {
      "text/plain": [
       "Int64"
      ]
     },
     "execution_count": 9,
     "metadata": {},
     "output_type": "execute_result"
    }
   ],
   "source": [
    "function f(x::Number, y::Number)\n",
    "    return x * y\n",
    "end\n",
    "\n",
    "x = f(2, 3)\n",
    "@show x\n",
    "typeof(x)"
   ]
  },
  {
   "cell_type": "code",
   "execution_count": 10,
   "id": "fd25413b",
   "metadata": {
    "slideshow": {
     "slide_type": "fragment"
    }
   },
   "outputs": [
    {
     "ename": "LoadError",
     "evalue": "MethodError: no method matching f(::String, ::String)",
     "output_type": "error",
     "traceback": [
      "MethodError: no method matching f(::String, ::String)",
      "",
      "Stacktrace:",
      " [1] top-level scope",
      "   @ In[10]:1",
      " [2] eval",
      "   @ ./boot.jl:373 [inlined]",
      " [3] include_string(mapexpr::typeof(REPL.softscope), mod::Module, code::String, filename::String)",
      "   @ Base ./loading.jl:1196"
     ]
    }
   ],
   "source": [
    "x = f(\"foo\", \"bar\")"
   ]
  },
  {
   "cell_type": "markdown",
   "id": "b057a3a6",
   "metadata": {
    "slideshow": {
     "slide_type": "slide"
    }
   },
   "source": [
    "## Type Unions"
   ]
  },
  {
   "cell_type": "code",
   "execution_count": 11,
   "id": "c38175dc",
   "metadata": {
    "slideshow": {
     "slide_type": "-"
    }
   },
   "outputs": [
    {
     "name": "stdout",
     "output_type": "stream",
     "text": [
      "h(1, 2) = 2\n",
      "h(\"foo\", \"bar\") = \"foobar\"\n"
     ]
    }
   ],
   "source": [
    "function h(x::Union{Integer, String}, y::Union{Integer, String})\n",
    "    x * y\n",
    "end\n",
    "\n",
    "@show h(1, 2)\n",
    "@show h(\"foo\", \"bar\");"
   ]
  },
  {
   "cell_type": "code",
   "execution_count": 12,
   "id": "8d44be04",
   "metadata": {
    "slideshow": {
     "slide_type": "fragment"
    }
   },
   "outputs": [
    {
     "ename": "LoadError",
     "evalue": "MethodError: no method matching h(::Float64, ::Float64)",
     "output_type": "error",
     "traceback": [
      "MethodError: no method matching h(::Float64, ::Float64)",
      "",
      "Stacktrace:",
      " [1] top-level scope",
      "   @ In[12]:1",
      " [2] eval",
      "   @ ./boot.jl:373 [inlined]",
      " [3] include_string(mapexpr::typeof(REPL.softscope), mod::Module, code::String, filename::String)",
      "   @ Base ./loading.jl:1196"
     ]
    }
   ],
   "source": [
    "h(1.0, 2.0)"
   ]
  },
  {
   "cell_type": "markdown",
   "id": "621ba0a3",
   "metadata": {
    "slideshow": {
     "slide_type": "slide"
    }
   },
   "source": [
    "## Composite Types"
   ]
  },
  {
   "cell_type": "code",
   "execution_count": 13,
   "id": "7c482cbb",
   "metadata": {
    "slideshow": {
     "slide_type": "-"
    }
   },
   "outputs": [
    {
     "name": "stdout",
     "output_type": "stream",
     "text": [
      "p.x = 1.0\n",
      "p.y = 2.0\n"
     ]
    }
   ],
   "source": [
    "struct Point2D\n",
    "    x::Float64\n",
    "    y::Float64\n",
    "end\n",
    "\n",
    "p = Point2D(1.0, 2.0)\n",
    "@show p.x\n",
    "@show p.y;"
   ]
  },
  {
   "cell_type": "markdown",
   "id": "2a2229d6",
   "metadata": {
    "slideshow": {
     "slide_type": "subslide"
    }
   },
   "source": [
    "### Parametric Composite Types"
   ]
  },
  {
   "cell_type": "code",
   "execution_count": 14,
   "id": "a255de05",
   "metadata": {
    "slideshow": {
     "slide_type": "-"
    }
   },
   "outputs": [
    {
     "name": "stdout",
     "output_type": "stream",
     "text": [
      "p.x = 1\n"
     ]
    },
    {
     "data": {
      "text/plain": [
       "Int8"
      ]
     },
     "execution_count": 14,
     "metadata": {},
     "output_type": "execute_result"
    }
   ],
   "source": [
    "struct Point3D{T}\n",
    "    x::T\n",
    "    y::T\n",
    "    z::T\n",
    "end\n",
    "\n",
    "p = Point3D{Int8}(1, 2, 3)\n",
    "@show p.x\n",
    "typeof(p.y)"
   ]
  },
  {
   "cell_type": "code",
   "execution_count": 15,
   "id": "04542fa4",
   "metadata": {
    "slideshow": {
     "slide_type": "fragment"
    }
   },
   "outputs": [
    {
     "data": {
      "text/plain": [
       "Float32"
      ]
     },
     "execution_count": 15,
     "metadata": {},
     "output_type": "execute_result"
    }
   ],
   "source": [
    "p = Point3D{Float32}(1.0, 2.0, 3.0)\n",
    "typeof(p.x)"
   ]
  },
  {
   "cell_type": "code",
   "execution_count": 16,
   "id": "3e9a1475",
   "metadata": {},
   "outputs": [
    {
     "data": {
      "text/plain": [
       "String"
      ]
     },
     "execution_count": 16,
     "metadata": {},
     "output_type": "execute_result"
    }
   ],
   "source": [
    "p = Point3D{String}(\"foo\", \"bar\", \"foobar\")\n",
    "typeof(p.x)"
   ]
  },
  {
   "cell_type": "markdown",
   "id": "69c78644",
   "metadata": {
    "slideshow": {
     "slide_type": "subslide"
    }
   },
   "source": [
    "### Type restrictions on parameters"
   ]
  },
  {
   "cell_type": "code",
   "execution_count": 17,
   "id": "c69507ce",
   "metadata": {
    "slideshow": {
     "slide_type": "-"
    }
   },
   "outputs": [
    {
     "name": "stdout",
     "output_type": "stream",
     "text": [
      "typeof(p.x) = Float64\n",
      "typeof(q.x) = Int8\n"
     ]
    },
    {
     "data": {
      "text/plain": [
       "Int8"
      ]
     },
     "execution_count": 17,
     "metadata": {},
     "output_type": "execute_result"
    }
   ],
   "source": [
    "struct NumericPoint2D{T<:Real}\n",
    "    x::T\n",
    "    y::T\n",
    "end \n",
    "\n",
    "p = NumericPoint2D{Float64}(1.0, 2.0)\n",
    "@show typeof(p.x)\n",
    "\n",
    "q = NumericPoint2D{Int8}(1, 2)\n",
    "@show typeof(q.x)"
   ]
  },
  {
   "cell_type": "code",
   "execution_count": 18,
   "id": "d95821c0",
   "metadata": {
    "slideshow": {
     "slide_type": "fragment"
    }
   },
   "outputs": [
    {
     "ename": "LoadError",
     "evalue": "TypeError: in NumericPoint2D, in T, expected T<:Real, got Type{String}",
     "output_type": "error",
     "traceback": [
      "TypeError: in NumericPoint2D, in T, expected T<:Real, got Type{String}",
      "",
      "Stacktrace:",
      " [1] top-level scope",
      "   @ In[18]:1",
      " [2] eval",
      "   @ ./boot.jl:373 [inlined]",
      " [3] include_string(mapexpr::typeof(REPL.softscope), mod::Module, code::String, filename::String)",
      "   @ Base ./loading.jl:1196"
     ]
    }
   ],
   "source": [
    "NumericPoint2D{String}(\"foo\", \"bar\")"
   ]
  },
  {
   "cell_type": "code",
   "execution_count": 19,
   "id": "95fd53dc",
   "metadata": {
    "slideshow": {
     "slide_type": "skip"
    }
   },
   "outputs": [],
   "source": [
    "import Base.+"
   ]
  },
  {
   "cell_type": "markdown",
   "id": "8c14a815",
   "metadata": {
    "slideshow": {
     "slide_type": "subslide"
    }
   },
   "source": [
    "### Functions and operators with parametric types"
   ]
  },
  {
   "cell_type": "code",
   "execution_count": 20,
   "id": "da34d772",
   "metadata": {
    "slideshow": {
     "slide_type": "-"
    }
   },
   "outputs": [
    {
     "data": {
      "text/plain": [
       "+ (generic function with 209 methods)"
      ]
     },
     "execution_count": 20,
     "metadata": {},
     "output_type": "execute_result"
    }
   ],
   "source": [
    "+(A::NumericPoint2D{T}, B::NumericPoint2D{T}) where T = NumericPoint2D{T}(A.x + B.x, A.y + B.y)"
   ]
  },
  {
   "cell_type": "code",
   "execution_count": 21,
   "id": "80bae719",
   "metadata": {
    "slideshow": {
     "slide_type": "fragment"
    }
   },
   "outputs": [
    {
     "data": {
      "text/plain": [
       "NumericPoint2D{Int32}(2, 4)"
      ]
     },
     "execution_count": 21,
     "metadata": {},
     "output_type": "execute_result"
    }
   ],
   "source": [
    "A = NumericPoint2D{Int32}(1, 2)\n",
    "B = NumericPoint2D{Int32}(1, 2)\n",
    "\n",
    "A + B"
   ]
  },
  {
   "cell_type": "markdown",
   "id": "e1d47091",
   "metadata": {
    "slideshow": {
     "slide_type": "fragment"
    }
   },
   "source": [
    "**Fields of composite types are immutable by default**"
   ]
  },
  {
   "cell_type": "code",
   "execution_count": 22,
   "id": "ddeb06c9",
   "metadata": {
    "slideshow": {
     "slide_type": "-"
    }
   },
   "outputs": [
    {
     "ename": "LoadError",
     "evalue": "setfield!: immutable struct of type NumericPoint2D cannot be changed",
     "output_type": "error",
     "traceback": [
      "setfield!: immutable struct of type NumericPoint2D cannot be changed",
      "",
      "Stacktrace:",
      " [1] setproperty!(x::NumericPoint2D{Int32}, f::Symbol, v::Int64)",
      "   @ Base ./Base.jl:43",
      " [2] top-level scope",
      "   @ In[22]:1",
      " [3] eval",
      "   @ ./boot.jl:373 [inlined]",
      " [4] include_string(mapexpr::typeof(REPL.softscope), mod::Module, code::String, filename::String)",
      "   @ Base ./loading.jl:1196"
     ]
    }
   ],
   "source": [
    "A.x = 2"
   ]
  },
  {
   "cell_type": "markdown",
   "id": "a0d7cb3f",
   "metadata": {
    "slideshow": {
     "slide_type": "slide"
    }
   },
   "source": [
    "## Mutable composite types"
   ]
  },
  {
   "cell_type": "code",
   "execution_count": 23,
   "id": "eecad10e",
   "metadata": {
    "slideshow": {
     "slide_type": "-"
    }
   },
   "outputs": [
    {
     "name": "stdout",
     "output_type": "stream",
     "text": [
      "A.x = 2\n"
     ]
    }
   ],
   "source": [
    "mutable struct MutablePoint2D{T<:Real}\n",
    "    x::T\n",
    "    y::T\n",
    "end \n",
    "\n",
    "A = MutablePoint2D{Int32}(1, 2)\n",
    "A.x = 2\n",
    "@show A.x;"
   ]
  },
  {
   "cell_type": "markdown",
   "id": "f2f0c73d",
   "metadata": {
    "slideshow": {
     "slide_type": "slide"
    }
   },
   "source": [
    "## Operations on types"
   ]
  },
  {
   "cell_type": "code",
   "execution_count": 24,
   "id": "a8973cab",
   "metadata": {
    "slideshow": {
     "slide_type": "-"
    }
   },
   "outputs": [
    {
     "data": {
      "text/plain": [
       "true"
      ]
     },
     "execution_count": 24,
     "metadata": {},
     "output_type": "execute_result"
    }
   ],
   "source": [
    "isa(1, Int)"
   ]
  },
  {
   "cell_type": "code",
   "execution_count": 25,
   "id": "46ac1c3f",
   "metadata": {
    "slideshow": {
     "slide_type": "fragment"
    }
   },
   "outputs": [
    {
     "data": {
      "text/plain": [
       "Int64"
      ]
     },
     "execution_count": 25,
     "metadata": {},
     "output_type": "execute_result"
    }
   ],
   "source": [
    "typeof(1)"
   ]
  },
  {
   "cell_type": "code",
   "execution_count": 26,
   "id": "7334c965",
   "metadata": {
    "slideshow": {
     "slide_type": "fragment"
    }
   },
   "outputs": [
    {
     "data": {
      "text/plain": [
       "Unsigned"
      ]
     },
     "execution_count": 26,
     "metadata": {},
     "output_type": "execute_result"
    }
   ],
   "source": [
    "supertype(UInt32)"
   ]
  },
  {
   "cell_type": "markdown",
   "id": "2676a829",
   "metadata": {
    "slideshow": {
     "slide_type": "slide"
    }
   },
   "source": [
    "## Constructors"
   ]
  },
  {
   "cell_type": "code",
   "execution_count": 27,
   "id": "0400e89d",
   "metadata": {
    "slideshow": {
     "slide_type": "-"
    }
   },
   "outputs": [
    {
     "data": {
      "text/plain": [
       "0.7853981633974483"
      ]
     },
     "execution_count": 27,
     "metadata": {},
     "output_type": "execute_result"
    }
   ],
   "source": [
    "struct Polar{T<:Real}\n",
    "    r::T\n",
    "    θ::T\n",
    "end\n",
    "\n",
    "A = Polar(1.0, π / 4)\n",
    "A.θ"
   ]
  },
  {
   "cell_type": "code",
   "execution_count": 28,
   "id": "089baeb9",
   "metadata": {
    "slideshow": {
     "slide_type": "fragment"
    }
   },
   "outputs": [
    {
     "data": {
      "text/plain": [
       "Polar"
      ]
     },
     "execution_count": 28,
     "metadata": {},
     "output_type": "execute_result"
    }
   ],
   "source": [
    "function Polar(A::NumericPoint2D{T}) where T\n",
    "    r = sqrt(A.x ^ 2 + A.y ^ 2)\n",
    "    θ = atan(A.y, A.x)\n",
    "    Polar{T}(r, θ)\n",
    "end"
   ]
  },
  {
   "cell_type": "code",
   "execution_count": 29,
   "id": "886e8f13",
   "metadata": {
    "slideshow": {
     "slide_type": "fragment"
    }
   },
   "outputs": [
    {
     "name": "stdout",
     "output_type": "stream",
     "text": [
      "B.r = 0.99999994f0\n",
      "B.θ = 0.7853982f0\n"
     ]
    },
    {
     "data": {
      "text/plain": [
       "Float32"
      ]
     },
     "execution_count": 29,
     "metadata": {},
     "output_type": "execute_result"
    }
   ],
   "source": [
    "A = NumericPoint2D{Float32}(cos(π / 4), sin(π / 4))\n",
    "B = Polar(A)\n",
    "@show B.r\n",
    "@show B.θ\n",
    "typeof(B.r)"
   ]
  },
  {
   "cell_type": "code",
   "execution_count": 30,
   "id": "286228d2",
   "metadata": {
    "hide_input": true,
    "init_cell": true,
    "slideshow": {
     "slide_type": "skip"
    },
    "tags": [
     "remove_cell"
    ]
   },
   "outputs": [
    {
     "data": {
      "application/javascript": [
       "function hideElements(elements, start) {\n",
       "for(var i = 0, length = elements.length; i < length;i++) {\n",
       "    if(i >= start) {\n",
       "        elements[i].style.display = \"none\";\n",
       "    }\n",
       "}\n",
       "}\n",
       "var prompt_elements = document.getElementsByClassName(\"prompt\");\n",
       "hideElements(prompt_elements, 0)\n"
      ]
     },
     "metadata": {},
     "output_type": "display_data"
    }
   ],
   "source": [
    "macro javascript_str(s) display(\"text/javascript\", s); end\n",
    "javascript\"\"\"\n",
    "function hideElements(elements, start) {\n",
    "for(var i = 0, length = elements.length; i < length;i++) {\n",
    "    if(i >= start) {\n",
    "        elements[i].style.display = \"none\";\n",
    "    }\n",
    "}\n",
    "}\n",
    "var prompt_elements = document.getElementsByClassName(\"prompt\");\n",
    "hideElements(prompt_elements, 0)\n",
    "\"\"\""
   ]
  }
 ],
 "metadata": {
  "jupytext": {
   "text_representation": {
    "extension": ".md",
    "format_name": "myst",
    "format_version": 0.13,
    "jupytext_version": "1.11.5"
   }
  },
  "kernelspec": {
   "display_name": "Julia 1.7.2",
   "language": "julia",
   "name": "julia-1.7"
  },
  "language_info": {
   "file_extension": ".jl",
   "mimetype": "application/julia",
   "name": "julia",
   "version": "1.7.2"
  },
  "source_map": [
   14,
   18,
   27,
   41,
   45,
   55,
   64,
   72,
   76,
   90,
   100,
   110,
   124,
   132,
   136,
   149,
   157,
   161,
   176,
   180,
   196,
   205,
   210,
   214,
   231,
   239,
   247,
   251,
   259,
   270,
   274,
   282,
   286,
   301,
   305,
   313,
   321,
   329,
   333,
   347,
   359,
   371
  ]
 },
 "nbformat": 4,
 "nbformat_minor": 5
}