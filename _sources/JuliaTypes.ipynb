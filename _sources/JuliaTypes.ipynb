{
 "cells": [
  {
   "cell_type": "markdown",
   "id": "d6d6726c",
   "metadata": {
    "slideshow": {
     "slide_type": "slide"
    }
   },
   "source": [
    "# Types and type declarations"
   ]
  },
  {
   "cell_type": "code",
   "execution_count": 1,
   "id": "8d3c6a47",
   "metadata": {
    "slideshow": {
     "slide_type": "-"
    }
   },
   "outputs": [
    {
     "data": {
      "text/plain": [
       "Float64"
      ]
     },
     "execution_count": 1,
     "metadata": {},
     "output_type": "execute_result"
    }
   ],
   "source": [
    "x = 100.0\n",
    "typeof(x)"
   ]
  },
  {
   "cell_type": "code",
   "execution_count": 2,
   "id": "e2f1f529",
   "metadata": {
    "slideshow": {
     "slide_type": "fragment"
    }
   },
   "outputs": [
    {
     "data": {
      "text/plain": [
       "Int8"
      ]
     },
     "execution_count": 2,
     "metadata": {},
     "output_type": "execute_result"
    }
   ],
   "source": [
    "function foo()\n",
    "    x::Int8 = 100\n",
    "    x\n",
    "end\n",
    "\n",
    "x = foo()\n",
    "typeof(x)"
   ]
  },
  {
   "cell_type": "markdown",
   "id": "a7680f09",
   "metadata": {
    "slideshow": {
     "slide_type": "slide"
    }
   },
   "source": [
    "## Type trees"
   ]
  },
  {
   "cell_type": "code",
   "execution_count": 3,
   "id": "059e25e9",
   "metadata": {
    "slideshow": {
     "slide_type": "skip"
    },
    "tags": [
     "remove_cell"
    ]
   },
   "outputs": [
    {
     "ename": "LoadError",
     "evalue": "ArgumentError: Package AbstractTrees not found in current path:\n- Run `import Pkg; Pkg.add(\"AbstractTrees\")` to install the AbstractTrees package.\n",
     "output_type": "error",
     "traceback": [
      "ArgumentError: Package AbstractTrees not found in current path:\n- Run `import Pkg; Pkg.add(\"AbstractTrees\")` to install the AbstractTrees package.\n",
      "",
      "Stacktrace:",
      " [1] require(into::Module, mod::Symbol)",
      "   @ Base ./loading.jl:967",
      " [2] eval",
      "   @ ./boot.jl:373 [inlined]",
      " [3] include_string(mapexpr::typeof(REPL.softscope), mod::Module, code::String, filename::String)",
      "   @ Base ./loading.jl:1196"
     ]
    }
   ],
   "source": [
    "using AbstractTrees\n",
    "AbstractTrees.children(x::Type) = subtypes(x)"
   ]
  },
  {
   "cell_type": "code",
   "execution_count": null,
   "id": "82dca2c1",
   "metadata": {
    "slideshow": {
     "slide_type": "skip"
    },
    "tags": [
     "remove_cell"
    ]
   },
   "outputs": [],
   "source": [
    "print_tree(Any)"
   ]
  },
  {
   "cell_type": "code",
   "execution_count": null,
   "id": "ec9dfd69",
   "metadata": {
    "slideshow": {
     "slide_type": "-"
    }
   },
   "outputs": [],
   "source": [
    "print_tree(AbstractArray)"
   ]
  },
  {
   "cell_type": "markdown",
   "id": "0016e2f7",
   "metadata": {
    "slideshow": {
     "slide_type": "slide"
    }
   },
   "source": [
    "## Types in function arguments"
   ]
  },
  {
   "cell_type": "code",
   "execution_count": null,
   "id": "3295d5a6",
   "metadata": {
    "slideshow": {
     "slide_type": "-"
    }
   },
   "outputs": [],
   "source": [
    "function g(x, y)\n",
    "    return x * y\n",
    "end\n",
    "\n",
    "x = g(2, 3)\n",
    "@show x\n",
    "typeof(x)"
   ]
  },
  {
   "cell_type": "code",
   "execution_count": null,
   "id": "c1e86db2",
   "metadata": {
    "slideshow": {
     "slide_type": "fragment"
    }
   },
   "outputs": [],
   "source": [
    "x = g(2.0, 3.0)\n",
    "@show x\n",
    "typeof(x)"
   ]
  },
  {
   "cell_type": "code",
   "execution_count": null,
   "id": "be1be8af",
   "metadata": {
    "slideshow": {
     "slide_type": "fragment"
    }
   },
   "outputs": [],
   "source": [
    "x = g(\"foo\", \"bar\")\n",
    "@show x\n",
    "typeof(x)"
   ]
  },
  {
   "cell_type": "code",
   "execution_count": null,
   "id": "ff831b7d",
   "metadata": {
    "slideshow": {
     "slide_type": "fragment"
    }
   },
   "outputs": [],
   "source": [
    "function f(x::Number, y::Number)\n",
    "    return x * y\n",
    "end\n",
    "\n",
    "x = f(2, 3)\n",
    "@show x\n",
    "typeof(x)"
   ]
  },
  {
   "cell_type": "code",
   "execution_count": null,
   "id": "c5dab6dd",
   "metadata": {
    "slideshow": {
     "slide_type": "fragment"
    }
   },
   "outputs": [],
   "source": [
    "x = f(\"foo\", \"bar\")"
   ]
  },
  {
   "cell_type": "markdown",
   "id": "747f8bc1",
   "metadata": {
    "slideshow": {
     "slide_type": "slide"
    }
   },
   "source": [
    "## Type Unions"
   ]
  },
  {
   "cell_type": "code",
   "execution_count": null,
   "id": "bac7598b",
   "metadata": {
    "slideshow": {
     "slide_type": "-"
    }
   },
   "outputs": [],
   "source": [
    "function h(x::Union{Integer, String}, y::Union{Integer, String})\n",
    "    x * y\n",
    "end\n",
    "\n",
    "@show h(1, 2)\n",
    "@show h(\"foo\", \"bar\");"
   ]
  },
  {
   "cell_type": "code",
   "execution_count": null,
   "id": "06843222",
   "metadata": {
    "slideshow": {
     "slide_type": "fragment"
    }
   },
   "outputs": [],
   "source": [
    "h(1.0, 2.0)"
   ]
  },
  {
   "cell_type": "markdown",
   "id": "8392a2b3",
   "metadata": {
    "slideshow": {
     "slide_type": "slide"
    }
   },
   "source": [
    "## Composite Types"
   ]
  },
  {
   "cell_type": "code",
   "execution_count": null,
   "id": "e0cb451d",
   "metadata": {
    "slideshow": {
     "slide_type": "-"
    }
   },
   "outputs": [],
   "source": [
    "struct Point2D\n",
    "    x::Float64\n",
    "    y::Float64\n",
    "end\n",
    "\n",
    "p = Point2D(1.0, 2.0)\n",
    "@show p.x\n",
    "@show p.y;"
   ]
  },
  {
   "cell_type": "markdown",
   "id": "4e6f8851",
   "metadata": {
    "slideshow": {
     "slide_type": "subslide"
    }
   },
   "source": [
    "### Parametric Composite Types"
   ]
  },
  {
   "cell_type": "code",
   "execution_count": null,
   "id": "e3aaadfc",
   "metadata": {
    "slideshow": {
     "slide_type": "-"
    }
   },
   "outputs": [],
   "source": [
    "struct Point3D{T}\n",
    "    x::T\n",
    "    y::T\n",
    "    z::T\n",
    "end\n",
    "\n",
    "p = Point3D{Int8}(1, 2, 3)\n",
    "@show p.x\n",
    "typeof(p.y)"
   ]
  },
  {
   "cell_type": "code",
   "execution_count": null,
   "id": "885082f6",
   "metadata": {
    "slideshow": {
     "slide_type": "fragment"
    }
   },
   "outputs": [],
   "source": [
    "p = Point3D{Float32}(1.0, 2.0, 3.0)\n",
    "typeof(p.x)"
   ]
  },
  {
   "cell_type": "code",
   "execution_count": null,
   "id": "6164db7b",
   "metadata": {},
   "outputs": [],
   "source": [
    "p = Point3D{String}(\"foo\", \"bar\", \"foobar\")\n",
    "typeof(p.x)"
   ]
  },
  {
   "cell_type": "markdown",
   "id": "c1fb5f27",
   "metadata": {
    "slideshow": {
     "slide_type": "subslide"
    }
   },
   "source": [
    "### Type restrictions on parameters"
   ]
  },
  {
   "cell_type": "code",
   "execution_count": null,
   "id": "d2ca6e71",
   "metadata": {
    "slideshow": {
     "slide_type": "-"
    }
   },
   "outputs": [],
   "source": [
    "struct NumericPoint2D{T<:Real}\n",
    "    x::T\n",
    "    y::T\n",
    "end \n",
    "\n",
    "p = NumericPoint2D{Float64}(1.0, 2.0)\n",
    "@show typeof(p.x)\n",
    "\n",
    "q = NumericPoint2D{Int8}(1, 2)\n",
    "@show typeof(q.x)"
   ]
  },
  {
   "cell_type": "code",
   "execution_count": null,
   "id": "a146a9e5",
   "metadata": {
    "slideshow": {
     "slide_type": "fragment"
    }
   },
   "outputs": [],
   "source": [
    "NumericPoint2D{String}(\"foo\", \"bar\")"
   ]
  },
  {
   "cell_type": "code",
   "execution_count": null,
   "id": "42168c41",
   "metadata": {
    "slideshow": {
     "slide_type": "skip"
    }
   },
   "outputs": [],
   "source": [
    "import Base.+"
   ]
  },
  {
   "cell_type": "markdown",
   "id": "f9f76be7",
   "metadata": {
    "slideshow": {
     "slide_type": "subslide"
    }
   },
   "source": [
    "### Functions and operators with parametric types"
   ]
  },
  {
   "cell_type": "code",
   "execution_count": null,
   "id": "d46f1a03",
   "metadata": {
    "slideshow": {
     "slide_type": "-"
    }
   },
   "outputs": [],
   "source": [
    "+(A::NumericPoint2D{T}, B::NumericPoint2D{T}) where T = NumericPoint2D{T}(A.x + B.x, A.y + B.y)"
   ]
  },
  {
   "cell_type": "code",
   "execution_count": null,
   "id": "7b4e42ce",
   "metadata": {
    "slideshow": {
     "slide_type": "fragment"
    }
   },
   "outputs": [],
   "source": [
    "A = NumericPoint2D{Int32}(1, 2)\n",
    "B = NumericPoint2D{Int32}(1, 2)\n",
    "\n",
    "A + B"
   ]
  },
  {
   "cell_type": "markdown",
   "id": "be206654",
   "metadata": {
    "slideshow": {
     "slide_type": "fragment"
    }
   },
   "source": [
    "**Fields of composite types are immutable by default**"
   ]
  },
  {
   "cell_type": "code",
   "execution_count": null,
   "id": "228ae6c0",
   "metadata": {
    "slideshow": {
     "slide_type": "-"
    }
   },
   "outputs": [],
   "source": [
    "A.x = 2"
   ]
  },
  {
   "cell_type": "markdown",
   "id": "60e2bb26",
   "metadata": {
    "slideshow": {
     "slide_type": "slide"
    }
   },
   "source": [
    "## Mutable composite types"
   ]
  },
  {
   "cell_type": "code",
   "execution_count": null,
   "id": "976ffc51",
   "metadata": {
    "slideshow": {
     "slide_type": "-"
    }
   },
   "outputs": [],
   "source": [
    "mutable struct MutablePoint2D{T<:Real}\n",
    "    x::T\n",
    "    y::T\n",
    "end \n",
    "\n",
    "A = MutablePoint2D{Int32}(1, 2)\n",
    "A.x = 2\n",
    "@show A.x;"
   ]
  },
  {
   "cell_type": "markdown",
   "id": "e09093d8",
   "metadata": {
    "slideshow": {
     "slide_type": "slide"
    }
   },
   "source": [
    "## Operations on types"
   ]
  },
  {
   "cell_type": "code",
   "execution_count": null,
   "id": "ff4d766c",
   "metadata": {
    "slideshow": {
     "slide_type": "-"
    }
   },
   "outputs": [],
   "source": [
    "isa(1, Int)"
   ]
  },
  {
   "cell_type": "code",
   "execution_count": null,
   "id": "f1b0d9fa",
   "metadata": {
    "slideshow": {
     "slide_type": "fragment"
    }
   },
   "outputs": [],
   "source": [
    "typeof(1)"
   ]
  },
  {
   "cell_type": "code",
   "execution_count": null,
   "id": "6c1c01e7",
   "metadata": {
    "slideshow": {
     "slide_type": "fragment"
    }
   },
   "outputs": [],
   "source": [
    "supertype(UInt32)"
   ]
  },
  {
   "cell_type": "markdown",
   "id": "196dde95",
   "metadata": {
    "slideshow": {
     "slide_type": "slide"
    }
   },
   "source": [
    "## Constructors"
   ]
  },
  {
   "cell_type": "code",
   "execution_count": null,
   "id": "ebfb73d8",
   "metadata": {
    "slideshow": {
     "slide_type": "-"
    }
   },
   "outputs": [],
   "source": [
    "struct Polar{T<:Real}\n",
    "    r::T\n",
    "    θ::T\n",
    "end\n",
    "\n",
    "A = Polar(1.0, π / 4)\n",
    "A.θ"
   ]
  },
  {
   "cell_type": "code",
   "execution_count": null,
   "id": "d5b5f073",
   "metadata": {
    "slideshow": {
     "slide_type": "fragment"
    }
   },
   "outputs": [],
   "source": [
    "function Polar(A::NumericPoint2D{T}) where T\n",
    "    r = sqrt(A.x ^ 2 + A.y ^ 2)\n",
    "    θ = atan(A.y, A.x)\n",
    "    Polar{T}(r, θ)\n",
    "end"
   ]
  },
  {
   "cell_type": "code",
   "execution_count": null,
   "id": "9558e6d4",
   "metadata": {
    "slideshow": {
     "slide_type": "fragment"
    }
   },
   "outputs": [],
   "source": [
    "A = NumericPoint2D{Float32}(cos(π / 4), sin(π / 4))\n",
    "B = Polar(A)\n",
    "@show B.r\n",
    "@show B.θ\n",
    "typeof(B.r)"
   ]
  },
  {
   "cell_type": "code",
   "execution_count": null,
   "id": "050a1798",
   "metadata": {
    "hide_input": true,
    "init_cell": true,
    "slideshow": {
     "slide_type": "skip"
    },
    "tags": [
     "remove_cell"
    ]
   },
   "outputs": [],
   "source": [
    "macro javascript_str(s) display(\"text/javascript\", s); end\n",
    "javascript\"\"\"\n",
    "function hideElements(elements, start) {\n",
    "for(var i = 0, length = elements.length; i < length;i++) {\n",
    "    if(i >= start) {\n",
    "        elements[i].style.display = \"none\";\n",
    "    }\n",
    "}\n",
    "}\n",
    "var prompt_elements = document.getElementsByClassName(\"prompt\");\n",
    "hideElements(prompt_elements, 0)\n",
    "\"\"\""
   ]
  }
 ],
 "metadata": {
  "jupytext": {
   "text_representation": {
    "extension": ".md",
    "format_name": "myst",
    "format_version": 0.13,
    "jupytext_version": "1.11.5"
   }
  },
  "kernelspec": {
   "display_name": "Julia 1.7.2",
   "language": "julia",
   "name": "julia-1.7"
  },
  "language_info": {
   "file_extension": ".jl",
   "mimetype": "application/julia",
   "name": "julia",
   "version": "1.7.2"
  },
  "source_map": [
   14,
   18,
   27,
   41,
   45,
   55,
   64,
   72,
   76,
   90,
   100,
   110,
   124,
   132,
   136,
   149,
   157,
   161,
   176,
   180,
   196,
   205,
   210,
   214,
   231,
   239,
   247,
   251,
   259,
   270,
   274,
   282,
   286,
   301,
   305,
   313,
   321,
   329,
   333,
   347,
   359,
   371
  ]
 },
 "nbformat": 4,
 "nbformat_minor": 5
}