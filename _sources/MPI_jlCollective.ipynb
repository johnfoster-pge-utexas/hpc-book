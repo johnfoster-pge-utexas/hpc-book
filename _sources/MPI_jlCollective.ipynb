{
 "cells": [
  {
   "cell_type": "markdown",
   "id": "99765a07",
   "metadata": {
    "slideshow": {
     "slide_type": "slide"
    }
   },
   "source": [
    "# Collective Communication\n",
    "\n",
    "\n",
    "<table>\n",
    "    <tr style=\"background-color:transparent\">\n",
    "        <td><img src=\"images/collective_comm.gif\" width=400/></td>\n",
    "    </tr>\n",
    "</table>\n",
    "\n",
    "[Image Source](https://computing.llnl.gov/tutorials/parallel_comp/images/collective_comm.gif)"
   ]
  },
  {
   "cell_type": "markdown",
   "id": "01d1f84d",
   "metadata": {
    "slideshow": {
     "slide_type": "slide"
    }
   },
   "source": [
    "# Scatter\n",
    "\n",
    "Rank 0 acts as a leader, creating a list and scattering it out to all\n",
    "ranks evenly"
   ]
  },
  {
   "cell_type": "markdown",
   "id": "a386505b",
   "metadata": {
    "hide_input": false,
    "slideshow": {
     "slide_type": "-"
    }
   },
   "source": [
    "```julia\n",
    "using MPI\n",
    "\n",
    "MPI.Init()\n",
    "comm = MPI.COMM_WORLD\n",
    "rank = MPI.Comm_rank(comm)\n",
    "size = MPI.Comm_size(comm)\n",
    "\n",
    "send_buf = nothing\n",
    "recv_buf = Vector{Float64}(undef, size)\n",
    "\n",
    "if rank == 0\n",
    "    send_buf = collect(1:size) .* 100\n",
    "    print(\"Original array on rank 0:\\n $(send_buf)\\n\")\n",
    "end\n",
    "    \n",
    "recv_buf = MPI.Scatter(send_buf, Int, comm; root=0)\n",
    "print(\"I got this on rank $(rank):\\n $(recv_buf)\\n\")\n",
    "```"
   ]
  },
  {
   "cell_type": "code",
   "execution_count": 1,
   "id": "57c00b61",
   "metadata": {
    "hide_input": false,
    "slideshow": {
     "slide_type": "skip"
    },
    "tags": [
     "remove_cell"
    ]
   },
   "outputs": [
    {
     "name": "stdout",
     "output_type": "stream",
     "text": [
      "Writing Scatter1.jl\n"
     ]
    }
   ],
   "source": [
    "%%file Scatter1.jl\n",
    "#!/usr/bin/env julia\n",
    "using MPI\n",
    "\n",
    "MPI.Init()\n",
    "comm = MPI.COMM_WORLD\n",
    "rank = MPI.Comm_rank(comm)\n",
    "size = MPI.Comm_size(comm)\n",
    "\n",
    "send_buf = nothing\n",
    "recv_buf = Vector{Float64}(undef, size)\n",
    "\n",
    "if rank == 0\n",
    "    send_buf = collect(1:size) .* 100\n",
    "    print(\"Original array on rank 0:\\n $(send_buf)\\n\")\n",
    "end\n",
    "    \n",
    "recv_buf = MPI.Scatter(send_buf, Int, comm; root=0)\n",
    "print(\"I got this on rank $(rank):\\n $(recv_buf)\\n\")"
   ]
  },
  {
   "cell_type": "markdown",
   "id": "c12d9aaa",
   "metadata": {
    "slideshow": {
     "slide_type": "fragment"
    }
   },
   "source": [
    "If the preceding code is saved to a file `Scatter1.jl`, we can run"
   ]
  },
  {
   "cell_type": "code",
   "execution_count": 2,
   "id": "c8d1c316",
   "metadata": {
    "hide_input": false,
    "slideshow": {
     "slide_type": "-"
    }
   },
   "outputs": [
    {
     "name": "stdout",
     "output_type": "stream",
     "text": [
      "ERROR: "
     ]
    },
    {
     "name": "stdout",
     "output_type": "stream",
     "text": [
      "Original array on rank 0:\r\n",
      " [100, 200]\r\n"
     ]
    },
    {
     "name": "stdout",
     "output_type": "stream",
     "text": [
      "ERROR: "
     ]
    },
    {
     "name": "stdout",
     "output_type": "stream",
     "text": [
      "LoadError: "
     ]
    },
    {
     "name": "stdout",
     "output_type": "stream",
     "text": [
      "LoadError: "
     ]
    },
    {
     "name": "stdout",
     "output_type": "stream",
     "text": [
      "MethodError: MethodError: "
     ]
    },
    {
     "name": "stdout",
     "output_type": "stream",
     "text": [
      "no method matching no method matching Scatter(Scatter(::::"
     ]
    },
    {
     "name": "stdout",
     "output_type": "stream",
     "text": [
      "Vector{Int64}, ::Type{Int64}, ::MPI.CommNothing, ::Type{Int64}, ::MPI.Comm; ; "
     ]
    },
    {
     "name": "stdout",
     "output_type": "stream",
     "text": [
      "root=root=00))"
     ]
    },
    {
     "name": "stdout",
     "output_type": "stream",
     "text": [
      "\r\n",
      "Closest candidates are:\r\n",
      "  Scatter(::Any, ::Type{T}, !Matched::Integer, !Matched::MPI.Comm) where T at ~/.julia/packages/MPI/08SPr/src/collective.jl:148 got unsupported keyword argument \"root\"\r\n",
      "  Scatter(::Any, !Matched::Integer, !Matched::Integer, !Matched::MPI.Comm) at /usr/local/julia1.7.2/share/julia/base/deprecated.jl:70 got unsupported keyword argument \"root\"\r\n",
      "Stacktrace:\r\n",
      " [1] top-level scope\r\n"
     ]
    },
    {
     "name": "stdout",
     "output_type": "stream",
     "text": [
      "\r\n",
      "Closest candidates are:\r\n",
      "  Scatter(::Any, ::Type{T}, !Matched::Integer, !Matched::MPI.Comm) where T at ~/.julia/packages/MPI/08SPr/src/collective.jl:148 got unsupported keyword argument \"root\"\r\n",
      "  Scatter(::Any, !Matched::Integer, !Matched::Integer, !Matched::MPI.Comm) at /usr/local/julia1.7.2/share/julia/base/deprecated.jl:70 got unsupported keyword argument \"root\"\r\n",
      "Stacktrace:\r\n",
      " [1] top-level scope\r\n"
     ]
    },
    {
     "name": "stdout",
     "output_type": "stream",
     "text": [
      "   @ ~/work/hpc-book/hpc-book/src/   @ ~/work/hpc-book/hpc-book/src/"
     ]
    },
    {
     "name": "stdout",
     "output_type": "stream",
     "text": [
      "Scatter1.jl:17\r\n",
      "in expression starting at /home/runner/work/hpc-book/hpc-book/src/Scatter1.jl:17\r\n",
      "Scatter1.jl:17\r\n",
      "in expression starting at /home/runner/work/hpc-book/hpc-book/src/Scatter1.jl:17\r\n",
      "\u001b[91m\u001b[1mERROR: \u001b[22m\u001b[39m"
     ]
    },
    {
     "name": "stdout",
     "output_type": "stream",
     "text": [
      "failed process: Process(`\u001b[4m/home/runner/.julia/artifacts/af2355b4e003d5800b907f71eaf64c62b6e365f1/bin/mpiexec\u001b[24m \u001b[4m-np\u001b[24m \u001b[4m2\u001b[24m \u001b[4mjulia\u001b[24m \u001b[4mScatter1.jl\u001b[24m`, ProcessExited(1)) [1]\r\n",
      "\r\n",
      "Stacktrace:\r\n",
      "  [1] \u001b[0m\u001b[1mpipeline_error\u001b[22m\r\n",
      "\u001b[90m    @ \u001b[39m\u001b[90m./\u001b[39m\u001b[90m\u001b[4mprocess.jl:531\u001b[24m\u001b[39m\u001b[90m [inlined]\u001b[39m\r\n",
      "  [2] \u001b[0m\u001b[1mrun\u001b[22m\u001b[0m\u001b[1m(\u001b[22m::\u001b[0mCmd; \u001b[90mwait\u001b[39m::\u001b[0mBool\u001b[0m\u001b[1m)\u001b[22m\r\n",
      "\u001b[90m    @ \u001b[39m\u001b[90mBase\u001b[39m \u001b[90m./\u001b[39m\u001b[90m\u001b[4mprocess.jl:446\u001b[24m\u001b[39m\r\n",
      "  [3] \u001b[0m\u001b[1mrun\u001b[22m\u001b[0m\u001b[1m(\u001b[22m::\u001b[0mCmd\u001b[0m\u001b[1m)\u001b[22m\r\n",
      "\u001b[90m    @ \u001b[39m\u001b[90mBase\u001b[39m \u001b[90m\u001b[4mprocess.jl:444\u001b[24m\u001b[39m\r\n",
      "  [4] \u001b[0m\u001b[1m(::var\"#1#2\")\u001b[22m\u001b[0m\u001b[1m(\u001b[22m\u001b[90mexe\u001b[39m::\u001b[0mCmd\u001b[0m\u001b[1m)\u001b[22m\r\n",
      "\u001b[90m    @ \u001b[39m\u001b[35mMain\u001b[39m \u001b[90m\u001b[4mnone:4\u001b[24m\u001b[39m\r\n",
      "  [5] \u001b[0m\u001b[1m(::MPI.var\"#10#11\"{var\"#1#2\"})\u001b[22m\u001b[0m\u001b[1m(\u001b[22m\u001b[90mcmd\u001b[39m::\u001b[0mString\u001b[0m\u001b[1m)\u001b[22m\r\n",
      "\u001b[90m    @ \u001b[39m\u001b[36mMPI\u001b[39m \u001b[90m~/.julia/packages/MPI/08SPr/src/\u001b[39m\u001b[90m\u001b[4menvironment.jl:25\u001b[24m\u001b[39m\r\n",
      "  [6] \u001b[0m\u001b[1m(::JLLWrappers.var\"#2#3\"{MPI.var\"#10#11\"{var\"#1#2\"}, String})\u001b[22m\u001b[0m\u001b[1m(\u001b[22m\u001b[0m\u001b[1m)\u001b[22m\r\n",
      "\u001b[90m    @ \u001b[39m\u001b[32mJLLWrappers\u001b[39m \u001b[90m~/.julia/packages/JLLWrappers/QpMQW/src/\u001b[39m\u001b[90m\u001b[4mruntime.jl:49\u001b[24m\u001b[39m\r\n",
      "  [7] \u001b[0m\u001b[1mwithenv\u001b[22m\u001b[0m\u001b[1m(\u001b[22m::\u001b[0mJLLWrappers.var\"#2#3\"\u001b[90m{MPI.var\"#10#11\"{var\"#1#2\"}, String}\u001b[39m, ::\u001b[0mPair\u001b[90m{String, String}\u001b[39m, ::\u001b[0mVararg\u001b[90m{Pair{String, String}}\u001b[39m\u001b[0m\u001b[1m)\u001b[22m\r\n",
      "\u001b[90m    @ \u001b[39m\u001b[90mBase\u001b[39m \u001b[90m\u001b[4menv.jl:172\u001b[24m\u001b[39m\r\n",
      "  [8] \u001b[0m\u001b[1mwithenv_executable_wrapper\u001b[22m\u001b[0m\u001b[1m(\u001b[22m\u001b[90mf\u001b[39m::\u001b[0mFunction, \u001b[90mexecutable_path\u001b[39m::\u001b[0mString, \u001b[90mPATH\u001b[39m::\u001b[0mString, \u001b[90mLIBPATH\u001b[39m::\u001b[0mString, \u001b[90madjust_PATH\u001b[39m::\u001b[0mBool, \u001b[90madjust_LIBPATH\u001b[39m::\u001b[0mBool\u001b[0m\u001b[1m)\u001b[22m\r\n",
      "\u001b[90m    @ \u001b[39m\u001b[32mJLLWrappers\u001b[39m \u001b[90m~/.julia/packages/JLLWrappers/QpMQW/src/\u001b[39m\u001b[90m\u001b[4mruntime.jl:48\u001b[24m\u001b[39m\r\n",
      "  [9] \u001b[0m\u001b[1minvokelatest\u001b[22m\u001b[0m\u001b[1m(\u001b[22m::\u001b[0mAny, ::\u001b[0mAny, ::\u001b[0mVararg\u001b[90m{Any}\u001b[39m; \u001b[90mkwargs\u001b[39m::\u001b[0mBase.Pairs\u001b[90m{Symbol, Union{}, Tuple{}, NamedTuple{(), Tuple{}}}\u001b[39m\u001b[0m\u001b[1m)\u001b[22m\r\n",
      "\u001b[90m    @ \u001b[39m\u001b[90mBase\u001b[39m \u001b[90m./\u001b[39m\u001b[90m\u001b[4messentials.jl:716\u001b[24m\u001b[39m\r\n",
      " [10] \u001b[0m\u001b[1minvokelatest\u001b[22m\u001b[0m\u001b[1m(\u001b[22m::\u001b[0mAny, ::\u001b[0mAny, ::\u001b[0mVararg\u001b[90m{Any}\u001b[39m\u001b[0m\u001b[1m)\u001b[22m\r\n",
      "\u001b[90m    @ \u001b[39m\u001b[90mBase\u001b[39m \u001b[90m./\u001b[39m\u001b[90m\u001b[4messentials.jl:714\u001b[24m\u001b[39m\r\n",
      " [11] \u001b[0m\u001b[1mmpiexec\u001b[22m\u001b[0m\u001b[1m(\u001b[22m\u001b[90mf\u001b[39m::\u001b[0mFunction; \u001b[90madjust_PATH\u001b[39m::\u001b[0mBool, \u001b[90madjust_LIBPATH\u001b[39m::\u001b[0mBool\u001b[0m\u001b[1m)\u001b[22m\r\n",
      "\u001b[90m    @ \u001b[39m\u001b[33mMPICH_jll\u001b[39m \u001b[90m~/.julia/packages/JLLWrappers/QpMQW/src/products/\u001b[39m\u001b[90m\u001b[4mexecutable_generators.jl:21\u001b[24m\u001b[39m\r\n",
      " [12] \u001b[0m\u001b[1mmpiexec\u001b[22m\u001b[0m\u001b[1m(\u001b[22m\u001b[90mf\u001b[39m::\u001b[0mFunction\u001b[0m\u001b[1m)\u001b[22m\r\n",
      "\u001b[90m    @ \u001b[39m\u001b[33mMPICH_jll\u001b[39m \u001b[90m~/.julia/packages/JLLWrappers/QpMQW/src/products/\u001b[39m\u001b[90m\u001b[4mexecutable_generators.jl:21\u001b[24m\u001b[39m\r\n",
      " [13] \u001b[0m\u001b[1mmpiexec\u001b[22m\u001b[0m\u001b[1m(\u001b[22m\u001b[90mfn\u001b[39m::\u001b[0mvar\"#1#2\"\u001b[0m\u001b[1m)\u001b[22m\r\n",
      "\u001b[90m    @ \u001b[39m\u001b[36mMPI\u001b[39m \u001b[90m~/.julia/packages/MPI/08SPr/src/\u001b[39m\u001b[90m\u001b[4menvironment.jl:25\u001b[24m\u001b[39m\r\n",
      " [14] top-level scope\r\n",
      "\u001b[90m    @ \u001b[39m\u001b[90m\u001b[4mnone:4\u001b[24m\u001b[39m\r\n"
     ]
    }
   ],
   "source": [
    "!~/.julia/bin/mpiexecjl --project=.. -np 2 julia Scatter1.jl"
   ]
  },
  {
   "cell_type": "markdown",
   "id": "0f3df876",
   "metadata": {
    "slideshow": {
     "slide_type": "subslide"
    }
   },
   "source": [
    "## Scatter!"
   ]
  },
  {
   "cell_type": "markdown",
   "id": "4de78709",
   "metadata": {
    "hide_input": false,
    "slideshow": {
     "slide_type": "-"
    }
   },
   "source": [
    "```julia\n",
    "using MPI\n",
    "\n",
    "MPI.Init()\n",
    "comm = MPI.COMM_WORLD\n",
    "rank = MPI.Comm_rank(comm)\n",
    "size = MPI.Comm_size(comm)\n",
    "\n",
    "send_buf = nothing\n",
    "recv_buf = Vector{Float64}(undef, size)\n",
    "\n",
    "if rank == 0\n",
    "    send_buf = rand(Float64, (size, size))\n",
    "    print(\"Original array on rank 0:\\n $(send_buf)\\n\")\n",
    "end\n",
    "    \n",
    "MPI.Scatter!(send_buf, recv_buf, comm; root=0)\n",
    "print(\"I got this array on $(rank):\\n $(recv_buf)\\n\")\n",
    "```"
   ]
  },
  {
   "cell_type": "code",
   "execution_count": 3,
   "id": "7459de05",
   "metadata": {
    "hide_input": false,
    "slideshow": {
     "slide_type": "skip"
    },
    "tags": [
     "remove_cell"
    ]
   },
   "outputs": [
    {
     "name": "stdout",
     "output_type": "stream",
     "text": [
      "Writing Scatter2.jl\n"
     ]
    }
   ],
   "source": [
    "%%file Scatter2.jl\n",
    "#!/usr/bin/env julia\n",
    "using MPI\n",
    "\n",
    "MPI.Init()\n",
    "comm = MPI.COMM_WORLD\n",
    "rank = MPI.Comm_rank(comm)\n",
    "size = MPI.Comm_size(comm)\n",
    "\n",
    "send_buf = nothing\n",
    "recv_buf = Vector{Float64}(undef, size)\n",
    "\n",
    "if rank == 0\n",
    "    send_buf = rand(Float64, (size, size))\n",
    "    print(\"Original array on rank 0:\\n $(send_buf)\\n\")\n",
    "end\n",
    "    \n",
    "MPI.Scatter!(send_buf, recv_buf, comm; root=0)\n",
    "print(\"I got this array on $(rank):\\n $(recv_buf)\\n\")"
   ]
  },
  {
   "cell_type": "markdown",
   "id": "63f6e226",
   "metadata": {
    "slideshow": {
     "slide_type": "fragment"
    }
   },
   "source": [
    "If the preceding code is saved to a file `Scatter2.jl`, we can run"
   ]
  },
  {
   "cell_type": "code",
   "execution_count": 4,
   "id": "547b41e2",
   "metadata": {
    "hide_input": false,
    "slideshow": {
     "slide_type": "-"
    }
   },
   "outputs": [
    {
     "name": "stdout",
     "output_type": "stream",
     "text": [
      "ERROR: "
     ]
    },
    {
     "name": "stdout",
     "output_type": "stream",
     "text": [
      "LoadError: Original array on rank 0:\r\n",
      " [0.7626199145855244 0.6818991425600491; 0.7914660525484276 0.7460579197627839]\r\n"
     ]
    },
    {
     "name": "stdout",
     "output_type": "stream",
     "text": [
      "ERROR: "
     ]
    },
    {
     "name": "stdout",
     "output_type": "stream",
     "text": [
      "LoadError: "
     ]
    },
    {
     "name": "stdout",
     "output_type": "stream",
     "text": [
      "MethodError: "
     ]
    },
    {
     "name": "stdout",
     "output_type": "stream",
     "text": [
      "no method matching Scatter!(::"
     ]
    },
    {
     "name": "stdout",
     "output_type": "stream",
     "text": [
      "MethodError: "
     ]
    },
    {
     "name": "stdout",
     "output_type": "stream",
     "text": [
      "no method matching Scatter!(::"
     ]
    },
    {
     "name": "stdout",
     "output_type": "stream",
     "text": [
      "Nothing, ::Vector{Float64}, ::MPI.Comm; "
     ]
    },
    {
     "name": "stdout",
     "output_type": "stream",
     "text": [
      "root=0)"
     ]
    },
    {
     "name": "stdout",
     "output_type": "stream",
     "text": [
      "\r\n",
      "Closest candidates are:\r\n",
      "  Scatter!(::Nothing, ::Any, !Matched::Integer, !Matched::MPI.Comm) at ~/.julia/packages/MPI/08SPr/src/collective.jl:132 got unsupported keyword argument \"root\"\r\n",
      "  Scatter!(::Nothing, ::AbstractArray, !Matched::Integer, !Matched::Integer, !Matched::MPI.Comm) at /usr/local/julia1.7.2/share/julia/base/deprecated.jl:70 got unsupported keyword argument \"root\"\r\n",
      "  Scatter!(::Any, ::AbstractArray, !Matched::Integer, !Matched::Integer, !Matched::MPI.Comm) at /usr/local/julia1.7.2/share/julia/base/deprecated.jl:70 got unsupported keyword argument \"root\"\r\n",
      "  ...\r\n",
      "Stacktrace:\r\n",
      " [1] top-level scope\r\n",
      "Matrix{Float64}, ::Vector{Float64}, ::MPI.Comm; "
     ]
    },
    {
     "name": "stdout",
     "output_type": "stream",
     "text": [
      "root=0)   @ ~/work/hpc-book/hpc-book/src/"
     ]
    },
    {
     "name": "stdout",
     "output_type": "stream",
     "text": [
      "Scatter2.jl:17\r\n",
      "in expression starting at /home/runner/work/hpc-book/hpc-book/src/Scatter2.jl:17\r\n",
      "\u001b[91m\u001b[1mERROR: \u001b[22m\u001b[39m"
     ]
    },
    {
     "name": "stdout",
     "output_type": "stream",
     "text": [
      "failed process: Process(`"
     ]
    },
    {
     "name": "stdout",
     "output_type": "stream",
     "text": [
      "\u001b[4m/home/runner/.julia/artifacts/af2355b4e003d5800b907f71eaf64c62b6e365f1/bin/mpiexec\u001b[24m \u001b[4m-np\u001b[24m \u001b[4m2\u001b[24m \u001b[4mjulia\u001b[24m \u001b[4mScatter2.jl\u001b[24m`, ProcessExited(1)) [1]\r\n",
      "\r\n",
      "Stacktrace:\r\n",
      "  [1] \u001b[0m\u001b[1mpipeline_error\u001b[22m\r\n",
      "\u001b[90m    @ \u001b[39m\u001b[90m./\u001b[39m\u001b[90m\u001b[4mprocess.jl:531\u001b[24m\u001b[39m\u001b[90m [inlined]\u001b[39m\r\n",
      "  [2] \u001b[0m\u001b[1mrun\u001b[22m\u001b[0m\u001b[1m(\u001b[22m::\u001b[0mCmd; \u001b[90mwait\u001b[39m::\u001b[0mBool\u001b[0m\u001b[1m)\u001b[22m\r\n",
      "\u001b[90m    @ \u001b[39m\u001b[90mBase\u001b[39m \u001b[90m./\u001b[39m\u001b[90m\u001b[4mprocess.jl:446\u001b[24m\u001b[39m\r\n",
      "  [3] \u001b[0m\u001b[1mrun\u001b[22m\u001b[0m\u001b[1m(\u001b[22m::\u001b[0mCmd\u001b[0m\u001b[1m)\u001b[22m\r\n",
      "\u001b[90m    @ \u001b[39m\u001b[90mBase\u001b[39m \u001b[90m\u001b[4mprocess.jl:444\u001b[24m\u001b[39m\r\n",
      "  [4] \u001b[0m\u001b[1m(::var\"#1#2\")\u001b[22m\u001b[0m\u001b[1m(\u001b[22m\u001b[90mexe\u001b[39m::\u001b[0mCmd\u001b[0m\u001b[1m)\u001b[22m\r\n",
      "\u001b[90m    @ \u001b[39m\u001b[35mMain\u001b[39m \u001b[90m\u001b[4mnone:4\u001b[24m\u001b[39m\r\n",
      "  [5] \u001b[0m\u001b[1m(::MPI.var\"#10#11\"{var\"#1#2\"})\u001b[22m\u001b[0m\u001b[1m(\u001b[22m\u001b[90mcmd\u001b[39m::\u001b[0mString\u001b[0m\u001b[1m)\u001b[22m\r\n",
      "\u001b[90m    @ \u001b[39m\u001b[36mMPI\u001b[39m \u001b[90m~/.julia/packages/MPI/08SPr/src/\u001b[39m\u001b[90m\u001b[4menvironment.jl:25\u001b[24m\u001b[39m\r\n",
      "  [6] \u001b[0m\u001b[1m(::JLLWrappers.var\"#2#3\"{MPI.var\"#10#11\"{var\"#1#2\"}, String})\u001b[22m\u001b[0m\u001b[1m(\u001b[22m\u001b[0m\u001b[1m)\u001b[22m\r\n",
      "\u001b[90m    @ \u001b[39m\u001b[32mJLLWrappers\u001b[39m \u001b[90m~/.julia/packages/JLLWrappers/QpMQW/src/\u001b[39m\u001b[90m\u001b[4mruntime.jl:49\u001b[24m\u001b[39m\r\n",
      "  [7] \u001b[0m\u001b[1mwithenv\u001b[22m\u001b[0m\u001b[1m(\u001b[22m::\u001b[0mJLLWrappers.var\"#2#3\"\u001b[90m{MPI.var\"#10#11\"{var\"#1#2\"}, String}\u001b[39m, ::\u001b[0mPair\u001b[90m{String, String}\u001b[39m, ::\u001b[0mVararg\u001b[90m{Pair{String, String}}\u001b[39m\u001b[0m\u001b[1m)\u001b[22m\r\n",
      "\u001b[90m    @ \u001b[39m\u001b[90mBase\u001b[39m \u001b[90m\u001b[4menv.jl:172\u001b[24m\u001b[39m\r\n",
      "  [8] \u001b[0m\u001b[1mwithenv_executable_wrapper\u001b[22m\u001b[0m\u001b[1m(\u001b[22m\u001b[90mf\u001b[39m::\u001b[0mFunction, \u001b[90mexecutable_path\u001b[39m::\u001b[0mString, \u001b[90mPATH\u001b[39m::\u001b[0mString, \u001b[90mLIBPATH\u001b[39m::\u001b[0mString, \u001b[90madjust_PATH\u001b[39m::\u001b[0mBool, \u001b[90madjust_LIBPATH\u001b[39m::\u001b[0mBool\u001b[0m\u001b[1m)\u001b[22m\r\n",
      "\u001b[90m    @ \u001b[39m\u001b[32mJLLWrappers\u001b[39m \u001b[90m~/.julia/packages/JLLWrappers/QpMQW/src/\u001b[39m\u001b[90m\u001b[4mruntime.jl:48\u001b[24m\u001b[39m\r\n",
      "  [9] \u001b[0m\u001b[1minvokelatest\u001b[22m\u001b[0m\u001b[1m(\u001b[22m::\u001b[0mAny, ::\u001b[0mAny, ::\u001b[0mVararg\u001b[90m{Any}\u001b[39m; \u001b[90mkwargs\u001b[39m::\u001b[0mBase.Pairs\u001b[90m{Symbol, Union{}, Tuple{}, NamedTuple{(), Tuple{}}}\u001b[39m\u001b[0m\u001b[1m)\u001b[22m\r\n",
      "\u001b[90m    @ \u001b[39m\u001b[90mBase\u001b[39m \u001b[90m./\u001b[39m\u001b[90m\u001b[4messentials.jl:716\u001b[24m\u001b[39m\r\n",
      " [10] \u001b[0m\u001b[1minvokelatest\u001b[22m\u001b[0m\u001b[1m(\u001b[22m::\u001b[0mAny, ::\u001b[0mAny, ::\u001b[0mVararg\u001b[90m{Any}\u001b[39m\u001b[0m\u001b[1m)\u001b[22m\r\n",
      "\u001b[90m    @ \u001b[39m\u001b[90mBase\u001b[39m \u001b[90m./\u001b[39m\u001b[90m\u001b[4messentials.jl:714\u001b[24m\u001b[39m\r\n",
      " [11] \u001b[0m\u001b[1mmpiexec\u001b[22m\u001b[0m\u001b[1m(\u001b[22m\u001b[90mf\u001b[39m::\u001b[0mFunction; \u001b[90madjust_PATH\u001b[39m::\u001b[0mBool, \u001b[90madjust_LIBPATH\u001b[39m::\u001b[0mBool\u001b[0m\u001b[1m)\u001b[22m\r\n",
      "\u001b[90m    @ \u001b[39m\u001b[33mMPICH_jll\u001b[39m \u001b[90m~/.julia/packages/JLLWrappers/QpMQW/src/products/\u001b[39m\u001b[90m\u001b[4mexecutable_generators.jl:21\u001b[24m\u001b[39m\r\n",
      " [12] \u001b[0m\u001b[1mmpiexec\u001b[22m\u001b[0m\u001b[1m(\u001b[22m\u001b[90mf\u001b[39m::\u001b[0mFunction\u001b[0m\u001b[1m)\u001b[22m\r\n",
      "\u001b[90m    @ \u001b[39m\u001b[33mMPICH_jll\u001b[39m \u001b[90m~/.julia/packages/JLLWrappers/QpMQW/src/products/\u001b[39m\u001b[90m\u001b[4mexecutable_generators.jl:21\u001b[24m\u001b[39m\r\n",
      " [13] \u001b[0m\u001b[1mmpiexec\u001b[22m\u001b[0m\u001b[1m(\u001b[22m\u001b[90mfn\u001b[39m::\u001b[0mvar\"#1#2\"\u001b[0m\u001b[1m)\u001b[22m\r\n",
      "\u001b[90m    @ \u001b[39m\u001b[36mMPI\u001b[39m \u001b[90m~/.julia/packages/MPI/08SPr/src/\u001b[39m\u001b[90m\u001b[4menvironment.jl:25\u001b[24m\u001b[39m\r\n",
      " [14] top-level scope\r\n",
      "\u001b[90m    @ \u001b[39m\u001b[90m\u001b[4mnone:4\u001b[24m\u001b[39m\r\n"
     ]
    }
   ],
   "source": [
    "!~/.julia/bin/mpiexecjl --project=.. -np 2 julia Scatter2.jl"
   ]
  },
  {
   "cell_type": "markdown",
   "id": "ac86d569",
   "metadata": {
    "slideshow": {
     "slide_type": "subslide"
    }
   },
   "source": [
    "## Scatterv!"
   ]
  },
  {
   "cell_type": "markdown",
   "id": "4f0a099b",
   "metadata": {
    "hide_input": false,
    "slideshow": {
     "slide_type": "-"
    }
   },
   "source": [
    "```julia\n",
    "using MPI\n",
    "\n",
    "MPI.Init()\n",
    "comm = MPI.COMM_WORLD\n",
    "rank = MPI.Comm_rank(comm)\n",
    "size = MPI.Comm_size(comm)\n",
    "\n",
    "send_buf = nothing\n",
    "\n",
    "if rank == 0\n",
    "    recv_buf = Vector{Float64}(undef, size-1)\n",
    "    send_buf = rand(Float64, (size, size))\n",
    "    print(\"Original array on rank 0:\\n $(send_buf)\\n\")\n",
    "else\n",
    "    recv_buf = Vector{Float64}(undef, size+1)\n",
    "end\n",
    "\n",
    "lengths = [size-1, size+1]\n",
    "offsets = [0, size-1]\n",
    "    \n",
    "MPI.Scatterv!(VBuffer(send_buf, lengths, offsets, MPI.DOUBLE), recv_buf, comm; root=0)\n",
    "print(\"I got this array on $(rank):\\n $(recv_buf)\\n\")\n",
    "```"
   ]
  },
  {
   "cell_type": "code",
   "execution_count": 5,
   "id": "363ec5f2",
   "metadata": {
    "hide_input": false,
    "slideshow": {
     "slide_type": "skip"
    },
    "tags": [
     "remove_cell"
    ]
   },
   "outputs": [
    {
     "name": "stdout",
     "output_type": "stream",
     "text": [
      "Writing Scatter3.jl\n"
     ]
    }
   ],
   "source": [
    "%%file Scatter3.jl\n",
    "#!/usr/bin/env julia\n",
    "using MPI\n",
    "\n",
    "MPI.Init()\n",
    "comm = MPI.COMM_WORLD\n",
    "rank = MPI.Comm_rank(comm)\n",
    "size = MPI.Comm_size(comm)\n",
    "\n",
    "send_buf = nothing\n",
    "\n",
    "if rank == 0\n",
    "    recv_buf = Vector{Float64}(undef, size-1)\n",
    "    send_buf = rand(Float64, (size, size))\n",
    "    print(\"Original array on rank 0:\\n $(send_buf)\\n\")\n",
    "else\n",
    "    recv_buf = Vector{Float64}(undef, size+1)\n",
    "end\n",
    "\n",
    "lengths = [size-1, size+1]\n",
    "offsets = [0, size-1]\n",
    "    \n",
    "MPI.Scatterv!(VBuffer(send_buf, lengths, offsets, MPI.DOUBLE), recv_buf, comm; root=0)\n",
    "print(\"I got this array on $(rank):\\n $(recv_buf)\\n\")"
   ]
  },
  {
   "cell_type": "markdown",
   "id": "66f54ee7",
   "metadata": {
    "slideshow": {
     "slide_type": "fragment"
    }
   },
   "source": [
    "If the preceding code is saved to a file `Scatter3.jl`, we can run"
   ]
  },
  {
   "cell_type": "code",
   "execution_count": 6,
   "id": "271b4e09",
   "metadata": {
    "hide_input": false,
    "slideshow": {
     "slide_type": "-"
    }
   },
   "outputs": [
    {
     "name": "stdout",
     "output_type": "stream",
     "text": [
      "ERROR: "
     ]
    },
    {
     "name": "stdout",
     "output_type": "stream",
     "text": [
      "Original array on rank 0:\r\n",
      " [0.18319437110879566 0.4222002392843601; 0.06283817786540602 0.5032447939753978]\r\n"
     ]
    },
    {
     "name": "stdout",
     "output_type": "stream",
     "text": [
      "LoadError: "
     ]
    },
    {
     "name": "stdout",
     "output_type": "stream",
     "text": [
      "ERROR: "
     ]
    },
    {
     "name": "stdout",
     "output_type": "stream",
     "text": [
      "LoadError: "
     ]
    },
    {
     "name": "stdout",
     "output_type": "stream",
     "text": [
      "MethodError: "
     ]
    },
    {
     "name": "stdout",
     "output_type": "stream",
     "text": [
      "no method matching Scatterv!(::"
     ]
    },
    {
     "name": "stdout",
     "output_type": "stream",
     "text": [
      "MethodError: "
     ]
    },
    {
     "name": "stdout",
     "output_type": "stream",
     "text": [
      "no method matching Scatterv!("
     ]
    },
    {
     "name": "stdout",
     "output_type": "stream",
     "text": [
      "::"
     ]
    },
    {
     "name": "stdout",
     "output_type": "stream",
     "text": [
      "VBuffer{Nothing}, ::Vector{Float64}, ::MPI.Comm; "
     ]
    },
    {
     "name": "stdout",
     "output_type": "stream",
     "text": [
      "root=0)"
     ]
    },
    {
     "name": "stdout",
     "output_type": "stream",
     "text": [
      "VBuffer{Matrix{Float64}}, ::Vector{Float64}, ::MPI.Comm"
     ]
    },
    {
     "name": "stdout",
     "output_type": "stream",
     "text": [
      "; root=0)"
     ]
    },
    {
     "name": "stdout",
     "output_type": "stream",
     "text": [
      "\r\n",
      "Closest candidates are:\r\n",
      "  Scatterv!(::VBuffer, ::Any, !Matched::Integer, !Matched::MPI.Comm) at ~/.julia/packages/MPI/08SPr/src/collective.jl:194 got unsupported keyword argument \"root\"\r\n",
      "  Scatterv!(::Any, ::AbstractArray, !Matched::Vector, !Matched::Integer, !Matched::MPI.Comm) at /usr/local/julia1.7.2/share/julia/base/deprecated.jl:70 got unsupported keyword argument \"root\"\r\n",
      "  Scatterv!(::Any, ::Any, !Matched::Vector, !Matched::Integer, !Matched::MPI.Comm) at /usr/local/julia1.7.2/share/julia/base/deprecated.jl:70 got unsupported keyword argument \"root\"\r\n",
      "  ...\r\n",
      "Stacktrace:\r\n",
      " [1] top-level scope\r\n"
     ]
    },
    {
     "name": "stdout",
     "output_type": "stream",
     "text": [
      "   @ ~/work/hpc-book/hpc-book/src/"
     ]
    },
    {
     "name": "stdout",
     "output_type": "stream",
     "text": [
      "Scatter3.jl:22\r\n",
      "in expression starting at /home/runner/work/hpc-book/hpc-book/src/Scatter3.jl:22\r\n"
     ]
    },
    {
     "name": "stdout",
     "output_type": "stream",
     "text": [
      "\u001b[91m\u001b[1mERROR: \u001b[22m\u001b[39m"
     ]
    },
    {
     "name": "stdout",
     "output_type": "stream",
     "text": [
      "failed process: Process(`"
     ]
    },
    {
     "name": "stdout",
     "output_type": "stream",
     "text": [
      "\u001b[4m/home/runner/.julia/artifacts/af2355b4e003d5800b907f71eaf64c62b6e365f1/bin/mpiexec\u001b[24m \u001b[4m-np\u001b[24m \u001b[4m2\u001b[24m \u001b[4mjulia\u001b[24m \u001b[4mScatter3.jl\u001b[24m`, ProcessExited(1)) [1]\r\n",
      "\r\n",
      "Stacktrace:\r\n",
      "  [1] \u001b[0m\u001b[1mpipeline_error\u001b[22m\r\n",
      "\u001b[90m    @ \u001b[39m\u001b[90m./\u001b[39m\u001b[90m\u001b[4mprocess.jl:531\u001b[24m\u001b[39m\u001b[90m [inlined]\u001b[39m\r\n",
      "  [2] \u001b[0m\u001b[1mrun\u001b[22m\u001b[0m\u001b[1m(\u001b[22m::\u001b[0mCmd; \u001b[90mwait\u001b[39m::\u001b[0mBool\u001b[0m\u001b[1m)\u001b[22m\r\n",
      "\u001b[90m    @ \u001b[39m\u001b[90mBase\u001b[39m \u001b[90m./\u001b[39m\u001b[90m\u001b[4mprocess.jl:446\u001b[24m\u001b[39m\r\n",
      "  [3] \u001b[0m\u001b[1mrun\u001b[22m\u001b[0m\u001b[1m(\u001b[22m::\u001b[0mCmd\u001b[0m\u001b[1m)\u001b[22m\r\n",
      "\u001b[90m    @ \u001b[39m\u001b[90mBase\u001b[39m \u001b[90m\u001b[4mprocess.jl:444\u001b[24m\u001b[39m\r\n",
      "  [4] \u001b[0m\u001b[1m(::var\"#1#2\")\u001b[22m\u001b[0m\u001b[1m(\u001b[22m\u001b[90mexe\u001b[39m::\u001b[0mCmd\u001b[0m\u001b[1m)\u001b[22m\r\n",
      "\u001b[90m    @ \u001b[39m\u001b[35mMain\u001b[39m \u001b[90m\u001b[4mnone:4\u001b[24m\u001b[39m\r\n",
      "  [5] \u001b[0m\u001b[1m(::MPI.var\"#10#11\"{var\"#1#2\"})\u001b[22m\u001b[0m\u001b[1m(\u001b[22m\u001b[90mcmd\u001b[39m::\u001b[0mString\u001b[0m\u001b[1m)\u001b[22m\r\n",
      "\u001b[90m    @ \u001b[39m\u001b[36mMPI\u001b[39m \u001b[90m~/.julia/packages/MPI/08SPr/src/\u001b[39m\u001b[90m\u001b[4menvironment.jl:25\u001b[24m\u001b[39m\r\n",
      "  [6] \u001b[0m\u001b[1m(::JLLWrappers.var\"#2#3\"{MPI.var\"#10#11\"{var\"#1#2\"}, String})\u001b[22m\u001b[0m\u001b[1m(\u001b[22m\u001b[0m\u001b[1m)\u001b[22m\r\n",
      "\u001b[90m    @ \u001b[39m\u001b[32mJLLWrappers\u001b[39m \u001b[90m~/.julia/packages/JLLWrappers/QpMQW/src/\u001b[39m\u001b[90m\u001b[4mruntime.jl:49\u001b[24m\u001b[39m\r\n",
      "  [7] \u001b[0m\u001b[1mwithenv\u001b[22m\u001b[0m\u001b[1m(\u001b[22m::\u001b[0mJLLWrappers.var\"#2#3\"\u001b[90m{MPI.var\"#10#11\"{var\"#1#2\"}, String}\u001b[39m, ::\u001b[0mPair\u001b[90m{String, String}\u001b[39m, ::\u001b[0mVararg\u001b[90m{Pair{String, String}}\u001b[39m\u001b[0m\u001b[1m)\u001b[22m\r\n",
      "\u001b[90m    @ \u001b[39m\u001b[90mBase\u001b[39m \u001b[90m\u001b[4menv.jl:172\u001b[24m\u001b[39m\r\n",
      "  [8] \u001b[0m\u001b[1mwithenv_executable_wrapper\u001b[22m\u001b[0m\u001b[1m(\u001b[22m\u001b[90mf\u001b[39m::\u001b[0mFunction, \u001b[90mexecutable_path\u001b[39m::\u001b[0mString, \u001b[90mPATH\u001b[39m::\u001b[0mString, \u001b[90mLIBPATH\u001b[39m::\u001b[0mString, \u001b[90madjust_PATH\u001b[39m::\u001b[0mBool, \u001b[90madjust_LIBPATH\u001b[39m::\u001b[0mBool\u001b[0m\u001b[1m)\u001b[22m\r\n",
      "\u001b[90m    @ \u001b[39m\u001b[32mJLLWrappers\u001b[39m \u001b[90m~/.julia/packages/JLLWrappers/QpMQW/src/\u001b[39m\u001b[90m\u001b[4mruntime.jl:48\u001b[24m\u001b[39m\r\n",
      "  [9] \u001b[0m\u001b[1minvokelatest\u001b[22m\u001b[0m\u001b[1m(\u001b[22m::\u001b[0mAny, ::\u001b[0mAny, ::\u001b[0mVararg\u001b[90m{Any}\u001b[39m; \u001b[90mkwargs\u001b[39m::\u001b[0mBase.Pairs\u001b[90m{Symbol, Union{}, Tuple{}, NamedTuple{(), Tuple{}}}\u001b[39m\u001b[0m\u001b[1m)\u001b[22m\r\n",
      "\u001b[90m    @ \u001b[39m\u001b[90mBase\u001b[39m \u001b[90m./\u001b[39m\u001b[90m\u001b[4messentials.jl:716\u001b[24m\u001b[39m\r\n",
      " [10] \u001b[0m\u001b[1minvokelatest\u001b[22m\u001b[0m\u001b[1m(\u001b[22m::\u001b[0mAny, ::\u001b[0mAny, ::\u001b[0mVararg\u001b[90m{Any}\u001b[39m\u001b[0m\u001b[1m)\u001b[22m\r\n",
      "\u001b[90m    @ \u001b[39m\u001b[90mBase\u001b[39m \u001b[90m./\u001b[39m\u001b[90m\u001b[4messentials.jl:714\u001b[24m\u001b[39m\r\n",
      " [11] \u001b[0m\u001b[1mmpiexec\u001b[22m\u001b[0m\u001b[1m(\u001b[22m\u001b[90mf\u001b[39m::\u001b[0mFunction; \u001b[90madjust_PATH\u001b[39m::\u001b[0mBool, \u001b[90madjust_LIBPATH\u001b[39m::\u001b[0mBool\u001b[0m\u001b[1m)\u001b[22m\r\n",
      "\u001b[90m    @ \u001b[39m\u001b[33mMPICH_jll\u001b[39m \u001b[90m~/.julia/packages/JLLWrappers/QpMQW/src/products/\u001b[39m\u001b[90m\u001b[4mexecutable_generators.jl:21\u001b[24m\u001b[39m\r\n",
      " [12] \u001b[0m\u001b[1mmpiexec\u001b[22m\u001b[0m\u001b[1m(\u001b[22m\u001b[90mf\u001b[39m::\u001b[0mFunction\u001b[0m\u001b[1m)\u001b[22m\r\n",
      "\u001b[90m    @ \u001b[39m\u001b[33mMPICH_jll\u001b[39m \u001b[90m~/.julia/packages/JLLWrappers/QpMQW/src/products/\u001b[39m\u001b[90m\u001b[4mexecutable_generators.jl:21\u001b[24m\u001b[39m\r\n",
      " [13] \u001b[0m\u001b[1mmpiexec\u001b[22m\u001b[0m\u001b[1m(\u001b[22m\u001b[90mfn\u001b[39m::\u001b[0mvar\"#1#2\"\u001b[0m\u001b[1m)\u001b[22m\r\n",
      "\u001b[90m    @ \u001b[39m\u001b[36mMPI\u001b[39m \u001b[90m~/.julia/packages/MPI/08SPr/src/\u001b[39m\u001b[90m\u001b[4menvironment.jl:25\u001b[24m\u001b[39m\r\n",
      " [14] top-level scope\r\n",
      "\u001b[90m    @ \u001b[39m\u001b[90m\u001b[4mnone:4\u001b[24m\u001b[39m\r\n"
     ]
    }
   ],
   "source": [
    "!~/.julia/bin/mpiexecjl --project=.. -np 2 julia Scatter3.jl"
   ]
  },
  {
   "cell_type": "markdown",
   "id": "fd899882",
   "metadata": {
    "slideshow": {
     "slide_type": "slide"
    }
   },
   "source": [
    "# Gather\n",
    "\n",
    "`Gather` is a command that collects results from all processes into a list."
   ]
  },
  {
   "cell_type": "markdown",
   "id": "01448127",
   "metadata": {
    "hide_input": false,
    "slideshow": {
     "slide_type": "-"
    }
   },
   "source": [
    "```julia\n",
    "using MPI\n",
    "\n",
    "MPI.Init()\n",
    "comm = MPI.COMM_WORLD\n",
    "rank = MPI.Comm_rank(comm)\n",
    "size = MPI.Comm_size(comm)\n",
    "\n",
    "send_buf = nothing\n",
    "\n",
    "if rank == 0\n",
    "    send_buf = collect(1:size) .* 100\n",
    "    print(\"Original array on rank 0:\\n $(send_buf)\\n\" )\n",
    "end\n",
    "    \n",
    "v = MPI.Scatter(send_buf, Int, comm; root=0)\n",
    "print(\"I got this on $(rank):\\n $(v)\\n\")\n",
    "\n",
    "v = v * v\n",
    "\n",
    "recv_buf = MPI.Gather(v, comm; root=0)\n",
    "if rank == 0\n",
    "    print(\"New array on rank 0:\\n $(recv_buf)\")\n",
    "end\n",
    "```"
   ]
  },
  {
   "cell_type": "code",
   "execution_count": 7,
   "id": "2108824b",
   "metadata": {
    "hide_input": false,
    "slideshow": {
     "slide_type": "skip"
    },
    "tags": [
     "remove_cell"
    ]
   },
   "outputs": [
    {
     "name": "stdout",
     "output_type": "stream",
     "text": [
      "Writing Gather.jl\n"
     ]
    }
   ],
   "source": [
    "%%file Gather.jl\n",
    "#!/usr/bin/env julia\n",
    "using MPI\n",
    "\n",
    "MPI.Init()\n",
    "comm = MPI.COMM_WORLD\n",
    "rank = MPI.Comm_rank(comm)\n",
    "size = MPI.Comm_size(comm)\n",
    "\n",
    "send_buf = nothing\n",
    "\n",
    "if rank == 0\n",
    "    send_buf = collect(1:size) .* 100\n",
    "    print(\"Original array on rank 0:\\n $(send_buf)\\n\" )\n",
    "end\n",
    "    \n",
    "v = MPI.Scatter(send_buf, Int, comm; root=0)\n",
    "print(\"I got this on $(rank):\\n $(v)\\n\")\n",
    "\n",
    "v = v * v\n",
    "\n",
    "recv_buf = MPI.Gather(v, comm; root=0)\n",
    "if rank == 0\n",
    "    print(\"New array on rank 0:\\n $(recv_buf)\")\n",
    "end"
   ]
  },
  {
   "cell_type": "markdown",
   "id": "16423b39",
   "metadata": {
    "slideshow": {
     "slide_type": "fragment"
    }
   },
   "source": [
    "If the preceding code is saved to a file `Gather.jl`, we can run"
   ]
  },
  {
   "cell_type": "code",
   "execution_count": 8,
   "id": "b33efaea",
   "metadata": {
    "hide_input": false,
    "slideshow": {
     "slide_type": "-"
    }
   },
   "outputs": [
    {
     "name": "stdout",
     "output_type": "stream",
     "text": [
      "ERROR: "
     ]
    },
    {
     "name": "stdout",
     "output_type": "stream",
     "text": [
      "Original array on rank 0:\r\n",
      " [100, 200]\r\n"
     ]
    },
    {
     "name": "stdout",
     "output_type": "stream",
     "text": [
      "LoadError: "
     ]
    },
    {
     "name": "stdout",
     "output_type": "stream",
     "text": [
      "ERROR: "
     ]
    },
    {
     "name": "stdout",
     "output_type": "stream",
     "text": [
      "LoadError: "
     ]
    },
    {
     "name": "stdout",
     "output_type": "stream",
     "text": [
      "MethodError: "
     ]
    },
    {
     "name": "stdout",
     "output_type": "stream",
     "text": [
      "no method matching Scatter("
     ]
    },
    {
     "name": "stdout",
     "output_type": "stream",
     "text": [
      "::"
     ]
    },
    {
     "name": "stdout",
     "output_type": "stream",
     "text": [
      "MethodError: "
     ]
    },
    {
     "name": "stdout",
     "output_type": "stream",
     "text": [
      "no method matching Scatter(::"
     ]
    },
    {
     "name": "stdout",
     "output_type": "stream",
     "text": [
      "Nothing, ::Type{Int64}, ::MPI.Comm; root=0"
     ]
    },
    {
     "name": "stdout",
     "output_type": "stream",
     "text": [
      ")"
     ]
    },
    {
     "name": "stdout",
     "output_type": "stream",
     "text": [
      "Vector{Int64}, ::Type{Int64}, ::MPI.Comm; "
     ]
    },
    {
     "name": "stdout",
     "output_type": "stream",
     "text": [
      "root=0)"
     ]
    },
    {
     "name": "stdout",
     "output_type": "stream",
     "text": [
      "\r\n",
      "Closest candidates are:\r\n",
      "  Scatter(::Any, ::Type{T}, !Matched::Integer, !Matched::MPI.Comm) where T at ~/.julia/packages/MPI/08SPr/src/collective.jl:148 got unsupported keyword argument \"root\"\r\n",
      "  Scatter(::Any, !Matched::Integer, !Matched::Integer, !Matched::MPI.Comm) at /usr/local/julia1.7.2/share/julia/base/deprecated.jl:70 got unsupported keyword argument \"root\"\r\n",
      "Stacktrace:\r\n",
      " [1] top-level scope\r\n"
     ]
    },
    {
     "name": "stdout",
     "output_type": "stream",
     "text": [
      "   @ ~/work/hpc-book/hpc-book/src/"
     ]
    },
    {
     "name": "stdout",
     "output_type": "stream",
     "text": [
      "Gather.jl:16\r\n",
      "in expression starting at /home/runner/work/hpc-book/hpc-book/src/Gather.jl:16\r\n",
      "\u001b[91m\u001b[1mERROR: \u001b[22m\u001b[39m"
     ]
    },
    {
     "name": "stdout",
     "output_type": "stream",
     "text": [
      "failed process: Process(`\u001b[4m/home/runner/.julia/artifacts/af2355b4e003d5800b907f71eaf64c62b6e365f1/bin/mpiexec\u001b[24m \u001b[4m-np\u001b[24m \u001b[4m2\u001b[24m \u001b[4mjulia\u001b[24m \u001b[4mGather.jl\u001b[24m`, ProcessExited(1)) [1]\r\n",
      "\r\n",
      "Stacktrace:\r\n",
      "  [1] \u001b[0m\u001b[1mpipeline_error\u001b[22m\r\n",
      "\u001b[90m    @ \u001b[39m\u001b[90m./\u001b[39m\u001b[90m\u001b[4mprocess.jl:531\u001b[24m\u001b[39m\u001b[90m [inlined]\u001b[39m\r\n",
      "  [2] \u001b[0m\u001b[1mrun\u001b[22m\u001b[0m\u001b[1m(\u001b[22m::\u001b[0mCmd; \u001b[90mwait\u001b[39m::\u001b[0mBool\u001b[0m\u001b[1m)\u001b[22m\r\n",
      "\u001b[90m    @ \u001b[39m\u001b[90mBase\u001b[39m \u001b[90m./\u001b[39m\u001b[90m\u001b[4mprocess.jl:446\u001b[24m\u001b[39m\r\n",
      "  [3] \u001b[0m\u001b[1mrun\u001b[22m\u001b[0m\u001b[1m(\u001b[22m::\u001b[0mCmd\u001b[0m\u001b[1m)\u001b[22m\r\n",
      "\u001b[90m    @ \u001b[39m\u001b[90mBase\u001b[39m \u001b[90m\u001b[4mprocess.jl:444\u001b[24m\u001b[39m\r\n",
      "  [4] \u001b[0m\u001b[1m(::var\"#1#2\")\u001b[22m\u001b[0m\u001b[1m(\u001b[22m\u001b[90mexe\u001b[39m::\u001b[0mCmd\u001b[0m\u001b[1m)\u001b[22m\r\n",
      "\u001b[90m    @ \u001b[39m\u001b[35mMain\u001b[39m \u001b[90m\u001b[4mnone:4\u001b[24m\u001b[39m\r\n",
      "  [5] \u001b[0m\u001b[1m(::MPI.var\"#10#11\"{var\"#1#2\"})\u001b[22m\u001b[0m\u001b[1m(\u001b[22m\u001b[90mcmd\u001b[39m::\u001b[0mString\u001b[0m\u001b[1m)\u001b[22m\r\n",
      "\u001b[90m    @ \u001b[39m\u001b[36mMPI\u001b[39m \u001b[90m~/.julia/packages/MPI/08SPr/src/\u001b[39m\u001b[90m\u001b[4menvironment.jl:25\u001b[24m\u001b[39m\r\n",
      "  [6] \u001b[0m\u001b[1m(::JLLWrappers.var\"#2#3\"{MPI.var\"#10#11\"{var\"#1#2\"}, String})\u001b[22m\u001b[0m\u001b[1m(\u001b[22m\u001b[0m\u001b[1m)\u001b[22m\r\n",
      "\u001b[90m    @ \u001b[39m\u001b[32mJLLWrappers\u001b[39m \u001b[90m~/.julia/packages/JLLWrappers/QpMQW/src/\u001b[39m\u001b[90m\u001b[4mruntime.jl:49\u001b[24m\u001b[39m\r\n",
      "  [7] \u001b[0m\u001b[1mwithenv\u001b[22m\u001b[0m\u001b[1m(\u001b[22m::\u001b[0mJLLWrappers.var\"#2#3\"\u001b[90m{MPI.var\"#10#11\"{var\"#1#2\"}, String}\u001b[39m, ::\u001b[0mPair\u001b[90m{String, String}\u001b[39m, ::\u001b[0mVararg\u001b[90m{Pair{String, String}}\u001b[39m\u001b[0m\u001b[1m)\u001b[22m\r\n",
      "\u001b[90m    @ \u001b[39m\u001b[90mBase\u001b[39m \u001b[90m\u001b[4menv.jl:172\u001b[24m\u001b[39m\r\n",
      "  [8] \u001b[0m\u001b[1mwithenv_executable_wrapper\u001b[22m\u001b[0m\u001b[1m(\u001b[22m\u001b[90mf\u001b[39m::\u001b[0mFunction, \u001b[90mexecutable_path\u001b[39m::\u001b[0mString, \u001b[90mPATH\u001b[39m::\u001b[0mString, \u001b[90mLIBPATH\u001b[39m::\u001b[0mString, \u001b[90madjust_PATH\u001b[39m::\u001b[0mBool, \u001b[90madjust_LIBPATH\u001b[39m::\u001b[0mBool\u001b[0m\u001b[1m)\u001b[22m\r\n",
      "\u001b[90m    @ \u001b[39m\u001b[32mJLLWrappers\u001b[39m "
     ]
    },
    {
     "name": "stdout",
     "output_type": "stream",
     "text": [
      "\u001b[90m~/.julia/packages/JLLWrappers/QpMQW/src/\u001b[39m\u001b[90m\u001b[4mruntime.jl:48\u001b[24m\u001b[39m\r\n",
      "  [9] \u001b[0m\u001b[1minvokelatest\u001b[22m\u001b[0m\u001b[1m(\u001b[22m::\u001b[0mAny, ::\u001b[0mAny, ::\u001b[0mVararg\u001b[90m{Any}\u001b[39m; \u001b[90mkwargs\u001b[39m::\u001b[0mBase.Pairs\u001b[90m{Symbol, Union{}, Tuple{}, NamedTuple{(), Tuple{}}}\u001b[39m\u001b[0m\u001b[1m)\u001b[22m\r\n",
      "\u001b[90m    @ \u001b[39m\u001b[90mBase\u001b[39m \u001b[90m./\u001b[39m\u001b[90m\u001b[4messentials.jl:716\u001b[24m\u001b[39m\r\n",
      " [10] \u001b[0m\u001b[1minvokelatest\u001b[22m\u001b[0m\u001b[1m(\u001b[22m::\u001b[0mAny, ::\u001b[0mAny, ::\u001b[0mVararg\u001b[90m{Any}\u001b[39m\u001b[0m\u001b[1m)\u001b[22m\r\n",
      "\u001b[90m    @ \u001b[39m\u001b[90mBase\u001b[39m \u001b[90m./\u001b[39m\u001b[90m\u001b[4messentials.jl:714\u001b[24m\u001b[39m\r\n",
      " [11] \u001b[0m\u001b[1mmpiexec\u001b[22m\u001b[0m\u001b[1m(\u001b[22m\u001b[90mf\u001b[39m::\u001b[0mFunction; \u001b[90madjust_PATH\u001b[39m::\u001b[0mBool, \u001b[90madjust_LIBPATH\u001b[39m::\u001b[0mBool\u001b[0m\u001b[1m)\u001b[22m\r\n",
      "\u001b[90m    @ \u001b[39m\u001b[33mMPICH_jll\u001b[39m \u001b[90m~/.julia/packages/JLLWrappers/QpMQW/src/products/\u001b[39m\u001b[90m\u001b[4mexecutable_generators.jl:21\u001b[24m\u001b[39m\r\n",
      " [12] \u001b[0m\u001b[1mmpiexec\u001b[22m\u001b[0m\u001b[1m(\u001b[22m\u001b[90mf\u001b[39m::\u001b[0mFunction\u001b[0m\u001b[1m)\u001b[22m\r\n",
      "\u001b[90m    @ \u001b[39m\u001b[33mMPICH_jll\u001b[39m \u001b[90m~/.julia/packages/JLLWrappers/QpMQW/src/products/\u001b[39m\u001b[90m\u001b[4mexecutable_generators.jl:21\u001b[24m\u001b[39m\r\n",
      " [13] \u001b[0m\u001b[1mmpiexec\u001b[22m\u001b[0m\u001b[1m(\u001b[22m\u001b[90mfn\u001b[39m::\u001b[0mvar\"#1#2\"\u001b[0m\u001b[1m)\u001b[22m\r\n",
      "\u001b[90m    @ \u001b[39m\u001b[36mMPI\u001b[39m \u001b[90m~/.julia/packages/MPI/08SPr/src/\u001b[39m\u001b[90m\u001b[4menvironment.jl:25\u001b[24m\u001b[39m\r\n",
      " [14] top-level scope\r\n",
      "\u001b[90m    @ \u001b[39m\u001b[90m\u001b[4mnone:4\u001b[24m\u001b[39m\r\n"
     ]
    }
   ],
   "source": [
    "!~/.julia/bin/mpiexecjl --project=.. -np 2 julia Gather.jl"
   ]
  },
  {
   "cell_type": "markdown",
   "id": "1a2a5d79",
   "metadata": {
    "slideshow": {
     "slide_type": "fragment"
    }
   },
   "source": [
    "See also [`Gather!`](https://juliaparallel.github.io/MPI.jl/latest/collective/#MPI.Gather!), [`Gatherv!`](https://juliaparallel.github.io/MPI.jl/latest/collective/#MPI.Gatherv!), and [`Allgather`](https://juliaparallel.github.io/MPI.jl/latest/collective/#MPI.Allgather)/[`Allgather!`](https://juliaparallel.github.io/MPI.jl/latest/collective/#MPI.Allgather!)/[`Allgatherv!`](https://juliaparallel.github.io/MPI.jl/latest/collective/#MPI.Allgatherv!)"
   ]
  },
  {
   "cell_type": "markdown",
   "id": "7a839e6a",
   "metadata": {
    "slideshow": {
     "slide_type": "slide"
    }
   },
   "source": [
    "# Broadcast\n",
    "\n",
    "`bcast` sends a single object to every process."
   ]
  },
  {
   "cell_type": "markdown",
   "id": "83decbcd",
   "metadata": {
    "hide_input": false,
    "slideshow": {
     "slide_type": "-"
    }
   },
   "source": [
    "```julia\n",
    "using MPI\n",
    "\n",
    "MPI.Init()\n",
    "\n",
    "comm = MPI.COMM_WORLD\n",
    "rank = MPI.Comm_rank(comm)\n",
    "size = MPI.Comm_size(comm)\n",
    "\n",
    "send_buf = nothing\n",
    "\n",
    "if rank == 0\n",
    "    send_buf = \"Hello from rank 0!\\n\"\n",
    "end\n",
    "\n",
    "recv_buf = MPI.bcast(send_buf, comm; root=0)\n",
    "print(\"Rank $(rank) recieved this message:\\n  $(recv_buf)\\n\")\n",
    "```"
   ]
  },
  {
   "cell_type": "code",
   "execution_count": 9,
   "id": "0866e7cb",
   "metadata": {
    "hide_input": false,
    "slideshow": {
     "slide_type": "skip"
    },
    "tags": [
     "remove_cell"
    ]
   },
   "outputs": [
    {
     "name": "stdout",
     "output_type": "stream",
     "text": [
      "Writing broadcast.jl\n"
     ]
    }
   ],
   "source": [
    "%%file broadcast.jl\n",
    "#!/usr/bin/env julia\n",
    "using MPI\n",
    "\n",
    "MPI.Init()\n",
    "\n",
    "comm = MPI.COMM_WORLD\n",
    "rank = MPI.Comm_rank(comm)\n",
    "size = MPI.Comm_size(comm)\n",
    "\n",
    "send_buf = nothing\n",
    "\n",
    "if rank == 0\n",
    "    send_buf = \"Hello from rank 0!\\n\"\n",
    "end\n",
    "\n",
    "recv_buf = MPI.bcast(send_buf, comm; root=0)\n",
    "print(\"Rank $(rank) recieved this message:\\n  $(recv_buf)\\n\")"
   ]
  },
  {
   "cell_type": "markdown",
   "id": "b6bc137f",
   "metadata": {
    "slideshow": {
     "slide_type": "fragment"
    }
   },
   "source": [
    "If the preceding code is saved to a file `broadcast.jl`, we can run"
   ]
  },
  {
   "cell_type": "code",
   "execution_count": 10,
   "id": "0d199834",
   "metadata": {
    "hide_input": false,
    "slideshow": {
     "slide_type": "-"
    }
   },
   "outputs": [
    {
     "name": "stdout",
     "output_type": "stream",
     "text": [
      "ERROR: ERROR: "
     ]
    },
    {
     "name": "stdout",
     "output_type": "stream",
     "text": [
      "LoadError: LoadError: "
     ]
    },
    {
     "name": "stdout",
     "output_type": "stream",
     "text": [
      "MethodError: MethodError: "
     ]
    },
    {
     "name": "stdout",
     "output_type": "stream",
     "text": [
      "no method matching no method matching bcastbcast((::::"
     ]
    },
    {
     "name": "stdout",
     "output_type": "stream",
     "text": [
      "String, ::MPI.CommNothing, ::MPI.Comm; "
     ]
    },
    {
     "name": "stdout",
     "output_type": "stream",
     "text": [
      "; rootroot==00))"
     ]
    },
    {
     "name": "stdout",
     "output_type": "stream",
     "text": [
      "\r\n",
      "Closest candidates are:\r\n",
      "  bcast(::Any, !Matched::Integer, !Matched::MPI.Comm) at ~/.julia/packages/MPI/08SPr/src/collective.jl:71 got unsupported keyword argument \"root\"\r\n",
      "Stacktrace:\r\n",
      " [1] top-level scope\r\n",
      "\r\n",
      "Closest candidates are:\r\n",
      "  bcast(::Any, !Matched::Integer, !Matched::MPI.Comm) at ~/.julia/packages/MPI/08SPr/src/collective.jl:71 got unsupported keyword argument \"root\"\r\n",
      "Stacktrace:\r\n",
      " [1] top-level scope\r\n"
     ]
    },
    {
     "name": "stdout",
     "output_type": "stream",
     "text": [
      "   @ ~/work/hpc-book/hpc-book/src/   @ ~/work/hpc-book/hpc-book/src/"
     ]
    },
    {
     "name": "stdout",
     "output_type": "stream",
     "text": [
      "broadcast.jl:16\r\n",
      "in expression starting at /home/runner/work/hpc-book/hpc-book/src/broadcast.jl:16\r\n",
      "broadcast.jl:16\r\n",
      "in expression starting at /home/runner/work/hpc-book/hpc-book/src/broadcast.jl:16\r\n"
     ]
    },
    {
     "name": "stdout",
     "output_type": "stream",
     "text": [
      "\u001b[91m\u001b[1mERROR: \u001b[22m\u001b[39m"
     ]
    },
    {
     "name": "stdout",
     "output_type": "stream",
     "text": [
      "failed process: Process(`"
     ]
    },
    {
     "name": "stdout",
     "output_type": "stream",
     "text": [
      "\u001b[4m/home/runner/.julia/artifacts/af2355b4e003d5800b907f71eaf64c62b6e365f1/bin/mpiexec\u001b[24m \u001b[4m-np\u001b[24m \u001b[4m2\u001b[24m \u001b[4mjulia\u001b[24m \u001b[4mbroadcast.jl\u001b[24m`, ProcessExited(1)) [1]\r\n",
      "\r\n",
      "Stacktrace:\r\n",
      "  [1] \u001b[0m\u001b[1mpipeline_error\u001b[22m\r\n",
      "\u001b[90m    @ \u001b[39m\u001b[90m./\u001b[39m\u001b[90m\u001b[4mprocess.jl:531\u001b[24m\u001b[39m\u001b[90m [inlined]\u001b[39m\r\n",
      "  [2] \u001b[0m\u001b[1mrun\u001b[22m\u001b[0m\u001b[1m(\u001b[22m::\u001b[0mCmd; \u001b[90mwait\u001b[39m::\u001b[0mBool\u001b[0m\u001b[1m)\u001b[22m\r\n",
      "\u001b[90m    @ \u001b[39m\u001b[90mBase\u001b[39m \u001b[90m./\u001b[39m\u001b[90m\u001b[4mprocess.jl:446\u001b[24m\u001b[39m\r\n",
      "  [3] \u001b[0m\u001b[1mrun\u001b[22m\u001b[0m\u001b[1m(\u001b[22m::\u001b[0mCmd\u001b[0m\u001b[1m)\u001b[22m\r\n",
      "\u001b[90m    @ \u001b[39m\u001b[90mBase\u001b[39m \u001b[90m\u001b[4mprocess.jl:444\u001b[24m\u001b[39m\r\n",
      "  [4] \u001b[0m\u001b[1m(::var\"#1#2\")\u001b[22m\u001b[0m\u001b[1m(\u001b[22m\u001b[90mexe\u001b[39m::\u001b[0mCmd\u001b[0m\u001b[1m)\u001b[22m\r\n",
      "\u001b[90m    @ \u001b[39m\u001b[35mMain\u001b[39m \u001b[90m\u001b[4mnone:4\u001b[24m\u001b[39m\r\n",
      "  [5] \u001b[0m\u001b[1m(::MPI.var\"#10#11\"{var\"#1#2\"})\u001b[22m\u001b[0m\u001b[1m(\u001b[22m\u001b[90mcmd\u001b[39m::\u001b[0mString\u001b[0m\u001b[1m)\u001b[22m\r\n",
      "\u001b[90m    @ \u001b[39m\u001b[36mMPI\u001b[39m \u001b[90m~/.julia/packages/MPI/08SPr/src/\u001b[39m\u001b[90m\u001b[4menvironment.jl:25\u001b[24m\u001b[39m\r\n",
      "  [6] \u001b[0m\u001b[1m(::JLLWrappers.var\"#2#3\"{MPI.var\"#10#11\"{var\"#1#2\"}, String})\u001b[22m\u001b[0m\u001b[1m(\u001b[22m\u001b[0m\u001b[1m)\u001b[22m\r\n",
      "\u001b[90m    @ \u001b[39m\u001b[32mJLLWrappers\u001b[39m \u001b[90m~/.julia/packages/JLLWrappers/QpMQW/src/\u001b[39m\u001b[90m\u001b[4mruntime.jl:49\u001b[24m\u001b[39m\r\n",
      "  [7] \u001b[0m\u001b[1mwithenv\u001b[22m\u001b[0m\u001b[1m(\u001b[22m::\u001b[0mJLLWrappers.var\"#2#3\"\u001b[90m{MPI.var\"#10#11\"{var\"#1#2\"}, String}\u001b[39m, ::\u001b[0mPair\u001b[90m{String, String}\u001b[39m, ::\u001b[0mVararg\u001b[90m{Pair{String, String}}\u001b[39m\u001b[0m\u001b[1m)\u001b[22m\r\n",
      "\u001b[90m    @ \u001b[39m\u001b[90mBase\u001b[39m \u001b[90m\u001b[4menv.jl:172\u001b[24m\u001b[39m\r\n",
      "  [8] \u001b[0m\u001b[1mwithenv_executable_wrapper\u001b[22m\u001b[0m\u001b[1m(\u001b[22m\u001b[90mf\u001b[39m::\u001b[0mFunction, \u001b[90mexecutable_path\u001b[39m::\u001b[0mString, \u001b[90mPATH\u001b[39m::\u001b[0mString, \u001b[90mLIBPATH\u001b[39m::\u001b[0mString, \u001b[90madjust_PATH\u001b[39m::\u001b[0mBool, \u001b[90madjust_LIBPATH\u001b[39m::\u001b[0mBool\u001b[0m\u001b[1m)\u001b[22m\r\n",
      "\u001b[90m    @ \u001b[39m\u001b[32mJLLWrappers\u001b[39m \u001b[90m~/.julia/packages/JLLWrappers/QpMQW/src/\u001b[39m\u001b[90m\u001b[4mruntime.jl:48\u001b[24m\u001b[39m\r\n",
      "  [9] \u001b[0m\u001b[1minvokelatest\u001b[22m\u001b[0m\u001b[1m(\u001b[22m::\u001b[0mAny, ::\u001b[0mAny, ::\u001b[0mVararg\u001b[90m{Any}\u001b[39m; \u001b[90mkwargs\u001b[39m::\u001b[0mBase.Pairs\u001b[90m{Symbol, Union{}, Tuple{}, NamedTuple{(), Tuple{}}}\u001b[39m\u001b[0m\u001b[1m)\u001b[22m\r\n",
      "\u001b[90m    @ \u001b[39m\u001b[90mBase\u001b[39m \u001b[90m./\u001b[39m\u001b[90m\u001b[4messentials.jl:716\u001b[24m\u001b[39m\r\n",
      " [10] \u001b[0m\u001b[1minvokelatest\u001b[22m\u001b[0m\u001b[1m(\u001b[22m::\u001b[0mAny, ::\u001b[0mAny, ::\u001b[0mVararg\u001b[90m{Any}\u001b[39m\u001b[0m\u001b[1m)\u001b[22m\r\n",
      "\u001b[90m    @ \u001b[39m\u001b[90mBase\u001b[39m \u001b[90m./\u001b[39m\u001b[90m\u001b[4messentials.jl:714\u001b[24m\u001b[39m\r\n",
      " [11] \u001b[0m\u001b[1mmpiexec\u001b[22m\u001b[0m\u001b[1m(\u001b[22m\u001b[90mf\u001b[39m::\u001b[0mFunction; \u001b[90madjust_PATH\u001b[39m::\u001b[0mBool, \u001b[90madjust_LIBPATH\u001b[39m::\u001b[0mBool\u001b[0m\u001b[1m)\u001b[22m\r\n",
      "\u001b[90m    @ \u001b[39m\u001b[33mMPICH_jll\u001b[39m \u001b[90m~/.julia/packages/JLLWrappers/QpMQW/src/products/\u001b[39m\u001b[90m\u001b[4mexecutable_generators.jl:21\u001b[24m\u001b[39m\r\n",
      " [12] \u001b[0m\u001b[1mmpiexec\u001b[22m\u001b[0m\u001b[1m(\u001b[22m\u001b[90mf\u001b[39m::\u001b[0mFunction\u001b[0m\u001b[1m)\u001b[22m\r\n",
      "\u001b[90m    @ \u001b[39m\u001b[33mMPICH_jll\u001b[39m \u001b[90m~/.julia/packages/JLLWrappers/QpMQW/src/products/\u001b[39m\u001b[90m\u001b[4mexecutable_generators.jl:21\u001b[24m\u001b[39m\r\n",
      " [13] \u001b[0m\u001b[1mmpiexec\u001b[22m\u001b[0m\u001b[1m(\u001b[22m\u001b[90mfn\u001b[39m::\u001b[0mvar\"#1#2\"\u001b[0m\u001b[1m)\u001b[22m\r\n",
      "\u001b[90m    @ \u001b[39m\u001b[36mMPI\u001b[39m \u001b[90m~/.julia/packages/MPI/08SPr/src/\u001b[39m\u001b[90m\u001b[4menvironment.jl:25\u001b[24m\u001b[39m\r\n",
      " [14] top-level scope\r\n",
      "\u001b[90m    @ \u001b[39m\u001b[90m\u001b[4mnone:4\u001b[24m\u001b[39m\r\n"
     ]
    }
   ],
   "source": [
    "!~/.julia/bin/mpiexecjl --project=.. -np 2 julia broadcast.jl"
   ]
  },
  {
   "cell_type": "markdown",
   "id": "7937daae",
   "metadata": {
    "slideshow": {
     "slide_type": "fragment"
    }
   },
   "source": [
    "See also [`Bcast!`](https://juliaparallel.github.io/MPI.jl/latest/collective/#MPI.Bcast!)."
   ]
  },
  {
   "cell_type": "markdown",
   "id": "f9b4590d",
   "metadata": {
    "slideshow": {
     "slide_type": "subslide"
    }
   },
   "source": [
    "# Reduce\n",
    "\n",
    "`Reduce` performs a parallel reduction operation."
   ]
  },
  {
   "cell_type": "markdown",
   "id": "5ab06c54",
   "metadata": {
    "hide_input": false,
    "slideshow": {
     "slide_type": "-"
    }
   },
   "source": [
    "```julia\n",
    "using MPI\n",
    "\n",
    "MPI.Init()\n",
    "\n",
    "comm = MPI.COMM_WORLD\n",
    "rank = MPI.Comm_rank(comm)\n",
    "size = MPI.Comm_size(comm)\n",
    "\n",
    "v = collect(1:size)\n",
    "print(\"Original array on rank $(rank):\\n  $(v)\\n\")\n",
    "    \n",
    "\n",
    "recv_buf = MPI.Reduce(v, +, comm; root=0)\n",
    "\n",
    "if rank == 0\n",
    "    print(\"New array on rank 0:\\n  $(recv_buf)\\n\")\n",
    "    total_sum = sum(recv_buf)\n",
    "    print(\"Total sum:\\n  $(total_sum)\")\n",
    "end\n",
    "```"
   ]
  },
  {
   "cell_type": "code",
   "execution_count": 11,
   "id": "b331a305",
   "metadata": {
    "hide_input": false,
    "slideshow": {
     "slide_type": "skip"
    },
    "tags": [
     "remove_cell"
    ]
   },
   "outputs": [
    {
     "name": "stdout",
     "output_type": "stream",
     "text": [
      "Writing Reduce1.jl\n"
     ]
    }
   ],
   "source": [
    "%%file Reduce1.jl\n",
    "#!/usr/bin/env julia\n",
    "using MPI\n",
    "\n",
    "MPI.Init()\n",
    "\n",
    "comm = MPI.COMM_WORLD\n",
    "rank = MPI.Comm_rank(comm)\n",
    "size = MPI.Comm_size(comm)\n",
    "\n",
    "v = collect(1:size)\n",
    "print(\"Original array on rank $(rank):\\n  $(v)\\n\")\n",
    "    \n",
    "\n",
    "recv_buf = MPI.Reduce(v, +, comm; root=0)\n",
    "\n",
    "if rank == 0\n",
    "    print(\"New array on rank 0:\\n  $(recv_buf)\\n\")\n",
    "    total_sum = sum(recv_buf)\n",
    "    print(\"Total sum:\\n  $(total_sum)\")\n",
    "end"
   ]
  },
  {
   "cell_type": "markdown",
   "id": "abca33e2",
   "metadata": {
    "slideshow": {
     "slide_type": "fragment"
    }
   },
   "source": [
    "If the preceding code is saved to a file `Reduce1.jl`, we can run"
   ]
  },
  {
   "cell_type": "code",
   "execution_count": 12,
   "id": "3bb02414",
   "metadata": {
    "hide_input": false,
    "slideshow": {
     "slide_type": "-"
    }
   },
   "outputs": [
    {
     "name": "stdout",
     "output_type": "stream",
     "text": [
      "Original array on rank 1:\r\n",
      "  [1, 2]\r\n",
      "Original array on rank 0:\r\n",
      "  [1, 2]\r\n"
     ]
    },
    {
     "name": "stdout",
     "output_type": "stream",
     "text": [
      "ERROR: ERROR: "
     ]
    },
    {
     "name": "stdout",
     "output_type": "stream",
     "text": [
      "LoadError: LoadError: "
     ]
    },
    {
     "name": "stdout",
     "output_type": "stream",
     "text": [
      "MethodError: "
     ]
    },
    {
     "name": "stdout",
     "output_type": "stream",
     "text": [
      "MethodError: "
     ]
    },
    {
     "name": "stdout",
     "output_type": "stream",
     "text": [
      "no method matching Reduce("
     ]
    },
    {
     "name": "stdout",
     "output_type": "stream",
     "text": [
      "::no method matching Reduce(::"
     ]
    },
    {
     "name": "stdout",
     "output_type": "stream",
     "text": [
      "Vector{Int64}, ::typeof(+), ::MPI.Comm; Vector{Int64}, ::typeof(+), ::MPI.Commroot=; "
     ]
    },
    {
     "name": "stdout",
     "output_type": "stream",
     "text": [
      "0)root=0)"
     ]
    },
    {
     "name": "stdout",
     "output_type": "stream",
     "text": [
      "\r\n",
      "Closest candidates are:\r\n",
      "  Reduce(::AbstractArray, ::Any, !Matched::Integer, !Matched::MPI.Comm) at ~/.julia/packages/MPI/08SPr/src/collective.jl:615 got unsupported keyword argument \"root\"\r\n",
      "  Reduce(::T, ::Any, !Matched::Integer, !Matched::MPI.Comm) where T at ~/.julia/packages/MPI/08SPr/src/collective.jl:622 got unsupported keyword argument \"root\"\r\n",
      "Stacktrace:\r\n",
      " [1] top-level scope\r\n",
      "\r\n",
      "Closest candidates are:\r\n",
      "  Reduce(::AbstractArray, ::Any, !Matched::Integer, !Matched::MPI.Comm) at ~/.julia/packages/MPI/08SPr/src/collective.jl:615 got unsupported keyword argument \"root\"\r\n",
      "  Reduce(::T, ::Any, !Matched::Integer, !Matched::MPI.Comm) where T at ~/.julia/packages/MPI/08SPr/src/collective.jl:622 got unsupported keyword argument \"root\"\r\n",
      "Stacktrace:\r\n",
      " [1] top-level scope\r\n"
     ]
    },
    {
     "name": "stdout",
     "output_type": "stream",
     "text": [
      "   @ ~/work/hpc-book/hpc-book/src/"
     ]
    },
    {
     "name": "stdout",
     "output_type": "stream",
     "text": [
      "   @ ~/work/hpc-book/hpc-book/src/"
     ]
    },
    {
     "name": "stdout",
     "output_type": "stream",
     "text": [
      "Reduce1.jl:14\r\n",
      "in expression starting at /home/runner/work/hpc-book/hpc-book/src/Reduce1.jl:14\r\n"
     ]
    },
    {
     "name": "stdout",
     "output_type": "stream",
     "text": [
      "\u001b[91m\u001b[1mERROR: \u001b[22m\u001b[39m"
     ]
    },
    {
     "name": "stdout",
     "output_type": "stream",
     "text": [
      "failed process: Process(`\u001b[4m/home/runner/.julia/artifacts/af2355b4e003d5800b907f71eaf64c62b6e365f1/bin/mpiexec\u001b[24m \u001b[4m-np\u001b[24m \u001b[4m2\u001b[24m \u001b[4mjulia\u001b[24m \u001b[4mReduce1.jl\u001b[24m`, ProcessExited(1)) [1]\r\n",
      "\r\n",
      "Stacktrace:\r\n",
      "  [1] \u001b[0m\u001b[1mpipeline_error\u001b[22m\r\n",
      "\u001b[90m    @ \u001b[39m\u001b[90m./\u001b[39m\u001b[90m\u001b[4mprocess.jl:531\u001b[24m\u001b[39m\u001b[90m [inlined]\u001b[39m\r\n",
      "  [2] \u001b[0m\u001b[1mrun\u001b[22m\u001b[0m\u001b[1m(\u001b[22m::\u001b[0mCmd; \u001b[90mwait\u001b[39m::\u001b[0mBool\u001b[0m\u001b[1m)\u001b[22m\r\n",
      "\u001b[90m    @ \u001b[39m\u001b[90mBase\u001b[39m \u001b[90m./\u001b[39m\u001b[90m\u001b[4mprocess.jl:446\u001b[24m\u001b[39m\r\n",
      "  [3] \u001b[0m\u001b[1mrun\u001b[22m\u001b[0m\u001b[1m(\u001b[22m::\u001b[0mCmd\u001b[0m\u001b[1m)\u001b[22m\r\n",
      "\u001b[90m    @ \u001b[39m\u001b[90mBase\u001b[39m \u001b[90m\u001b[4mprocess.jl:444\u001b[24m\u001b[39m\r\n",
      "  [4] \u001b[0m\u001b[1m(::var\"#1#2\")\u001b[22m\u001b[0m\u001b[1m(\u001b[22m\u001b[90mexe\u001b[39m::\u001b[0mCmd\u001b[0m\u001b[1m)\u001b[22m\r\n",
      "\u001b[90m    @ \u001b[39m\u001b[35mMain\u001b[39m \u001b[90m\u001b[4mnone:4\u001b[24m\u001b[39m\r\n",
      "  [5] \u001b[0m\u001b[1m(::MPI.var\"#10#11\"{var\"#1#2\"})\u001b[22m\u001b[0m\u001b[1m(\u001b[22m\u001b[90mcmd\u001b[39m::\u001b[0mString\u001b[0m\u001b[1m)\u001b[22m\r\n",
      "\u001b[90m    @ \u001b[39m\u001b[36mMPI\u001b[39m \u001b[90m~/.julia/packages/MPI/08SPr/src/\u001b[39m\u001b[90m\u001b[4menvironment.jl:25\u001b[24m\u001b[39m\r\n",
      "  [6] \u001b[0m\u001b[1m(::JLLWrappers.var\"#2#3\"{MPI.var\"#10#11\"{var\"#1#2\"}, String})\u001b[22m\u001b[0m\u001b[1m(\u001b[22m\u001b[0m\u001b[1m)\u001b[22m\r\n",
      "\u001b[90m    @ \u001b[39m\u001b[32mJLLWrappers\u001b[39m \u001b[90m~/.julia/packages/JLLWrappers/QpMQW/src/\u001b[39m\u001b[90m\u001b[4mruntime.jl:49\u001b[24m\u001b[39m\r\n",
      "  [7] \u001b[0m\u001b[1mwithenv\u001b[22m\u001b[0m\u001b[1m(\u001b[22m::\u001b[0mJLLWrappers.var\"#2#3\"\u001b[90m{MPI.var\"#10#11\"{var\"#1#2\"}, String}\u001b[39m, ::\u001b[0mPair\u001b[90m{String, String}\u001b[39m, ::\u001b[0mVararg\u001b[90m{Pair{String, String}}\u001b[39m\u001b[0m\u001b[1m)\u001b[22m\r\n",
      "\u001b[90m    @ \u001b[39m\u001b[90mBase\u001b[39m \u001b[90m\u001b[4menv.jl:172\u001b[24m\u001b[39m\r\n",
      "  [8] \u001b[0m\u001b[1mwithenv_executable_wrapper\u001b[22m\u001b[0m\u001b[1m(\u001b[22m\u001b[90mf\u001b[39m::\u001b[0mFunction, \u001b[90mexecutable_path\u001b[39m::\u001b[0mString, \u001b[90mPATH\u001b[39m::\u001b[0mString, \u001b[90mLIBPATH\u001b[39m::\u001b[0mString, \u001b[90madjust_PATH\u001b[39m::\u001b[0mBool, \u001b[90madjust_LIBPATH\u001b[39m::\u001b[0mBool\u001b[0m\u001b[1m)\u001b[22m\r\n",
      "\u001b[90m    @ \u001b[39m\u001b[32mJLLWrappers\u001b[39m \u001b[90m~/.julia/packages/JLLWrappers/QpMQW/src/\u001b[39m\u001b[90m\u001b[4mruntime.jl:48\u001b[24m\u001b[39m\r\n",
      "  [9] \u001b[0m\u001b[1minvokelatest\u001b[22m\u001b[0m\u001b[1m(\u001b[22m::\u001b[0mAny, ::\u001b[0mAny, ::\u001b[0mVararg\u001b[90m{Any}\u001b[39m; \u001b[90mkwargs\u001b[39m::\u001b[0mBase.Pairs\u001b[90m{Symbol, Union{}, Tuple{}, NamedTuple{(), Tuple{}}}\u001b[39m\u001b[0m\u001b[1m)\u001b[22m\r\n",
      "\u001b[90m    @ \u001b[39m\u001b[90mBase\u001b[39m \u001b[90m./\u001b[39m\u001b[90m\u001b[4messentials.jl:716\u001b[24m\u001b[39m\r\n",
      " [10] \u001b[0m\u001b[1minvokelatest\u001b[22m\u001b[0m\u001b[1m(\u001b[22m::\u001b[0mAny, ::\u001b[0mAny, ::\u001b[0mVararg\u001b[90m{Any}\u001b[39m\u001b[0m\u001b[1m)\u001b[22m\r\n",
      "\u001b[90m    @ \u001b[39m\u001b[90mBase\u001b[39m \u001b[90m./\u001b[39m\u001b[90m\u001b[4messentials.jl:714\u001b[24m\u001b[39m\r\n",
      " [11] \u001b[0m\u001b[1mmpiexec\u001b[22m\u001b[0m\u001b[1m(\u001b[22m\u001b[90mf\u001b[39m::\u001b[0mFunction; \u001b[90madjust_PATH\u001b[39m::\u001b[0mBool, \u001b[90madjust_LIBPATH\u001b[39m::\u001b[0mBool\u001b[0m\u001b[1m)\u001b[22m\r\n",
      "\u001b[90m    @ \u001b[39m\u001b[33mMPICH_jll\u001b[39m \u001b[90m~/.julia/packages/JLLWrappers/QpMQW/src/products/\u001b[39m\u001b[90m\u001b[4mexecutable_generators.jl:21\u001b[24m\u001b[39m\r\n",
      " [12] \u001b[0m\u001b[1mmpiexec\u001b[22m\u001b[0m\u001b[1m(\u001b[22m\u001b[90mf\u001b[39m::\u001b[0mFunction\u001b[0m\u001b[1m)\u001b[22m\r\n",
      "\u001b[90m    @ \u001b[39m\u001b[33mMPICH_jll\u001b[39m \u001b[90m~/.julia/packages/JLLWrappers/QpMQW/src/products/\u001b[39m\u001b[90m\u001b[4mexecutable_generators.jl:21\u001b[24m\u001b[39m\r\n",
      " [13] \u001b[0m\u001b[1mmpiexec\u001b[22m\u001b[0m\u001b[1m(\u001b[22m\u001b[90mfn\u001b[39m::\u001b[0mvar\"#1#2\"\u001b[0m\u001b[1m)\u001b[22m\r\n",
      "\u001b[90m    @ \u001b[39m\u001b[36mMPI\u001b[39m \u001b[90m~/.julia/packages/MPI/08SPr/src/\u001b[39m\u001b[90m\u001b[4menvironment.jl:25\u001b[24m\u001b[39m\r\n",
      " [14] top-level scope\r\n",
      "\u001b[90m    @ \u001b[39m\u001b[90m\u001b[4mnone:4\u001b[24m\u001b[39m\r\n"
     ]
    }
   ],
   "source": [
    "!~/.julia/bin/mpiexecjl --project=.. -np 2 julia Reduce1.jl"
   ]
  },
  {
   "cell_type": "markdown",
   "id": "9fc5d6d9",
   "metadata": {
    "slideshow": {
     "slide_type": "subslide"
    }
   },
   "source": [
    "## Custom reduction operations"
   ]
  },
  {
   "cell_type": "markdown",
   "id": "b5cb01c7",
   "metadata": {
    "hide_input": false,
    "slideshow": {
     "slide_type": "-"
    }
   },
   "source": [
    "```julia\n",
    "using MPI\n",
    "MPI.Init()\n",
    "\n",
    "import Base.+\n",
    "\n",
    "struct Point{T}\n",
    "    x::T\n",
    "    y::T\n",
    "end\n",
    "\n",
    "+(A::Point{T}, B::Point{T}) where T = Point{T}(A.x + B.x, A.y + B.y)\n",
    "\n",
    "\n",
    "comm = MPI.COMM_WORLD\n",
    "rank = MPI.Comm_rank(comm)\n",
    "\n",
    "p = Point(rank, rank) \n",
    "print(\"Original Point on rank $(rank):\\n  $(p)\\n\")\n",
    "    \n",
    "\n",
    "recv_buf = MPI.Reduce(p, +, comm; root=0)\n",
    "\n",
    "if rank == 0\n",
    "    print(\"\\nNew Point on rank 0:\\n  $(recv_buf)\\n\")\n",
    "end\n",
    "```"
   ]
  },
  {
   "cell_type": "code",
   "execution_count": 13,
   "id": "266d7478",
   "metadata": {
    "hide_input": false,
    "slideshow": {
     "slide_type": "skip"
    },
    "tags": [
     "remove_cell"
    ]
   },
   "outputs": [
    {
     "name": "stdout",
     "output_type": "stream",
     "text": [
      "Writing Reduce2.jl\n"
     ]
    }
   ],
   "source": [
    "%%file Reduce2.jl\n",
    "#!/usr/bin/env julia\n",
    "using MPI\n",
    "MPI.Init()\n",
    "\n",
    "import Base.+\n",
    "\n",
    "struct Point{T}\n",
    "    x::T\n",
    "    y::T\n",
    "end\n",
    "\n",
    "+(A::Point{T}, B::Point{T}) where T = Point{T}(A.x + B.x, A.y + B.y)\n",
    "\n",
    "\n",
    "comm = MPI.COMM_WORLD\n",
    "rank = MPI.Comm_rank(comm)\n",
    "\n",
    "p = Point(rank, rank) \n",
    "print(\"Original Point on rank $(rank):\\n  $(p)\\n\")\n",
    "    \n",
    "\n",
    "recv_buf = MPI.Reduce(p, +, comm; root=0)\n",
    "\n",
    "if rank == 0\n",
    "    print(\"\\nNew Point on rank 0:\\n  $(recv_buf)\\n\")\n",
    "end"
   ]
  },
  {
   "cell_type": "markdown",
   "id": "a26eba2c",
   "metadata": {
    "slideshow": {
     "slide_type": "fragment"
    }
   },
   "source": [
    "If the preceding code is saved to a file `Reduce2.jl`, we can run"
   ]
  },
  {
   "cell_type": "code",
   "execution_count": 14,
   "id": "332bf395",
   "metadata": {
    "hide_input": false,
    "slideshow": {
     "slide_type": "-"
    }
   },
   "outputs": [
    {
     "name": "stdout",
     "output_type": "stream",
     "text": [
      "Original Point on rank 0:\r\n",
      "  Point{Int64}(0, 0)\r\n"
     ]
    },
    {
     "name": "stdout",
     "output_type": "stream",
     "text": [
      "Original Point on rank 2:\r\n",
      "  Point{Int64}(2, 2)\r\n"
     ]
    },
    {
     "name": "stdout",
     "output_type": "stream",
     "text": [
      "Original Point on rank 1:\r\n",
      "  Point{Int64}(1, 1)\r\n"
     ]
    },
    {
     "name": "stdout",
     "output_type": "stream",
     "text": [
      "ERROR: ERROR: "
     ]
    },
    {
     "name": "stdout",
     "output_type": "stream",
     "text": [
      "ERROR: "
     ]
    },
    {
     "name": "stdout",
     "output_type": "stream",
     "text": [
      "LoadError: "
     ]
    },
    {
     "name": "stdout",
     "output_type": "stream",
     "text": [
      "LoadError: "
     ]
    },
    {
     "name": "stdout",
     "output_type": "stream",
     "text": [
      "LoadError: "
     ]
    },
    {
     "name": "stdout",
     "output_type": "stream",
     "text": [
      "MethodError: "
     ]
    },
    {
     "name": "stdout",
     "output_type": "stream",
     "text": [
      "no method matching Reduce("
     ]
    },
    {
     "name": "stdout",
     "output_type": "stream",
     "text": [
      "::"
     ]
    },
    {
     "name": "stdout",
     "output_type": "stream",
     "text": [
      "MethodError: "
     ]
    },
    {
     "name": "stdout",
     "output_type": "stream",
     "text": [
      "MethodError: "
     ]
    },
    {
     "name": "stdout",
     "output_type": "stream",
     "text": [
      "no method matching "
     ]
    },
    {
     "name": "stdout",
     "output_type": "stream",
     "text": [
      "Reduce(no method matching Reduce(::"
     ]
    },
    {
     "name": "stdout",
     "output_type": "stream",
     "text": [
      "::"
     ]
    },
    {
     "name": "stdout",
     "output_type": "stream",
     "text": [
      "Point{Int64}, ::typeof(+), ::MPI.Comm; "
     ]
    },
    {
     "name": "stdout",
     "output_type": "stream",
     "text": [
      "root=0)"
     ]
    },
    {
     "name": "stdout",
     "output_type": "stream",
     "text": [
      "\r\n",
      "Closest candidates are:\r\n",
      "  Reduce(::T, ::Any, !Matched::Integer, !Matched::MPI.Comm) where T at ~/.julia/packages/MPI/08SPr/src/collective.jl:622 got unsupported keyword argument \"root\"\r\n",
      "  Reduce(!Matched::AbstractArray, ::Any, !Matched::Integer, !Matched::MPI.Comm) at ~/.julia/packages/MPI/08SPr/src/collective.jl:615 got unsupported keyword argument \"root\"\r\n",
      "Stacktrace:\r\n",
      " [1] top-level scope\r\n",
      "Point{Int64}, ::typeof(+), ::MPI.Comm"
     ]
    },
    {
     "name": "stdout",
     "output_type": "stream",
     "text": [
      "; root=0)"
     ]
    },
    {
     "name": "stdout",
     "output_type": "stream",
     "text": [
      "Point   @ {Int64}, ::typeof(+), ::MPI.Comm~/work/hpc-book/hpc-book/src/; "
     ]
    },
    {
     "name": "stdout",
     "output_type": "stream",
     "text": [
      "rootReduce2.jl:22\r\n",
      "in expression starting at /home/runner/work/hpc-book/hpc-book/src/Reduce2.jl:22\r\n"
     ]
    },
    {
     "name": "stdout",
     "output_type": "stream",
     "text": [
      "=0\u001b[91m\u001b[1mERROR: \u001b[22m\u001b[39m"
     ]
    },
    {
     "name": "stdout",
     "output_type": "stream",
     "text": [
      "failed process: Process(`"
     ]
    },
    {
     "name": "stdout",
     "output_type": "stream",
     "text": [
      "\u001b[4m/home/runner/.julia/artifacts/af2355b4e003d5800b907f71eaf64c62b6e365f1/bin/mpiexec\u001b[24m \u001b[4m-np\u001b[24m \u001b[4m3\u001b[24m \u001b[4mjulia\u001b[24m \u001b[4mReduce2.jl\u001b[24m`, ProcessExited(1)) [1]\r\n",
      "\r\n",
      "Stacktrace:\r\n",
      "  [1] \u001b[0m\u001b[1mpipeline_error\u001b[22m\r\n",
      "\u001b[90m    @ \u001b[39m\u001b[90m./\u001b[39m\u001b[90m\u001b[4mprocess.jl:531\u001b[24m\u001b[39m\u001b[90m [inlined]\u001b[39m\r\n",
      "  [2] \u001b[0m\u001b[1mrun\u001b[22m\u001b[0m\u001b[1m(\u001b[22m::\u001b[0mCmd; \u001b[90mwait\u001b[39m::\u001b[0mBool\u001b[0m\u001b[1m)\u001b[22m\r\n",
      "\u001b[90m    @ \u001b[39m\u001b[90mBase\u001b[39m \u001b[90m./\u001b[39m\u001b[90m\u001b[4mprocess.jl:446\u001b[24m\u001b[39m\r\n",
      "  [3] \u001b[0m\u001b[1mrun\u001b[22m\u001b[0m\u001b[1m(\u001b[22m::\u001b[0mCmd\u001b[0m\u001b[1m)\u001b[22m\r\n",
      "\u001b[90m    @ \u001b[39m\u001b[90mBase\u001b[39m \u001b[90m\u001b[4mprocess.jl:444\u001b[24m\u001b[39m\r\n",
      "  [4] \u001b[0m\u001b[1m(::var\"#1#2\")\u001b[22m\u001b[0m\u001b[1m(\u001b[22m\u001b[90mexe\u001b[39m::\u001b[0mCmd\u001b[0m\u001b[1m)\u001b[22m\r\n",
      "\u001b[90m    @ \u001b[39m\u001b[35mMain\u001b[39m \u001b[90m\u001b[4mnone:4\u001b[24m\u001b[39m\r\n",
      "  [5] \u001b[0m\u001b[1m(::MPI.var\"#10#11\"{var\"#1#2\"})\u001b[22m\u001b[0m\u001b[1m(\u001b[22m\u001b[90mcmd\u001b[39m::\u001b[0mString\u001b[0m\u001b[1m)\u001b[22m\r\n",
      "\u001b[90m    @ \u001b[39m\u001b[36mMPI\u001b[39m \u001b[90m~/.julia/packages/MPI/08SPr/src/\u001b[39m\u001b[90m\u001b[4menvironment.jl:25\u001b[24m\u001b[39m\r\n",
      "  [6] \u001b[0m\u001b[1m(::JLLWrappers.var\"#2#3\"{MPI.var\"#10#11\"{var\"#1#2\"}, String})\u001b[22m\u001b[0m\u001b[1m(\u001b[22m\u001b[0m\u001b[1m)\u001b[22m\r\n",
      "\u001b[90m    @ \u001b[39m\u001b[32mJLLWrappers\u001b[39m \u001b[90m~/.julia/packages/JLLWrappers/QpMQW/src/\u001b[39m\u001b[90m\u001b[4mruntime.jl:49\u001b[24m\u001b[39m\r\n",
      "  [7] \u001b[0m\u001b[1mwithenv\u001b[22m\u001b[0m\u001b[1m(\u001b[22m::\u001b[0mJLLWrappers.var\"#2#3\"\u001b[90m{MPI.var\"#10#11\"{var\"#1#2\"}, String}\u001b[39m, ::\u001b[0mPair\u001b[90m{String, String}\u001b[39m, ::\u001b[0mVararg\u001b[90m{Pair{String, String}}\u001b[39m\u001b[0m\u001b[1m)\u001b[22m\r\n",
      "\u001b[90m    @ \u001b[39m\u001b[90mBase\u001b[39m \u001b[90m\u001b[4menv.jl:172\u001b[24m\u001b[39m\r\n",
      "  [8] \u001b[0m\u001b[1mwithenv_executable_wrapper\u001b[22m\u001b[0m\u001b[1m(\u001b[22m\u001b[90mf\u001b[39m::\u001b[0mFunction, \u001b[90mexecutable_path\u001b[39m::\u001b[0mString, \u001b[90mPATH\u001b[39m::\u001b[0mString, \u001b[90mLIBPATH\u001b[39m::\u001b[0mString, \u001b[90madjust_PATH\u001b[39m::\u001b[0mBool, \u001b[90madjust_LIBPATH\u001b[39m::\u001b[0mBool\u001b[0m\u001b[1m)\u001b[22m\r\n",
      "\u001b[90m    @ \u001b[39m\u001b[32mJLLWrappers\u001b[39m \u001b[90m~/.julia/packages/JLLWrappers/QpMQW/src/\u001b[39m\u001b[90m\u001b[4mruntime.jl:48\u001b[24m\u001b[39m\r\n",
      "  [9] \u001b[0m\u001b[1minvokelatest\u001b[22m\u001b[0m\u001b[1m(\u001b[22m::\u001b[0mAny, ::\u001b[0mAny, ::\u001b[0mVararg\u001b[90m{Any}\u001b[39m; \u001b[90mkwargs\u001b[39m::\u001b[0mBase.Pairs\u001b[90m{Symbol, Union{}, Tuple{}, NamedTuple{(), Tuple{}}}\u001b[39m\u001b[0m\u001b[1m)\u001b[22m\r\n",
      "\u001b[90m    @ \u001b[39m\u001b[90mBase\u001b[39m \u001b[90m./\u001b[39m\u001b[90m\u001b[4messentials.jl:716\u001b[24m\u001b[39m\r\n",
      " [10] \u001b[0m\u001b[1minvokelatest\u001b[22m\u001b[0m\u001b[1m(\u001b[22m::\u001b[0mAny, ::\u001b[0mAny, ::\u001b[0mVararg\u001b[90m{Any}\u001b[39m\u001b[0m\u001b[1m)\u001b[22m\r\n",
      "\u001b[90m    @ \u001b[39m\u001b[90mBase\u001b[39m \u001b[90m./\u001b[39m\u001b[90m\u001b[4messentials.jl:714\u001b[24m\u001b[39m\r\n",
      " [11] \u001b[0m\u001b[1mmpiexec\u001b[22m\u001b[0m\u001b[1m(\u001b[22m\u001b[90mf\u001b[39m::\u001b[0mFunction; \u001b[90madjust_PATH\u001b[39m::\u001b[0mBool, \u001b[90madjust_LIBPATH\u001b[39m::\u001b[0mBool\u001b[0m\u001b[1m)\u001b[22m\r\n",
      "\u001b[90m    @ \u001b[39m\u001b[33mMPICH_jll\u001b[39m \u001b[90m~/.julia/packages/JLLWrappers/QpMQW/src/products/\u001b[39m\u001b[90m\u001b[4mexecutable_generators.jl:21\u001b[24m\u001b[39m\r\n",
      " [12] \u001b[0m\u001b[1mmpiexec\u001b[22m\u001b[0m\u001b[1m(\u001b[22m\u001b[90mf\u001b[39m::\u001b[0mFunction\u001b[0m\u001b[1m)\u001b[22m\r\n",
      "\u001b[90m    @ \u001b[39m\u001b[33mMPICH_jll\u001b[39m \u001b[90m~/.julia/packages/JLLWrappers/QpMQW/src/products/\u001b[39m\u001b[90m\u001b[4mexecutable_generators.jl:21\u001b[24m\u001b[39m\r\n",
      " [13] \u001b[0m\u001b[1mmpiexec\u001b[22m\u001b[0m\u001b[1m(\u001b[22m\u001b[90mfn\u001b[39m::\u001b[0mvar\"#1#2\"\u001b[0m\u001b[1m)\u001b[22m\r\n",
      "\u001b[90m    @ \u001b[39m\u001b[36mMPI\u001b[39m \u001b[90m~/.julia/packages/MPI/08SPr/src/\u001b[39m\u001b[90m\u001b[4menvironment.jl:25\u001b[24m\u001b[39m\r\n",
      " [14] top-level scope\r\n",
      "\u001b[90m    @ \u001b[39m\u001b[90m\u001b[4mnone:4\u001b[24m\u001b[39m\r\n"
     ]
    }
   ],
   "source": [
    "!~/.julia/bin/mpiexecjl --project=.. -np 3 julia Reduce2.jl"
   ]
  },
  {
   "cell_type": "markdown",
   "id": "f59ca1b1",
   "metadata": {
    "slideshow": {
     "slide_type": "fragment"
    }
   },
   "source": [
    "See also [`Reduce!`](https://juliaparallel.github.io/MPI.jl/latest/collective/#MPI.Reduce!) and [`Allreduce`](https://juliaparallel.github.io/MPI.jl/latest/collective/#MPI.Allreduce)/[`Allreduce!`](https://juliaparallel.github.io/MPI.jl/latest/collective/#MPI.Allreduce!)."
   ]
  },
  {
   "cell_type": "code",
   "execution_count": 15,
   "id": "53af3231",
   "metadata": {
    "hide_input": true,
    "init_cell": true,
    "slideshow": {
     "slide_type": "skip"
    },
    "tags": [
     "remove_cell"
    ]
   },
   "outputs": [
    {
     "data": {
      "application/javascript": [
       "function hideElements(elements, start) {\n",
       "    for(var i = 0, length = elements.length; i < length;i++) {\n",
       "        if(i >= start) {\n",
       "            elements[i].style.display = \"none\";\n",
       "        }\n",
       "    }\n",
       "}\n",
       "\n",
       "var prompt_elements = document.getElementsByClassName(\"prompt\");\n",
       "hideElements(prompt_elements, 0)\n"
      ],
      "text/plain": [
       "<IPython.core.display.Javascript object>"
      ]
     },
     "metadata": {},
     "output_type": "display_data"
    }
   ],
   "source": [
    "%%javascript\n",
    "function hideElements(elements, start) {\n",
    "    for(var i = 0, length = elements.length; i < length;i++) {\n",
    "        if(i >= start) {\n",
    "            elements[i].style.display = \"none\";\n",
    "        }\n",
    "    }\n",
    "}\n",
    "\n",
    "var prompt_elements = document.getElementsByClassName(\"prompt\");\n",
    "hideElements(prompt_elements, 0)"
   ]
  }
 ],
 "metadata": {
  "jupytext": {
   "formats": "ipynb,md:myst",
   "text_representation": {
    "extension": ".md",
    "format_name": "myst",
    "format_version": 0.13,
    "jupytext_version": "1.13.7"
   }
  },
  "kernelspec": {
   "display_name": "Python 3 (ipykernel)",
   "language": "python",
   "name": "python3"
  },
  "language_info": {
   "codemirror_mode": {
    "name": "ipython",
    "version": 3
   },
   "file_extension": ".py",
   "mimetype": "text/x-python",
   "name": "python",
   "nbconvert_exporter": "python",
   "pygments_lexer": "ipython3",
   "version": "3.8.12"
  },
  "source_map": [
   15,
   28,
   35,
   57,
   85,
   89,
   98,
   102,
   124,
   152,
   156,
   165,
   169,
   196,
   229,
   233,
   242,
   248,
   276,
   310,
   314,
   323,
   327,
   333,
   354,
   381,
   385,
   394,
   398,
   404,
   428,
   458,
   462,
   471,
   475,
   505,
   541,
   545,
   554,
   558
  ]
 },
 "nbformat": 4,
 "nbformat_minor": 5
}