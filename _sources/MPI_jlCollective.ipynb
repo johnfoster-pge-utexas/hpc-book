{
 "cells": [
  {
   "cell_type": "markdown",
   "id": "49f814f1",
   "metadata": {
    "slideshow": {
     "slide_type": "slide"
    }
   },
   "source": [
    "# Collective Communication\n",
    "\n",
    "\n",
    "<table>\n",
    "    <tr style=\"background-color:transparent\">\n",
    "        <td><img src=\"images/collective_comm.gif\" width=400/></td>\n",
    "    </tr>\n",
    "</table>\n",
    "\n",
    "[Image Source](https://computing.llnl.gov/tutorials/parallel_comp/images/collective_comm.gif)"
   ]
  },
  {
   "cell_type": "markdown",
   "id": "1ffb9780",
   "metadata": {
    "slideshow": {
     "slide_type": "slide"
    }
   },
   "source": [
    "# Scatter\n",
    "\n",
    "Rank 0 acts as a leader, creating a list and scattering it out to all\n",
    "ranks evenly"
   ]
  },
  {
   "cell_type": "markdown",
   "id": "aff46c40",
   "metadata": {
    "hide_input": false,
    "slideshow": {
     "slide_type": "-"
    }
   },
   "source": [
    "```julia\n",
    "using MPI\n",
    "\n",
    "MPI.Init()\n",
    "comm = MPI.COMM_WORLD\n",
    "rank = MPI.Comm_rank(comm)\n",
    "size = MPI.Comm_size(comm)\n",
    "\n",
    "send_buf = nothing\n",
    "recv_buf = Vector{Float64}(undef, size)\n",
    "\n",
    "if rank == 0\n",
    "    send_buf = collect(1:size) .* 100\n",
    "    print(\"Original array on rank 0:\\n $(send_buf)\\n\")\n",
    "end\n",
    "    \n",
    "recv_buf = MPI.Scatter(send_buf, Int, comm; root=0)\n",
    "print(\"I got this on rank $(rank):\\n $(recv_buf)\\n\")\n",
    "```"
   ]
  },
  {
   "cell_type": "code",
   "execution_count": 1,
   "id": "e08a903c",
   "metadata": {
    "hide_input": false,
    "slideshow": {
     "slide_type": "skip"
    },
    "tags": [
     "remove_cell"
    ]
   },
   "outputs": [
    {
     "name": "stdout",
     "output_type": "stream",
     "text": [
      "Writing Scatter1.jl\n"
     ]
    }
   ],
   "source": [
    "%%file Scatter1.jl\n",
    "#!/usr/bin/env julia\n",
    "using MPI\n",
    "\n",
    "MPI.Init()\n",
    "comm = MPI.COMM_WORLD\n",
    "rank = MPI.Comm_rank(comm)\n",
    "size = MPI.Comm_size(comm)\n",
    "\n",
    "send_buf = nothing\n",
    "recv_buf = Vector{Float64}(undef, size)\n",
    "\n",
    "if rank == 0\n",
    "    send_buf = collect(1:size) .* 100\n",
    "    print(\"Original array on rank 0:\\n $(send_buf)\\n\")\n",
    "end\n",
    "    \n",
    "recv_buf = MPI.Scatter(send_buf, Int, comm; root=0)\n",
    "print(\"I got this on rank $(rank):\\n $(recv_buf)\\n\")"
   ]
  },
  {
   "cell_type": "markdown",
   "id": "1fb64e38",
   "metadata": {
    "slideshow": {
     "slide_type": "fragment"
    }
   },
   "source": [
    "If the preceding code is saved to a file `Scatter1.jl`, we can run"
   ]
  },
  {
   "cell_type": "code",
   "execution_count": 2,
   "id": "81128b31",
   "metadata": {
    "hide_input": false,
    "slideshow": {
     "slide_type": "-"
    }
   },
   "outputs": [
    {
     "name": "stdout",
     "output_type": "stream",
     "text": [
      "Original array on rank 0:\r\n",
      " [100, 200]\r\n"
     ]
    },
    {
     "name": "stdout",
     "output_type": "stream",
     "text": [
      "I got this on rank 0:\r\n",
      " 100\r\n",
      "I got this on rank 1:\r\n",
      " 200\r\n"
     ]
    }
   ],
   "source": [
    "!~/.julia/bin/mpiexecjl --project=.. -np 2 julia Scatter1.jl"
   ]
  },
  {
   "cell_type": "markdown",
   "id": "d6a34186",
   "metadata": {
    "slideshow": {
     "slide_type": "subslide"
    }
   },
   "source": [
    "## Scatter!"
   ]
  },
  {
   "cell_type": "markdown",
   "id": "389c52e0",
   "metadata": {
    "hide_input": false,
    "slideshow": {
     "slide_type": "-"
    }
   },
   "source": [
    "```julia\n",
    "using MPI\n",
    "\n",
    "MPI.Init()\n",
    "comm = MPI.COMM_WORLD\n",
    "rank = MPI.Comm_rank(comm)\n",
    "size = MPI.Comm_size(comm)\n",
    "\n",
    "send_buf = nothing\n",
    "recv_buf = Vector{Float64}(undef, size)\n",
    "\n",
    "if rank == 0\n",
    "    send_buf = rand(Float64, (size, size))\n",
    "    print(\"Original array on rank 0:\\n $(send_buf)\\n\")\n",
    "end\n",
    "    \n",
    "MPI.Scatter!(send_buf, recv_buf, comm; root=0)\n",
    "print(\"I got this array on $(rank):\\n $(recv_buf)\\n\")\n",
    "```"
   ]
  },
  {
   "cell_type": "code",
   "execution_count": 3,
   "id": "29045f13",
   "metadata": {
    "hide_input": false,
    "slideshow": {
     "slide_type": "skip"
    },
    "tags": [
     "remove_cell"
    ]
   },
   "outputs": [
    {
     "name": "stdout",
     "output_type": "stream",
     "text": [
      "Writing Scatter2.jl\n"
     ]
    }
   ],
   "source": [
    "%%file Scatter2.jl\n",
    "#!/usr/bin/env julia\n",
    "using MPI\n",
    "\n",
    "MPI.Init()\n",
    "comm = MPI.COMM_WORLD\n",
    "rank = MPI.Comm_rank(comm)\n",
    "size = MPI.Comm_size(comm)\n",
    "\n",
    "send_buf = nothing\n",
    "recv_buf = Vector{Float64}(undef, size)\n",
    "\n",
    "if rank == 0\n",
    "    send_buf = rand(Float64, (size, size))\n",
    "    print(\"Original array on rank 0:\\n $(send_buf)\\n\")\n",
    "end\n",
    "    \n",
    "MPI.Scatter!(send_buf, recv_buf, comm; root=0)\n",
    "print(\"I got this array on $(rank):\\n $(recv_buf)\\n\")"
   ]
  },
  {
   "cell_type": "markdown",
   "id": "a00d38dd",
   "metadata": {
    "slideshow": {
     "slide_type": "fragment"
    }
   },
   "source": [
    "If the preceding code is saved to a file `Scatter2.jl`, we can run"
   ]
  },
  {
   "cell_type": "code",
   "execution_count": 4,
   "id": "06a65fe4",
   "metadata": {
    "hide_input": false,
    "slideshow": {
     "slide_type": "-"
    }
   },
   "outputs": [
    {
     "name": "stdout",
     "output_type": "stream",
     "text": [
      "Original array on rank 0:\r\n",
      " [0.6185207684136137 0.968588231499006; 0.35492104456879925 0.315139582575782]\r\n"
     ]
    },
    {
     "name": "stdout",
     "output_type": "stream",
     "text": [
      "I got this array on 0:\r\n",
      " [0.6185207684136137, 0.35492104456879925]\r\n"
     ]
    },
    {
     "name": "stdout",
     "output_type": "stream",
     "text": [
      "I got this array on 1:\r\n",
      " [0.968588231499006, 0.315139582575782]\r\n"
     ]
    }
   ],
   "source": [
    "!~/.julia/bin/mpiexecjl --project=.. -np 2 julia Scatter2.jl"
   ]
  },
  {
   "cell_type": "markdown",
   "id": "8c80ccef",
   "metadata": {
    "slideshow": {
     "slide_type": "subslide"
    }
   },
   "source": [
    "## Scatterv!"
   ]
  },
  {
   "cell_type": "markdown",
   "id": "cdf16515",
   "metadata": {
    "hide_input": false,
    "slideshow": {
     "slide_type": "-"
    }
   },
   "source": [
    "```julia\n",
    "using MPI\n",
    "\n",
    "MPI.Init()\n",
    "comm = MPI.COMM_WORLD\n",
    "rank = MPI.Comm_rank(comm)\n",
    "size = MPI.Comm_size(comm)\n",
    "\n",
    "send_buf = nothing\n",
    "\n",
    "if rank == 0\n",
    "    recv_buf = Vector{Float64}(undef, size-1)\n",
    "    send_buf = rand(Float64, (size, size))\n",
    "    print(\"Original array on rank 0:\\n $(send_buf)\\n\")\n",
    "else\n",
    "    recv_buf = Vector{Float64}(undef, size+1)\n",
    "end\n",
    "\n",
    "lengths = [size-1, size+1]\n",
    "offsets = [0, size-1]\n",
    "    \n",
    "MPI.Scatterv!(VBuffer(send_buf, lengths, offsets, MPI.DOUBLE), recv_buf, comm; root=0)\n",
    "print(\"I got this array on $(rank):\\n $(recv_buf)\\n\")\n",
    "```"
   ]
  },
  {
   "cell_type": "code",
   "execution_count": 5,
   "id": "e0308f2b",
   "metadata": {
    "hide_input": false,
    "slideshow": {
     "slide_type": "skip"
    },
    "tags": [
     "remove_cell"
    ]
   },
   "outputs": [
    {
     "name": "stdout",
     "output_type": "stream",
     "text": [
      "Writing Scatter3.jl\n"
     ]
    }
   ],
   "source": [
    "%%file Scatter3.jl\n",
    "#!/usr/bin/env julia\n",
    "using MPI\n",
    "\n",
    "MPI.Init()\n",
    "comm = MPI.COMM_WORLD\n",
    "rank = MPI.Comm_rank(comm)\n",
    "size = MPI.Comm_size(comm)\n",
    "\n",
    "send_buf = nothing\n",
    "\n",
    "if rank == 0\n",
    "    recv_buf = Vector{Float64}(undef, size-1)\n",
    "    send_buf = rand(Float64, (size, size))\n",
    "    print(\"Original array on rank 0:\\n $(send_buf)\\n\")\n",
    "else\n",
    "    recv_buf = Vector{Float64}(undef, size+1)\n",
    "end\n",
    "\n",
    "lengths = [size-1, size+1]\n",
    "offsets = [0, size-1]\n",
    "    \n",
    "MPI.Scatterv!(VBuffer(send_buf, lengths, offsets, MPI.DOUBLE), recv_buf, comm; root=0)\n",
    "print(\"I got this array on $(rank):\\n $(recv_buf)\\n\")"
   ]
  },
  {
   "cell_type": "markdown",
   "id": "c961daf9",
   "metadata": {
    "slideshow": {
     "slide_type": "fragment"
    }
   },
   "source": [
    "If the preceding code is saved to a file `Scatter3.jl`, we can run"
   ]
  },
  {
   "cell_type": "code",
   "execution_count": 6,
   "id": "f0ae8498",
   "metadata": {
    "hide_input": false,
    "slideshow": {
     "slide_type": "-"
    }
   },
   "outputs": [
    {
     "name": "stdout",
     "output_type": "stream",
     "text": [
      "Original array on rank 0:\r\n",
      " [0.72533974740034 0.011240995965466904; 0.6883700648760186 0.17922077348645482]\r\n"
     ]
    },
    {
     "name": "stdout",
     "output_type": "stream",
     "text": [
      "I got this array on 0:\r\n",
      " [0.72533974740034]\r\n",
      "I got this array on 1:\r\n",
      " [0.6883700648760186, 0.011240995965466904, 0.17922077348645482]\r\n"
     ]
    }
   ],
   "source": [
    "!~/.julia/bin/mpiexecjl --project=.. -np 2 julia Scatter3.jl"
   ]
  },
  {
   "cell_type": "markdown",
   "id": "82c6a3a5",
   "metadata": {
    "slideshow": {
     "slide_type": "slide"
    }
   },
   "source": [
    "# Gather\n",
    "\n",
    "`Gather` is a command that collects results from all processes into a list."
   ]
  },
  {
   "cell_type": "markdown",
   "id": "b492584f",
   "metadata": {
    "hide_input": false,
    "slideshow": {
     "slide_type": "-"
    }
   },
   "source": [
    "```julia\n",
    "using MPI\n",
    "\n",
    "MPI.Init()\n",
    "comm = MPI.COMM_WORLD\n",
    "rank = MPI.Comm_rank(comm)\n",
    "size = MPI.Comm_size(comm)\n",
    "\n",
    "send_buf = nothing\n",
    "\n",
    "if rank == 0\n",
    "    send_buf = collect(1:size) .* 100\n",
    "    print(\"Original array on rank 0:\\n $(send_buf)\\n\" )\n",
    "end\n",
    "    \n",
    "v = MPI.Scatter(send_buf, Int, comm; root=0)\n",
    "print(\"I got this on $(rank):\\n $(v)\\n\")\n",
    "\n",
    "v = v * v\n",
    "\n",
    "recv_buf = MPI.Gather(v, comm; root=0)\n",
    "if rank == 0\n",
    "    print(\"New array on rank 0:\\n $(recv_buf)\")\n",
    "end\n",
    "```"
   ]
  },
  {
   "cell_type": "code",
   "execution_count": 7,
   "id": "a501c61f",
   "metadata": {
    "hide_input": false,
    "slideshow": {
     "slide_type": "skip"
    },
    "tags": [
     "remove_cell"
    ]
   },
   "outputs": [
    {
     "name": "stdout",
     "output_type": "stream",
     "text": [
      "Writing Gather.jl\n"
     ]
    }
   ],
   "source": [
    "%%file Gather.jl\n",
    "#!/usr/bin/env julia\n",
    "using MPI\n",
    "\n",
    "MPI.Init()\n",
    "comm = MPI.COMM_WORLD\n",
    "rank = MPI.Comm_rank(comm)\n",
    "size = MPI.Comm_size(comm)\n",
    "\n",
    "send_buf = nothing\n",
    "\n",
    "if rank == 0\n",
    "    send_buf = collect(1:size) .* 100\n",
    "    print(\"Original array on rank 0:\\n $(send_buf)\\n\" )\n",
    "end\n",
    "    \n",
    "v = MPI.Scatter(send_buf, Int, comm; root=0)\n",
    "print(\"I got this on $(rank):\\n $(v)\\n\")\n",
    "\n",
    "v = v * v\n",
    "\n",
    "recv_buf = MPI.Gather(v, comm; root=0)\n",
    "if rank == 0\n",
    "    print(\"New array on rank 0:\\n $(recv_buf)\")\n",
    "end"
   ]
  },
  {
   "cell_type": "markdown",
   "id": "5ceb0c4c",
   "metadata": {
    "slideshow": {
     "slide_type": "fragment"
    }
   },
   "source": [
    "If the preceding code is saved to a file `Gather.jl`, we can run"
   ]
  },
  {
   "cell_type": "code",
   "execution_count": 8,
   "id": "273d9322",
   "metadata": {
    "hide_input": false,
    "slideshow": {
     "slide_type": "-"
    }
   },
   "outputs": [
    {
     "name": "stdout",
     "output_type": "stream",
     "text": [
      "Original array on rank 0:\r\n",
      " [100, 200]\r\n"
     ]
    },
    {
     "name": "stdout",
     "output_type": "stream",
     "text": [
      "I got this on 0:\r\n",
      " 100\r\n",
      "I got this on 1:\r\n",
      " 200\r\n"
     ]
    },
    {
     "name": "stdout",
     "output_type": "stream",
     "text": [
      "New array on rank 0:\r\n",
      " [10000, 40000]"
     ]
    }
   ],
   "source": [
    "!~/.julia/bin/mpiexecjl --project=.. -np 2 julia Gather.jl"
   ]
  },
  {
   "cell_type": "markdown",
   "id": "671b02a4",
   "metadata": {
    "slideshow": {
     "slide_type": "fragment"
    }
   },
   "source": [
    "See also [`Gather!`](https://juliaparallel.github.io/MPI.jl/latest/collective/#MPI.Gather!), [`Gatherv!`](https://juliaparallel.github.io/MPI.jl/latest/collective/#MPI.Gatherv!), and [`Allgather`](https://juliaparallel.github.io/MPI.jl/latest/collective/#MPI.Allgather)/[`Allgather!`](https://juliaparallel.github.io/MPI.jl/latest/collective/#MPI.Allgather!)/[`Allgatherv!`](https://juliaparallel.github.io/MPI.jl/latest/collective/#MPI.Allgatherv!)"
   ]
  },
  {
   "cell_type": "markdown",
   "id": "b501bf86",
   "metadata": {
    "slideshow": {
     "slide_type": "slide"
    }
   },
   "source": [
    "# Broadcast\n",
    "\n",
    "`bcast` sends a single object to every process."
   ]
  },
  {
   "cell_type": "markdown",
   "id": "37afe211",
   "metadata": {
    "hide_input": false,
    "slideshow": {
     "slide_type": "-"
    }
   },
   "source": [
    "```julia\n",
    "using MPI\n",
    "\n",
    "MPI.Init()\n",
    "\n",
    "comm = MPI.COMM_WORLD\n",
    "rank = MPI.Comm_rank(comm)\n",
    "size = MPI.Comm_size(comm)\n",
    "\n",
    "send_buf = nothing\n",
    "\n",
    "if rank == 0\n",
    "    send_buf = \"Hello from rank 0!\\n\"\n",
    "end\n",
    "\n",
    "recv_buf = MPI.bcast(send_buf, comm; root=0)\n",
    "print(\"Rank $(rank) recieved this message:\\n  $(recv_buf)\\n\")\n",
    "```"
   ]
  },
  {
   "cell_type": "code",
   "execution_count": 9,
   "id": "f76814a7",
   "metadata": {
    "hide_input": false,
    "slideshow": {
     "slide_type": "skip"
    },
    "tags": [
     "remove_cell"
    ]
   },
   "outputs": [
    {
     "name": "stdout",
     "output_type": "stream",
     "text": [
      "Writing broadcast.jl\n"
     ]
    }
   ],
   "source": [
    "%%file broadcast.jl\n",
    "#!/usr/bin/env julia\n",
    "using MPI\n",
    "\n",
    "MPI.Init()\n",
    "\n",
    "comm = MPI.COMM_WORLD\n",
    "rank = MPI.Comm_rank(comm)\n",
    "size = MPI.Comm_size(comm)\n",
    "\n",
    "send_buf = nothing\n",
    "\n",
    "if rank == 0\n",
    "    send_buf = \"Hello from rank 0!\\n\"\n",
    "end\n",
    "\n",
    "recv_buf = MPI.bcast(send_buf, comm; root=0)\n",
    "print(\"Rank $(rank) recieved this message:\\n  $(recv_buf)\\n\")"
   ]
  },
  {
   "cell_type": "markdown",
   "id": "6031f0ef",
   "metadata": {
    "slideshow": {
     "slide_type": "fragment"
    }
   },
   "source": [
    "If the preceding code is saved to a file `broadcast.jl`, we can run"
   ]
  },
  {
   "cell_type": "code",
   "execution_count": 10,
   "id": "36fda9f7",
   "metadata": {
    "hide_input": false,
    "slideshow": {
     "slide_type": "-"
    }
   },
   "outputs": [
    {
     "name": "stdout",
     "output_type": "stream",
     "text": [
      "Rank 0 recieved this message:\r\n",
      "  Hello from rank 0!\r\n",
      "\r\n",
      "Rank 1 recieved this message:\r\n",
      "  Hello from rank 0!\r\n",
      "\r\n"
     ]
    }
   ],
   "source": [
    "!~/.julia/bin/mpiexecjl --project=.. -np 2 julia broadcast.jl"
   ]
  },
  {
   "cell_type": "markdown",
   "id": "422fad33",
   "metadata": {
    "slideshow": {
     "slide_type": "fragment"
    }
   },
   "source": [
    "See also [`Bcast!`](https://juliaparallel.github.io/MPI.jl/latest/collective/#MPI.Bcast!)."
   ]
  },
  {
   "cell_type": "markdown",
   "id": "c7ad2da0",
   "metadata": {
    "slideshow": {
     "slide_type": "subslide"
    }
   },
   "source": [
    "# Reduce\n",
    "\n",
    "`Reduce` performs a parallel reduction operation."
   ]
  },
  {
   "cell_type": "markdown",
   "id": "c5526402",
   "metadata": {
    "hide_input": false,
    "slideshow": {
     "slide_type": "-"
    }
   },
   "source": [
    "```julia\n",
    "using MPI\n",
    "\n",
    "MPI.Init()\n",
    "\n",
    "comm = MPI.COMM_WORLD\n",
    "rank = MPI.Comm_rank(comm)\n",
    "size = MPI.Comm_size(comm)\n",
    "\n",
    "v = collect(1:size)\n",
    "print(\"Original array on rank $(rank):\\n  $(v)\\n\")\n",
    "    \n",
    "\n",
    "recv_buf = MPI.Reduce(v, +, comm; root=0)\n",
    "\n",
    "if rank == 0\n",
    "    print(\"New array on rank 0:\\n  $(recv_buf)\\n\")\n",
    "    total_sum = sum(recv_buf)\n",
    "    print(\"Total sum:\\n  $(total_sum)\")\n",
    "end\n",
    "```"
   ]
  },
  {
   "cell_type": "code",
   "execution_count": 11,
   "id": "14d257c9",
   "metadata": {
    "hide_input": false,
    "slideshow": {
     "slide_type": "skip"
    },
    "tags": [
     "remove_cell"
    ]
   },
   "outputs": [
    {
     "name": "stdout",
     "output_type": "stream",
     "text": [
      "Writing Reduce1.jl\n"
     ]
    }
   ],
   "source": [
    "%%file Reduce1.jl\n",
    "#!/usr/bin/env julia\n",
    "using MPI\n",
    "\n",
    "MPI.Init()\n",
    "\n",
    "comm = MPI.COMM_WORLD\n",
    "rank = MPI.Comm_rank(comm)\n",
    "size = MPI.Comm_size(comm)\n",
    "\n",
    "v = collect(1:size)\n",
    "print(\"Original array on rank $(rank):\\n  $(v)\\n\")\n",
    "    \n",
    "\n",
    "recv_buf = MPI.Reduce(v, +, comm; root=0)\n",
    "\n",
    "if rank == 0\n",
    "    print(\"New array on rank 0:\\n  $(recv_buf)\\n\")\n",
    "    total_sum = sum(recv_buf)\n",
    "    print(\"Total sum:\\n  $(total_sum)\")\n",
    "end"
   ]
  },
  {
   "cell_type": "markdown",
   "id": "d276ff1a",
   "metadata": {
    "slideshow": {
     "slide_type": "fragment"
    }
   },
   "source": [
    "If the preceding code is saved to a file `Reduce1.jl`, we can run"
   ]
  },
  {
   "cell_type": "code",
   "execution_count": 12,
   "id": "f1e72704",
   "metadata": {
    "hide_input": false,
    "slideshow": {
     "slide_type": "-"
    }
   },
   "outputs": [
    {
     "name": "stdout",
     "output_type": "stream",
     "text": [
      "Original array on rank 1:\r\n",
      "  [1, 2]\r\n",
      "Original array on rank 0:\r\n",
      "  [1, 2]\r\n"
     ]
    },
    {
     "name": "stdout",
     "output_type": "stream",
     "text": [
      "New array on rank 0:\r\n",
      "  [2, 4]\r\n",
      "Total sum:\r\n",
      "  6"
     ]
    }
   ],
   "source": [
    "!~/.julia/bin/mpiexecjl --project=.. -np 2 julia Reduce1.jl"
   ]
  },
  {
   "cell_type": "markdown",
   "id": "b2bef54a",
   "metadata": {
    "slideshow": {
     "slide_type": "subslide"
    }
   },
   "source": [
    "## Custom reduction operations"
   ]
  },
  {
   "cell_type": "markdown",
   "id": "c26c68a2",
   "metadata": {
    "hide_input": false,
    "slideshow": {
     "slide_type": "-"
    }
   },
   "source": [
    "```julia\n",
    "using MPI\n",
    "MPI.Init()\n",
    "\n",
    "import Base.+\n",
    "\n",
    "struct Point{T}\n",
    "    x::T\n",
    "    y::T\n",
    "end\n",
    "\n",
    "+(A::Point{T}, B::Point{T}) where T = Point{T}(A.x + B.x, A.y + B.y)\n",
    "\n",
    "\n",
    "comm = MPI.COMM_WORLD\n",
    "rank = MPI.Comm_rank(comm)\n",
    "\n",
    "p = Point(rank, rank) \n",
    "print(\"Original Point on rank $(rank):\\n  $(p)\\n\")\n",
    "    \n",
    "\n",
    "recv_buf = MPI.Reduce(p, +, comm; root=0)\n",
    "\n",
    "if rank == 0\n",
    "    print(\"\\nNew Point on rank 0:\\n  $(recv_buf)\\n\")\n",
    "end\n",
    "```"
   ]
  },
  {
   "cell_type": "code",
   "execution_count": 13,
   "id": "73941980",
   "metadata": {
    "hide_input": false,
    "slideshow": {
     "slide_type": "skip"
    },
    "tags": [
     "remove_cell"
    ]
   },
   "outputs": [
    {
     "name": "stdout",
     "output_type": "stream",
     "text": [
      "Writing Reduce2.jl\n"
     ]
    }
   ],
   "source": [
    "%%file Reduce2.jl\n",
    "#!/usr/bin/env julia\n",
    "using MPI\n",
    "MPI.Init()\n",
    "\n",
    "import Base.+\n",
    "\n",
    "struct Point{T}\n",
    "    x::T\n",
    "    y::T\n",
    "end\n",
    "\n",
    "+(A::Point{T}, B::Point{T}) where T = Point{T}(A.x + B.x, A.y + B.y)\n",
    "\n",
    "\n",
    "comm = MPI.COMM_WORLD\n",
    "rank = MPI.Comm_rank(comm)\n",
    "\n",
    "p = Point(rank, rank) \n",
    "print(\"Original Point on rank $(rank):\\n  $(p)\\n\")\n",
    "    \n",
    "\n",
    "recv_buf = MPI.Reduce(p, +, comm; root=0)\n",
    "\n",
    "if rank == 0\n",
    "    print(\"\\nNew Point on rank 0:\\n  $(recv_buf)\\n\")\n",
    "end"
   ]
  },
  {
   "cell_type": "markdown",
   "id": "ad3fe205",
   "metadata": {
    "slideshow": {
     "slide_type": "fragment"
    }
   },
   "source": [
    "If the preceding code is saved to a file `Reduce2.jl`, we can run"
   ]
  },
  {
   "cell_type": "code",
   "execution_count": 14,
   "id": "19665139",
   "metadata": {
    "hide_input": false,
    "slideshow": {
     "slide_type": "-"
    }
   },
   "outputs": [
    {
     "name": "stdout",
     "output_type": "stream",
     "text": [
      "Original Point on rank 0:\r\n",
      "  Point{Int64}(0, 0)\r\n"
     ]
    },
    {
     "name": "stdout",
     "output_type": "stream",
     "text": [
      "Original Point on rank 1:\r\n",
      "  Point{Int64}(1, 1)\r\n"
     ]
    },
    {
     "name": "stdout",
     "output_type": "stream",
     "text": [
      "Original Point on rank 2:\r\n",
      "  Point{Int64}(2, 2)\r\n"
     ]
    },
    {
     "name": "stdout",
     "output_type": "stream",
     "text": [
      "\r\n",
      "New Point on rank 0:\r\n",
      "  Point{Int64}(3, 3)\r\n"
     ]
    }
   ],
   "source": [
    "!~/.julia/bin/mpiexecjl --project=.. -np 3 julia Reduce2.jl"
   ]
  },
  {
   "cell_type": "markdown",
   "id": "034ad50a",
   "metadata": {
    "slideshow": {
     "slide_type": "fragment"
    }
   },
   "source": [
    "See also [`Reduce!`](https://juliaparallel.github.io/MPI.jl/latest/collective/#MPI.Reduce!) and [`Allreduce`](https://juliaparallel.github.io/MPI.jl/latest/collective/#MPI.Allreduce)/[`Allreduce!`](https://juliaparallel.github.io/MPI.jl/latest/collective/#MPI.Allreduce!)."
   ]
  },
  {
   "cell_type": "code",
   "execution_count": 15,
   "id": "6403042e",
   "metadata": {
    "hide_input": true,
    "init_cell": true,
    "slideshow": {
     "slide_type": "skip"
    },
    "tags": [
     "remove_cell"
    ]
   },
   "outputs": [
    {
     "data": {
      "application/javascript": [
       "function hideElements(elements, start) {\n",
       "    for(var i = 0, length = elements.length; i < length;i++) {\n",
       "        if(i >= start) {\n",
       "            elements[i].style.display = \"none\";\n",
       "        }\n",
       "    }\n",
       "}\n",
       "\n",
       "var prompt_elements = document.getElementsByClassName(\"prompt\");\n",
       "hideElements(prompt_elements, 0)\n"
      ],
      "text/plain": [
       "<IPython.core.display.Javascript object>"
      ]
     },
     "metadata": {},
     "output_type": "display_data"
    }
   ],
   "source": [
    "%%javascript\n",
    "function hideElements(elements, start) {\n",
    "    for(var i = 0, length = elements.length; i < length;i++) {\n",
    "        if(i >= start) {\n",
    "            elements[i].style.display = \"none\";\n",
    "        }\n",
    "    }\n",
    "}\n",
    "\n",
    "var prompt_elements = document.getElementsByClassName(\"prompt\");\n",
    "hideElements(prompt_elements, 0)"
   ]
  }
 ],
 "metadata": {
  "jupytext": {
   "formats": "ipynb,md:myst",
   "text_representation": {
    "extension": ".md",
    "format_name": "myst",
    "format_version": 0.13,
    "jupytext_version": "1.13.7"
   }
  },
  "kernelspec": {
   "display_name": "Python 3 (ipykernel)",
   "language": "python",
   "name": "python3"
  },
  "language_info": {
   "codemirror_mode": {
    "name": "ipython",
    "version": 3
   },
   "file_extension": ".py",
   "mimetype": "text/x-python",
   "name": "python",
   "nbconvert_exporter": "python",
   "pygments_lexer": "ipython3",
   "version": "3.8.12"
  },
  "source_map": [
   15,
   28,
   35,
   57,
   85,
   89,
   98,
   102,
   124,
   152,
   156,
   165,
   169,
   196,
   229,
   233,
   242,
   248,
   276,
   310,
   314,
   323,
   327,
   333,
   354,
   381,
   385,
   394,
   398,
   404,
   428,
   458,
   462,
   471,
   475,
   505,
   541,
   545,
   554,
   558
  ]
 },
 "nbformat": 4,
 "nbformat_minor": 5
}