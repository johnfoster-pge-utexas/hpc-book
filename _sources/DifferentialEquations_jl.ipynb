{
 "cells": [
  {
   "cell_type": "markdown",
   "id": "154d2278",
   "metadata": {
    "slideshow": {
     "slide_type": "slide"
    }
   },
   "source": [
    "# Differential Equations.jl\n",
    "\n",
    "[DifferentialEquations.jl](https://diffeq.sciml.ai/stable/) is likely the most sophisticated differential equation solver suite available in any language.  There are more than 200 methods implemented that are capable of solving all types of differential equations including\n",
    "\n",
    " * Discrete equations (function maps, discrete stochastic (Gillespie/Markov) simulations)\n",
    " * Ordinary differential equations (ODEs)\n",
    " * Split and Partitioned ODEs (Symplectic integrators, IMEX Methods)\n",
    " * Stochastic ordinary differential equations (SODEs or SDEs)\n",
    " * Stochastic differential-algebraic equations (SDAEs)\n",
    " * Random differential equations (RODEs or RDEs)\n",
    " * Differential algebraic equations (DAEs)\n",
    " * Delay differential equations (DDEs)\n",
    " * Neutral, retarded, and algebraic delay differential equations (NDDEs, RDDEs, and DDAEs)\n",
    " * Stochastic delay differential equations (SDDEs)\n",
    " * Experimental support for stochastic neutral, retarded, and algebraic delay differential equations (SNDDEs, SRDDEs, and SDDAEs)\n",
    " * Mixed discrete and continuous equations (Hybrid Equations, Jump Diffusions)\n",
    " * (Stochastic) partial differential equations ((S)PDEs) (with both finite difference and finite element methods)\n",
    " \n",
    "See [documentation](https://diffeq.sciml.ai/stable/) for more."
   ]
  },
  {
   "cell_type": "markdown",
   "id": "60138220",
   "metadata": {
    "slideshow": {
     "slide_type": "slide"
    }
   },
   "source": [
    "## Install\n",
    "\n",
    "[DifferentialEquations.jl](https://diffeq.sciml.ai/stable/) is not installed by default when Julia is installed.  To ensure it's installed, either run\n",
    "\n",
    "```julia\n",
    "using Pkg; Pkg.add(\"DifferentialEquations\")\n",
    "```\n",
    "\n",
    "from the Julia REPL or enter the package manager with `]` and then run\n",
    "\n",
    "```julia\n",
    "add DifferentialEquations\n",
    "```"
   ]
  },
  {
   "cell_type": "markdown",
   "id": "3151a4fc",
   "metadata": {
    "slideshow": {
     "slide_type": "slide"
    }
   },
   "source": [
    "## Example - Robertson Equations\n",
    "\n",
    "\\begin{align*}\n",
    "\\frac{dy_1}{dt} &= -0.04y_1 + 10^4 y_2 y_3 \\\\\n",
    "\\frac{dy_2}{dt} &=  0.04y_1 - 10^4 y_2 y_3 - 3 * 10^7 y_2^2 \\\\\n",
    "\\frac{dy_3}{dt} &=  3 * 10^7 y_2^2\n",
    "\\end{align*}"
   ]
  },
  {
   "cell_type": "markdown",
   "id": "61ee540b",
   "metadata": {
    "slideshow": {
     "slide_type": "fragment"
    }
   },
   "source": [
    "Define the system of equations."
   ]
  },
  {
   "cell_type": "code",
   "execution_count": 1,
   "id": "efec9214",
   "metadata": {
    "slideshow": {
     "slide_type": "-"
    }
   },
   "outputs": [
    {
     "data": {
      "text/plain": [
       "rober! (generic function with 1 method)"
      ]
     },
     "execution_count": 1,
     "metadata": {},
     "output_type": "execute_result"
    }
   ],
   "source": [
    "function rober!(du,u,p,t)\n",
    "  y₁,y₂,y₃ = u\n",
    "  k₁,k₂,k₃ = p\n",
    "  du[1] = -k₁*y₁+k₃*y₂*y₃\n",
    "  du[2] =  k₁*y₁-k₂*y₂^2-k₃*y₂*y₃\n",
    "  du[3] =  k₂*y₂^2\n",
    "  nothing\n",
    "end"
   ]
  },
  {
   "cell_type": "markdown",
   "id": "d1590593",
   "metadata": {
    "slideshow": {
     "slide_type": "fragment"
    }
   },
   "source": [
    "Define the ODE problem."
   ]
  },
  {
   "cell_type": "code",
   "execution_count": 2,
   "id": "b9aec896",
   "metadata": {
    "slideshow": {
     "slide_type": "-"
    }
   },
   "outputs": [],
   "source": [
    "using DifferentialEquations\n",
    "\n",
    "u₀ = [1.0,0.0,0.0]\n",
    "tspan = (0.0,1e5)\n",
    "params = [0.04,3e7,1e4]\n",
    "\n",
    "ode_prob = ODEProblem(rober!,u₀,tspan,params);"
   ]
  },
  {
   "cell_type": "markdown",
   "id": "6ecdd137",
   "metadata": {
    "slideshow": {
     "slide_type": "fragment"
    }
   },
   "source": [
    "Solve and plot"
   ]
  },
  {
   "cell_type": "code",
   "execution_count": 3,
   "id": "793b0d63",
   "metadata": {
    "slideshow": {
     "slide_type": "-"
    }
   },
   "outputs": [
    {
     "ename": "InterruptException",
     "evalue": "InterruptException:",
     "output_type": "error",
     "traceback": [
      "InterruptException:",
      "",
      "Stacktrace:",
      "  [1] load_libs(always::Bool)",
      "    @ GR ~/.julia/packages/GR/jpQcZ/src/funcptrs.jl:72",
      "  [2] get_func_ptr(handle::Base.RefValue{Ptr{Nothing}}, ptrs::GR.LibGR_Ptrs, func::Symbol)",
      "    @ GR ~/.julia/packages/GR/jpQcZ/src/funcptrs.jl:77",
      "  [3] libGR_ptr",
      "    @ ~/.julia/packages/GR/jpQcZ/src/funcptrs.jl:87 [inlined]",
      "  [4] setcharheight(height::Float64)",
      "    @ GR ~/.julia/packages/GR/jpQcZ/src/GR.jl:1656",
      "  [5] gr_set_font(f::Plots.Font, s::Plots.Subplot{Plots.GRBackend}; halign::Symbol, valign::Symbol, color::RGB{FixedPointNumbers.N0f8}, rotation::Int64)",
      "    @ Plots ~/.julia/packages/Plots/NQpB8/src/backends/gr.jl:408",
      "  [6] gr_set_tickfont(sp::Plots.Subplot{Plots.GRBackend}, letter::Symbol)",
      "    @ Plots ~/.julia/packages/Plots/NQpB8/src/backends/gr.jl:678",
      "  [7] _update_min_padding!(sp::Plots.Subplot{Plots.GRBackend})",
      "    @ Plots ~/.julia/packages/Plots/NQpB8/src/backends/gr.jl:890",
      "  [8] iterate",
      "    @ ./generator.jl:47 [inlined]",
      "  [9] _collect(c::Matrix{AbstractLayout}, itr::Base.Generator{Matrix{AbstractLayout}, typeof(Plots._update_min_padding!)}, #unused#::Base.EltypeUnknown, isz::Base.HasShape{2})",
      "    @ Base ./array.jl:744",
      " [10] collect_similar",
      "    @ ./array.jl:653 [inlined]",
      " [11] map",
      "    @ ./abstractarray.jl:2849 [inlined]",
      " [12] _update_min_padding!(layout::Plots.GridLayout)",
      "    @ Plots ~/.julia/packages/Plots/NQpB8/src/layouts.jl:290",
      " [13] prepare_output(plt::Plots.Plot{Plots.GRBackend})",
      "    @ Plots ~/.julia/packages/Plots/NQpB8/src/plot.jl:224",
      " [14] show(io::IOBuffer, m::MIME{Symbol(\"image/svg+xml\")}, plt::Plots.Plot{Plots.GRBackend})",
      "    @ Plots ~/.julia/packages/Plots/NQpB8/src/output.jl:204",
      " [15] sprint(::Function, ::MIME{Symbol(\"image/svg+xml\")}, ::Vararg{Any}; context::Nothing, sizehint::Int64)",
      "    @ Base ./strings/io.jl:114",
      " [16] sprint",
      "    @ ./strings/io.jl:108 [inlined]",
      " [17] _ijulia_display_dict(plt::Plots.Plot{Plots.GRBackend})",
      "    @ Plots ~/.julia/packages/Plots/NQpB8/src/ijulia.jl:47",
      " [18] display_dict(plt::Plots.Plot{Plots.GRBackend})",
      "    @ Plots ~/.julia/packages/Plots/NQpB8/src/init.jl:92",
      " [19] #invokelatest#2",
      "    @ ./essentials.jl:716 [inlined]",
      " [20] invokelatest",
      "    @ ./essentials.jl:714 [inlined]",
      " [21] execute_request(socket::ZMQ.Socket, msg::IJulia.Msg)",
      "    @ IJulia ~/.julia/packages/IJulia/e8kqU/src/execute_request.jl:112",
      " [22] #invokelatest#2",
      "    @ ./essentials.jl:716 [inlined]",
      " [23] invokelatest",
      "    @ ./essentials.jl:714 [inlined]",
      " [24] eventloop(socket::ZMQ.Socket)",
      "    @ IJulia ~/.julia/packages/IJulia/e8kqU/src/eventloop.jl:8",
      " [25] (::IJulia.var\"#15#18\")()",
      "    @ IJulia ./task.jl:423"
     ]
    }
   ],
   "source": [
    "using Plots\n",
    "\n",
    "ode_sol = solve(ode_prob)\n",
    "plot(ode_sol, tspan=(1e-6,1e5), xscale=:log10, layout=(3,1))"
   ]
  },
  {
   "cell_type": "markdown",
   "id": "a64eaf09",
   "metadata": {
    "slideshow": {
     "slide_type": "subslide"
    }
   },
   "source": [
    "### User defined Jacobian\n",
    "\n",
    "The Jacobian $J$ of a function $f(\\mathbf{x})$ is\n",
    "\n",
    "$$\n",
    "J_{ij} = \\frac{\\partial f(\\mathbf{x})_i}{\\partial x_j}\n",
    "$$"
   ]
  },
  {
   "cell_type": "code",
   "execution_count": null,
   "id": "af2142df",
   "metadata": {
    "slideshow": {
     "slide_type": "-"
    }
   },
   "outputs": [],
   "source": [
    "function rober_jac!(J,u,p,t)\n",
    "  y₁,y₂,y₃ = u\n",
    "  k₁,k₂,k₃ = p\n",
    "  J[1,1] = k₁ * -1\n",
    "  J[2,1] = k₁\n",
    "  J[3,1] = 0\n",
    "  J[1,2] = y₃ * k₃\n",
    "  J[2,2] = y₂ * k₂ * -2 + y₃ * k₃ * -1\n",
    "  J[3,2] = y₂ * 2 * k₂\n",
    "  J[1,3] = k₃ * y₂\n",
    "  J[2,3] = k₃ * y₂ * -1\n",
    "  J[3,3] = 0\n",
    "  nothing\n",
    "end"
   ]
  },
  {
   "cell_type": "markdown",
   "id": "c94fe8bc",
   "metadata": {
    "slideshow": {
     "slide_type": "fragment"
    }
   },
   "source": [
    "Define the function and problem"
   ]
  },
  {
   "cell_type": "code",
   "execution_count": null,
   "id": "2099cb00",
   "metadata": {
    "slideshow": {
     "slide_type": "-"
    }
   },
   "outputs": [],
   "source": [
    "ode_fun_jac = ODEFunction(rober!, jac=rober_jac!)\n",
    "ode_prob_jac = ODEProblem(ode_fun_jac, u₀, tspan, params);"
   ]
  },
  {
   "cell_type": "markdown",
   "id": "6a935aee",
   "metadata": {
    "slideshow": {
     "slide_type": "fragment"
    }
   },
   "source": [
    "Solve and plot, this time specifying the solver."
   ]
  },
  {
   "cell_type": "code",
   "execution_count": null,
   "id": "5287bfd1",
   "metadata": {
    "slideshow": {
     "slide_type": "-"
    }
   },
   "outputs": [],
   "source": [
    "ode_sol_jac = solve(ode_prob_jac, Rosenbrock23())\n",
    "plot(ode_sol_jac, tspan=(1e-6,1e5), xscale=:log10, layout=(3,1))"
   ]
  },
  {
   "cell_type": "markdown",
   "id": "2d686a7e",
   "metadata": {
    "slideshow": {
     "slide_type": "fragment"
    }
   },
   "source": [
    "Benchmark the two solves."
   ]
  },
  {
   "cell_type": "code",
   "execution_count": null,
   "id": "5f93ffe3",
   "metadata": {},
   "outputs": [],
   "source": [
    "using BenchmarkTools;\n",
    "\n",
    "@btime solve(ode_prob, Rosenbrock23());\n",
    "@btime solve(ode_prob_jac, Rosenbrock23());"
   ]
  },
  {
   "cell_type": "markdown",
   "id": "1061c26c",
   "metadata": {
    "slideshow": {
     "slide_type": "subslide"
    }
   },
   "source": [
    "### Automatic differentiation Jacobian"
   ]
  },
  {
   "cell_type": "code",
   "execution_count": null,
   "id": "5a8dc308",
   "metadata": {
    "slideshow": {
     "slide_type": "-"
    }
   },
   "outputs": [],
   "source": [
    "using ForwardDiff\n",
    "\n",
    "function rober_jac_auto!(J,u,p,t)\n",
    "  out = zero(u)\n",
    "  ForwardDiff.jacobian!(J, (y, x) -> rober!(y, x, p, t), out, u) \n",
    "  nothing\n",
    "end"
   ]
  },
  {
   "cell_type": "code",
   "execution_count": null,
   "id": "80c53ca6",
   "metadata": {
    "slideshow": {
     "slide_type": "fragment"
    }
   },
   "outputs": [],
   "source": [
    "ode_fun_ad_jac = ODEFunction(rober!, jac=rober_jac_auto!)\n",
    "ode_prob_ad_jac = ODEProblem(ode_fun_ad_jac, u₀, tspan, params);"
   ]
  },
  {
   "cell_type": "code",
   "execution_count": null,
   "id": "25f66578",
   "metadata": {
    "slideshow": {
     "slide_type": "fragment"
    }
   },
   "outputs": [],
   "source": [
    "ode_sol_ad_jac = solve(ode_prob_ad_jac, Rosenbrock23())\n",
    "plot(ode_sol_ad_jac, tspan=(1e-6,1e5), xscale=:log10, layout=(3,1))"
   ]
  },
  {
   "cell_type": "markdown",
   "id": "3589dd52",
   "metadata": {
    "slideshow": {
     "slide_type": "fragment"
    }
   },
   "source": [
    "Benchmark all three solves"
   ]
  },
  {
   "cell_type": "code",
   "execution_count": null,
   "id": "a29b0480",
   "metadata": {
    "slideshow": {
     "slide_type": "-"
    }
   },
   "outputs": [],
   "source": [
    "@btime solve(ode_prob, Rosenbrock23());\n",
    "@btime solve(ode_prob_jac, Rosenbrock23());\n",
    "@btime solve(ode_prob_ad_jac, Rosenbrock23());"
   ]
  },
  {
   "cell_type": "markdown",
   "id": "ed1dafee",
   "metadata": {
    "slideshow": {
     "slide_type": "subslide"
    }
   },
   "source": [
    "### Solve with StaticArrays\n",
    "\n",
    "This approach can work well for small systems (< 20 ODEs)"
   ]
  },
  {
   "cell_type": "code",
   "execution_count": null,
   "id": "eb7a19c7",
   "metadata": {
    "slideshow": {
     "slide_type": "-"
    }
   },
   "outputs": [],
   "source": [
    "using StaticArrays\n",
    "\n",
    "function rober_sa(u, p, t)\n",
    "  y₁,y₂,y₃ = u\n",
    "  k₁,k₂,k₃ = p\n",
    "  dy₁ = -k₁*y₁+k₃*y₂*y₃\n",
    "  dy₂ =  k₁*y₁-k₂*y₂^2-k₃*y₂*y₃\n",
    "  dy₃ =  k₂*y₂^2\n",
    "    \n",
    "  SA[dy₁, dy₂, dy₃]\n",
    "end\n",
    "\n",
    "function rober_jac_auto_sa(u,p,t)\n",
    "  ForwardDiff.jacobian(x -> rober_sa(x, p, t), u)\n",
    "end"
   ]
  },
  {
   "cell_type": "code",
   "execution_count": null,
   "id": "cd67815c",
   "metadata": {
    "slideshow": {
     "slide_type": "fragment"
    }
   },
   "outputs": [],
   "source": [
    "ode_fun_sa = ODEFunction(rober_sa, jac=rober_jac_auto_sa, jac_prototype=StaticArray)\n",
    "\n",
    "u₀ = SA[1.0,0.0,0.0]\n",
    "ode_prob_sa = ODEProblem(ode_fun_sa, u₀,tspan,params);"
   ]
  },
  {
   "cell_type": "code",
   "execution_count": null,
   "id": "a40072ac",
   "metadata": {
    "slideshow": {
     "slide_type": "fragment"
    }
   },
   "outputs": [],
   "source": [
    "@btime solve(ode_prob, Rosenbrock23());\n",
    "@btime solve(ode_prob_jac, Rosenbrock23());\n",
    "@btime solve(ode_prob_ad_jac, Rosenbrock23());\n",
    "@btime solve(ode_prob_sa, Rosenbrock23());"
   ]
  },
  {
   "cell_type": "markdown",
   "id": "b3ff583e",
   "metadata": {
    "slideshow": {
     "slide_type": "slide"
    }
   },
   "source": [
    "## Mass matrix ODEs"
   ]
  },
  {
   "cell_type": "markdown",
   "id": "72870a03",
   "metadata": {
    "slideshow": {
     "slide_type": "-"
    }
   },
   "source": [
    "Normally we seek to write our ODEs in the form\n",
    "\n",
    "$$\n",
    "u' = f(u, p, t)\n",
    "$$\n",
    "\n",
    "However, sometimes it's common to have an equation in the form\n",
    "\n",
    "$$\n",
    "M u' = f(u, p, t)\n",
    "$$\n",
    "\n",
    "where $M$ is known as the *mass matrix*.  We can rewrite the Robertson equations as\n",
    "\n",
    "\n",
    "\\begin{align*}\n",
    "\\frac{dy_1}{dt} &= -0.04y_1 + 10^4 y_2 y_3 \\\\\n",
    "\\frac{dy_2}{dt} &=  0.04y_1 - 10^4 y_2 y_3 - 3 * 10^7 y_2^2 \\\\\n",
    "1 &= y_1 + y_2 + y_3\n",
    "\\end{align*}"
   ]
  },
  {
   "cell_type": "code",
   "execution_count": null,
   "id": "94d37dd2",
   "metadata": {
    "slideshow": {
     "slide_type": "-"
    }
   },
   "outputs": [],
   "source": [
    "function rober_dae!(du,u,p,t)\n",
    "  y₁,y₂,y₃ = u\n",
    "  k₁,k₂,k₃ = p\n",
    "  du[1] = -k₁*y₁ + k₃*y₂*y₃\n",
    "  du[2] =  k₁*y₁ - k₃*y₂*y₃ - k₂*y₂^2\n",
    "  du[3] =  y₁ + y₂ + y₃ - 1\n",
    "  nothing\n",
    "end"
   ]
  },
  {
   "cell_type": "code",
   "execution_count": null,
   "id": "b7a0be33",
   "metadata": {
    "slideshow": {
     "slide_type": "fragment"
    }
   },
   "outputs": [],
   "source": [
    "M = [1. 0  0\n",
    "     0  1. 0\n",
    "     0  0  0]\n",
    "\n",
    "u₀ = [1.0,0.0,0.0]\n",
    "\n",
    "ode_fun_mm = ODEFunction(rober_dae!, mass_matrix=M)\n",
    "ode_prob_mm = ODEProblem(ode_fun_mm, u₀, tspan, params)\n",
    "\n",
    "ode_sol_mm = solve(ode_prob_mm,Rodas5(),reltol=1e-8,abstol=1e-8)\n",
    "plot(ode_sol_mm, xscale=:log10, tspan=(1e-6, 1e5), layout=(3,1))"
   ]
  },
  {
   "cell_type": "markdown",
   "id": "13e8526b",
   "metadata": {
    "slideshow": {
     "slide_type": "slide"
    }
   },
   "source": [
    "## Implicitly defined ODEs/DAEs\n",
    "\n",
    "In this example we'll write the Robertson equation in an implicit (also known as residual) form\n",
    "\n",
    "$$\n",
    "f(du, u, p, t) = 0\n",
    "$$\n",
    "\n",
    "Rewriting the Robertson equations in this form we have\n",
    "\n",
    "\\begin{align*}\n",
    "0  &= -0.04y_1 + 10^4 y_2 y_3 - \\frac{dy_1}{dt} \\\\\n",
    "0  &=  0.04y_1 - 10^4 y_2 y_3 - 3 * 10^7 y_2^2 - \\frac{dy_2}{dt} \\\\\n",
    "0 &= y_1 + y_2 + y_3 - 1\n",
    "\\end{align*}"
   ]
  },
  {
   "cell_type": "code",
   "execution_count": null,
   "id": "8a81b580",
   "metadata": {
    "slideshow": {
     "slide_type": "-"
    }
   },
   "outputs": [],
   "source": [
    "function rober_implicit_dae!(out, du, u, p, t)\n",
    "  dy₁, dy₂, dy₃ = du\n",
    "  y₁, y₂, y₃ = u\n",
    "  k₁, k₂, k₃ = p\n",
    "    \n",
    "  out[1] = -k₁*y₁ + k₃*y₂*y₃ - dy₁\n",
    "  out[2] =  k₁*y₁ - k₃*y₂*y₃ - k₂*y₂^2 - dy₂\n",
    "  out[3] =  y₁ + y₂ + y₃ - 1\n",
    "  nothing  \n",
    "end"
   ]
  },
  {
   "cell_type": "code",
   "execution_count": null,
   "id": "57a94580",
   "metadata": {
    "slideshow": {
     "slide_type": "fragment"
    }
   },
   "outputs": [],
   "source": [
    "du₀ = [-0.04, 0.04, 0.0]\n",
    "\n",
    "implicit_dae_prob = DAEProblem(rober_implicit_dae!, du₀, u₀,tspan, params, \n",
    "                               differential_vars=[true,true,false]);\n",
    "\n",
    "implicit_dae_sol = solve(implicit_dae_prob)\n",
    "plot(implicit_dae_sol, xscale=:log10, tspan=(1e-6, 1e5), layout=(3,1))"
   ]
  },
  {
   "cell_type": "markdown",
   "id": "71df0daa",
   "metadata": {
    "slideshow": {
     "slide_type": "subslide"
    }
   },
   "source": [
    "### Implicit ODE/DAE with Jacobian\n",
    "\n",
    "The Jacobian of an implicit ODE/DAE written in the form\n",
    "\n",
    "$$\n",
    "f(d\\mathbf{u}, d\\mathbf{u}, p, t) = 0\n",
    "$$\n",
    "\n",
    "is\n",
    "\n",
    "$$\n",
    "J_{ij} = \\gamma \\frac{\\partial f_i}{\\partial(du)_j} + \\frac{\\partial f_i}{\\partial u_j}\n",
    "$$\n",
    "\n",
    "where $\\gamma$ is supplied by the solver."
   ]
  },
  {
   "cell_type": "code",
   "execution_count": null,
   "id": "37c3fd87",
   "metadata": {
    "slideshow": {
     "slide_type": "-"
    }
   },
   "outputs": [],
   "source": [
    "function rober_implicit_dae_jacobian!(J,du,u,p,gamma,t)\n",
    "  #J = gamma*df/d(du) + df/du\n",
    "  dy₁, dy₂, dy₃ = du\n",
    "  y₁, y₂, y₃ = u\n",
    "  k₁, k₂, k₃ = p  \n",
    "    \n",
    "  J[1,1] = -gamma - k₁\n",
    "  J[1,2] = k₃*y₃\n",
    "  J[1,3] = k₃*y₂\n",
    "  J[2,1] = k₁\n",
    "  J[2,2] = -gamma - k₃*y₃ - 2*k₂*y₂\n",
    "  J[2,3] = -k₃*y₂\n",
    "  J[3,1] = 1\n",
    "  J[3,2] = 1\n",
    "  J[3,3] = 1\n",
    "end"
   ]
  },
  {
   "cell_type": "code",
   "execution_count": null,
   "id": "6d04cb0a",
   "metadata": {
    "slideshow": {
     "slide_type": "fragment"
    }
   },
   "outputs": [],
   "source": [
    "dae_implicit_fun_jac = DAEFunction(rober_implicit_dae!, jac=rober_implicit_dae_jacobian!)\n",
    "implicit_dae_prob_jac = DAEProblem(dae_implicit_fun_jac, du₀, u₀, tspan, params, \n",
    "                                   differential_vars=[true,true,false]);\n",
    "implicit_dae_sol_jac = solve(implicit_dae_prob_jac)\n",
    "plot(implicit_dae_sol_jac, xscale=:log10, tspan=(1e-6, 1e5), layout=(3,1))"
   ]
  },
  {
   "cell_type": "markdown",
   "id": "7bc9dbf2",
   "metadata": {
    "slideshow": {
     "slide_type": "subslide"
    }
   },
   "source": [
    "### Automatic differentiation Jacobian (StaticArrays)"
   ]
  },
  {
   "cell_type": "code",
   "execution_count": null,
   "id": "ea2a4f42",
   "metadata": {
    "slideshow": {
     "slide_type": "-"
    }
   },
   "outputs": [],
   "source": [
    "function rober_implicit_dae(du, u, p, t)\n",
    "  dy₁, dy₂, dy₃ = du\n",
    "  y₁, y₂, y₃ = u\n",
    "  k₁, k₂, k₃ = p\n",
    "    \n",
    "  SA[-k₁*y₁ + k₃*y₂*y₃ - dy₁,\n",
    "     k₁*y₁ - k₃*y₂*y₃ - k₂*y₂^2 - dy₂,\n",
    "     y₁ + y₂ + y₃ - 1]\n",
    "end"
   ]
  },
  {
   "cell_type": "code",
   "execution_count": null,
   "id": "18d565a3",
   "metadata": {
    "slideshow": {
     "slide_type": "-"
    }
   },
   "outputs": [],
   "source": [
    "function rober_implicit_dae_ad_jacobian!(J,du,u,p,gamma,t)\n",
    "  #J = gamma*df/d(du) + df/du\n",
    "  ForwardDiff.jacobian!(J, x -> rober_implicit_dae(x, u, p, t), du) \n",
    "  J .*= gamma\n",
    "    \n",
    "  J .+= ForwardDiff.jacobian(x -> rober_implicit_dae(du, x, p, t), u) \n",
    "  nothing\n",
    "end"
   ]
  },
  {
   "cell_type": "code",
   "execution_count": null,
   "id": "68b9a04e",
   "metadata": {
    "slideshow": {
     "slide_type": "fragment"
    }
   },
   "outputs": [],
   "source": [
    "u₀ = SA[1.0, 0.0, 0.0]\n",
    "du₀ = SA[-0.04, 0.04, 0.0]\n",
    "\n",
    "dae_implicit_fun_ad_jac_sa = DAEFunction(rober_implicit_dae, \n",
    "                                         jac=rober_implicit_dae_ad_jacobian!,\n",
    "                                         jac_prototype=StaticArray)\n",
    "implicit_dae_prob_ad_jac_sa = DAEProblem(dae_implicit_fun_ad_jac_sa, du₀, u₀, tspan, params, \n",
    "                                      differential_vars=[true,true,false]);\n",
    "\n",
    "implicit_dae_sol_ad_jac_sa = solve(implicit_dae_prob_ad_jac_sa)\n",
    "plot(implicit_dae_sol_ad_jac_sa, xscale=:log10, tspan=(1e-6, 1e5), layout=(3,1))"
   ]
  },
  {
   "cell_type": "markdown",
   "id": "38f8df96",
   "metadata": {
    "slideshow": {
     "slide_type": "fragment"
    }
   },
   "source": [
    "Benchmarks"
   ]
  },
  {
   "cell_type": "code",
   "execution_count": null,
   "id": "e067d9df",
   "metadata": {
    "slideshow": {
     "slide_type": "-"
    }
   },
   "outputs": [],
   "source": [
    "@btime solve(implicit_dae_prob)\n",
    "@btime solve(implicit_dae_prob_jac);\n",
    "@btime solve(implicit_dae_prob_ad_jac_sa);"
   ]
  },
  {
   "cell_type": "code",
   "execution_count": null,
   "id": "d5b958d5",
   "metadata": {
    "hide_input": true,
    "init_cell": true,
    "javascript_last_cell": true,
    "jupyter": {
     "source_hidden": true
    },
    "slideshow": {
     "slide_type": "skip"
    },
    "tags": [
     "remove_cell"
    ]
   },
   "outputs": [],
   "source": [
    "macro javascript_str(s) display(\"text/javascript\", s); end\n",
    "javascript\"\"\"\n",
    "function hideElements(elements, start) {\n",
    "for(var i = 0, length = elements.length; i < length;i++) {\n",
    "    if(i >= start) {\n",
    "        elements[i].style.display = \"none\";\n",
    "    }\n",
    "}\n",
    "}\n",
    "var prompt_elements = document.getElementsByClassName(\"prompt\");\n",
    "hideElements(prompt_elements, 0)\n",
    "\"\"\""
   ]
  }
 ],
 "metadata": {
  "jupytext": {
   "text_representation": {
    "extension": ".md",
    "format_name": "myst",
    "format_version": 0.13,
    "jupytext_version": "1.11.5"
   }
  },
  "kernelspec": {
   "display_name": "Julia 1.7.2",
   "language": "julia",
   "name": "julia-1.7"
  },
  "language_info": {
   "file_extension": ".jl",
   "mimetype": "application/julia",
   "name": "julia",
   "version": "1.7.2"
  },
  "source_map": [
   14,
   36,
   52,
   62,
   66,
   81,
   85,
   99,
   103,
   114,
   124,
   145,
   149,
   158,
   162,
   171,
   175,
   182,
   186,
   200,
   209,
   218,
   222,
   232,
   238,
   260,
   271,
   282,
   286,
   309,
   324,
   342,
   360,
   377,
   391,
   409,
   432,
   444,
   448,
   464,
   479,
   497,
   501,
   511
  ]
 },
 "nbformat": 4,
 "nbformat_minor": 5
}