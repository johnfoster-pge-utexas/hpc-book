{
 "cells": [
  {
   "cell_type": "markdown",
   "id": "d614c062",
   "metadata": {
    "slideshow": {
     "slide_type": "slide"
    }
   },
   "source": [
    "# Introduction to Message Passing Interface"
   ]
  },
  {
   "cell_type": "markdown",
   "id": "f31e0b13",
   "metadata": {
    "slideshow": {
     "slide_type": "slide"
    }
   },
   "source": [
    "# What is MPI?\n",
    "\n",
    "* Message Passing Interface\n",
    "  * Most useful on distributed memory machines\n",
    "  * The *de facto standard* parallel programming interface\n",
    "  \n",
    "* Many implementations, interfaces in C, Fortran, Python via MPI4Py, Julia via MPI.jl"
   ]
  },
  {
   "cell_type": "markdown",
   "id": "9446e730",
   "metadata": {
    "slideshow": {
     "slide_type": "subslide"
    }
   },
   "source": [
    "# Message Passing Paradigm\n",
    "\n",
    "* A parallel MPI program is launched as separate processes (tasks), each with thier own address space.\n",
    "  * Requires partitioning data across tasks.\n",
    "* **Data is explicitly** moved from task to task \n",
    "  * A task accesses the data of another task through a transaction called \"message passing\" in which a copy of the\n",
    "data (message) is transferred (passed) from one task to another.\n",
    "* There are two classes of message passing\n",
    "  * **Point-to-point** involve only two tasks\n",
    "  * **Collective messages** involve a set of tasks"
   ]
  },
  {
   "cell_type": "markdown",
   "id": "24d00622",
   "metadata": {
    "slideshow": {
     "slide_type": "slide"
    }
   },
   "source": [
    "# MPI.jl\n",
    "\n",
    " * [MPI.jl](https://juliaparallel.github.io/MPI.jl/stable/) provides an interface very similar to the MPI standard C interface\n",
    " * You can communicate Julia objects."
   ]
  },
  {
   "cell_type": "markdown",
   "id": "c7f8e908",
   "metadata": {
    "slideshow": {
     "slide_type": "fragment"
    }
   },
   "source": [
    "## Install\n",
    "\n",
    "[MPI.jl](https://juliaparallel.github.io/MPI.jl/stable/) is not installed by default when Julia is installed.  To ensure it's installed, either run\n",
    "\n",
    "```julia\n",
    "using Pkg; Pkg.add(\"MPI\")\n",
    "```\n",
    "\n",
    "from the Julia REPL or enter the package manager with `]` and then run\n",
    "\n",
    "```julia\n",
    "add MPI\n",
    "```\n",
    "\n",
    "this will install a set MPI binaries by default.  It's usually a good idea to\n",
    "run the following commands from the Julia REPL once after installing MPI\n",
    "\n",
    "```julia\n",
    "using MPI; MPI.install_mpiexecjl()\n",
    "```\n",
    "\n",
    "which will install a *project aware* version of `mpiexec` for use with Julia\n",
    "projects.  This is usually installed at `$HOME/.julia/bin`."
   ]
  },
  {
   "cell_type": "markdown",
   "id": "90311f82",
   "metadata": {
    "slideshow": {
     "slide_type": "slide"
    }
   },
   "source": [
    "# Communicators\n",
    "\n",
    " * MPI uses communicator objects to identify a set of processes which communicate only within their set.\n",
    " * `MPI.COMM_WORLD` is defined as all processes (ranks) of your job.\n",
    " * Usually required for most MPI calls \n",
    " * Rank\n",
    "   * Unique process ID within a communicator\n",
    "   * Assigned by the system when the process initalizes\n",
    "   * Used to specify sources and destinations of messages"
   ]
  },
  {
   "cell_type": "code",
   "execution_count": 1,
   "id": "0268ba0b",
   "metadata": {
    "hide_input": false,
    "slideshow": {
     "slide_type": "skip"
    },
    "tags": [
     "remove_cell"
    ]
   },
   "outputs": [
    {
     "name": "stdout",
     "output_type": "stream",
     "text": [
      "Writing hello.jl\n"
     ]
    }
   ],
   "source": [
    "%%file hello.jl\n",
    "#!/usr/bin/env julia\n",
    "using MPI\n",
    "MPI.Init()\n",
    "\n",
    "comm = MPI.COMM_WORLD\n",
    "rank = MPI.Comm_rank(comm)\n",
    "size = MPI.Comm_size(comm)\n",
    "\n",
    "print(\"Hello world, I am rank $(rank) of $(size)\\n\")"
   ]
  },
  {
   "cell_type": "markdown",
   "id": "f3c293a5",
   "metadata": {
    "hide_input": false,
    "slideshow": {
     "slide_type": "fragment"
    }
   },
   "source": [
    "```julia\n",
    "using MPI\n",
    "MPI.Init()\n",
    "\n",
    "comm = MPI.COMM_WORLD\n",
    "rank = MPI.Comm_rank(comm)\n",
    "size = MPI.Comm_size(comm)\n",
    "\n",
    "print(\"Hello world, I am rank $(rank) of $(size)\\n\")\n",
    "```"
   ]
  },
  {
   "cell_type": "code",
   "execution_count": 2,
   "id": "ff23573a",
   "metadata": {
    "hide_input": false,
    "slideshow": {
     "slide_type": "fragment"
    }
   },
   "outputs": [
    {
     "name": "stdout",
     "output_type": "stream",
     "text": [
      "\u001b[91m\u001b[1mERROR: \u001b[22m\u001b[39m"
     ]
    },
    {
     "name": "stdout",
     "output_type": "stream",
     "text": [
      "ArgumentError: Package MPI not found in current path:\r\n",
      "- Run `import Pkg; Pkg.add(\"MPI\")` to install the MPI package.\r\n",
      "\r\n",
      "Stacktrace:\r\n",
      " [1] \u001b[0m\u001b[1mrequire\u001b[22m\u001b[0m\u001b[1m(\u001b[22m\u001b[90minto\u001b[39m::\u001b[0mModule, \u001b[90mmod\u001b[39m::\u001b[0mSymbol\u001b[0m\u001b[1m)\u001b[22m\r\n",
      "\u001b[90m   @ \u001b[39m\u001b[90mBase\u001b[39m \u001b[90m./\u001b[39m\u001b[90m\u001b[4mloading.jl:967\u001b[24m\u001b[39m\r\n"
     ]
    }
   ],
   "source": [
    "!$HOME/.julia/bin/mpiexecjl -np 4 julia hello.jl"
   ]
  },
  {
   "cell_type": "code",
   "execution_count": 3,
   "id": "60b15e08",
   "metadata": {
    "hide_input": true,
    "init_cell": true,
    "slideshow": {
     "slide_type": "skip"
    },
    "tags": [
     "remove_cell"
    ]
   },
   "outputs": [
    {
     "data": {
      "application/javascript": [
       "function hideElements(elements, start) {\n",
       "    for(var i = 0, length = elements.length; i < length;i++) {\n",
       "        if(i >= start) {\n",
       "            elements[i].style.display = \"none\";\n",
       "        }\n",
       "    }\n",
       "}\n",
       "\n",
       "var prompt_elements = document.getElementsByClassName(\"prompt\");\n",
       "hideElements(prompt_elements, 0)\n"
      ],
      "text/plain": [
       "<IPython.core.display.Javascript object>"
      ]
     },
     "metadata": {},
     "output_type": "display_data"
    }
   ],
   "source": [
    "%%javascript\n",
    "function hideElements(elements, start) {\n",
    "    for(var i = 0, length = elements.length; i < length;i++) {\n",
    "        if(i >= start) {\n",
    "            elements[i].style.display = \"none\";\n",
    "        }\n",
    "    }\n",
    "}\n",
    "\n",
    "var prompt_elements = document.getElementsByClassName(\"prompt\");\n",
    "hideElements(prompt_elements, 0)"
   ]
  }
 ],
 "metadata": {
  "jupytext": {
   "formats": "ipynb,md:myst",
   "text_representation": {
    "extension": ".md",
    "format_name": "myst",
    "format_version": 0.13,
    "jupytext_version": "1.11.5"
   }
  },
  "kernelspec": {
   "display_name": "Python 3 (ipykernel)",
   "language": "python",
   "name": "python3"
  },
  "language_info": {
   "codemirror_mode": {
    "name": "ipython",
    "version": 3
   },
   "file_extension": ".py",
   "mimetype": "text/x-python",
   "name": "python",
   "nbconvert_exporter": "python",
   "pygments_lexer": "ipython3",
   "version": "3.8.12"
  },
  "source_map": [
   15,
   19,
   29,
   42,
   49,
   75,
   87,
   106,
   119,
   128
  ]
 },
 "nbformat": 4,
 "nbformat_minor": 5
}