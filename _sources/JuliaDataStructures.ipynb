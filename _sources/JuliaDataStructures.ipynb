{
 "cells": [
  {
   "cell_type": "markdown",
   "id": "a0d1d917",
   "metadata": {
    "slideshow": {
     "slide_type": "slide"
    }
   },
   "source": [
    "# Common Data Structures"
   ]
  },
  {
   "cell_type": "markdown",
   "id": "736f29c0",
   "metadata": {
    "slideshow": {
     "slide_type": "slide"
    }
   },
   "source": [
    "## Arrays\n",
    "\n",
    "\n",
    "Array's are N-dimensional data structures of a common type (the type could be `Any`).  The type signature is\n",
    "\n",
    "```julia\n",
    "Array{T, N}\n",
    "```\n",
    "\n",
    "where `T` is the type and `N` is the dimension.  You can omit `N` and it will be inferred for the arguments"
   ]
  },
  {
   "cell_type": "code",
   "execution_count": 1,
   "id": "00ee7cb7",
   "metadata": {
    "slideshow": {
     "slide_type": "-"
    }
   },
   "outputs": [
    {
     "data": {
      "text/plain": [
       "3×2×3 Array{Any, 3}:\n",
       "[:, :, 1] =\n",
       " nothing  nothing\n",
       " nothing  nothing\n",
       " nothing  nothing\n",
       "\n",
       "[:, :, 2] =\n",
       " nothing  nothing\n",
       " nothing  nothing\n",
       " nothing  nothing\n",
       "\n",
       "[:, :, 3] =\n",
       " nothing  nothing\n",
       " nothing  nothing\n",
       " nothing  nothing"
      ]
     },
     "execution_count": 1,
     "metadata": {},
     "output_type": "execute_result"
    }
   ],
   "source": [
    "Array{Any, 3}(nothing, 3, 2, 3)"
   ]
  },
  {
   "cell_type": "code",
   "execution_count": 2,
   "id": "7b2a20c4",
   "metadata": {
    "slideshow": {
     "slide_type": "fragment"
    }
   },
   "outputs": [
    {
     "data": {
      "text/plain": [
       "2×3 Matrix{Any}:\n",
       " nothing  nothing  nothing\n",
       " nothing  nothing  nothing"
      ]
     },
     "execution_count": 2,
     "metadata": {},
     "output_type": "execute_result"
    }
   ],
   "source": [
    "x = Array{Any}(nothing, 2, 3)"
   ]
  },
  {
   "cell_type": "markdown",
   "id": "045eb64a",
   "metadata": {
    "slideshow": {
     "slide_type": "fragment"
    }
   },
   "source": [
    "A `Vector` is an `Array` with `N=1`, a `Matrix` is an `Array` with `N=2`."
   ]
  },
  {
   "cell_type": "code",
   "execution_count": 3,
   "id": "65a75b04",
   "metadata": {
    "slideshow": {
     "slide_type": "-"
    }
   },
   "outputs": [
    {
     "data": {
      "text/plain": [
       "3-element Vector{Float64}:\n",
       " 5.0e-324\n",
       " 6.9055033263897e-310\n",
       " 0.0"
      ]
     },
     "execution_count": 3,
     "metadata": {},
     "output_type": "execute_result"
    }
   ],
   "source": [
    "Vector{Float64}(undef, 3)"
   ]
  },
  {
   "cell_type": "code",
   "execution_count": 4,
   "id": "48bc4e20",
   "metadata": {
    "slideshow": {
     "slide_type": "-"
    }
   },
   "outputs": [
    {
     "data": {
      "text/plain": [
       "3×3 Matrix{Float64}:\n",
       " 4.0e-323  2.0e-323  3.5e-323\n",
       " 3.0e-323  1.5e-323  5.0e-324\n",
       " 2.5e-323  1.0e-323  6.89903e-310"
      ]
     },
     "execution_count": 4,
     "metadata": {},
     "output_type": "execute_result"
    }
   ],
   "source": [
    "Matrix{Float64}(undef, 3, 3)"
   ]
  },
  {
   "cell_type": "code",
   "execution_count": 5,
   "id": "289d9b98",
   "metadata": {
    "slideshow": {
     "slide_type": "fragment"
    }
   },
   "outputs": [
    {
     "data": {
      "text/plain": [
       "3-element Vector{Float64}:\n",
       " 1.0\n",
       " 2.0\n",
       " 3.0"
      ]
     },
     "execution_count": 5,
     "metadata": {},
     "output_type": "execute_result"
    }
   ],
   "source": [
    "Float64[1.0, 2.0, 3.0]"
   ]
  },
  {
   "cell_type": "code",
   "execution_count": 6,
   "id": "83e82418",
   "metadata": {
    "slideshow": {
     "slide_type": "fragment"
    }
   },
   "outputs": [
    {
     "data": {
      "text/plain": [
       "2×3 Matrix{Float64}:\n",
       " 1.0  2.0  3.0\n",
       " 4.0  5.0  6.0"
      ]
     },
     "execution_count": 6,
     "metadata": {},
     "output_type": "execute_result"
    }
   ],
   "source": [
    "y = Float64[1.0 2.0 3.0; 4.0 5.0 6.0]"
   ]
  },
  {
   "cell_type": "markdown",
   "id": "4becf9f5",
   "metadata": {
    "slideshow": {
     "slide_type": "subslide"
    }
   },
   "source": [
    "## Array indexing and assignment"
   ]
  },
  {
   "cell_type": "code",
   "execution_count": 7,
   "id": "bea76573",
   "metadata": {
    "slideshow": {
     "slide_type": "-"
    }
   },
   "outputs": [
    {
     "data": {
      "text/plain": [
       "2.0"
      ]
     },
     "execution_count": 7,
     "metadata": {},
     "output_type": "execute_result"
    }
   ],
   "source": [
    "y[1, 2]"
   ]
  },
  {
   "cell_type": "code",
   "execution_count": 8,
   "id": "8cd95e10",
   "metadata": {
    "slideshow": {
     "slide_type": "fragment"
    }
   },
   "outputs": [
    {
     "data": {
      "text/plain": [
       "2-element Vector{Float64}:\n",
       " 2.0\n",
       " 5.0"
      ]
     },
     "execution_count": 8,
     "metadata": {},
     "output_type": "execute_result"
    }
   ],
   "source": [
    "y[1:2, 2]"
   ]
  },
  {
   "cell_type": "code",
   "execution_count": 9,
   "id": "368783e9",
   "metadata": {
    "slideshow": {
     "slide_type": "fragment"
    }
   },
   "outputs": [
    {
     "data": {
      "text/plain": [
       "2×3 Matrix{Float64}:\n",
       " 1.0  2.0    3.0\n",
       " 4.0  5.0  100.0"
      ]
     },
     "execution_count": 9,
     "metadata": {},
     "output_type": "execute_result"
    }
   ],
   "source": [
    "y[end,end] = 100;\n",
    "y"
   ]
  },
  {
   "cell_type": "code",
   "execution_count": 10,
   "id": "7a415804",
   "metadata": {
    "slideshow": {
     "slide_type": "fragment"
    }
   },
   "outputs": [
    {
     "data": {
      "text/plain": [
       "2×3 Matrix{Any}:\n",
       "  \"test\"   nothing   nothing\n",
       " 1        1         1"
      ]
     },
     "execution_count": 10,
     "metadata": {},
     "output_type": "execute_result"
    }
   ],
   "source": [
    "x[1, 1] = \"test\"\n",
    "x[2, 1:3] .= 1\n",
    "x"
   ]
  },
  {
   "cell_type": "markdown",
   "id": "eee9b016",
   "metadata": {
    "slideshow": {
     "slide_type": "subslide"
    }
   },
   "source": [
    "## Views"
   ]
  },
  {
   "cell_type": "code",
   "execution_count": 11,
   "id": "af2876af",
   "metadata": {
    "slideshow": {
     "slide_type": "-"
    }
   },
   "outputs": [
    {
     "data": {
      "text/plain": [
       "2×2 Matrix{Float64}:\n",
       " 1.0  2.0\n",
       " 4.0  5.0"
      ]
     },
     "execution_count": 11,
     "metadata": {},
     "output_type": "execute_result"
    }
   ],
   "source": [
    "z = y[1:2, 1:2]"
   ]
  },
  {
   "cell_type": "code",
   "execution_count": 12,
   "id": "dd1d09b0",
   "metadata": {
    "slideshow": {
     "slide_type": "fragment"
    }
   },
   "outputs": [
    {
     "name": "stdout",
     "output_type": "stream",
     "text": [
      "z = [100.0 2.0; 4.0 5.0]\n",
      "y = [1.0 2.0 3.0; 4.0 5.0 100.0]\n"
     ]
    }
   ],
   "source": [
    "z[1,1] = 100.0\n",
    "@show z\n",
    "@show y;"
   ]
  },
  {
   "cell_type": "code",
   "execution_count": 13,
   "id": "75c795c9",
   "metadata": {
    "slideshow": {
     "slide_type": "fragment"
    }
   },
   "outputs": [
    {
     "data": {
      "text/plain": [
       "2×3 Matrix{Float64}:\n",
       " 100.0  2.0    3.0\n",
       "   4.0  5.0  100.0"
      ]
     },
     "execution_count": 13,
     "metadata": {},
     "output_type": "execute_result"
    }
   ],
   "source": [
    "z = @view y[1:2, 1:2]\n",
    "z[1, 1] = 100.0\n",
    "y"
   ]
  },
  {
   "cell_type": "markdown",
   "id": "ad49c31e",
   "metadata": {
    "slideshow": {
     "slide_type": "subslide"
    }
   },
   "source": [
    "## Convenience constructors"
   ]
  },
  {
   "cell_type": "code",
   "execution_count": 14,
   "id": "fac41428",
   "metadata": {
    "slideshow": {
     "slide_type": "-"
    }
   },
   "outputs": [
    {
     "data": {
      "text/plain": [
       "2×3 Matrix{Int32}:\n",
       " 0  0  0\n",
       " 0  0  0"
      ]
     },
     "execution_count": 14,
     "metadata": {},
     "output_type": "execute_result"
    }
   ],
   "source": [
    "zeros(Int32, 2, 3)"
   ]
  },
  {
   "cell_type": "code",
   "execution_count": 15,
   "id": "75a148f2",
   "metadata": {
    "slideshow": {
     "slide_type": "fragment"
    }
   },
   "outputs": [
    {
     "data": {
      "text/plain": [
       "2×3 Matrix{Float64}:\n",
       " 0.0  0.0  0.0\n",
       " 0.0  0.0  0.0"
      ]
     },
     "execution_count": 15,
     "metadata": {},
     "output_type": "execute_result"
    }
   ],
   "source": [
    "zeros(2, 3)"
   ]
  },
  {
   "cell_type": "code",
   "execution_count": 16,
   "id": "189a1b43",
   "metadata": {
    "slideshow": {
     "slide_type": "fragment"
    }
   },
   "outputs": [
    {
     "data": {
      "text/plain": [
       "2×3 Matrix{Float64}:\n",
       " 1.0  1.0  1.0\n",
       " 1.0  1.0  1.0"
      ]
     },
     "execution_count": 16,
     "metadata": {},
     "output_type": "execute_result"
    }
   ],
   "source": [
    "ones(2, 3)"
   ]
  },
  {
   "cell_type": "code",
   "execution_count": 17,
   "id": "be8c158b",
   "metadata": {
    "slideshow": {
     "slide_type": "fragment"
    }
   },
   "outputs": [
    {
     "data": {
      "text/plain": [
       "2×2 Matrix{Float64}:\n",
       " 77.0  77.0\n",
       " 77.0  77.0"
      ]
     },
     "execution_count": 17,
     "metadata": {},
     "output_type": "execute_result"
    }
   ],
   "source": [
    "fill(77.0, 2, 2)"
   ]
  },
  {
   "cell_type": "code",
   "execution_count": 18,
   "id": "3427e491",
   "metadata": {
    "slideshow": {
     "slide_type": "fragment"
    }
   },
   "outputs": [
    {
     "data": {
      "text/plain": [
       "2×3 Matrix{Float64}:\n",
       " 22.0  22.0  22.0\n",
       " 22.0  22.0  22.0"
      ]
     },
     "execution_count": 18,
     "metadata": {},
     "output_type": "execute_result"
    }
   ],
   "source": [
    "fill!(y, 22.0)"
   ]
  },
  {
   "cell_type": "markdown",
   "id": "9b739d46",
   "metadata": {
    "slideshow": {
     "slide_type": "subslide"
    }
   },
   "source": [
    "## Operations on arrays\n",
    "\n",
    "Multiplication of a `Matrix` and a `Vector` automatically does matrix multiplication."
   ]
  },
  {
   "cell_type": "code",
   "execution_count": 19,
   "id": "79bd6cc3",
   "metadata": {
    "slideshow": {
     "slide_type": "-"
    }
   },
   "outputs": [
    {
     "name": "stdout",
     "output_type": "stream",
     "text": [
      "y = [22.0 22.0 22.0; 22.0 22.0 22.0]\n",
      "x = [1.0, 2.0, 3.0] = [1.0, 2.0, 3.0]\n"
     ]
    },
    {
     "data": {
      "text/plain": [
       "2-element Vector{Float64}:\n",
       " 132.0\n",
       " 132.0"
      ]
     },
     "execution_count": 19,
     "metadata": {},
     "output_type": "execute_result"
    }
   ],
   "source": [
    "@show y\n",
    "@show x = [1.0, 2.0, 3.0]\n",
    "y * x"
   ]
  },
  {
   "cell_type": "markdown",
   "id": "773a581f",
   "metadata": {
    "slideshow": {
     "slide_type": "fragment"
    }
   },
   "source": [
    "If we want element-wise multiplication we need to use `.*`."
   ]
  },
  {
   "cell_type": "code",
   "execution_count": 20,
   "id": "dbb22270",
   "metadata": {
    "slideshow": {
     "slide_type": "-"
    }
   },
   "outputs": [
    {
     "data": {
      "text/plain": [
       "3-element Vector{Float64}:\n",
       " 1.0\n",
       " 4.0\n",
       " 9.0"
      ]
     },
     "execution_count": 20,
     "metadata": {},
     "output_type": "execute_result"
    }
   ],
   "source": [
    "x .* x"
   ]
  },
  {
   "cell_type": "markdown",
   "id": "fbd8b334",
   "metadata": {
    "slideshow": {
     "slide_type": "fragment"
    }
   },
   "source": [
    "Addition/subtraction of two `Array`s of the same size gives element-wise addition."
   ]
  },
  {
   "cell_type": "code",
   "execution_count": 21,
   "id": "eab50025",
   "metadata": {
    "slideshow": {
     "slide_type": "-"
    }
   },
   "outputs": [
    {
     "data": {
      "text/plain": [
       "3-element Vector{Float64}:\n",
       " 2.0\n",
       " 4.0\n",
       " 6.0"
      ]
     },
     "execution_count": 21,
     "metadata": {},
     "output_type": "execute_result"
    }
   ],
   "source": [
    "x + x"
   ]
  },
  {
   "cell_type": "markdown",
   "id": "44d761ac",
   "metadata": {
    "slideshow": {
     "slide_type": "fragment"
    }
   },
   "source": [
    "We can *broadcast* the addition operation along matching dimensions of `Array`s."
   ]
  },
  {
   "cell_type": "code",
   "execution_count": 22,
   "id": "90abe094",
   "metadata": {
    "slideshow": {
     "slide_type": "-"
    }
   },
   "outputs": [
    {
     "name": "stdout",
     "output_type": "stream",
     "text": [
      "size(y') = (3, 2)\n",
      "size(x) = (3,)\n"
     ]
    },
    {
     "data": {
      "text/plain": [
       "3×2 Matrix{Float64}:\n",
       " 23.0  23.0\n",
       " 24.0  24.0\n",
       " 25.0  25.0"
      ]
     },
     "execution_count": 22,
     "metadata": {},
     "output_type": "execute_result"
    }
   ],
   "source": [
    "@show size(y')\n",
    "@show size(x)\n",
    "\n",
    "y' .+ x"
   ]
  },
  {
   "cell_type": "markdown",
   "id": "8c7a9053",
   "metadata": {
    "slideshow": {
     "slide_type": "fragment"
    }
   },
   "source": [
    "Any scalar operation can be *vectorized* with the `.` operator, i.e."
   ]
  },
  {
   "cell_type": "code",
   "execution_count": 23,
   "id": "a4245496",
   "metadata": {
    "slideshow": {
     "slide_type": "-"
    }
   },
   "outputs": [
    {
     "data": {
      "text/plain": [
       "6.0"
      ]
     },
     "execution_count": 23,
     "metadata": {},
     "output_type": "execute_result"
    }
   ],
   "source": [
    "my_scalar_operation(x, y) = x * y + x^2 * y^2\n",
    "\n",
    "my_scalar_operation(1.0, 2.0)"
   ]
  },
  {
   "cell_type": "code",
   "execution_count": 24,
   "id": "c9c8d41c",
   "metadata": {
    "slideshow": {
     "slide_type": "fragment"
    }
   },
   "outputs": [
    {
     "data": {
      "text/plain": [
       "3-element Vector{Float64}:\n",
       "  20.0\n",
       " 110.0\n",
       " 342.0"
      ]
     },
     "execution_count": 24,
     "metadata": {},
     "output_type": "execute_result"
    }
   ],
   "source": [
    "my_scalar_operation.([1.0, 2.0, 3.0], [4.0, 5.0, 6.0])"
   ]
  },
  {
   "cell_type": "markdown",
   "id": "9ca04b6f",
   "metadata": {
    "slideshow": {
     "slide_type": "subslide"
    }
   },
   "source": [
    "## Array functions\n",
    "\n",
    "There are numerous array functions such as `sum`, `cumsum`, `prod`, etc.  For example"
   ]
  },
  {
   "cell_type": "code",
   "execution_count": 25,
   "id": "f6ba822b",
   "metadata": {
    "slideshow": {
     "slide_type": "-"
    }
   },
   "outputs": [
    {
     "data": {
      "text/plain": [
       "3-element Vector{Int64}:\n",
       " 1\n",
       " 3\n",
       " 6"
      ]
     },
     "execution_count": 25,
     "metadata": {},
     "output_type": "execute_result"
    }
   ],
   "source": [
    "accumulate(+, [1, 2, 3])"
   ]
  },
  {
   "cell_type": "markdown",
   "id": "b07f66ec",
   "metadata": {
    "slideshow": {
     "slide_type": "-"
    }
   },
   "source": [
    "See [Array documentation](https://docs.julialang.org/en/v1.7/base/arrays/#Array-functions) for more examples."
   ]
  },
  {
   "cell_type": "markdown",
   "id": "e07150a6",
   "metadata": {
    "slideshow": {
     "slide_type": "slide"
    }
   },
   "source": [
    "## Tuples\n",
    "\n",
    "Tuples are fixed length containers that can hold any values, but cannot be modified (they are *immutable*)."
   ]
  },
  {
   "cell_type": "code",
   "execution_count": 26,
   "id": "d1ef52f6",
   "metadata": {
    "slideshow": {
     "slide_type": "-"
    }
   },
   "outputs": [
    {
     "data": {
      "text/plain": [
       "(\"a string\", 1.0, 33)"
      ]
     },
     "execution_count": 26,
     "metadata": {},
     "output_type": "execute_result"
    }
   ],
   "source": [
    "x = (\"a string\", 1.0, 33)"
   ]
  },
  {
   "cell_type": "code",
   "execution_count": 27,
   "id": "d89fc76c",
   "metadata": {
    "slideshow": {
     "slide_type": "fragment"
    }
   },
   "outputs": [
    {
     "data": {
      "text/plain": [
       "\"a string\""
      ]
     },
     "execution_count": 27,
     "metadata": {},
     "output_type": "execute_result"
    }
   ],
   "source": [
    "x[1]"
   ]
  },
  {
   "cell_type": "code",
   "execution_count": 28,
   "id": "a85e74af",
   "metadata": {
    "slideshow": {
     "slide_type": "fragment"
    }
   },
   "outputs": [
    {
     "ename": "LoadError",
     "evalue": "MethodError: no method matching setindex!(::Tuple{String, Float64, Int64}, ::Float64, ::Int64)",
     "output_type": "error",
     "traceback": [
      "MethodError: no method matching setindex!(::Tuple{String, Float64, Int64}, ::Float64, ::Int64)",
      "",
      "Stacktrace:",
      " [1] top-level scope",
      "   @ In[28]:1",
      " [2] eval",
      "   @ ./boot.jl:373 [inlined]",
      " [3] include_string(mapexpr::typeof(REPL.softscope), mod::Module, code::String, filename::String)",
      "   @ Base ./loading.jl:1196"
     ]
    }
   ],
   "source": [
    "x[2] = 2.0 "
   ]
  },
  {
   "cell_type": "markdown",
   "id": "58d41735",
   "metadata": {
    "slideshow": {
     "slide_type": "subslide"
    }
   },
   "source": [
    "## Named Tuples"
   ]
  },
  {
   "cell_type": "code",
   "execution_count": null,
   "id": "bc30b056",
   "metadata": {
    "slideshow": {
     "slide_type": "-"
    }
   },
   "outputs": [],
   "source": [
    "x = (a = \"a string\", b = 1.0, c = 33) "
   ]
  },
  {
   "cell_type": "code",
   "execution_count": null,
   "id": "51d20f95",
   "metadata": {
    "slideshow": {
     "slide_type": "fragment"
    }
   },
   "outputs": [],
   "source": [
    "@show x[1]\n",
    "@show x.a;"
   ]
  },
  {
   "cell_type": "code",
   "execution_count": null,
   "id": "ec34c09b",
   "metadata": {
    "slideshow": {
     "slide_type": "fragment"
    }
   },
   "outputs": [],
   "source": [
    "_, bb, _ = x\n",
    "@show bb;"
   ]
  },
  {
   "cell_type": "markdown",
   "id": "1654640c",
   "metadata": {
    "slideshow": {
     "slide_type": "slide"
    }
   },
   "source": [
    "## Dictionaries\n",
    "\n",
    "Dictionaries are data structures to store and lookup key-value pairs, i.e."
   ]
  },
  {
   "cell_type": "code",
   "execution_count": null,
   "id": "87864530",
   "metadata": {
    "slideshow": {
     "slide_type": "-"
    }
   },
   "outputs": [],
   "source": [
    "dict = Dict(\"a\" => \"a string\", \"b\" => 33, \"name\" => \"John\")\n",
    "\n",
    "@show dict[\"b\"]\n",
    "@show dict[\"name\"];"
   ]
  },
  {
   "cell_type": "markdown",
   "id": "661f0379",
   "metadata": {
    "slideshow": {
     "slide_type": "fragment"
    }
   },
   "source": [
    "They can also be constructed using a collection of tuples."
   ]
  },
  {
   "cell_type": "code",
   "execution_count": null,
   "id": "65bd79ee",
   "metadata": {
    "slideshow": {
     "slide_type": "-"
    }
   },
   "outputs": [],
   "source": [
    "dict = Dict([(\"a\",\"a string\"), (\"b\", 33), (\"name\", \"John\")])\n",
    "\n",
    "@show dict[\"b\"]\n",
    "@show dict[\"name\"];"
   ]
  },
  {
   "cell_type": "markdown",
   "id": "e7943755",
   "metadata": {
    "slideshow": {
     "slide_type": "slide"
    }
   },
   "source": [
    "## More Data Structures \n",
    "\n",
    "More information of these data structures as well as many others that Julia offers can be found in the documentation [here](https://docs.julialang.org/en/v1.7/base/collections/)"
   ]
  },
  {
   "cell_type": "code",
   "execution_count": null,
   "id": "7fd81bc1",
   "metadata": {
    "hide_input": true,
    "init_cell": true,
    "slideshow": {
     "slide_type": "skip"
    },
    "tags": [
     "remove_cell"
    ]
   },
   "outputs": [],
   "source": [
    "macro javascript_str(s) display(\"text/javascript\", s); end\n",
    "javascript\"\"\"\n",
    "function hideElements(elements, start) {\n",
    "for(var i = 0, length = elements.length; i < length;i++) {\n",
    "    if(i >= start) {\n",
    "        elements[i].style.display = \"none\";\n",
    "    }\n",
    "}\n",
    "}\n",
    "var prompt_elements = document.getElementsByClassName(\"prompt\");\n",
    "hideElements(prompt_elements, 0)\n",
    "\"\"\""
   ]
  }
 ],
 "metadata": {
  "jupytext": {
   "text_representation": {
    "extension": ".md",
    "format_name": "myst",
    "format_version": 0.13,
    "jupytext_version": "1.11.5"
   }
  },
  "kernelspec": {
   "display_name": "Julia 1.7.2",
   "language": "julia",
   "name": "julia-1.7"
  },
  "language_info": {
   "file_extension": ".jl",
   "mimetype": "application/julia",
   "name": "julia",
   "version": "1.7.2"
  },
  "source_map": [
   14,
   18,
   31,
   39,
   47,
   51,
   59,
   67,
   75,
   83,
   87,
   95,
   103,
   112,
   122,
   126,
   134,
   144,
   154,
   158,
   166,
   174,
   182,
   190,
   198,
   204,
   214,
   218,
   226,
   230,
   238,
   242,
   253,
   257,
   267,
   275,
   281,
   289,
   293,
   299,
   307,
   315,
   323,
   327,
   335,
   344,
   353,
   359,
   370,
   374,
   385,
   391
  ]
 },
 "nbformat": 4,
 "nbformat_minor": 5
}