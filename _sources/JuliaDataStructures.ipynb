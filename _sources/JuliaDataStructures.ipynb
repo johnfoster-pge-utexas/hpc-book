{
 "cells": [
  {
   "cell_type": "markdown",
   "id": "e9e09a3e",
   "metadata": {
    "slideshow": {
     "slide_type": "slide"
    }
   },
   "source": [
    "# Common Data Structures"
   ]
  },
  {
   "cell_type": "markdown",
   "id": "e310e286",
   "metadata": {
    "slideshow": {
     "slide_type": "slide"
    }
   },
   "source": [
    "## Arrays\n",
    "\n",
    "\n",
    "Array's are N-dimensional data structures of a common type (the type could be `Any`).  The type signature is\n",
    "\n",
    "```julia\n",
    "Array{T, N}\n",
    "```\n",
    "\n",
    "where `T` is the type and `N` is the dimension.  You can omit `N` and it will be inferred for the arguments"
   ]
  },
  {
   "cell_type": "code",
   "execution_count": 1,
   "id": "ca0559b1",
   "metadata": {
    "slideshow": {
     "slide_type": "-"
    }
   },
   "outputs": [
    {
     "data": {
      "text/plain": [
       "3×2×3 Array{Any, 3}:\n",
       "[:, :, 1] =\n",
       " nothing  nothing\n",
       " nothing  nothing\n",
       " nothing  nothing\n",
       "\n",
       "[:, :, 2] =\n",
       " nothing  nothing\n",
       " nothing  nothing\n",
       " nothing  nothing\n",
       "\n",
       "[:, :, 3] =\n",
       " nothing  nothing\n",
       " nothing  nothing\n",
       " nothing  nothing"
      ]
     },
     "execution_count": 1,
     "metadata": {},
     "output_type": "execute_result"
    }
   ],
   "source": [
    "Array{Any, 3}(nothing, 3, 2, 3)"
   ]
  },
  {
   "cell_type": "code",
   "execution_count": 2,
   "id": "b5ecb95c",
   "metadata": {
    "slideshow": {
     "slide_type": "fragment"
    }
   },
   "outputs": [
    {
     "data": {
      "text/plain": [
       "2×3 Matrix{Any}:\n",
       " nothing  nothing  nothing\n",
       " nothing  nothing  nothing"
      ]
     },
     "execution_count": 2,
     "metadata": {},
     "output_type": "execute_result"
    }
   ],
   "source": [
    "x = Array{Any}(nothing, 2, 3)"
   ]
  },
  {
   "cell_type": "markdown",
   "id": "eb6d8dbb",
   "metadata": {
    "slideshow": {
     "slide_type": "fragment"
    }
   },
   "source": [
    "A `Vector` is an `Array` with `N=1`, a `Matrix` is an `Array` with `N=2`."
   ]
  },
  {
   "cell_type": "code",
   "execution_count": 3,
   "id": "06b41cba",
   "metadata": {
    "slideshow": {
     "slide_type": "-"
    }
   },
   "outputs": [
    {
     "data": {
      "text/plain": [
       "3-element Vector{Float64}:\n",
       " 0.0\n",
       " 6.91051096480046e-310\n",
       " 6.91054319031837e-310"
      ]
     },
     "execution_count": 3,
     "metadata": {},
     "output_type": "execute_result"
    }
   ],
   "source": [
    "Vector{Float64}(undef, 3)"
   ]
  },
  {
   "cell_type": "code",
   "execution_count": 4,
   "id": "ab1ad7de",
   "metadata": {
    "slideshow": {
     "slide_type": "-"
    }
   },
   "outputs": [
    {
     "data": {
      "text/plain": [
       "3×3 Matrix{Float64}:\n",
       " 6.4e-323  3.0e-323  1.0e-323\n",
       " 3.5e-323  2.0e-323  5.0e-324\n",
       " 2.5e-323  1.5e-323  6.91054e-310"
      ]
     },
     "execution_count": 4,
     "metadata": {},
     "output_type": "execute_result"
    }
   ],
   "source": [
    "Matrix{Float64}(undef, 3, 3)"
   ]
  },
  {
   "cell_type": "code",
   "execution_count": 5,
   "id": "1b4112f8",
   "metadata": {
    "slideshow": {
     "slide_type": "fragment"
    }
   },
   "outputs": [
    {
     "data": {
      "text/plain": [
       "3-element Vector{Float64}:\n",
       " 1.0\n",
       " 2.0\n",
       " 3.0"
      ]
     },
     "execution_count": 5,
     "metadata": {},
     "output_type": "execute_result"
    }
   ],
   "source": [
    "Float64[1.0, 2.0, 3.0]"
   ]
  },
  {
   "cell_type": "code",
   "execution_count": 6,
   "id": "28aa055b",
   "metadata": {
    "slideshow": {
     "slide_type": "fragment"
    }
   },
   "outputs": [
    {
     "data": {
      "text/plain": [
       "2×3 Matrix{Float64}:\n",
       " 1.0  2.0  3.0\n",
       " 4.0  5.0  6.0"
      ]
     },
     "execution_count": 6,
     "metadata": {},
     "output_type": "execute_result"
    }
   ],
   "source": [
    "y = Float64[1.0 2.0 3.0; 4.0 5.0 6.0]"
   ]
  },
  {
   "cell_type": "markdown",
   "id": "d996c4f3",
   "metadata": {
    "slideshow": {
     "slide_type": "subslide"
    }
   },
   "source": [
    "## Array indexing and assignment"
   ]
  },
  {
   "cell_type": "code",
   "execution_count": 7,
   "id": "ecccfa62",
   "metadata": {
    "slideshow": {
     "slide_type": "-"
    }
   },
   "outputs": [
    {
     "data": {
      "text/plain": [
       "2.0"
      ]
     },
     "execution_count": 7,
     "metadata": {},
     "output_type": "execute_result"
    }
   ],
   "source": [
    "y[1, 2]"
   ]
  },
  {
   "cell_type": "code",
   "execution_count": 8,
   "id": "ad035875",
   "metadata": {
    "slideshow": {
     "slide_type": "fragment"
    }
   },
   "outputs": [
    {
     "data": {
      "text/plain": [
       "2-element Vector{Float64}:\n",
       " 2.0\n",
       " 5.0"
      ]
     },
     "execution_count": 8,
     "metadata": {},
     "output_type": "execute_result"
    }
   ],
   "source": [
    "y[1:2, 2]"
   ]
  },
  {
   "cell_type": "code",
   "execution_count": 9,
   "id": "829a3031",
   "metadata": {
    "slideshow": {
     "slide_type": "fragment"
    }
   },
   "outputs": [
    {
     "data": {
      "text/plain": [
       "2×3 Matrix{Float64}:\n",
       " 1.0  2.0    3.0\n",
       " 4.0  5.0  100.0"
      ]
     },
     "execution_count": 9,
     "metadata": {},
     "output_type": "execute_result"
    }
   ],
   "source": [
    "y[end,end] = 100;\n",
    "y"
   ]
  },
  {
   "cell_type": "code",
   "execution_count": 10,
   "id": "59e9c2a0",
   "metadata": {
    "slideshow": {
     "slide_type": "fragment"
    }
   },
   "outputs": [
    {
     "data": {
      "text/plain": [
       "2×3 Matrix{Any}:\n",
       "  \"test\"   nothing   nothing\n",
       " 1        1         1"
      ]
     },
     "execution_count": 10,
     "metadata": {},
     "output_type": "execute_result"
    }
   ],
   "source": [
    "x[1, 1] = \"test\"\n",
    "x[2, 1:3] .= 1\n",
    "x"
   ]
  },
  {
   "cell_type": "markdown",
   "id": "1bfefe5f",
   "metadata": {
    "slideshow": {
     "slide_type": "subslide"
    }
   },
   "source": [
    "## Views"
   ]
  },
  {
   "cell_type": "code",
   "execution_count": 11,
   "id": "4aac7b7d",
   "metadata": {
    "slideshow": {
     "slide_type": "-"
    }
   },
   "outputs": [
    {
     "data": {
      "text/plain": [
       "2×2 Matrix{Float64}:\n",
       " 1.0  2.0\n",
       " 4.0  5.0"
      ]
     },
     "execution_count": 11,
     "metadata": {},
     "output_type": "execute_result"
    }
   ],
   "source": [
    "z = y[1:2, 1:2]"
   ]
  },
  {
   "cell_type": "code",
   "execution_count": 12,
   "id": "44114187",
   "metadata": {
    "slideshow": {
     "slide_type": "fragment"
    }
   },
   "outputs": [
    {
     "name": "stdout",
     "output_type": "stream",
     "text": [
      "z = [100.0 2.0; 4.0 5.0]\n",
      "y = [1.0 2.0 3.0; 4.0 5.0 100.0]\n"
     ]
    }
   ],
   "source": [
    "z[1,1] = 100.0\n",
    "@show z\n",
    "@show y;"
   ]
  },
  {
   "cell_type": "code",
   "execution_count": 13,
   "id": "4f85bb4b",
   "metadata": {
    "slideshow": {
     "slide_type": "fragment"
    }
   },
   "outputs": [
    {
     "data": {
      "text/plain": [
       "2×3 Matrix{Float64}:\n",
       " 100.0  2.0    3.0\n",
       "   4.0  5.0  100.0"
      ]
     },
     "execution_count": 13,
     "metadata": {},
     "output_type": "execute_result"
    }
   ],
   "source": [
    "z = @view y[1:2, 1:2]\n",
    "z[1, 1] = 100.0\n",
    "y"
   ]
  },
  {
   "cell_type": "markdown",
   "id": "34c4b7a6",
   "metadata": {
    "slideshow": {
     "slide_type": "subslide"
    }
   },
   "source": [
    "## Convenience constructors"
   ]
  },
  {
   "cell_type": "code",
   "execution_count": 14,
   "id": "bdabb051",
   "metadata": {
    "slideshow": {
     "slide_type": "-"
    }
   },
   "outputs": [
    {
     "data": {
      "text/plain": [
       "2×3 Matrix{Int32}:\n",
       " 0  0  0\n",
       " 0  0  0"
      ]
     },
     "execution_count": 14,
     "metadata": {},
     "output_type": "execute_result"
    }
   ],
   "source": [
    "zeros(Int32, 2, 3)"
   ]
  },
  {
   "cell_type": "code",
   "execution_count": 15,
   "id": "d0463359",
   "metadata": {
    "slideshow": {
     "slide_type": "fragment"
    }
   },
   "outputs": [
    {
     "data": {
      "text/plain": [
       "2×3 Matrix{Float64}:\n",
       " 0.0  0.0  0.0\n",
       " 0.0  0.0  0.0"
      ]
     },
     "execution_count": 15,
     "metadata": {},
     "output_type": "execute_result"
    }
   ],
   "source": [
    "zeros(2, 3)"
   ]
  },
  {
   "cell_type": "code",
   "execution_count": 16,
   "id": "4c5f34b3",
   "metadata": {
    "slideshow": {
     "slide_type": "fragment"
    }
   },
   "outputs": [
    {
     "data": {
      "text/plain": [
       "2×3 Matrix{Float64}:\n",
       " 1.0  1.0  1.0\n",
       " 1.0  1.0  1.0"
      ]
     },
     "execution_count": 16,
     "metadata": {},
     "output_type": "execute_result"
    }
   ],
   "source": [
    "ones(2, 3)"
   ]
  },
  {
   "cell_type": "code",
   "execution_count": 17,
   "id": "a7874873",
   "metadata": {
    "slideshow": {
     "slide_type": "fragment"
    }
   },
   "outputs": [
    {
     "data": {
      "text/plain": [
       "2×2 Matrix{Float64}:\n",
       " 77.0  77.0\n",
       " 77.0  77.0"
      ]
     },
     "execution_count": 17,
     "metadata": {},
     "output_type": "execute_result"
    }
   ],
   "source": [
    "fill(77.0, 2, 2)"
   ]
  },
  {
   "cell_type": "code",
   "execution_count": 18,
   "id": "5356a22e",
   "metadata": {
    "slideshow": {
     "slide_type": "fragment"
    }
   },
   "outputs": [
    {
     "data": {
      "text/plain": [
       "2×3 Matrix{Float64}:\n",
       " 22.0  22.0  22.0\n",
       " 22.0  22.0  22.0"
      ]
     },
     "execution_count": 18,
     "metadata": {},
     "output_type": "execute_result"
    }
   ],
   "source": [
    "fill!(y, 22.0)"
   ]
  },
  {
   "cell_type": "markdown",
   "id": "30dcb99f",
   "metadata": {
    "slideshow": {
     "slide_type": "subslide"
    }
   },
   "source": [
    "## Operations on arrays\n",
    "\n",
    "Multiplication of a `Matrix` and a `Vector` automatically does matrix multiplication."
   ]
  },
  {
   "cell_type": "code",
   "execution_count": 19,
   "id": "847e1331",
   "metadata": {
    "slideshow": {
     "slide_type": "-"
    }
   },
   "outputs": [
    {
     "name": "stdout",
     "output_type": "stream",
     "text": [
      "y = [22.0 22.0 22.0; 22.0 22.0 22.0]\n",
      "x = [1.0, 2.0, 3.0] = [1.0, 2.0, 3.0]\n"
     ]
    },
    {
     "data": {
      "text/plain": [
       "2-element Vector{Float64}:\n",
       " 132.0\n",
       " 132.0"
      ]
     },
     "execution_count": 19,
     "metadata": {},
     "output_type": "execute_result"
    }
   ],
   "source": [
    "@show y\n",
    "@show x = [1.0, 2.0, 3.0]\n",
    "y * x"
   ]
  },
  {
   "cell_type": "markdown",
   "id": "60d12de9",
   "metadata": {
    "slideshow": {
     "slide_type": "fragment"
    }
   },
   "source": [
    "If we want element-wise multiplication we need to use `.*`."
   ]
  },
  {
   "cell_type": "code",
   "execution_count": 20,
   "id": "35692c83",
   "metadata": {
    "slideshow": {
     "slide_type": "-"
    }
   },
   "outputs": [
    {
     "data": {
      "text/plain": [
       "3-element Vector{Float64}:\n",
       " 1.0\n",
       " 4.0\n",
       " 9.0"
      ]
     },
     "execution_count": 20,
     "metadata": {},
     "output_type": "execute_result"
    }
   ],
   "source": [
    "x .* x"
   ]
  },
  {
   "cell_type": "markdown",
   "id": "261a897d",
   "metadata": {
    "slideshow": {
     "slide_type": "fragment"
    }
   },
   "source": [
    "Addition/subtraction of two `Array`s of the same size gives element-wise addition."
   ]
  },
  {
   "cell_type": "code",
   "execution_count": 21,
   "id": "0ccb0094",
   "metadata": {
    "slideshow": {
     "slide_type": "-"
    }
   },
   "outputs": [
    {
     "data": {
      "text/plain": [
       "3-element Vector{Float64}:\n",
       " 2.0\n",
       " 4.0\n",
       " 6.0"
      ]
     },
     "execution_count": 21,
     "metadata": {},
     "output_type": "execute_result"
    }
   ],
   "source": [
    "x + x"
   ]
  },
  {
   "cell_type": "markdown",
   "id": "46e44f0f",
   "metadata": {
    "slideshow": {
     "slide_type": "fragment"
    }
   },
   "source": [
    "We can *broadcast* the addition operation along matching dimensions of `Array`s."
   ]
  },
  {
   "cell_type": "code",
   "execution_count": 22,
   "id": "303e2312",
   "metadata": {
    "slideshow": {
     "slide_type": "-"
    }
   },
   "outputs": [
    {
     "name": "stdout",
     "output_type": "stream",
     "text": [
      "size(y') = (3, 2)\n",
      "size(x) = (3,)\n"
     ]
    },
    {
     "data": {
      "text/plain": [
       "3×2 Matrix{Float64}:\n",
       " 23.0  23.0\n",
       " 24.0  24.0\n",
       " 25.0  25.0"
      ]
     },
     "execution_count": 22,
     "metadata": {},
     "output_type": "execute_result"
    }
   ],
   "source": [
    "@show size(y')\n",
    "@show size(x)\n",
    "\n",
    "y' .+ x"
   ]
  },
  {
   "cell_type": "markdown",
   "id": "9cbca86b",
   "metadata": {
    "slideshow": {
     "slide_type": "fragment"
    }
   },
   "source": [
    "Any scalar operation can be *vectorized* with the `.` operator, i.e."
   ]
  },
  {
   "cell_type": "code",
   "execution_count": 23,
   "id": "7e4a4be7",
   "metadata": {
    "slideshow": {
     "slide_type": "-"
    }
   },
   "outputs": [
    {
     "data": {
      "text/plain": [
       "6.0"
      ]
     },
     "execution_count": 23,
     "metadata": {},
     "output_type": "execute_result"
    }
   ],
   "source": [
    "my_scalar_operation(x, y) = x * y + x^2 * y^2\n",
    "\n",
    "my_scalar_operation(1.0, 2.0)"
   ]
  },
  {
   "cell_type": "code",
   "execution_count": 24,
   "id": "80f115be",
   "metadata": {
    "slideshow": {
     "slide_type": "fragment"
    }
   },
   "outputs": [
    {
     "data": {
      "text/plain": [
       "3-element Vector{Float64}:\n",
       "  20.0\n",
       " 110.0\n",
       " 342.0"
      ]
     },
     "execution_count": 24,
     "metadata": {},
     "output_type": "execute_result"
    }
   ],
   "source": [
    "my_scalar_operation.([1.0, 2.0, 3.0], [4.0, 5.0, 6.0])"
   ]
  },
  {
   "cell_type": "markdown",
   "id": "47b0d404",
   "metadata": {
    "slideshow": {
     "slide_type": "subslide"
    }
   },
   "source": [
    "## Array functions\n",
    "\n",
    "There are numerous array functions such as `sum`, `cumsum`, `prod`, etc.  For example"
   ]
  },
  {
   "cell_type": "code",
   "execution_count": 25,
   "id": "79b0c026",
   "metadata": {
    "slideshow": {
     "slide_type": "-"
    }
   },
   "outputs": [
    {
     "data": {
      "text/plain": [
       "3-element Vector{Int64}:\n",
       " 1\n",
       " 3\n",
       " 6"
      ]
     },
     "execution_count": 25,
     "metadata": {},
     "output_type": "execute_result"
    }
   ],
   "source": [
    "accumulate(+, [1, 2, 3])"
   ]
  },
  {
   "cell_type": "markdown",
   "id": "bfd22d0a",
   "metadata": {
    "slideshow": {
     "slide_type": "-"
    }
   },
   "source": [
    "See [Array documentation](https://docs.julialang.org/en/v1.7/base/arrays/#Array-functions) for more examples."
   ]
  },
  {
   "cell_type": "markdown",
   "id": "fec78eae",
   "metadata": {
    "slideshow": {
     "slide_type": "slide"
    }
   },
   "source": [
    "## Tuples\n",
    "\n",
    "Tuples are fixed length containers that can hold any values, but cannot be modified (they are *immutable*)."
   ]
  },
  {
   "cell_type": "code",
   "execution_count": 26,
   "id": "1b5d614e",
   "metadata": {
    "slideshow": {
     "slide_type": "-"
    }
   },
   "outputs": [
    {
     "data": {
      "text/plain": [
       "(\"a string\", 1.0, 33)"
      ]
     },
     "execution_count": 26,
     "metadata": {},
     "output_type": "execute_result"
    }
   ],
   "source": [
    "x = (\"a string\", 1.0, 33)"
   ]
  },
  {
   "cell_type": "code",
   "execution_count": 27,
   "id": "12d7a166",
   "metadata": {
    "slideshow": {
     "slide_type": "fragment"
    }
   },
   "outputs": [
    {
     "data": {
      "text/plain": [
       "\"a string\""
      ]
     },
     "execution_count": 27,
     "metadata": {},
     "output_type": "execute_result"
    }
   ],
   "source": [
    "x[1]"
   ]
  },
  {
   "cell_type": "code",
   "execution_count": 28,
   "id": "051cda25",
   "metadata": {
    "slideshow": {
     "slide_type": "fragment"
    }
   },
   "outputs": [
    {
     "ename": "LoadError",
     "evalue": "MethodError: no method matching setindex!(::Tuple{String, Float64, Int64}, ::Float64, ::Int64)",
     "output_type": "error",
     "traceback": [
      "MethodError: no method matching setindex!(::Tuple{String, Float64, Int64}, ::Float64, ::Int64)",
      "",
      "Stacktrace:",
      " [1] top-level scope",
      "   @ In[28]:1",
      " [2] eval",
      "   @ ./boot.jl:373 [inlined]",
      " [3] include_string(mapexpr::typeof(REPL.softscope), mod::Module, code::String, filename::String)",
      "   @ Base ./loading.jl:1196"
     ]
    }
   ],
   "source": [
    "x[2] = 2.0 "
   ]
  },
  {
   "cell_type": "markdown",
   "id": "940d1ab3",
   "metadata": {
    "slideshow": {
     "slide_type": "subslide"
    }
   },
   "source": [
    "## Named Tuples"
   ]
  },
  {
   "cell_type": "code",
   "execution_count": 29,
   "id": "c31780fe",
   "metadata": {
    "slideshow": {
     "slide_type": "-"
    }
   },
   "outputs": [
    {
     "data": {
      "text/plain": [
       "(a = \"a string\", b = 1.0, c = 33)"
      ]
     },
     "execution_count": 29,
     "metadata": {},
     "output_type": "execute_result"
    }
   ],
   "source": [
    "x = (a = \"a string\", b = 1.0, c = 33) "
   ]
  },
  {
   "cell_type": "code",
   "execution_count": 30,
   "id": "1d51a8a6",
   "metadata": {
    "slideshow": {
     "slide_type": "fragment"
    }
   },
   "outputs": [
    {
     "name": "stdout",
     "output_type": "stream",
     "text": [
      "x[1] = \"a string\"\n",
      "x.a = \"a string\"\n"
     ]
    }
   ],
   "source": [
    "@show x[1]\n",
    "@show x.a;"
   ]
  },
  {
   "cell_type": "code",
   "execution_count": 31,
   "id": "1c620797",
   "metadata": {
    "slideshow": {
     "slide_type": "fragment"
    }
   },
   "outputs": [
    {
     "name": "stdout",
     "output_type": "stream",
     "text": [
      "bb = 1.0\n"
     ]
    }
   ],
   "source": [
    "_, bb, _ = x\n",
    "@show bb;"
   ]
  },
  {
   "cell_type": "markdown",
   "id": "10689f4a",
   "metadata": {
    "slideshow": {
     "slide_type": "slide"
    }
   },
   "source": [
    "## Dictionaries\n",
    "\n",
    "Dictionaries are data structures to store and lookup key-value pairs, i.e."
   ]
  },
  {
   "cell_type": "code",
   "execution_count": 32,
   "id": "0f211217",
   "metadata": {
    "slideshow": {
     "slide_type": "-"
    }
   },
   "outputs": [
    {
     "name": "stdout",
     "output_type": "stream",
     "text": [
      "dict[\"b\"] = 33\n",
      "dict[\"name\"] = \"John\"\n"
     ]
    }
   ],
   "source": [
    "dict = Dict(\"a\" => \"a string\", \"b\" => 33, \"name\" => \"John\")\n",
    "\n",
    "@show dict[\"b\"]\n",
    "@show dict[\"name\"];"
   ]
  },
  {
   "cell_type": "markdown",
   "id": "eef4e3e6",
   "metadata": {
    "slideshow": {
     "slide_type": "fragment"
    }
   },
   "source": [
    "They can also be constructed using a collection of tuples."
   ]
  },
  {
   "cell_type": "code",
   "execution_count": 33,
   "id": "46972cee",
   "metadata": {
    "slideshow": {
     "slide_type": "-"
    }
   },
   "outputs": [
    {
     "name": "stdout",
     "output_type": "stream",
     "text": [
      "dict[\"b\"] = 33\n",
      "dict[\"name\"] = \"John\"\n"
     ]
    }
   ],
   "source": [
    "dict = Dict([(\"a\",\"a string\"), (\"b\", 33), (\"name\", \"John\")])\n",
    "\n",
    "@show dict[\"b\"]\n",
    "@show dict[\"name\"];"
   ]
  },
  {
   "cell_type": "markdown",
   "id": "d8ad625b",
   "metadata": {
    "slideshow": {
     "slide_type": "slide"
    }
   },
   "source": [
    "## More Data Structures \n",
    "\n",
    "More information of these data structures as well as many others that Julia offers can be found in the documentation [here](https://docs.julialang.org/en/v1.7/base/collections/)"
   ]
  },
  {
   "cell_type": "code",
   "execution_count": 34,
   "id": "bdda9716",
   "metadata": {
    "hide_input": true,
    "init_cell": true,
    "slideshow": {
     "slide_type": "skip"
    },
    "tags": [
     "remove_cell"
    ]
   },
   "outputs": [
    {
     "data": {
      "application/javascript": [
       "function hideElements(elements, start) {\n",
       "for(var i = 0, length = elements.length; i < length;i++) {\n",
       "    if(i >= start) {\n",
       "        elements[i].style.display = \"none\";\n",
       "    }\n",
       "}\n",
       "}\n",
       "var prompt_elements = document.getElementsByClassName(\"prompt\");\n",
       "hideElements(prompt_elements, 0)\n"
      ]
     },
     "metadata": {},
     "output_type": "display_data"
    }
   ],
   "source": [
    "macro javascript_str(s) display(\"text/javascript\", s); end\n",
    "javascript\"\"\"\n",
    "function hideElements(elements, start) {\n",
    "for(var i = 0, length = elements.length; i < length;i++) {\n",
    "    if(i >= start) {\n",
    "        elements[i].style.display = \"none\";\n",
    "    }\n",
    "}\n",
    "}\n",
    "var prompt_elements = document.getElementsByClassName(\"prompt\");\n",
    "hideElements(prompt_elements, 0)\n",
    "\"\"\""
   ]
  }
 ],
 "metadata": {
  "jupytext": {
   "text_representation": {
    "extension": ".md",
    "format_name": "myst",
    "format_version": 0.13,
    "jupytext_version": "1.11.5"
   }
  },
  "kernelspec": {
   "display_name": "Julia 1.7.2",
   "language": "julia",
   "name": "julia-1.7"
  },
  "language_info": {
   "file_extension": ".jl",
   "mimetype": "application/julia",
   "name": "julia",
   "version": "1.7.2"
  },
  "source_map": [
   14,
   18,
   31,
   39,
   47,
   51,
   59,
   67,
   75,
   83,
   87,
   95,
   103,
   112,
   122,
   126,
   134,
   144,
   154,
   158,
   166,
   174,
   182,
   190,
   198,
   204,
   214,
   218,
   226,
   230,
   238,
   242,
   253,
   257,
   267,
   275,
   281,
   289,
   293,
   299,
   307,
   315,
   323,
   327,
   335,
   344,
   353,
   359,
   370,
   374,
   385,
   391
  ]
 },
 "nbformat": 4,
 "nbformat_minor": 5
}