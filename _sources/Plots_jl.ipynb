{
 "cells": [
  {
   "cell_type": "markdown",
   "id": "22bebb8f",
   "metadata": {
    "slideshow": {
     "slide_type": "skip"
    }
   },
   "source": [
    "# Plots.jl"
   ]
  },
  {
   "cell_type": "markdown",
   "id": "8aeb1809",
   "metadata": {
    "slideshow": {
     "slide_type": "slide"
    }
   },
   "source": [
    "## Install\n",
    "\n",
    "[Plots.jl](https://docs.juliaplots.org/stable/) is not installed by default when Julia is installed.  To ensure it's installed, either run\n",
    "\n",
    "```julia\n",
    "using Pkg; Pkg.add(\"Plots\")\n",
    "```\n",
    "\n",
    "from the Julia REPL or enter the package manager with `]` and then run\n",
    "\n",
    "```julia\n",
    "add Plots\n",
    "```"
   ]
  },
  {
   "cell_type": "markdown",
   "id": "27a91a88",
   "metadata": {
    "slideshow": {
     "slide_type": "slide"
    }
   },
   "source": [
    "## Basic Example"
   ]
  },
  {
   "cell_type": "markdown",
   "id": "f8ec9371",
   "metadata": {
    "slideshow": {
     "slide_type": "skip"
    }
   },
   "source": [
    "The easiest way to learn Plots.jl is with illustrative examples."
   ]
  },
  {
   "cell_type": "code",
   "execution_count": 1,
   "id": "79261f99",
   "metadata": {
    "slideshow": {
     "slide_type": "-"
    }
   },
   "outputs": [
    {
     "data": {
      "image/svg+xml": [
       "<?xml version=\"1.0\" encoding=\"utf-8\"?>\n",
       "<svg xmlns=\"http://www.w3.org/2000/svg\" xmlns:xlink=\"http://www.w3.org/1999/xlink\" width=\"600\" height=\"400\" viewBox=\"0 0 2400 1600\">\n",
       "<defs>\n",
       "  <clipPath id=\"clip870\">\n",
       "    <rect x=\"0\" y=\"0\" width=\"2400\" height=\"1600\"/>\n",
       "  </clipPath>\n",
       "</defs>\n",
       "<path clip-path=\"url(#clip870)\" d=\"\n",
       "M0 1600 L2400 1600 L2400 0 L0 0  Z\n",
       "  \" fill=\"#ffffff\" fill-rule=\"evenodd\" fill-opacity=\"1\"/>\n",
       "<defs>\n",
       "  <clipPath id=\"clip871\">\n",
       "    <rect x=\"480\" y=\"0\" width=\"1681\" height=\"1600\"/>\n",
       "  </clipPath>\n",
       "</defs>\n",
       "<path clip-path=\"url(#clip870)\" d=\"\n",
       "M110.881 1486.45 L2352.76 1486.45 L2352.76 47.2441 L110.881 47.2441  Z\n",
       "  \" fill=\"#ffffff\" fill-rule=\"evenodd\" fill-opacity=\"1\"/>\n",
       "<defs>\n",
       "  <clipPath id=\"clip872\">\n",
       "    <rect x=\"110\" y=\"47\" width=\"2243\" height=\"1440\"/>\n",
       "  </clipPath>\n",
       "</defs>\n",
       "<polyline clip-path=\"url(#clip872)\" style=\"stroke:#000000; stroke-linecap:butt; stroke-linejoin:round; stroke-width:2; stroke-opacity:0.1; fill:none\" points=\"\n",
       "  174.33,1486.45 174.33,47.2441 \n",
       "  \"/>\n",
       "<polyline clip-path=\"url(#clip872)\" style=\"stroke:#000000; stroke-linecap:butt; stroke-linejoin:round; stroke-width:2; stroke-opacity:0.1; fill:none\" points=\"\n",
       "  879.322,1486.45 879.322,47.2441 \n",
       "  \"/>\n",
       "<polyline clip-path=\"url(#clip872)\" style=\"stroke:#000000; stroke-linecap:butt; stroke-linejoin:round; stroke-width:2; stroke-opacity:0.1; fill:none\" points=\"\n",
       "  1584.31,1486.45 1584.31,47.2441 \n",
       "  \"/>\n",
       "<polyline clip-path=\"url(#clip872)\" style=\"stroke:#000000; stroke-linecap:butt; stroke-linejoin:round; stroke-width:2; stroke-opacity:0.1; fill:none\" points=\"\n",
       "  2289.31,1486.45 2289.31,47.2441 \n",
       "  \"/>\n",
       "<polyline clip-path=\"url(#clip870)\" style=\"stroke:#000000; stroke-linecap:butt; stroke-linejoin:round; stroke-width:4; stroke-opacity:1; fill:none\" points=\"\n",
       "  110.881,1486.45 2352.76,1486.45 \n",
       "  \"/>\n",
       "<polyline clip-path=\"url(#clip870)\" style=\"stroke:#000000; stroke-linecap:butt; stroke-linejoin:round; stroke-width:4; stroke-opacity:1; fill:none\" points=\"\n",
       "  174.33,1486.45 174.33,1467.55 \n",
       "  \"/>\n",
       "<polyline clip-path=\"url(#clip870)\" style=\"stroke:#000000; stroke-linecap:butt; stroke-linejoin:round; stroke-width:4; stroke-opacity:1; fill:none\" points=\"\n",
       "  879.322,1486.45 879.322,1467.55 \n",
       "  \"/>\n",
       "<polyline clip-path=\"url(#clip870)\" style=\"stroke:#000000; stroke-linecap:butt; stroke-linejoin:round; stroke-width:4; stroke-opacity:1; fill:none\" points=\"\n",
       "  1584.31,1486.45 1584.31,1467.55 \n",
       "  \"/>\n",
       "<polyline clip-path=\"url(#clip870)\" style=\"stroke:#000000; stroke-linecap:butt; stroke-linejoin:round; stroke-width:4; stroke-opacity:1; fill:none\" points=\"\n",
       "  2289.31,1486.45 2289.31,1467.55 \n",
       "  \"/>\n",
       "<path clip-path=\"url(#clip870)\" d=\"M164.712 1544.91 L172.351 1544.91 L172.351 1518.55 L164.041 1520.21 L164.041 1515.95 L172.305 1514.29 L176.981 1514.29 L176.981 1544.91 L184.619 1544.91 L184.619 1548.85 L164.712 1548.85 L164.712 1544.91 Z\" fill=\"#000000\" fill-rule=\"evenodd\" fill-opacity=\"1\" /><path clip-path=\"url(#clip870)\" d=\"M873.975 1544.91 L890.294 1544.91 L890.294 1548.85 L868.35 1548.85 L868.35 1544.91 Q871.012 1542.16 875.595 1537.53 Q880.202 1532.88 881.382 1531.53 Q883.628 1529.01 884.507 1527.27 Q885.41 1525.51 885.41 1523.82 Q885.41 1521.07 883.466 1519.33 Q881.545 1517.6 878.443 1517.6 Q876.244 1517.6 873.79 1518.36 Q871.359 1519.13 868.582 1520.68 L868.582 1515.95 Q871.406 1514.82 873.859 1514.24 Q876.313 1513.66 878.35 1513.66 Q883.72 1513.66 886.915 1516.35 Q890.109 1519.03 890.109 1523.52 Q890.109 1525.65 889.299 1527.57 Q888.512 1529.47 886.406 1532.07 Q885.827 1532.74 882.725 1535.95 Q879.623 1539.15 873.975 1544.91 Z\" fill=\"#000000\" fill-rule=\"evenodd\" fill-opacity=\"1\" /><path clip-path=\"url(#clip870)\" d=\"M1588.56 1530.21 Q1591.92 1530.93 1593.79 1533.2 Q1595.69 1535.47 1595.69 1538.8 Q1595.69 1543.92 1592.17 1546.72 Q1588.65 1549.52 1582.17 1549.52 Q1580 1549.52 1577.68 1549.08 Q1575.39 1548.66 1572.94 1547.81 L1572.94 1543.29 Q1574.88 1544.43 1577.2 1545.01 Q1579.51 1545.58 1582.03 1545.58 Q1586.43 1545.58 1588.72 1543.85 Q1591.04 1542.11 1591.04 1538.8 Q1591.04 1535.75 1588.89 1534.03 Q1586.76 1532.3 1582.94 1532.3 L1578.91 1532.3 L1578.91 1528.45 L1583.12 1528.45 Q1586.57 1528.45 1588.4 1527.09 Q1590.23 1525.7 1590.23 1523.11 Q1590.23 1520.45 1588.33 1519.03 Q1586.46 1517.6 1582.94 1517.6 Q1581.02 1517.6 1578.82 1518.01 Q1576.62 1518.43 1573.98 1519.31 L1573.98 1515.14 Q1576.64 1514.4 1578.96 1514.03 Q1581.29 1513.66 1583.35 1513.66 Q1588.68 1513.66 1591.78 1516.09 Q1594.88 1518.5 1594.88 1522.62 Q1594.88 1525.49 1593.24 1527.48 Q1591.59 1529.45 1588.56 1530.21 Z\" fill=\"#000000\" fill-rule=\"evenodd\" fill-opacity=\"1\" /><path clip-path=\"url(#clip870)\" d=\"M2292.32 1518.36 L2280.51 1536.81 L2292.32 1536.81 L2292.32 1518.36 M2291.09 1514.29 L2296.97 1514.29 L2296.97 1536.81 L2301.9 1536.81 L2301.9 1540.7 L2296.97 1540.7 L2296.97 1548.85 L2292.32 1548.85 L2292.32 1540.7 L2276.71 1540.7 L2276.71 1536.19 L2291.09 1514.29 Z\" fill=\"#000000\" fill-rule=\"evenodd\" fill-opacity=\"1\" /><polyline clip-path=\"url(#clip872)\" style=\"stroke:#000000; stroke-linecap:butt; stroke-linejoin:round; stroke-width:2; stroke-opacity:0.1; fill:none\" points=\"\n",
       "  110.881,1445.72 2352.76,1445.72 \n",
       "  \"/>\n",
       "<polyline clip-path=\"url(#clip872)\" style=\"stroke:#000000; stroke-linecap:butt; stroke-linejoin:round; stroke-width:2; stroke-opacity:0.1; fill:none\" points=\"\n",
       "  110.881,993.136 2352.76,993.136 \n",
       "  \"/>\n",
       "<polyline clip-path=\"url(#clip872)\" style=\"stroke:#000000; stroke-linecap:butt; stroke-linejoin:round; stroke-width:2; stroke-opacity:0.1; fill:none\" points=\"\n",
       "  110.881,540.556 2352.76,540.556 \n",
       "  \"/>\n",
       "<polyline clip-path=\"url(#clip872)\" style=\"stroke:#000000; stroke-linecap:butt; stroke-linejoin:round; stroke-width:2; stroke-opacity:0.1; fill:none\" points=\"\n",
       "  110.881,87.9763 2352.76,87.9763 \n",
       "  \"/>\n",
       "<polyline clip-path=\"url(#clip870)\" style=\"stroke:#000000; stroke-linecap:butt; stroke-linejoin:round; stroke-width:4; stroke-opacity:1; fill:none\" points=\"\n",
       "  110.881,1486.45 110.881,47.2441 \n",
       "  \"/>\n",
       "<polyline clip-path=\"url(#clip870)\" style=\"stroke:#000000; stroke-linecap:butt; stroke-linejoin:round; stroke-width:4; stroke-opacity:1; fill:none\" points=\"\n",
       "  110.881,1445.72 129.779,1445.72 \n",
       "  \"/>\n",
       "<polyline clip-path=\"url(#clip870)\" style=\"stroke:#000000; stroke-linecap:butt; stroke-linejoin:round; stroke-width:4; stroke-opacity:1; fill:none\" points=\"\n",
       "  110.881,993.136 129.779,993.136 \n",
       "  \"/>\n",
       "<polyline clip-path=\"url(#clip870)\" style=\"stroke:#000000; stroke-linecap:butt; stroke-linejoin:round; stroke-width:4; stroke-opacity:1; fill:none\" points=\"\n",
       "  110.881,540.556 129.779,540.556 \n",
       "  \"/>\n",
       "<polyline clip-path=\"url(#clip870)\" style=\"stroke:#000000; stroke-linecap:butt; stroke-linejoin:round; stroke-width:4; stroke-opacity:1; fill:none\" points=\"\n",
       "  110.881,87.9763 129.779,87.9763 \n",
       "  \"/>\n",
       "<path clip-path=\"url(#clip870)\" d=\"M62.9365 1431.51 Q59.3254 1431.51 57.4967 1435.08 Q55.6912 1438.62 55.6912 1445.75 Q55.6912 1452.86 57.4967 1456.42 Q59.3254 1459.96 62.9365 1459.96 Q66.5707 1459.96 68.3763 1456.42 Q70.205 1452.86 70.205 1445.75 Q70.205 1438.62 68.3763 1435.08 Q66.5707 1431.51 62.9365 1431.51 M62.9365 1427.81 Q68.7467 1427.81 71.8022 1432.42 Q74.8809 1437 74.8809 1445.75 Q74.8809 1454.48 71.8022 1459.08 Q68.7467 1463.67 62.9365 1463.67 Q57.1264 1463.67 54.0477 1459.08 Q50.9921 1454.48 50.9921 1445.75 Q50.9921 1437 54.0477 1432.42 Q57.1264 1427.81 62.9365 1427.81 Z\" fill=\"#000000\" fill-rule=\"evenodd\" fill-opacity=\"1\" /><path clip-path=\"url(#clip870)\" d=\"M54.9736 1006.48 L62.6124 1006.48 L62.6124 980.115 L54.3023 981.782 L54.3023 977.523 L62.5661 975.856 L67.242 975.856 L67.242 1006.48 L74.8809 1006.48 L74.8809 1010.42 L54.9736 1010.42 L54.9736 1006.48 Z\" fill=\"#000000\" fill-rule=\"evenodd\" fill-opacity=\"1\" /><path clip-path=\"url(#clip870)\" d=\"M58.5615 553.901 L74.8809 553.901 L74.8809 557.836 L52.9366 557.836 L52.9366 553.901 Q55.5986 551.146 60.1819 546.517 Q64.7883 541.864 65.9689 540.521 Q68.2143 537.998 69.0939 536.262 Q69.9967 534.503 69.9967 532.813 Q69.9967 530.058 68.0522 528.322 Q66.1309 526.586 63.0291 526.586 Q60.83 526.586 58.3763 527.35 Q55.9458 528.114 53.168 529.665 L53.168 524.943 Q55.9921 523.808 58.4458 523.23 Q60.8995 522.651 62.9365 522.651 Q68.3068 522.651 71.5013 525.336 Q74.6957 528.021 74.6957 532.512 Q74.6957 534.642 73.8855 536.563 Q73.0985 538.461 70.992 541.054 Q70.4133 541.725 67.3115 544.943 Q64.2096 548.137 58.5615 553.901 Z\" fill=\"#000000\" fill-rule=\"evenodd\" fill-opacity=\"1\" /><path clip-path=\"url(#clip870)\" d=\"M67.7513 86.6221 Q71.1078 87.3397 72.9827 89.6082 Q74.8809 91.8767 74.8809 95.21 Q74.8809 100.326 71.3624 103.127 Q67.8439 105.928 61.3624 105.928 Q59.1865 105.928 56.8717 105.488 Q54.5801 105.071 52.1264 104.215 L52.1264 99.7008 Q54.0708 100.835 56.3856 101.414 Q58.7004 101.992 61.2236 101.992 Q65.6217 101.992 67.9133 100.256 Q70.2281 98.5202 70.2281 95.21 Q70.2281 92.1545 68.0754 90.4415 Q65.9457 88.7054 62.1263 88.7054 L58.0986 88.7054 L58.0986 84.8629 L62.3115 84.8629 Q65.7606 84.8629 67.5893 83.4971 Q69.418 82.1083 69.418 79.5157 Q69.418 76.8537 67.5198 75.4416 Q65.6448 74.0064 62.1263 74.0064 Q60.205 74.0064 58.006 74.4231 Q55.8069 74.8398 53.168 75.7194 L53.168 71.5528 Q55.8301 70.812 58.1449 70.4416 Q60.4828 70.0713 62.543 70.0713 Q67.867 70.0713 70.9689 72.5018 Q74.0707 74.9092 74.0707 79.0296 Q74.0707 81.8999 72.4272 83.8907 Q70.7837 85.8582 67.7513 86.6221 Z\" fill=\"#000000\" fill-rule=\"evenodd\" fill-opacity=\"1\" /><polyline clip-path=\"url(#clip872)\" style=\"stroke:#009af9; stroke-linecap:butt; stroke-linejoin:round; stroke-width:4; stroke-opacity:1; fill:none\" points=\"\n",
       "  174.33,1445.72 879.322,993.136 1584.31,540.556 2289.31,87.9763 \n",
       "  \"/>\n",
       "<path clip-path=\"url(#clip870)\" d=\"\n",
       "M1976.5 198.898 L2278.03 198.898 L2278.03 95.2176 L1976.5 95.2176  Z\n",
       "  \" fill=\"#ffffff\" fill-rule=\"evenodd\" fill-opacity=\"1\"/>\n",
       "<polyline clip-path=\"url(#clip870)\" style=\"stroke:#000000; stroke-linecap:butt; stroke-linejoin:round; stroke-width:4; stroke-opacity:1; fill:none\" points=\"\n",
       "  1976.5,198.898 2278.03,198.898 2278.03,95.2176 1976.5,95.2176 1976.5,198.898 \n",
       "  \"/>\n",
       "<polyline clip-path=\"url(#clip870)\" style=\"stroke:#009af9; stroke-linecap:butt; stroke-linejoin:round; stroke-width:4; stroke-opacity:1; fill:none\" points=\"\n",
       "  2001.41,147.058 2150.87,147.058 \n",
       "  \"/>\n",
       "<path clip-path=\"url(#clip870)\" d=\"M2189.62 166.745 Q2187.81 171.375 2186.1 172.787 Q2184.39 174.199 2181.52 174.199 L2178.11 174.199 L2178.11 170.634 L2180.61 170.634 Q2182.37 170.634 2183.35 169.8 Q2184.32 168.967 2185.5 165.865 L2186.26 163.921 L2175.78 138.412 L2180.29 138.412 L2188.39 158.689 L2196.49 138.412 L2201.01 138.412 L2189.62 166.745 Z\" fill=\"#000000\" fill-rule=\"evenodd\" fill-opacity=\"1\" /><path clip-path=\"url(#clip870)\" d=\"M2208.3 160.402 L2215.94 160.402 L2215.94 134.037 L2207.63 135.703 L2207.63 131.444 L2215.89 129.778 L2220.57 129.778 L2220.57 160.402 L2228.21 160.402 L2228.21 164.338 L2208.3 164.338 L2208.3 160.402 Z\" fill=\"#000000\" fill-rule=\"evenodd\" fill-opacity=\"1\" /></svg>\n"
      ]
     },
     "execution_count": 1,
     "metadata": {
      "filenames": {
       "image/svg+xml": "/home/runner/work/hpc-book/hpc-book/src/_build/jupyter_execute/Plots_jl_4_0.svg"
      }
     },
     "output_type": "execute_result"
    }
   ],
   "source": [
    "using Plots\n",
    "\n",
    "plot([0, 1, 2, 3])"
   ]
  },
  {
   "cell_type": "markdown",
   "id": "96edd427",
   "metadata": {
    "slideshow": {
     "slide_type": "subslide"
    }
   },
   "source": [
    "### Changing the plot style"
   ]
  },
  {
   "cell_type": "markdown",
   "id": "646498c0",
   "metadata": {
    "slideshow": {
     "slide_type": "skip"
    }
   },
   "source": [
    "There are many options for changing the plot style.  You have ultimate control over the entire look and feel."
   ]
  },
  {
   "cell_type": "markdown",
   "id": "ed9f7d6f",
   "metadata": {
    "slideshow": {
     "slide_type": "-"
    }
   },
   "source": [
    "The primary way to change the look of the plot is by specifying *attributes*.  A full list of plot attribues is available [here](https://docs.juliaplots.org/stable/attributes/)."
   ]
  },
  {
   "cell_type": "code",
   "execution_count": 2,
   "id": "a734bc69",
   "metadata": {
    "slideshow": {
     "slide_type": "-"
    }
   },
   "outputs": [
    {
     "data": {
      "image/svg+xml": [
       "<?xml version=\"1.0\" encoding=\"utf-8\"?>\n",
       "<svg xmlns=\"http://www.w3.org/2000/svg\" xmlns:xlink=\"http://www.w3.org/1999/xlink\" width=\"600\" height=\"400\" viewBox=\"0 0 2400 1600\">\n",
       "<defs>\n",
       "  <clipPath id=\"clip910\">\n",
       "    <rect x=\"0\" y=\"0\" width=\"2400\" height=\"1600\"/>\n",
       "  </clipPath>\n",
       "</defs>\n",
       "<path clip-path=\"url(#clip910)\" d=\"\n",
       "M0 1600 L2400 1600 L2400 0 L0 0  Z\n",
       "  \" fill=\"#ffffff\" fill-rule=\"evenodd\" fill-opacity=\"1\"/>\n",
       "<defs>\n",
       "  <clipPath id=\"clip911\">\n",
       "    <rect x=\"480\" y=\"0\" width=\"1681\" height=\"1600\"/>\n",
       "  </clipPath>\n",
       "</defs>\n",
       "<path clip-path=\"url(#clip910)\" d=\"\n",
       "M110.881 1423.18 L2352.76 1423.18 L2352.76 47.2441 L110.881 47.2441  Z\n",
       "  \" fill=\"#ffffff\" fill-rule=\"evenodd\" fill-opacity=\"1\"/>\n",
       "<defs>\n",
       "  <clipPath id=\"clip912\">\n",
       "    <rect x=\"110\" y=\"47\" width=\"2243\" height=\"1377\"/>\n",
       "  </clipPath>\n",
       "</defs>\n",
       "<polyline clip-path=\"url(#clip910)\" style=\"stroke:#000000; stroke-linecap:butt; stroke-linejoin:round; stroke-width:4; stroke-opacity:1; fill:none\" points=\"\n",
       "  110.881,1423.18 2352.76,1423.18 \n",
       "  \"/>\n",
       "<polyline clip-path=\"url(#clip910)\" style=\"stroke:#000000; stroke-linecap:butt; stroke-linejoin:round; stroke-width:4; stroke-opacity:1; fill:none\" points=\"\n",
       "  174.33,1423.18 174.33,1404.28 \n",
       "  \"/>\n",
       "<polyline clip-path=\"url(#clip910)\" style=\"stroke:#000000; stroke-linecap:butt; stroke-linejoin:round; stroke-width:4; stroke-opacity:1; fill:none\" points=\"\n",
       "  879.322,1423.18 879.322,1404.28 \n",
       "  \"/>\n",
       "<polyline clip-path=\"url(#clip910)\" style=\"stroke:#000000; stroke-linecap:butt; stroke-linejoin:round; stroke-width:4; stroke-opacity:1; fill:none\" points=\"\n",
       "  1584.31,1423.18 1584.31,1404.28 \n",
       "  \"/>\n",
       "<polyline clip-path=\"url(#clip910)\" style=\"stroke:#000000; stroke-linecap:butt; stroke-linejoin:round; stroke-width:4; stroke-opacity:1; fill:none\" points=\"\n",
       "  2289.31,1423.18 2289.31,1404.28 \n",
       "  \"/>\n",
       "<path clip-path=\"url(#clip910)\" d=\"M164.712 1481.64 L172.351 1481.64 L172.351 1455.28 L164.041 1456.95 L164.041 1452.69 L172.305 1451.02 L176.981 1451.02 L176.981 1481.64 L184.619 1481.64 L184.619 1485.58 L164.712 1485.58 L164.712 1481.64 Z\" fill=\"#000000\" fill-rule=\"evenodd\" fill-opacity=\"1\" /><path clip-path=\"url(#clip910)\" d=\"M873.975 1481.64 L890.294 1481.64 L890.294 1485.58 L868.35 1485.58 L868.35 1481.64 Q871.012 1478.89 875.595 1474.26 Q880.202 1469.61 881.382 1468.27 Q883.628 1465.74 884.507 1464.01 Q885.41 1462.25 885.41 1460.56 Q885.41 1457.8 883.466 1456.07 Q881.545 1454.33 878.443 1454.33 Q876.244 1454.33 873.79 1455.09 Q871.359 1455.86 868.582 1457.41 L868.582 1452.69 Q871.406 1451.55 873.859 1450.97 Q876.313 1450.39 878.35 1450.39 Q883.72 1450.39 886.915 1453.08 Q890.109 1455.77 890.109 1460.26 Q890.109 1462.39 889.299 1464.31 Q888.512 1466.2 886.406 1468.8 Q885.827 1469.47 882.725 1472.69 Q879.623 1475.88 873.975 1481.64 Z\" fill=\"#000000\" fill-rule=\"evenodd\" fill-opacity=\"1\" /><path clip-path=\"url(#clip910)\" d=\"M1588.56 1466.95 Q1591.92 1467.66 1593.79 1469.93 Q1595.69 1472.2 1595.69 1475.53 Q1595.69 1480.65 1592.17 1483.45 Q1588.65 1486.25 1582.17 1486.25 Q1580 1486.25 1577.68 1485.81 Q1575.39 1485.39 1572.94 1484.54 L1572.94 1480.02 Q1574.88 1481.16 1577.2 1481.74 Q1579.51 1482.32 1582.03 1482.32 Q1586.43 1482.32 1588.72 1480.58 Q1591.04 1478.84 1591.04 1475.53 Q1591.04 1472.48 1588.89 1470.77 Q1586.76 1469.03 1582.94 1469.03 L1578.91 1469.03 L1578.91 1465.19 L1583.12 1465.19 Q1586.57 1465.19 1588.4 1463.82 Q1590.23 1462.43 1590.23 1459.84 Q1590.23 1457.18 1588.33 1455.77 Q1586.46 1454.33 1582.94 1454.33 Q1581.02 1454.33 1578.82 1454.75 Q1576.62 1455.16 1573.98 1456.04 L1573.98 1451.88 Q1576.64 1451.14 1578.96 1450.77 Q1581.29 1450.39 1583.35 1450.39 Q1588.68 1450.39 1591.78 1452.83 Q1594.88 1455.23 1594.88 1459.35 Q1594.88 1462.22 1593.24 1464.21 Q1591.59 1466.18 1588.56 1466.95 Z\" fill=\"#000000\" fill-rule=\"evenodd\" fill-opacity=\"1\" /><path clip-path=\"url(#clip910)\" d=\"M2292.32 1455.09 L2280.51 1473.54 L2292.32 1473.54 L2292.32 1455.09 M2291.09 1451.02 L2296.97 1451.02 L2296.97 1473.54 L2301.9 1473.54 L2301.9 1477.43 L2296.97 1477.43 L2296.97 1485.58 L2292.32 1485.58 L2292.32 1477.43 L2276.71 1477.43 L2276.71 1472.92 L2291.09 1451.02 Z\" fill=\"#000000\" fill-rule=\"evenodd\" fill-opacity=\"1\" /><path clip-path=\"url(#clip910)\" d=\"M1015.45 1522.08 L1015.45 1528.35 Q1011.79 1526.6 1008.54 1525.74 Q1005.29 1524.88 1002.27 1524.88 Q997.019 1524.88 994.155 1526.92 Q991.322 1528.96 991.322 1532.71 Q991.322 1535.87 993.2 1537.49 Q995.11 1539.08 1000.39 1540.07 L1004.28 1540.86 Q1011.47 1542.23 1014.88 1545.7 Q1018.31 1549.14 1018.31 1554.93 Q1018.31 1561.84 1013.67 1565.4 Q1009.05 1568.97 1000.11 1568.97 Q996.733 1568.97 992.913 1568.2 Q989.126 1567.44 985.052 1565.94 L985.052 1559.32 Q988.967 1561.52 992.722 1562.63 Q996.478 1563.75 1000.11 1563.75 Q1005.61 1563.75 1008.6 1561.58 Q1011.6 1559.42 1011.6 1555.41 Q1011.6 1551.91 1009.43 1549.93 Q1007.3 1547.96 1002.4 1546.97 L998.483 1546.21 Q991.29 1544.78 988.075 1541.72 Q984.861 1538.67 984.861 1533.22 Q984.861 1526.92 989.285 1523.29 Q993.741 1519.66 1001.54 1519.66 Q1004.88 1519.66 1008.35 1520.27 Q1011.82 1520.87 1015.45 1522.08 Z\" fill=\"#000000\" fill-rule=\"evenodd\" fill-opacity=\"1\" /><path clip-path=\"url(#clip910)\" d=\"M1041.9 1536.5 Q1037.19 1536.5 1034.45 1540.19 Q1031.71 1543.85 1031.71 1550.25 Q1031.71 1556.65 1034.42 1560.34 Q1037.16 1564 1041.9 1564 Q1046.58 1564 1049.31 1560.31 Q1052.05 1556.62 1052.05 1550.25 Q1052.05 1543.92 1049.31 1540.23 Q1046.58 1536.5 1041.9 1536.5 M1041.9 1531.54 Q1049.54 1531.54 1053.9 1536.5 Q1058.26 1541.47 1058.26 1550.25 Q1058.26 1559 1053.9 1564 Q1049.54 1568.97 1041.9 1568.97 Q1034.23 1568.97 1029.87 1564 Q1025.54 1559 1025.54 1550.25 Q1025.54 1541.47 1029.87 1536.5 Q1034.23 1531.54 1041.9 1531.54 Z\" fill=\"#000000\" fill-rule=\"evenodd\" fill-opacity=\"1\" /><path clip-path=\"url(#clip910)\" d=\"M1095.72 1539.24 Q1097.92 1535.29 1100.97 1533.41 Q1104.03 1531.54 1108.16 1531.54 Q1113.73 1531.54 1116.76 1535.45 Q1119.78 1539.33 1119.78 1546.53 L1119.78 1568.04 L1113.89 1568.04 L1113.89 1546.72 Q1113.89 1541.59 1112.08 1539.11 Q1110.27 1536.63 1106.54 1536.63 Q1101.99 1536.63 1099.35 1539.65 Q1096.71 1542.68 1096.71 1547.9 L1096.71 1568.04 L1090.82 1568.04 L1090.82 1546.72 Q1090.82 1541.56 1089 1539.11 Q1087.19 1536.63 1083.4 1536.63 Q1078.91 1536.63 1076.27 1539.68 Q1073.63 1542.71 1073.63 1547.9 L1073.63 1568.04 L1067.74 1568.04 L1067.74 1532.4 L1073.63 1532.4 L1073.63 1537.93 Q1075.64 1534.66 1078.44 1533.1 Q1081.24 1531.54 1085.09 1531.54 Q1088.97 1531.54 1091.68 1533.51 Q1094.41 1535.48 1095.72 1539.24 Z\" fill=\"#000000\" fill-rule=\"evenodd\" fill-opacity=\"1\" /><path clip-path=\"url(#clip910)\" d=\"M1161.95 1548.76 L1161.95 1551.62 L1135.03 1551.62 Q1135.41 1557.67 1138.66 1560.85 Q1141.93 1564 1147.76 1564 Q1151.13 1564 1154.28 1563.17 Q1157.47 1562.35 1160.59 1560.69 L1160.59 1566.23 Q1157.44 1567.57 1154.12 1568.27 Q1150.81 1568.97 1147.41 1568.97 Q1138.88 1568.97 1133.88 1564 Q1128.92 1559.04 1128.92 1550.57 Q1128.92 1541.82 1133.63 1536.69 Q1138.37 1531.54 1146.39 1531.54 Q1153.58 1531.54 1157.75 1536.18 Q1161.95 1540.8 1161.95 1548.76 M1156.1 1547.04 Q1156.03 1542.23 1153.39 1539.37 Q1150.78 1536.5 1146.45 1536.5 Q1141.55 1536.5 1138.59 1539.27 Q1135.66 1542.04 1135.22 1547.07 L1156.1 1547.04 Z\" fill=\"#000000\" fill-rule=\"evenodd\" fill-opacity=\"1\" /><path clip-path=\"url(#clip910)\" d=\"M1192.54 1520.52 L1201.2 1520.52 L1222.27 1560.28 L1222.27 1520.52 L1228.51 1520.52 L1228.51 1568.04 L1219.85 1568.04 L1198.78 1528.29 L1198.78 1568.04 L1192.54 1568.04 L1192.54 1520.52 Z\" fill=\"#000000\" fill-rule=\"evenodd\" fill-opacity=\"1\" /><path clip-path=\"url(#clip910)\" d=\"M1240.44 1553.98 L1240.44 1532.4 L1246.3 1532.4 L1246.3 1553.75 Q1246.3 1558.81 1248.27 1561.36 Q1250.25 1563.87 1254.19 1563.87 Q1258.94 1563.87 1261.67 1560.85 Q1264.44 1557.83 1264.44 1552.61 L1264.44 1532.4 L1270.3 1532.4 L1270.3 1568.04 L1264.44 1568.04 L1264.44 1562.57 Q1262.31 1565.82 1259.48 1567.41 Q1256.68 1568.97 1252.95 1568.97 Q1246.81 1568.97 1243.63 1565.15 Q1240.44 1561.33 1240.44 1553.98 M1255.18 1531.54 L1255.18 1531.54 Z\" fill=\"#000000\" fill-rule=\"evenodd\" fill-opacity=\"1\" /><path clip-path=\"url(#clip910)\" d=\"M1310.12 1539.24 Q1312.31 1535.29 1315.37 1533.41 Q1318.42 1531.54 1322.56 1531.54 Q1328.13 1531.54 1331.16 1535.45 Q1334.18 1539.33 1334.18 1546.53 L1334.18 1568.04 L1328.29 1568.04 L1328.29 1546.72 Q1328.29 1541.59 1326.48 1539.11 Q1324.66 1536.63 1320.94 1536.63 Q1316.39 1536.63 1313.75 1539.65 Q1311.1 1542.68 1311.1 1547.9 L1311.1 1568.04 L1305.21 1568.04 L1305.21 1546.72 Q1305.21 1541.56 1303.4 1539.11 Q1301.59 1536.63 1297.8 1536.63 Q1293.31 1536.63 1290.67 1539.68 Q1288.03 1542.71 1288.03 1547.9 L1288.03 1568.04 L1282.14 1568.04 L1282.14 1532.4 L1288.03 1532.4 L1288.03 1537.93 Q1290.03 1534.66 1292.83 1533.1 Q1295.63 1531.54 1299.49 1531.54 Q1303.37 1531.54 1306.07 1533.51 Q1308.81 1535.48 1310.12 1539.24 Z\" fill=\"#000000\" fill-rule=\"evenodd\" fill-opacity=\"1\" /><path clip-path=\"url(#clip910)\" d=\"M1371.45 1550.25 Q1371.45 1543.79 1368.78 1540.13 Q1366.13 1536.44 1361.49 1536.44 Q1356.84 1536.44 1354.17 1540.13 Q1351.53 1543.79 1351.53 1550.25 Q1351.53 1556.71 1354.17 1560.4 Q1356.84 1564.07 1361.49 1564.07 Q1366.13 1564.07 1368.78 1560.4 Q1371.45 1556.71 1371.45 1550.25 M1351.53 1537.81 Q1353.37 1534.62 1356.17 1533.1 Q1359.01 1531.54 1362.92 1531.54 Q1369.41 1531.54 1373.46 1536.69 Q1377.53 1541.85 1377.53 1550.25 Q1377.53 1558.65 1373.46 1563.81 Q1369.41 1568.97 1362.92 1568.97 Q1359.01 1568.97 1356.17 1567.44 Q1353.37 1565.88 1351.53 1562.7 L1351.53 1568.04 L1345.64 1568.04 L1345.64 1518.52 L1351.53 1518.52 L1351.53 1537.81 Z\" fill=\"#000000\" fill-rule=\"evenodd\" fill-opacity=\"1\" /><path clip-path=\"url(#clip910)\" d=\"M1417.73 1548.76 L1417.73 1551.62 L1390.8 1551.62 Q1391.18 1557.67 1394.43 1560.85 Q1397.71 1564 1403.53 1564 Q1406.91 1564 1410.06 1563.17 Q1413.24 1562.35 1416.36 1560.69 L1416.36 1566.23 Q1413.21 1567.57 1409.9 1568.27 Q1406.59 1568.97 1403.18 1568.97 Q1394.65 1568.97 1389.66 1564 Q1384.69 1559.04 1384.69 1550.57 Q1384.69 1541.82 1389.4 1536.69 Q1394.14 1531.54 1402.16 1531.54 Q1409.36 1531.54 1413.53 1536.18 Q1417.73 1540.8 1417.73 1548.76 M1411.87 1547.04 Q1411.81 1542.23 1409.17 1539.37 Q1406.56 1536.5 1402.23 1536.5 Q1397.33 1536.5 1394.37 1539.27 Q1391.44 1542.04 1390.99 1547.07 L1411.87 1547.04 Z\" fill=\"#000000\" fill-rule=\"evenodd\" fill-opacity=\"1\" /><path clip-path=\"url(#clip910)\" d=\"M1448 1537.87 Q1447.01 1537.3 1445.83 1537.04 Q1444.69 1536.76 1443.29 1536.76 Q1438.32 1536.76 1435.65 1540 Q1433.01 1543.22 1433.01 1549.27 L1433.01 1568.04 L1427.12 1568.04 L1427.12 1532.4 L1433.01 1532.4 L1433.01 1537.93 Q1434.85 1534.69 1437.81 1533.13 Q1440.77 1531.54 1445.01 1531.54 Q1445.61 1531.54 1446.34 1531.63 Q1447.07 1531.7 1447.97 1531.85 L1448 1537.87 Z\" fill=\"#000000\" fill-rule=\"evenodd\" fill-opacity=\"1\" /><path clip-path=\"url(#clip910)\" d=\"M1476.87 1533.45 L1476.87 1538.98 Q1474.38 1537.71 1471.71 1537.07 Q1469.04 1536.44 1466.17 1536.44 Q1461.81 1536.44 1459.62 1537.77 Q1457.45 1539.11 1457.45 1541.79 Q1457.45 1543.82 1459.01 1545 Q1460.57 1546.15 1465.28 1547.2 L1467.29 1547.64 Q1473.52 1548.98 1476.13 1551.43 Q1478.78 1553.85 1478.78 1558.21 Q1478.78 1563.17 1474.83 1566.07 Q1470.91 1568.97 1464.04 1568.97 Q1461.17 1568.97 1458.06 1568.39 Q1454.97 1567.85 1451.53 1566.74 L1451.53 1560.69 Q1454.78 1562.38 1457.93 1563.24 Q1461.08 1564.07 1464.17 1564.07 Q1468.3 1564.07 1470.53 1562.66 Q1472.76 1561.23 1472.76 1558.65 Q1472.76 1556.27 1471.14 1554.99 Q1469.55 1553.72 1464.1 1552.54 L1462.07 1552.07 Q1456.62 1550.92 1454.2 1548.56 Q1451.79 1546.18 1451.79 1542.04 Q1451.79 1537.01 1455.35 1534.27 Q1458.91 1531.54 1465.47 1531.54 Q1468.72 1531.54 1471.58 1532.01 Q1474.45 1532.49 1476.87 1533.45 Z\" fill=\"#000000\" fill-rule=\"evenodd\" fill-opacity=\"1\" /><polyline clip-path=\"url(#clip910)\" style=\"stroke:#000000; stroke-linecap:butt; stroke-linejoin:round; stroke-width:4; stroke-opacity:1; fill:none\" points=\"\n",
       "  110.881,1423.18 110.881,47.2441 \n",
       "  \"/>\n",
       "<polyline clip-path=\"url(#clip910)\" style=\"stroke:#000000; stroke-linecap:butt; stroke-linejoin:round; stroke-width:4; stroke-opacity:1; fill:none\" points=\"\n",
       "  110.881,1384.24 129.779,1384.24 \n",
       "  \"/>\n",
       "<polyline clip-path=\"url(#clip910)\" style=\"stroke:#000000; stroke-linecap:butt; stroke-linejoin:round; stroke-width:4; stroke-opacity:1; fill:none\" points=\"\n",
       "  110.881,951.554 129.779,951.554 \n",
       "  \"/>\n",
       "<polyline clip-path=\"url(#clip910)\" style=\"stroke:#000000; stroke-linecap:butt; stroke-linejoin:round; stroke-width:4; stroke-opacity:1; fill:none\" points=\"\n",
       "  110.881,518.87 129.779,518.87 \n",
       "  \"/>\n",
       "<polyline clip-path=\"url(#clip910)\" style=\"stroke:#000000; stroke-linecap:butt; stroke-linejoin:round; stroke-width:4; stroke-opacity:1; fill:none\" points=\"\n",
       "  110.881,86.1857 129.779,86.1857 \n",
       "  \"/>\n",
       "<path clip-path=\"url(#clip910)\" d=\"M62.9365 1370.04 Q59.3254 1370.04 57.4967 1373.6 Q55.6912 1377.14 55.6912 1384.27 Q55.6912 1391.38 57.4967 1394.94 Q59.3254 1398.49 62.9365 1398.49 Q66.5707 1398.49 68.3763 1394.94 Q70.205 1391.38 70.205 1384.27 Q70.205 1377.14 68.3763 1373.6 Q66.5707 1370.04 62.9365 1370.04 M62.9365 1366.33 Q68.7467 1366.33 71.8022 1370.94 Q74.8809 1375.52 74.8809 1384.27 Q74.8809 1393 71.8022 1397.61 Q68.7467 1402.19 62.9365 1402.19 Q57.1264 1402.19 54.0477 1397.61 Q50.9921 1393 50.9921 1384.27 Q50.9921 1375.52 54.0477 1370.94 Q57.1264 1366.33 62.9365 1366.33 Z\" fill=\"#000000\" fill-rule=\"evenodd\" fill-opacity=\"1\" /><path clip-path=\"url(#clip910)\" d=\"M54.9736 964.899 L62.6124 964.899 L62.6124 938.533 L54.3023 940.2 L54.3023 935.941 L62.5661 934.274 L67.242 934.274 L67.242 964.899 L74.8809 964.899 L74.8809 968.834 L54.9736 968.834 L54.9736 964.899 Z\" fill=\"#000000\" fill-rule=\"evenodd\" fill-opacity=\"1\" /><path clip-path=\"url(#clip910)\" d=\"M58.5615 532.215 L74.8809 532.215 L74.8809 536.15 L52.9366 536.15 L52.9366 532.215 Q55.5986 529.46 60.1819 524.83 Q64.7883 520.178 65.9689 518.835 Q68.2143 516.312 69.0939 514.576 Q69.9967 512.817 69.9967 511.127 Q69.9967 508.372 68.0522 506.636 Q66.1309 504.9 63.0291 504.9 Q60.83 504.9 58.3763 505.664 Q55.9458 506.428 53.168 507.979 L53.168 503.257 Q55.9921 502.122 58.4458 501.544 Q60.8995 500.965 62.9365 500.965 Q68.3068 500.965 71.5013 503.65 Q74.6957 506.335 74.6957 510.826 Q74.6957 512.956 73.8855 514.877 Q73.0985 516.775 70.992 519.368 Q70.4133 520.039 67.3115 523.256 Q64.2096 526.451 58.5615 532.215 Z\" fill=\"#000000\" fill-rule=\"evenodd\" fill-opacity=\"1\" /><path clip-path=\"url(#clip910)\" d=\"M67.7513 84.8315 Q71.1078 85.5491 72.9827 87.8176 Q74.8809 90.0861 74.8809 93.4194 Q74.8809 98.5351 71.3624 101.336 Q67.8439 104.137 61.3624 104.137 Q59.1865 104.137 56.8717 103.697 Q54.5801 103.28 52.1264 102.424 L52.1264 97.9101 Q54.0708 99.0444 56.3856 99.6231 Q58.7004 100.202 61.2236 100.202 Q65.6217 100.202 67.9133 98.4657 Q70.2281 96.7296 70.2281 93.4194 Q70.2281 90.3639 68.0754 88.6509 Q65.9457 86.9148 62.1263 86.9148 L58.0986 86.9148 L58.0986 83.0723 L62.3115 83.0723 Q65.7606 83.0723 67.5893 81.7065 Q69.418 80.3176 69.418 77.7251 Q69.418 75.063 67.5198 73.651 Q65.6448 72.2158 62.1263 72.2158 Q60.205 72.2158 58.006 72.6325 Q55.8069 73.0492 53.168 73.9288 L53.168 69.7621 Q55.8301 69.0214 58.1449 68.651 Q60.4828 68.2807 62.543 68.2807 Q67.867 68.2807 70.9689 70.7112 Q74.0707 73.1186 74.0707 77.239 Q74.0707 80.1093 72.4272 82.1 Q70.7837 84.0676 67.7513 84.8315 Z\" fill=\"#000000\" fill-rule=\"evenodd\" fill-opacity=\"1\" /><polyline clip-path=\"url(#clip912)\" style=\"stroke:#009af9; stroke-linecap:butt; stroke-linejoin:round; stroke-width:4; stroke-opacity:1; fill:none\" points=\"\n",
       "  174.33,1384.24 879.322,951.554 1584.31,518.87 2289.31,86.1857 \n",
       "  \"/>\n",
       "<path clip-path=\"url(#clip910)\" d=\"\n",
       "M1976.5 196.789 L2278.03 196.789 L2278.03 93.1086 L1976.5 93.1086  Z\n",
       "  \" fill=\"#ffffff\" fill-rule=\"evenodd\" fill-opacity=\"1\"/>\n",
       "<polyline clip-path=\"url(#clip910)\" style=\"stroke:#000000; stroke-linecap:butt; stroke-linejoin:round; stroke-width:4; stroke-opacity:1; fill:none\" points=\"\n",
       "  1976.5,196.789 2278.03,196.789 2278.03,93.1086 1976.5,93.1086 1976.5,196.789 \n",
       "  \"/>\n",
       "<polyline clip-path=\"url(#clip910)\" style=\"stroke:#009af9; stroke-linecap:butt; stroke-linejoin:round; stroke-width:4; stroke-opacity:1; fill:none\" points=\"\n",
       "  2001.41,144.949 2150.87,144.949 \n",
       "  \"/>\n",
       "<path clip-path=\"url(#clip910)\" d=\"M2189.62 164.636 Q2187.81 169.266 2186.1 170.678 Q2184.39 172.09 2181.52 172.09 L2178.11 172.09 L2178.11 168.525 L2180.61 168.525 Q2182.37 168.525 2183.35 167.692 Q2184.32 166.858 2185.5 163.756 L2186.26 161.812 L2175.78 136.303 L2180.29 136.303 L2188.39 156.581 L2196.49 136.303 L2201.01 136.303 L2189.62 164.636 Z\" fill=\"#000000\" fill-rule=\"evenodd\" fill-opacity=\"1\" /><path clip-path=\"url(#clip910)\" d=\"M2208.3 158.293 L2215.94 158.293 L2215.94 131.928 L2207.63 133.595 L2207.63 129.335 L2215.89 127.669 L2220.57 127.669 L2220.57 158.293 L2228.21 158.293 L2228.21 162.229 L2208.3 162.229 L2208.3 158.293 Z\" fill=\"#000000\" fill-rule=\"evenodd\" fill-opacity=\"1\" /></svg>\n"
      ]
     },
     "execution_count": 2,
     "metadata": {
      "filenames": {
       "image/svg+xml": "/home/runner/work/hpc-book/hpc-book/src/_build/jupyter_execute/Plots_jl_8_0.svg"
      }
     },
     "output_type": "execute_result"
    }
   ],
   "source": [
    "plot([0, 1, 2, 3], xlabel=\"Some Numbers\", grid=false)"
   ]
  },
  {
   "cell_type": "markdown",
   "id": "47e0c7c5",
   "metadata": {
    "slideshow": {
     "slide_type": "subslide"
    }
   },
   "source": [
    "### Adding multiple lines"
   ]
  },
  {
   "cell_type": "code",
   "execution_count": 3,
   "id": "f0884640",
   "metadata": {
    "slideshow": {
     "slide_type": "-"
    }
   },
   "outputs": [
    {
     "data": {
      "image/svg+xml": [
       "<?xml version=\"1.0\" encoding=\"utf-8\"?>\n",
       "<svg xmlns=\"http://www.w3.org/2000/svg\" xmlns:xlink=\"http://www.w3.org/1999/xlink\" width=\"600\" height=\"400\" viewBox=\"0 0 2400 1600\">\n",
       "<defs>\n",
       "  <clipPath id=\"clip950\">\n",
       "    <rect x=\"0\" y=\"0\" width=\"2400\" height=\"1600\"/>\n",
       "  </clipPath>\n",
       "</defs>\n",
       "<path clip-path=\"url(#clip950)\" d=\"\n",
       "M0 1600 L2400 1600 L2400 0 L0 0  Z\n",
       "  \" fill=\"#ffffff\" fill-rule=\"evenodd\" fill-opacity=\"1\"/>\n",
       "<defs>\n",
       "  <clipPath id=\"clip951\">\n",
       "    <rect x=\"480\" y=\"0\" width=\"1681\" height=\"1600\"/>\n",
       "  </clipPath>\n",
       "</defs>\n",
       "<path clip-path=\"url(#clip950)\" d=\"\n",
       "M169.121 1423.18 L2352.76 1423.18 L2352.76 47.2441 L169.121 47.2441  Z\n",
       "  \" fill=\"#ffffff\" fill-rule=\"evenodd\" fill-opacity=\"1\"/>\n",
       "<defs>\n",
       "  <clipPath id=\"clip952\">\n",
       "    <rect x=\"169\" y=\"47\" width=\"2185\" height=\"1377\"/>\n",
       "  </clipPath>\n",
       "</defs>\n",
       "<polyline clip-path=\"url(#clip952)\" style=\"stroke:#000000; stroke-linecap:butt; stroke-linejoin:round; stroke-width:2; stroke-opacity:0.1; fill:none\" points=\"\n",
       "  230.922,1423.18 230.922,47.2441 \n",
       "  \"/>\n",
       "<polyline clip-path=\"url(#clip952)\" style=\"stroke:#000000; stroke-linecap:butt; stroke-linejoin:round; stroke-width:2; stroke-opacity:0.1; fill:none\" points=\"\n",
       "  642.929,1423.18 642.929,47.2441 \n",
       "  \"/>\n",
       "<polyline clip-path=\"url(#clip952)\" style=\"stroke:#000000; stroke-linecap:butt; stroke-linejoin:round; stroke-width:2; stroke-opacity:0.1; fill:none\" points=\"\n",
       "  1054.94,1423.18 1054.94,47.2441 \n",
       "  \"/>\n",
       "<polyline clip-path=\"url(#clip952)\" style=\"stroke:#000000; stroke-linecap:butt; stroke-linejoin:round; stroke-width:2; stroke-opacity:0.1; fill:none\" points=\"\n",
       "  1466.94,1423.18 1466.94,47.2441 \n",
       "  \"/>\n",
       "<polyline clip-path=\"url(#clip952)\" style=\"stroke:#000000; stroke-linecap:butt; stroke-linejoin:round; stroke-width:2; stroke-opacity:0.1; fill:none\" points=\"\n",
       "  1878.95,1423.18 1878.95,47.2441 \n",
       "  \"/>\n",
       "<polyline clip-path=\"url(#clip952)\" style=\"stroke:#000000; stroke-linecap:butt; stroke-linejoin:round; stroke-width:2; stroke-opacity:0.1; fill:none\" points=\"\n",
       "  2290.95,1423.18 2290.95,47.2441 \n",
       "  \"/>\n",
       "<polyline clip-path=\"url(#clip950)\" style=\"stroke:#000000; stroke-linecap:butt; stroke-linejoin:round; stroke-width:4; stroke-opacity:1; fill:none\" points=\"\n",
       "  169.121,1423.18 2352.76,1423.18 \n",
       "  \"/>\n",
       "<polyline clip-path=\"url(#clip950)\" style=\"stroke:#000000; stroke-linecap:butt; stroke-linejoin:round; stroke-width:4; stroke-opacity:1; fill:none\" points=\"\n",
       "  230.922,1423.18 230.922,1404.28 \n",
       "  \"/>\n",
       "<polyline clip-path=\"url(#clip950)\" style=\"stroke:#000000; stroke-linecap:butt; stroke-linejoin:round; stroke-width:4; stroke-opacity:1; fill:none\" points=\"\n",
       "  642.929,1423.18 642.929,1404.28 \n",
       "  \"/>\n",
       "<polyline clip-path=\"url(#clip950)\" style=\"stroke:#000000; stroke-linecap:butt; stroke-linejoin:round; stroke-width:4; stroke-opacity:1; fill:none\" points=\"\n",
       "  1054.94,1423.18 1054.94,1404.28 \n",
       "  \"/>\n",
       "<polyline clip-path=\"url(#clip950)\" style=\"stroke:#000000; stroke-linecap:butt; stroke-linejoin:round; stroke-width:4; stroke-opacity:1; fill:none\" points=\"\n",
       "  1466.94,1423.18 1466.94,1404.28 \n",
       "  \"/>\n",
       "<polyline clip-path=\"url(#clip950)\" style=\"stroke:#000000; stroke-linecap:butt; stroke-linejoin:round; stroke-width:4; stroke-opacity:1; fill:none\" points=\"\n",
       "  1878.95,1423.18 1878.95,1404.28 \n",
       "  \"/>\n",
       "<polyline clip-path=\"url(#clip950)\" style=\"stroke:#000000; stroke-linecap:butt; stroke-linejoin:round; stroke-width:4; stroke-opacity:1; fill:none\" points=\"\n",
       "  2290.95,1423.18 2290.95,1404.28 \n",
       "  \"/>\n",
       "<path clip-path=\"url(#clip950)\" d=\"M230.922 1454.1 Q227.311 1454.1 225.483 1457.66 Q223.677 1461.2 223.677 1468.33 Q223.677 1475.44 225.483 1479.01 Q227.311 1482.55 230.922 1482.55 Q234.557 1482.55 236.362 1479.01 Q238.191 1475.44 238.191 1468.33 Q238.191 1461.2 236.362 1457.66 Q234.557 1454.1 230.922 1454.1 M230.922 1450.39 Q236.732 1450.39 239.788 1455 Q242.867 1459.58 242.867 1468.33 Q242.867 1477.06 239.788 1481.67 Q236.732 1486.25 230.922 1486.25 Q225.112 1486.25 222.033 1481.67 Q218.978 1477.06 218.978 1468.33 Q218.978 1459.58 222.033 1455 Q225.112 1450.39 230.922 1450.39 Z\" fill=\"#000000\" fill-rule=\"evenodd\" fill-opacity=\"1\" /><path clip-path=\"url(#clip950)\" d=\"M633.311 1481.64 L640.95 1481.64 L640.95 1455.28 L632.64 1456.95 L632.64 1452.69 L640.903 1451.02 L645.579 1451.02 L645.579 1481.64 L653.218 1481.64 L653.218 1485.58 L633.311 1485.58 L633.311 1481.64 Z\" fill=\"#000000\" fill-rule=\"evenodd\" fill-opacity=\"1\" /><path clip-path=\"url(#clip950)\" d=\"M1049.59 1481.64 L1065.91 1481.64 L1065.91 1485.58 L1043.96 1485.58 L1043.96 1481.64 Q1046.63 1478.89 1051.21 1474.26 Q1055.81 1469.61 1057 1468.27 Q1059.24 1465.74 1060.12 1464.01 Q1061.02 1462.25 1061.02 1460.56 Q1061.02 1457.8 1059.08 1456.07 Q1057.16 1454.33 1054.06 1454.33 Q1051.86 1454.33 1049.4 1455.09 Q1046.97 1455.86 1044.19 1457.41 L1044.19 1452.69 Q1047.02 1451.55 1049.47 1450.97 Q1051.93 1450.39 1053.96 1450.39 Q1059.33 1450.39 1062.53 1453.08 Q1065.72 1455.77 1065.72 1460.26 Q1065.72 1462.39 1064.91 1464.31 Q1064.13 1466.2 1062.02 1468.8 Q1061.44 1469.47 1058.34 1472.69 Q1055.24 1475.88 1049.59 1481.64 Z\" fill=\"#000000\" fill-rule=\"evenodd\" fill-opacity=\"1\" /><path clip-path=\"url(#clip950)\" d=\"M1471.19 1466.95 Q1474.55 1467.66 1476.42 1469.93 Q1478.32 1472.2 1478.32 1475.53 Q1478.32 1480.65 1474.8 1483.45 Q1471.28 1486.25 1464.8 1486.25 Q1462.62 1486.25 1460.31 1485.81 Q1458.02 1485.39 1455.56 1484.54 L1455.56 1480.02 Q1457.51 1481.16 1459.82 1481.74 Q1462.14 1482.32 1464.66 1482.32 Q1469.06 1482.32 1471.35 1480.58 Q1473.67 1478.84 1473.67 1475.53 Q1473.67 1472.48 1471.51 1470.77 Q1469.38 1469.03 1465.56 1469.03 L1461.54 1469.03 L1461.54 1465.19 L1465.75 1465.19 Q1469.2 1465.19 1471.03 1463.82 Q1472.86 1462.43 1472.86 1459.84 Q1472.86 1457.18 1470.96 1455.77 Q1469.08 1454.33 1465.56 1454.33 Q1463.64 1454.33 1461.44 1454.75 Q1459.25 1455.16 1456.61 1456.04 L1456.61 1451.88 Q1459.27 1451.14 1461.58 1450.77 Q1463.92 1450.39 1465.98 1450.39 Q1471.31 1450.39 1474.41 1452.83 Q1477.51 1455.23 1477.51 1459.35 Q1477.51 1462.22 1475.87 1464.21 Q1474.22 1466.18 1471.19 1466.95 Z\" fill=\"#000000\" fill-rule=\"evenodd\" fill-opacity=\"1\" /><path clip-path=\"url(#clip950)\" d=\"M1881.96 1455.09 L1870.15 1473.54 L1881.96 1473.54 L1881.96 1455.09 M1880.73 1451.02 L1886.61 1451.02 L1886.61 1473.54 L1891.54 1473.54 L1891.54 1477.43 L1886.61 1477.43 L1886.61 1485.58 L1881.96 1485.58 L1881.96 1477.43 L1866.36 1477.43 L1866.36 1472.92 L1880.73 1451.02 Z\" fill=\"#000000\" fill-rule=\"evenodd\" fill-opacity=\"1\" /><path clip-path=\"url(#clip950)\" d=\"M2281.23 1451.02 L2299.59 1451.02 L2299.59 1454.96 L2285.52 1454.96 L2285.52 1463.43 Q2286.53 1463.08 2287.55 1462.92 Q2288.57 1462.73 2289.59 1462.73 Q2295.38 1462.73 2298.76 1465.9 Q2302.14 1469.08 2302.14 1474.49 Q2302.14 1480.07 2298.66 1483.17 Q2295.19 1486.25 2288.87 1486.25 Q2286.7 1486.25 2284.43 1485.88 Q2282.18 1485.51 2279.77 1484.77 L2279.77 1480.07 Q2281.86 1481.2 2284.08 1481.76 Q2286.3 1482.32 2288.78 1482.32 Q2292.78 1482.32 2295.12 1480.21 Q2297.46 1478.1 2297.46 1474.49 Q2297.46 1470.88 2295.12 1468.77 Q2292.78 1466.67 2288.78 1466.67 Q2286.9 1466.67 2285.03 1467.08 Q2283.18 1467.5 2281.23 1468.38 L2281.23 1451.02 Z\" fill=\"#000000\" fill-rule=\"evenodd\" fill-opacity=\"1\" /><path clip-path=\"url(#clip950)\" d=\"M1260 1522.27 L1260 1532.4 L1272.06 1532.4 L1272.06 1536.95 L1260 1536.95 L1260 1556.3 Q1260 1560.66 1261.18 1561.9 Q1262.39 1563.14 1266.05 1563.14 L1272.06 1563.14 L1272.06 1568.04 L1266.05 1568.04 Q1259.27 1568.04 1256.69 1565.53 Q1254.11 1562.98 1254.11 1556.3 L1254.11 1536.95 L1249.81 1536.95 L1249.81 1532.4 L1254.11 1532.4 L1254.11 1522.27 L1260 1522.27 Z\" fill=\"#000000\" fill-rule=\"evenodd\" fill-opacity=\"1\" /><polyline clip-path=\"url(#clip952)\" style=\"stroke:#000000; stroke-linecap:butt; stroke-linejoin:round; stroke-width:2; stroke-opacity:0.1; fill:none\" points=\"\n",
       "  169.121,1384.24 2352.76,1384.24 \n",
       "  \"/>\n",
       "<polyline clip-path=\"url(#clip952)\" style=\"stroke:#000000; stroke-linecap:butt; stroke-linejoin:round; stroke-width:2; stroke-opacity:0.1; fill:none\" points=\"\n",
       "  169.121,1176.55 2352.76,1176.55 \n",
       "  \"/>\n",
       "<polyline clip-path=\"url(#clip952)\" style=\"stroke:#000000; stroke-linecap:butt; stroke-linejoin:round; stroke-width:2; stroke-opacity:0.1; fill:none\" points=\"\n",
       "  169.121,968.861 2352.76,968.861 \n",
       "  \"/>\n",
       "<polyline clip-path=\"url(#clip952)\" style=\"stroke:#000000; stroke-linecap:butt; stroke-linejoin:round; stroke-width:2; stroke-opacity:0.1; fill:none\" points=\"\n",
       "  169.121,761.173 2352.76,761.173 \n",
       "  \"/>\n",
       "<polyline clip-path=\"url(#clip952)\" style=\"stroke:#000000; stroke-linecap:butt; stroke-linejoin:round; stroke-width:2; stroke-opacity:0.1; fill:none\" points=\"\n",
       "  169.121,553.485 2352.76,553.485 \n",
       "  \"/>\n",
       "<polyline clip-path=\"url(#clip952)\" style=\"stroke:#000000; stroke-linecap:butt; stroke-linejoin:round; stroke-width:2; stroke-opacity:0.1; fill:none\" points=\"\n",
       "  169.121,345.796 2352.76,345.796 \n",
       "  \"/>\n",
       "<polyline clip-path=\"url(#clip952)\" style=\"stroke:#000000; stroke-linecap:butt; stroke-linejoin:round; stroke-width:2; stroke-opacity:0.1; fill:none\" points=\"\n",
       "  169.121,138.108 2352.76,138.108 \n",
       "  \"/>\n",
       "<polyline clip-path=\"url(#clip950)\" style=\"stroke:#000000; stroke-linecap:butt; stroke-linejoin:round; stroke-width:4; stroke-opacity:1; fill:none\" points=\"\n",
       "  169.121,1423.18 169.121,47.2441 \n",
       "  \"/>\n",
       "<polyline clip-path=\"url(#clip950)\" style=\"stroke:#000000; stroke-linecap:butt; stroke-linejoin:round; stroke-width:4; stroke-opacity:1; fill:none\" points=\"\n",
       "  169.121,1384.24 188.019,1384.24 \n",
       "  \"/>\n",
       "<polyline clip-path=\"url(#clip950)\" style=\"stroke:#000000; stroke-linecap:butt; stroke-linejoin:round; stroke-width:4; stroke-opacity:1; fill:none\" points=\"\n",
       "  169.121,1176.55 188.019,1176.55 \n",
       "  \"/>\n",
       "<polyline clip-path=\"url(#clip950)\" style=\"stroke:#000000; stroke-linecap:butt; stroke-linejoin:round; stroke-width:4; stroke-opacity:1; fill:none\" points=\"\n",
       "  169.121,968.861 188.019,968.861 \n",
       "  \"/>\n",
       "<polyline clip-path=\"url(#clip950)\" style=\"stroke:#000000; stroke-linecap:butt; stroke-linejoin:round; stroke-width:4; stroke-opacity:1; fill:none\" points=\"\n",
       "  169.121,761.173 188.019,761.173 \n",
       "  \"/>\n",
       "<polyline clip-path=\"url(#clip950)\" style=\"stroke:#000000; stroke-linecap:butt; stroke-linejoin:round; stroke-width:4; stroke-opacity:1; fill:none\" points=\"\n",
       "  169.121,553.485 188.019,553.485 \n",
       "  \"/>\n",
       "<polyline clip-path=\"url(#clip950)\" style=\"stroke:#000000; stroke-linecap:butt; stroke-linejoin:round; stroke-width:4; stroke-opacity:1; fill:none\" points=\"\n",
       "  169.121,345.796 188.019,345.796 \n",
       "  \"/>\n",
       "<polyline clip-path=\"url(#clip950)\" style=\"stroke:#000000; stroke-linecap:butt; stroke-linejoin:round; stroke-width:4; stroke-opacity:1; fill:none\" points=\"\n",
       "  169.121,138.108 188.019,138.108 \n",
       "  \"/>\n",
       "<path clip-path=\"url(#clip950)\" d=\"M121.177 1370.04 Q117.566 1370.04 115.737 1373.6 Q113.932 1377.14 113.932 1384.27 Q113.932 1391.38 115.737 1394.94 Q117.566 1398.49 121.177 1398.49 Q124.811 1398.49 126.617 1394.94 Q128.445 1391.38 128.445 1384.27 Q128.445 1377.14 126.617 1373.6 Q124.811 1370.04 121.177 1370.04 M121.177 1366.33 Q126.987 1366.33 130.043 1370.94 Q133.121 1375.52 133.121 1384.27 Q133.121 1393 130.043 1397.61 Q126.987 1402.19 121.177 1402.19 Q115.367 1402.19 112.288 1397.61 Q109.233 1393 109.233 1384.27 Q109.233 1375.52 112.288 1370.94 Q115.367 1366.33 121.177 1366.33 Z\" fill=\"#000000\" fill-rule=\"evenodd\" fill-opacity=\"1\" /><path clip-path=\"url(#clip950)\" d=\"M85.0429 1189.89 L101.362 1189.89 L101.362 1193.83 L79.4179 1193.83 L79.4179 1189.89 Q82.0799 1187.14 86.6632 1182.51 Q91.2697 1177.86 92.4502 1176.52 Q94.6956 1173.99 95.5752 1172.26 Q96.478 1170.5 96.478 1168.81 Q96.478 1166.05 94.5336 1164.32 Q92.6123 1162.58 89.5104 1162.58 Q87.3114 1162.58 84.8577 1163.34 Q82.4271 1164.11 79.6494 1165.66 L79.6494 1160.94 Q82.4734 1159.8 84.9271 1159.22 Q87.3808 1158.64 89.4178 1158.64 Q94.7882 1158.64 97.9826 1161.33 Q101.177 1164.02 101.177 1168.51 Q101.177 1170.64 100.367 1172.56 Q99.5798 1174.45 97.4734 1177.05 Q96.8947 1177.72 93.7928 1180.94 Q90.691 1184.13 85.0429 1189.89 Z\" fill=\"#000000\" fill-rule=\"evenodd\" fill-opacity=\"1\" /><path clip-path=\"url(#clip950)\" d=\"M121.177 1162.35 Q117.566 1162.35 115.737 1165.91 Q113.932 1169.45 113.932 1176.58 Q113.932 1183.69 115.737 1187.26 Q117.566 1190.8 121.177 1190.8 Q124.811 1190.8 126.617 1187.26 Q128.445 1183.69 128.445 1176.58 Q128.445 1169.45 126.617 1165.91 Q124.811 1162.35 121.177 1162.35 M121.177 1158.64 Q126.987 1158.64 130.043 1163.25 Q133.121 1167.83 133.121 1176.58 Q133.121 1185.31 130.043 1189.92 Q126.987 1194.5 121.177 1194.5 Q115.367 1194.5 112.288 1189.92 Q109.233 1185.31 109.233 1176.58 Q109.233 1167.83 112.288 1163.25 Q115.367 1158.64 121.177 1158.64 Z\" fill=\"#000000\" fill-rule=\"evenodd\" fill-opacity=\"1\" /><path clip-path=\"url(#clip950)\" d=\"M93.8623 955.655 L82.0568 974.104 L93.8623 974.104 L93.8623 955.655 M92.6354 951.581 L98.515 951.581 L98.515 974.104 L103.446 974.104 L103.446 977.993 L98.515 977.993 L98.515 986.141 L93.8623 986.141 L93.8623 977.993 L78.2605 977.993 L78.2605 973.479 L92.6354 951.581 Z\" fill=\"#000000\" fill-rule=\"evenodd\" fill-opacity=\"1\" /><path clip-path=\"url(#clip950)\" d=\"M121.177 954.66 Q117.566 954.66 115.737 958.225 Q113.932 961.767 113.932 968.896 Q113.932 976.003 115.737 979.567 Q117.566 983.109 121.177 983.109 Q124.811 983.109 126.617 979.567 Q128.445 976.003 128.445 968.896 Q128.445 961.767 126.617 958.225 Q124.811 954.66 121.177 954.66 M121.177 950.956 Q126.987 950.956 130.043 955.563 Q133.121 960.146 133.121 968.896 Q133.121 977.623 130.043 982.229 Q126.987 986.813 121.177 986.813 Q115.367 986.813 112.288 982.229 Q109.233 977.623 109.233 968.896 Q109.233 960.146 112.288 955.563 Q115.367 950.956 121.177 950.956 Z\" fill=\"#000000\" fill-rule=\"evenodd\" fill-opacity=\"1\" /><path clip-path=\"url(#clip950)\" d=\"M91.5938 759.31 Q88.4456 759.31 86.5938 761.462 Q84.7651 763.615 84.7651 767.365 Q84.7651 771.092 86.5938 773.268 Q88.4456 775.421 91.5938 775.421 Q94.7419 775.421 96.5706 773.268 Q98.4224 771.092 98.4224 767.365 Q98.4224 763.615 96.5706 761.462 Q94.7419 759.31 91.5938 759.31 M100.876 744.657 L100.876 748.916 Q99.1169 748.083 97.3113 747.643 Q95.5289 747.203 93.7697 747.203 Q89.1401 747.203 86.6864 750.328 Q84.2558 753.453 83.9086 759.773 Q85.2743 757.759 87.3345 756.694 Q89.3947 755.606 91.8715 755.606 Q97.0798 755.606 100.089 758.777 Q103.121 761.925 103.121 767.365 Q103.121 772.689 99.9733 775.907 Q96.8252 779.124 91.5938 779.124 Q85.5984 779.124 82.4271 774.541 Q79.2559 769.935 79.2559 761.208 Q79.2559 753.013 83.1447 748.152 Q87.0336 743.268 93.5845 743.268 Q95.3437 743.268 97.1261 743.615 Q98.9317 743.962 100.876 744.657 Z\" fill=\"#000000\" fill-rule=\"evenodd\" fill-opacity=\"1\" /><path clip-path=\"url(#clip950)\" d=\"M121.177 746.972 Q117.566 746.972 115.737 750.537 Q113.932 754.078 113.932 761.208 Q113.932 768.314 115.737 771.879 Q117.566 775.421 121.177 775.421 Q124.811 775.421 126.617 771.879 Q128.445 768.314 128.445 761.208 Q128.445 754.078 126.617 750.537 Q124.811 746.972 121.177 746.972 M121.177 743.268 Q126.987 743.268 130.043 747.874 Q133.121 752.458 133.121 761.208 Q133.121 769.935 130.043 774.541 Q126.987 779.124 121.177 779.124 Q115.367 779.124 112.288 774.541 Q109.233 769.935 109.233 761.208 Q109.233 752.458 112.288 747.874 Q115.367 743.268 121.177 743.268 Z\" fill=\"#000000\" fill-rule=\"evenodd\" fill-opacity=\"1\" /><path clip-path=\"url(#clip950)\" d=\"M91.0151 554.353 Q87.6817 554.353 85.7605 556.135 Q83.8623 557.917 83.8623 561.042 Q83.8623 564.167 85.7605 565.95 Q87.6817 567.732 91.0151 567.732 Q94.3484 567.732 96.2697 565.95 Q98.1909 564.144 98.1909 561.042 Q98.1909 557.917 96.2697 556.135 Q94.3715 554.353 91.0151 554.353 M86.3392 552.362 Q83.3299 551.621 81.6401 549.561 Q79.9735 547.501 79.9735 544.538 Q79.9735 540.394 82.9133 537.987 Q85.8762 535.58 91.0151 535.58 Q96.1771 535.58 99.1169 537.987 Q102.057 540.394 102.057 544.538 Q102.057 547.501 100.367 549.561 Q98.7002 551.621 95.7141 552.362 Q99.0937 553.149 100.969 555.441 Q102.867 557.732 102.867 561.042 Q102.867 566.066 99.7882 568.751 Q96.7326 571.436 91.0151 571.436 Q85.2975 571.436 82.2188 568.751 Q79.1633 566.066 79.1633 561.042 Q79.1633 557.732 81.0614 555.441 Q82.9595 553.149 86.3392 552.362 M84.6262 544.978 Q84.6262 547.663 86.2929 549.167 Q87.9827 550.672 91.0151 550.672 Q94.0243 550.672 95.7141 549.167 Q97.4271 547.663 97.4271 544.978 Q97.4271 542.293 95.7141 540.788 Q94.0243 539.283 91.0151 539.283 Q87.9827 539.283 86.2929 540.788 Q84.6262 542.293 84.6262 544.978 Z\" fill=\"#000000\" fill-rule=\"evenodd\" fill-opacity=\"1\" /><path clip-path=\"url(#clip950)\" d=\"M121.177 539.283 Q117.566 539.283 115.737 542.848 Q113.932 546.39 113.932 553.519 Q113.932 560.626 115.737 564.191 Q117.566 567.732 121.177 567.732 Q124.811 567.732 126.617 564.191 Q128.445 560.626 128.445 553.519 Q128.445 546.39 126.617 542.848 Q124.811 539.283 121.177 539.283 M121.177 535.58 Q126.987 535.58 130.043 540.186 Q133.121 544.769 133.121 553.519 Q133.121 562.246 130.043 566.853 Q126.987 571.436 121.177 571.436 Q115.367 571.436 112.288 566.853 Q109.233 562.246 109.233 553.519 Q109.233 544.769 112.288 540.186 Q115.367 535.58 121.177 535.58 Z\" fill=\"#000000\" fill-rule=\"evenodd\" fill-opacity=\"1\" /><path clip-path=\"url(#clip950)\" d=\"M51.6634 359.141 L59.3023 359.141 L59.3023 332.775 L50.9921 334.442 L50.9921 330.183 L59.256 328.516 L63.9319 328.516 L63.9319 359.141 L71.5707 359.141 L71.5707 363.076 L51.6634 363.076 L51.6634 359.141 Z\" fill=\"#000000\" fill-rule=\"evenodd\" fill-opacity=\"1\" /><path clip-path=\"url(#clip950)\" d=\"M91.0151 331.595 Q87.404 331.595 85.5753 335.16 Q83.7697 338.701 83.7697 345.831 Q83.7697 352.937 85.5753 356.502 Q87.404 360.044 91.0151 360.044 Q94.6493 360.044 96.4548 356.502 Q98.2835 352.937 98.2835 345.831 Q98.2835 338.701 96.4548 335.16 Q94.6493 331.595 91.0151 331.595 M91.0151 327.891 Q96.8252 327.891 99.8808 332.498 Q102.959 337.081 102.959 345.831 Q102.959 354.558 99.8808 359.164 Q96.8252 363.747 91.0151 363.747 Q85.2049 363.747 82.1262 359.164 Q79.0707 354.558 79.0707 345.831 Q79.0707 337.081 82.1262 332.498 Q85.2049 327.891 91.0151 327.891 Z\" fill=\"#000000\" fill-rule=\"evenodd\" fill-opacity=\"1\" /><path clip-path=\"url(#clip950)\" d=\"M121.177 331.595 Q117.566 331.595 115.737 335.16 Q113.932 338.701 113.932 345.831 Q113.932 352.937 115.737 356.502 Q117.566 360.044 121.177 360.044 Q124.811 360.044 126.617 356.502 Q128.445 352.937 128.445 345.831 Q128.445 338.701 126.617 335.16 Q124.811 331.595 121.177 331.595 M121.177 327.891 Q126.987 327.891 130.043 332.498 Q133.121 337.081 133.121 345.831 Q133.121 354.558 130.043 359.164 Q126.987 363.747 121.177 363.747 Q115.367 363.747 112.288 359.164 Q109.233 354.558 109.233 345.831 Q109.233 337.081 112.288 332.498 Q115.367 327.891 121.177 327.891 Z\" fill=\"#000000\" fill-rule=\"evenodd\" fill-opacity=\"1\" /><path clip-path=\"url(#clip950)\" d=\"M51.6634 151.453 L59.3023 151.453 L59.3023 125.087 L50.9921 126.754 L50.9921 122.494 L59.256 120.828 L63.9319 120.828 L63.9319 151.453 L71.5707 151.453 L71.5707 155.388 L51.6634 155.388 L51.6634 151.453 Z\" fill=\"#000000\" fill-rule=\"evenodd\" fill-opacity=\"1\" /><path clip-path=\"url(#clip950)\" d=\"M85.0429 151.453 L101.362 151.453 L101.362 155.388 L79.4179 155.388 L79.4179 151.453 Q82.0799 148.698 86.6632 144.068 Q91.2697 139.416 92.4502 138.073 Q94.6956 135.55 95.5752 133.814 Q96.478 132.055 96.478 130.365 Q96.478 127.61 94.5336 125.874 Q92.6123 124.138 89.5104 124.138 Q87.3114 124.138 84.8577 124.902 Q82.4271 125.666 79.6494 127.217 L79.6494 122.494 Q82.4734 121.36 84.9271 120.781 Q87.3808 120.203 89.4178 120.203 Q94.7882 120.203 97.9826 122.888 Q101.177 125.573 101.177 130.064 Q101.177 132.193 100.367 134.115 Q99.5798 136.013 97.4734 138.605 Q96.8947 139.277 93.7928 142.494 Q90.691 145.689 85.0429 151.453 Z\" fill=\"#000000\" fill-rule=\"evenodd\" fill-opacity=\"1\" /><path clip-path=\"url(#clip950)\" d=\"M121.177 123.906 Q117.566 123.906 115.737 127.471 Q113.932 131.013 113.932 138.142 Q113.932 145.249 115.737 148.814 Q117.566 152.355 121.177 152.355 Q124.811 152.355 126.617 148.814 Q128.445 145.249 128.445 138.142 Q128.445 131.013 126.617 127.471 Q124.811 123.906 121.177 123.906 M121.177 120.203 Q126.987 120.203 130.043 124.809 Q133.121 129.393 133.121 138.142 Q133.121 146.869 130.043 151.476 Q126.987 156.059 121.177 156.059 Q115.367 156.059 112.288 151.476 Q109.233 146.869 109.233 138.142 Q109.233 129.393 112.288 124.809 Q115.367 120.203 121.177 120.203 Z\" fill=\"#000000\" fill-rule=\"evenodd\" fill-opacity=\"1\" /><polyline clip-path=\"url(#clip952)\" style=\"stroke:#0000ff; stroke-linecap:butt; stroke-linejoin:round; stroke-width:4; stroke-opacity:1; fill:none\" points=\"\n",
       "  230.922,1384.24 313.324,1382.16 395.725,1380.08 478.126,1378.01 560.528,1375.93 642.929,1373.85 725.33,1371.78 807.731,1369.7 890.133,1367.62 972.534,1365.55 \n",
       "  1054.94,1363.47 1137.34,1361.39 1219.74,1359.32 1302.14,1357.24 1384.54,1355.16 1466.94,1353.09 1549.34,1351.01 1631.74,1348.93 1714.15,1346.85 1796.55,1344.78 \n",
       "  1878.95,1342.7 1961.35,1340.62 2043.75,1338.55 2126.15,1336.47 2208.55,1334.39 2290.95,1332.32 \n",
       "  \"/>\n",
       "<polyline clip-path=\"url(#clip952)\" style=\"stroke:#000000; stroke-linecap:butt; stroke-linejoin:round; stroke-width:4; stroke-opacity:1; fill:none\" points=\"\n",
       "  230.922,1384.24 313.324,1383.82 395.725,1382.58 478.126,1380.5 560.528,1377.59 642.929,1373.85 725.33,1369.28 807.731,1363.88 890.133,1357.65 972.534,1350.59 \n",
       "  1054.94,1342.7 1137.34,1333.98 1219.74,1324.42 1302.14,1314.04 1384.54,1302.82 1466.94,1290.78 1549.34,1277.9 1631.74,1264.19 1714.15,1249.66 1796.55,1234.29 \n",
       "  1878.95,1218.09 1961.35,1201.06 2043.75,1183.2 2126.15,1164.5 2208.55,1144.98 2290.95,1124.63 \n",
       "  \"/>\n",
       "<polyline clip-path=\"url(#clip952)\" style=\"stroke:#ff0000; stroke-linecap:butt; stroke-linejoin:round; stroke-width:4; stroke-opacity:1; fill:none\" points=\"\n",
       "  230.922,1384.24 313.324,1384.16 395.725,1383.57 478.126,1382 560.528,1378.92 642.929,1373.85 725.33,1366.29 807.731,1355.74 890.133,1341.7 972.534,1323.68 \n",
       "  1054.94,1301.16 1137.34,1273.66 1219.74,1240.68 1302.14,1201.72 1384.54,1156.28 1466.94,1103.86 1549.34,1043.96 1631.74,976.089 1714.15,899.743 1796.55,814.424 \n",
       "  1878.95,719.635 1961.35,614.877 2043.75,499.652 2126.15,373.46 2208.55,235.804 2290.95,86.1857 \n",
       "  \"/>\n",
       "<path clip-path=\"url(#clip950)\" d=\"\n",
       "M1817.25 300.469 L2279.97 300.469 L2279.97 93.1086 L1817.25 93.1086  Z\n",
       "  \" fill=\"#ffffff\" fill-rule=\"evenodd\" fill-opacity=\"1\"/>\n",
       "<polyline clip-path=\"url(#clip950)\" style=\"stroke:#000000; stroke-linecap:butt; stroke-linejoin:round; stroke-width:4; stroke-opacity:1; fill:none\" points=\"\n",
       "  1817.25,300.469 2279.97,300.469 2279.97,93.1086 1817.25,93.1086 1817.25,300.469 \n",
       "  \"/>\n",
       "<polyline clip-path=\"url(#clip950)\" style=\"stroke:#0000ff; stroke-linecap:butt; stroke-linejoin:round; stroke-width:4; stroke-opacity:1; fill:none\" points=\"\n",
       "  1841.51,144.949 1987.09,144.949 \n",
       "  \"/>\n",
       "<path clip-path=\"url(#clip950)\" d=\"M2011.35 126.21 L2015.61 126.21 L2015.61 162.229 L2011.35 162.229 L2011.35 126.21 Z\" fill=\"#000000\" fill-rule=\"evenodd\" fill-opacity=\"1\" /><path clip-path=\"url(#clip950)\" d=\"M2024.52 136.303 L2028.78 136.303 L2028.78 162.229 L2024.52 162.229 L2024.52 136.303 M2024.52 126.21 L2028.78 126.21 L2028.78 131.604 L2024.52 131.604 L2024.52 126.21 Z\" fill=\"#000000\" fill-rule=\"evenodd\" fill-opacity=\"1\" /><path clip-path=\"url(#clip950)\" d=\"M2059.24 146.581 L2059.24 162.229 L2054.99 162.229 L2054.99 146.719 Q2054.99 143.039 2053.55 141.21 Q2052.12 139.382 2049.24 139.382 Q2045.8 139.382 2043.8 141.581 Q2041.81 143.78 2041.81 147.576 L2041.81 162.229 L2037.53 162.229 L2037.53 136.303 L2041.81 136.303 L2041.81 140.331 Q2043.34 137.993 2045.4 136.835 Q2047.49 135.678 2050.19 135.678 Q2054.66 135.678 2056.95 138.456 Q2059.24 141.21 2059.24 146.581 Z\" fill=\"#000000\" fill-rule=\"evenodd\" fill-opacity=\"1\" /><path clip-path=\"url(#clip950)\" d=\"M2089.92 148.201 L2089.92 150.284 L2070.33 150.284 Q2070.61 154.682 2072.97 156.997 Q2075.36 159.289 2079.59 159.289 Q2082.05 159.289 2084.34 158.687 Q2086.65 158.085 2088.92 156.881 L2088.92 160.909 Q2086.63 161.881 2084.22 162.391 Q2081.81 162.9 2079.34 162.9 Q2073.13 162.9 2069.5 159.289 Q2065.89 155.678 2065.89 149.52 Q2065.89 143.155 2069.31 139.428 Q2072.76 135.678 2078.6 135.678 Q2083.83 135.678 2086.86 139.057 Q2089.92 142.414 2089.92 148.201 M2085.66 146.951 Q2085.61 143.456 2083.69 141.372 Q2081.79 139.289 2078.64 139.289 Q2075.08 139.289 2072.93 141.303 Q2070.8 143.317 2070.47 146.974 L2085.66 146.951 Z\" fill=\"#000000\" fill-rule=\"evenodd\" fill-opacity=\"1\" /><path clip-path=\"url(#clip950)\" d=\"M2108.69 149.196 Q2103.53 149.196 2101.54 150.377 Q2099.55 151.557 2099.55 154.405 Q2099.55 156.673 2101.03 158.016 Q2102.53 159.335 2105.1 159.335 Q2108.64 159.335 2110.77 156.835 Q2112.92 154.312 2112.92 150.145 L2112.92 149.196 L2108.69 149.196 M2117.18 147.437 L2117.18 162.229 L2112.92 162.229 L2112.92 158.293 Q2111.47 160.655 2109.29 161.789 Q2107.11 162.9 2103.97 162.9 Q2099.99 162.9 2097.62 160.678 Q2095.29 158.432 2095.29 154.682 Q2095.29 150.307 2098.2 148.085 Q2101.14 145.863 2106.95 145.863 L2112.92 145.863 L2112.92 145.446 Q2112.92 142.507 2110.98 140.909 Q2109.06 139.289 2105.56 139.289 Q2103.34 139.289 2101.24 139.821 Q2099.13 140.354 2097.18 141.419 L2097.18 137.483 Q2099.52 136.581 2101.72 136.141 Q2103.92 135.678 2106 135.678 Q2111.63 135.678 2114.41 138.594 Q2117.18 141.511 2117.18 147.437 Z\" fill=\"#000000\" fill-rule=\"evenodd\" fill-opacity=\"1\" /><path clip-path=\"url(#clip950)\" d=\"M2140.98 140.284 Q2140.26 139.868 2139.41 139.682 Q2138.57 139.474 2137.55 139.474 Q2133.94 139.474 2132 141.835 Q2130.08 144.173 2130.08 148.571 L2130.08 162.229 L2125.8 162.229 L2125.8 136.303 L2130.08 136.303 L2130.08 140.331 Q2131.42 137.969 2133.57 136.835 Q2135.73 135.678 2138.8 135.678 Q2139.24 135.678 2139.78 135.747 Q2140.31 135.794 2140.96 135.909 L2140.98 140.284 Z\" fill=\"#000000\" fill-rule=\"evenodd\" fill-opacity=\"1\" /><polyline clip-path=\"url(#clip950)\" style=\"stroke:#000000; stroke-linecap:butt; stroke-linejoin:round; stroke-width:4; stroke-opacity:1; fill:none\" points=\"\n",
       "  1841.51,196.789 1987.09,196.789 \n",
       "  \"/>\n",
       "<path clip-path=\"url(#clip950)\" d=\"M2015.75 201.129 Q2015.75 205.828 2017.67 208.513 Q2019.62 211.175 2022.99 211.175 Q2026.37 211.175 2028.32 208.513 Q2030.26 205.828 2030.26 201.129 Q2030.26 196.43 2028.32 193.768 Q2026.37 191.083 2022.99 191.083 Q2019.62 191.083 2017.67 193.768 Q2015.75 196.43 2015.75 201.129 M2030.26 210.18 Q2028.92 212.495 2026.86 213.629 Q2024.82 214.74 2021.95 214.74 Q2017.25 214.74 2014.29 210.99 Q2011.35 207.24 2011.35 201.129 Q2011.35 195.018 2014.29 191.268 Q2017.25 187.518 2021.95 187.518 Q2024.82 187.518 2026.86 188.652 Q2028.92 189.763 2030.26 192.078 L2030.26 188.143 L2034.52 188.143 L2034.52 223.93 L2030.26 223.93 L2030.26 210.18 Z\" fill=\"#000000\" fill-rule=\"evenodd\" fill-opacity=\"1\" /><path clip-path=\"url(#clip950)\" d=\"M2042.86 203.837 L2042.86 188.143 L2047.12 188.143 L2047.12 203.675 Q2047.12 207.356 2048.55 209.208 Q2049.99 211.036 2052.86 211.036 Q2056.3 211.036 2058.3 208.837 Q2060.31 206.638 2060.31 202.842 L2060.31 188.143 L2064.57 188.143 L2064.57 214.069 L2060.31 214.069 L2060.31 210.087 Q2058.76 212.448 2056.7 213.606 Q2054.66 214.74 2051.95 214.74 Q2047.49 214.74 2045.17 211.962 Q2042.86 209.184 2042.86 203.837 M2053.57 187.518 L2053.57 187.518 Z\" fill=\"#000000\" fill-rule=\"evenodd\" fill-opacity=\"1\" /><path clip-path=\"url(#clip950)\" d=\"M2085.12 201.036 Q2079.96 201.036 2077.97 202.217 Q2075.98 203.397 2075.98 206.245 Q2075.98 208.513 2077.46 209.856 Q2078.97 211.175 2081.54 211.175 Q2085.08 211.175 2087.21 208.675 Q2089.36 206.152 2089.36 201.985 L2089.36 201.036 L2085.12 201.036 M2093.62 199.277 L2093.62 214.069 L2089.36 214.069 L2089.36 210.133 Q2087.9 212.495 2085.73 213.629 Q2083.55 214.74 2080.4 214.74 Q2076.42 214.74 2074.06 212.518 Q2071.72 210.272 2071.72 206.522 Q2071.72 202.147 2074.64 199.925 Q2077.58 197.703 2083.39 197.703 L2089.36 197.703 L2089.36 197.286 Q2089.36 194.347 2087.42 192.749 Q2085.49 191.129 2082 191.129 Q2079.78 191.129 2077.67 191.661 Q2075.56 192.194 2073.62 193.259 L2073.62 189.323 Q2075.96 188.421 2078.16 187.981 Q2080.36 187.518 2082.44 187.518 Q2088.06 187.518 2090.84 190.434 Q2093.62 193.351 2093.62 199.277 Z\" fill=\"#000000\" fill-rule=\"evenodd\" fill-opacity=\"1\" /><path clip-path=\"url(#clip950)\" d=\"M2119.45 192.078 L2119.45 178.05 L2123.71 178.05 L2123.71 214.069 L2119.45 214.069 L2119.45 210.18 Q2118.11 212.495 2116.05 213.629 Q2114.01 214.74 2111.14 214.74 Q2106.44 214.74 2103.48 210.99 Q2100.54 207.24 2100.54 201.129 Q2100.54 195.018 2103.48 191.268 Q2106.44 187.518 2111.14 187.518 Q2114.01 187.518 2116.05 188.652 Q2118.11 189.763 2119.45 192.078 M2104.94 201.129 Q2104.94 205.828 2106.86 208.513 Q2108.8 211.175 2112.18 211.175 Q2115.56 211.175 2117.51 208.513 Q2119.45 205.828 2119.45 201.129 Q2119.45 196.43 2117.51 193.768 Q2115.56 191.083 2112.18 191.083 Q2108.8 191.083 2106.86 193.768 Q2104.94 196.43 2104.94 201.129 Z\" fill=\"#000000\" fill-rule=\"evenodd\" fill-opacity=\"1\" /><path clip-path=\"url(#clip950)\" d=\"M2147.51 192.124 Q2146.79 191.708 2145.93 191.522 Q2145.1 191.314 2144.08 191.314 Q2140.47 191.314 2138.53 193.675 Q2136.61 196.013 2136.61 200.411 L2136.61 214.069 L2132.32 214.069 L2132.32 188.143 L2136.61 188.143 L2136.61 192.171 Q2137.95 189.809 2140.1 188.675 Q2142.25 187.518 2145.33 187.518 Q2145.77 187.518 2146.3 187.587 Q2146.84 187.634 2147.48 187.749 L2147.51 192.124 Z\" fill=\"#000000\" fill-rule=\"evenodd\" fill-opacity=\"1\" /><path clip-path=\"url(#clip950)\" d=\"M2163.76 201.036 Q2158.6 201.036 2156.61 202.217 Q2154.61 203.397 2154.61 206.245 Q2154.61 208.513 2156.1 209.856 Q2157.6 211.175 2160.17 211.175 Q2163.71 211.175 2165.84 208.675 Q2167.99 206.152 2167.99 201.985 L2167.99 201.036 L2163.76 201.036 M2172.25 199.277 L2172.25 214.069 L2167.99 214.069 L2167.99 210.133 Q2166.54 212.495 2164.36 213.629 Q2162.18 214.74 2159.04 214.74 Q2155.05 214.74 2152.69 212.518 Q2150.36 210.272 2150.36 206.522 Q2150.36 202.147 2153.27 199.925 Q2156.21 197.703 2162.02 197.703 L2167.99 197.703 L2167.99 197.286 Q2167.99 194.347 2166.05 192.749 Q2164.13 191.129 2160.63 191.129 Q2158.41 191.129 2156.3 191.661 Q2154.2 192.194 2152.25 193.259 L2152.25 189.323 Q2154.59 188.421 2156.79 187.981 Q2158.99 187.518 2161.07 187.518 Q2166.7 187.518 2169.48 190.434 Q2172.25 193.351 2172.25 199.277 Z\" fill=\"#000000\" fill-rule=\"evenodd\" fill-opacity=\"1\" /><path clip-path=\"url(#clip950)\" d=\"M2185.24 180.782 L2185.24 188.143 L2194.01 188.143 L2194.01 191.453 L2185.24 191.453 L2185.24 205.527 Q2185.24 208.698 2186.1 209.601 Q2186.98 210.504 2189.64 210.504 L2194.01 210.504 L2194.01 214.069 L2189.64 214.069 Q2184.71 214.069 2182.83 212.24 Q2180.96 210.388 2180.96 205.527 L2180.96 191.453 L2177.83 191.453 L2177.83 188.143 L2180.96 188.143 L2180.96 180.782 L2185.24 180.782 Z\" fill=\"#000000\" fill-rule=\"evenodd\" fill-opacity=\"1\" /><path clip-path=\"url(#clip950)\" d=\"M2199.61 188.143 L2203.87 188.143 L2203.87 214.069 L2199.61 214.069 L2199.61 188.143 M2199.61 178.05 L2203.87 178.05 L2203.87 183.444 L2199.61 183.444 L2199.61 178.05 Z\" fill=\"#000000\" fill-rule=\"evenodd\" fill-opacity=\"1\" /><path clip-path=\"url(#clip950)\" d=\"M2231.44 189.138 L2231.44 193.12 Q2229.64 192.124 2227.81 191.638 Q2226 191.129 2224.15 191.129 Q2220.01 191.129 2217.72 193.768 Q2215.42 196.384 2215.42 201.129 Q2215.42 205.874 2217.72 208.513 Q2220.01 211.129 2224.15 211.129 Q2226 211.129 2227.81 210.643 Q2229.64 210.133 2231.44 209.138 L2231.44 213.073 Q2229.66 213.907 2227.74 214.323 Q2225.84 214.74 2223.69 214.74 Q2217.83 214.74 2214.38 211.059 Q2210.93 207.379 2210.93 201.129 Q2210.93 194.786 2214.41 191.152 Q2217.9 187.518 2223.97 187.518 Q2225.93 187.518 2227.81 187.935 Q2229.68 188.328 2231.44 189.138 Z\" fill=\"#000000\" fill-rule=\"evenodd\" fill-opacity=\"1\" /><polyline clip-path=\"url(#clip950)\" style=\"stroke:#ff0000; stroke-linecap:butt; stroke-linejoin:round; stroke-width:4; stroke-opacity:1; fill:none\" points=\"\n",
       "  1841.51,248.629 1987.09,248.629 \n",
       "  \"/>\n",
       "<path clip-path=\"url(#clip950)\" d=\"M2031.86 240.978 L2031.86 244.96 Q2030.06 243.964 2028.23 243.478 Q2026.42 242.969 2024.57 242.969 Q2020.43 242.969 2018.13 245.608 Q2015.84 248.224 2015.84 252.969 Q2015.84 257.714 2018.13 260.353 Q2020.43 262.969 2024.57 262.969 Q2026.42 262.969 2028.23 262.483 Q2030.06 261.973 2031.86 260.978 L2031.86 264.913 Q2030.08 265.747 2028.16 266.163 Q2026.26 266.58 2024.11 266.58 Q2018.25 266.58 2014.8 262.899 Q2011.35 259.219 2011.35 252.969 Q2011.35 246.626 2014.82 242.992 Q2018.32 239.358 2024.38 239.358 Q2026.35 239.358 2028.23 239.775 Q2030.1 240.168 2031.86 240.978 Z\" fill=\"#000000\" fill-rule=\"evenodd\" fill-opacity=\"1\" /><path clip-path=\"url(#clip950)\" d=\"M2038.83 255.677 L2038.83 239.983 L2043.09 239.983 L2043.09 255.515 Q2043.09 259.196 2044.52 261.048 Q2045.96 262.876 2048.83 262.876 Q2052.28 262.876 2054.27 260.677 Q2056.28 258.478 2056.28 254.682 L2056.28 239.983 L2060.54 239.983 L2060.54 265.909 L2056.28 265.909 L2056.28 261.927 Q2054.73 264.288 2052.67 265.446 Q2050.63 266.58 2047.93 266.58 Q2043.46 266.58 2041.14 263.802 Q2038.83 261.024 2038.83 255.677 M2049.55 239.358 L2049.55 239.358 Z\" fill=\"#000000\" fill-rule=\"evenodd\" fill-opacity=\"1\" /><path clip-path=\"url(#clip950)\" d=\"M2087.93 252.969 Q2087.93 248.27 2085.98 245.608 Q2084.06 242.923 2080.68 242.923 Q2077.3 242.923 2075.36 245.608 Q2073.43 248.27 2073.43 252.969 Q2073.43 257.668 2075.36 260.353 Q2077.3 263.015 2080.68 263.015 Q2084.06 263.015 2085.98 260.353 Q2087.93 257.668 2087.93 252.969 M2073.43 243.918 Q2074.78 241.603 2076.81 240.492 Q2078.87 239.358 2081.72 239.358 Q2086.44 239.358 2089.38 243.108 Q2092.35 246.858 2092.35 252.969 Q2092.35 259.08 2089.38 262.83 Q2086.44 266.58 2081.72 266.58 Q2078.87 266.58 2076.81 265.469 Q2074.78 264.335 2073.43 262.02 L2073.43 265.909 L2069.15 265.909 L2069.15 229.89 L2073.43 229.89 L2073.43 243.918 Z\" fill=\"#000000\" fill-rule=\"evenodd\" fill-opacity=\"1\" /><path clip-path=\"url(#clip950)\" d=\"M2099.41 239.983 L2103.67 239.983 L2103.67 265.909 L2099.41 265.909 L2099.41 239.983 M2099.41 229.89 L2103.67 229.89 L2103.67 235.284 L2099.41 235.284 L2099.41 229.89 Z\" fill=\"#000000\" fill-rule=\"evenodd\" fill-opacity=\"1\" /><path clip-path=\"url(#clip950)\" d=\"M2131.24 240.978 L2131.24 244.96 Q2129.43 243.964 2127.6 243.478 Q2125.8 242.969 2123.94 242.969 Q2119.8 242.969 2117.51 245.608 Q2115.22 248.224 2115.22 252.969 Q2115.22 257.714 2117.51 260.353 Q2119.8 262.969 2123.94 262.969 Q2125.8 262.969 2127.6 262.483 Q2129.43 261.973 2131.24 260.978 L2131.24 264.913 Q2129.45 265.747 2127.53 266.163 Q2125.63 266.58 2123.48 266.58 Q2117.62 266.58 2114.17 262.899 Q2110.73 259.219 2110.73 252.969 Q2110.73 246.626 2114.2 242.992 Q2117.69 239.358 2123.76 239.358 Q2125.73 239.358 2127.6 239.775 Q2129.48 240.168 2131.24 240.978 Z\" fill=\"#000000\" fill-rule=\"evenodd\" fill-opacity=\"1\" /></svg>\n"
      ]
     },
     "execution_count": 3,
     "metadata": {
      "filenames": {
       "image/svg+xml": "/home/runner/work/hpc-book/hpc-book/src/_build/jupyter_execute/Plots_jl_10_0.svg"
      }
     },
     "output_type": "execute_result"
    }
   ],
   "source": [
    "t = 0:0.2:5\n",
    "\n",
    "plot(t, t, color=:blue, label=\"linear\", xlab=\"t\")\n",
    "plot!(t, t .^ 2, color=\"black\", label=\"quadratic\")\n",
    "plot!(t, t .^ 3, color=\"red\", label=\"cubic\")"
   ]
  },
  {
   "cell_type": "markdown",
   "id": "0ecffad3",
   "metadata": {
    "slideshow": {
     "slide_type": "slide"
    }
   },
   "source": [
    "## Themes"
   ]
  },
  {
   "cell_type": "markdown",
   "id": "146cf128",
   "metadata": {
    "slideshow": {
     "slide_type": "-"
    }
   },
   "source": [
    "There are many built in plot *themes*.  A full list is available [here](https://docs.juliaplots.org/stable/generated/plotthemes/)."
   ]
  },
  {
   "cell_type": "code",
   "execution_count": 4,
   "id": "71bf4cd9",
   "metadata": {
    "slideshow": {
     "slide_type": "-"
    }
   },
   "outputs": [
    {
     "data": {
      "image/svg+xml": [
       "<?xml version=\"1.0\" encoding=\"utf-8\"?>\n",
       "<svg xmlns=\"http://www.w3.org/2000/svg\" xmlns:xlink=\"http://www.w3.org/1999/xlink\" width=\"600\" height=\"400\" viewBox=\"0 0 2400 1600\">\n",
       "<defs>\n",
       "  <clipPath id=\"clip990\">\n",
       "    <rect x=\"0\" y=\"0\" width=\"2400\" height=\"1600\"/>\n",
       "  </clipPath>\n",
       "</defs>\n",
       "<path clip-path=\"url(#clip990)\" d=\"\n",
       "M0 1600 L2400 1600 L2400 0 L0 0  Z\n",
       "  \" fill=\"#363d46\" fill-rule=\"evenodd\" fill-opacity=\"1\"/>\n",
       "<defs>\n",
       "  <clipPath id=\"clip991\">\n",
       "    <rect x=\"480\" y=\"0\" width=\"1681\" height=\"1600\"/>\n",
       "  </clipPath>\n",
       "</defs>\n",
       "<path clip-path=\"url(#clip990)\" d=\"\n",
       "M169.121 1423.18 L2352.76 1423.18 L2352.76 47.2441 L169.121 47.2441  Z\n",
       "  \" fill=\"#30343b\" fill-rule=\"evenodd\" fill-opacity=\"1\"/>\n",
       "<defs>\n",
       "  <clipPath id=\"clip992\">\n",
       "    <rect x=\"169\" y=\"47\" width=\"2185\" height=\"1377\"/>\n",
       "  </clipPath>\n",
       "</defs>\n",
       "<polyline clip-path=\"url(#clip992)\" style=\"stroke:#adb2b7; stroke-linecap:butt; stroke-linejoin:round; stroke-width:2; stroke-opacity:0.1; fill:none\" points=\"\n",
       "  230.922,1423.18 230.922,47.2441 \n",
       "  \"/>\n",
       "<polyline clip-path=\"url(#clip992)\" style=\"stroke:#adb2b7; stroke-linecap:butt; stroke-linejoin:round; stroke-width:2; stroke-opacity:0.1; fill:none\" points=\"\n",
       "  642.929,1423.18 642.929,47.2441 \n",
       "  \"/>\n",
       "<polyline clip-path=\"url(#clip992)\" style=\"stroke:#adb2b7; stroke-linecap:butt; stroke-linejoin:round; stroke-width:2; stroke-opacity:0.1; fill:none\" points=\"\n",
       "  1054.94,1423.18 1054.94,47.2441 \n",
       "  \"/>\n",
       "<polyline clip-path=\"url(#clip992)\" style=\"stroke:#adb2b7; stroke-linecap:butt; stroke-linejoin:round; stroke-width:2; stroke-opacity:0.1; fill:none\" points=\"\n",
       "  1466.94,1423.18 1466.94,47.2441 \n",
       "  \"/>\n",
       "<polyline clip-path=\"url(#clip992)\" style=\"stroke:#adb2b7; stroke-linecap:butt; stroke-linejoin:round; stroke-width:2; stroke-opacity:0.1; fill:none\" points=\"\n",
       "  1878.95,1423.18 1878.95,47.2441 \n",
       "  \"/>\n",
       "<polyline clip-path=\"url(#clip992)\" style=\"stroke:#adb2b7; stroke-linecap:butt; stroke-linejoin:round; stroke-width:2; stroke-opacity:0.1; fill:none\" points=\"\n",
       "  2290.95,1423.18 2290.95,47.2441 \n",
       "  \"/>\n",
       "<polyline clip-path=\"url(#clip990)\" style=\"stroke:#adb2b7; stroke-linecap:butt; stroke-linejoin:round; stroke-width:4; stroke-opacity:1; fill:none\" points=\"\n",
       "  169.121,1423.18 2352.76,1423.18 \n",
       "  \"/>\n",
       "<polyline clip-path=\"url(#clip990)\" style=\"stroke:#adb2b7; stroke-linecap:butt; stroke-linejoin:round; stroke-width:4; stroke-opacity:1; fill:none\" points=\"\n",
       "  230.922,1423.18 230.922,1404.28 \n",
       "  \"/>\n",
       "<polyline clip-path=\"url(#clip990)\" style=\"stroke:#adb2b7; stroke-linecap:butt; stroke-linejoin:round; stroke-width:4; stroke-opacity:1; fill:none\" points=\"\n",
       "  642.929,1423.18 642.929,1404.28 \n",
       "  \"/>\n",
       "<polyline clip-path=\"url(#clip990)\" style=\"stroke:#adb2b7; stroke-linecap:butt; stroke-linejoin:round; stroke-width:4; stroke-opacity:1; fill:none\" points=\"\n",
       "  1054.94,1423.18 1054.94,1404.28 \n",
       "  \"/>\n",
       "<polyline clip-path=\"url(#clip990)\" style=\"stroke:#adb2b7; stroke-linecap:butt; stroke-linejoin:round; stroke-width:4; stroke-opacity:1; fill:none\" points=\"\n",
       "  1466.94,1423.18 1466.94,1404.28 \n",
       "  \"/>\n",
       "<polyline clip-path=\"url(#clip990)\" style=\"stroke:#adb2b7; stroke-linecap:butt; stroke-linejoin:round; stroke-width:4; stroke-opacity:1; fill:none\" points=\"\n",
       "  1878.95,1423.18 1878.95,1404.28 \n",
       "  \"/>\n",
       "<polyline clip-path=\"url(#clip990)\" style=\"stroke:#adb2b7; stroke-linecap:butt; stroke-linejoin:round; stroke-width:4; stroke-opacity:1; fill:none\" points=\"\n",
       "  2290.95,1423.18 2290.95,1404.28 \n",
       "  \"/>\n",
       "<path clip-path=\"url(#clip990)\" d=\"M230.922 1454.1 Q227.311 1454.1 225.483 1457.66 Q223.677 1461.2 223.677 1468.33 Q223.677 1475.44 225.483 1479.01 Q227.311 1482.55 230.922 1482.55 Q234.557 1482.55 236.362 1479.01 Q238.191 1475.44 238.191 1468.33 Q238.191 1461.2 236.362 1457.66 Q234.557 1454.1 230.922 1454.1 M230.922 1450.39 Q236.732 1450.39 239.788 1455 Q242.867 1459.58 242.867 1468.33 Q242.867 1477.06 239.788 1481.67 Q236.732 1486.25 230.922 1486.25 Q225.112 1486.25 222.033 1481.67 Q218.978 1477.06 218.978 1468.33 Q218.978 1459.58 222.033 1455 Q225.112 1450.39 230.922 1450.39 Z\" fill=\"#ffffff\" fill-rule=\"evenodd\" fill-opacity=\"1\" /><path clip-path=\"url(#clip990)\" d=\"M633.311 1481.64 L640.95 1481.64 L640.95 1455.28 L632.64 1456.95 L632.64 1452.69 L640.903 1451.02 L645.579 1451.02 L645.579 1481.64 L653.218 1481.64 L653.218 1485.58 L633.311 1485.58 L633.311 1481.64 Z\" fill=\"#ffffff\" fill-rule=\"evenodd\" fill-opacity=\"1\" /><path clip-path=\"url(#clip990)\" d=\"M1049.59 1481.64 L1065.91 1481.64 L1065.91 1485.58 L1043.96 1485.58 L1043.96 1481.64 Q1046.63 1478.89 1051.21 1474.26 Q1055.81 1469.61 1057 1468.27 Q1059.24 1465.74 1060.12 1464.01 Q1061.02 1462.25 1061.02 1460.56 Q1061.02 1457.8 1059.08 1456.07 Q1057.16 1454.33 1054.06 1454.33 Q1051.86 1454.33 1049.4 1455.09 Q1046.97 1455.86 1044.19 1457.41 L1044.19 1452.69 Q1047.02 1451.55 1049.47 1450.97 Q1051.93 1450.39 1053.96 1450.39 Q1059.33 1450.39 1062.53 1453.08 Q1065.72 1455.77 1065.72 1460.26 Q1065.72 1462.39 1064.91 1464.31 Q1064.13 1466.2 1062.02 1468.8 Q1061.44 1469.47 1058.34 1472.69 Q1055.24 1475.88 1049.59 1481.64 Z\" fill=\"#ffffff\" fill-rule=\"evenodd\" fill-opacity=\"1\" /><path clip-path=\"url(#clip990)\" d=\"M1471.19 1466.95 Q1474.55 1467.66 1476.42 1469.93 Q1478.32 1472.2 1478.32 1475.53 Q1478.32 1480.65 1474.8 1483.45 Q1471.28 1486.25 1464.8 1486.25 Q1462.62 1486.25 1460.31 1485.81 Q1458.02 1485.39 1455.56 1484.54 L1455.56 1480.02 Q1457.51 1481.16 1459.82 1481.74 Q1462.14 1482.32 1464.66 1482.32 Q1469.06 1482.32 1471.35 1480.58 Q1473.67 1478.84 1473.67 1475.53 Q1473.67 1472.48 1471.51 1470.77 Q1469.38 1469.03 1465.56 1469.03 L1461.54 1469.03 L1461.54 1465.19 L1465.75 1465.19 Q1469.2 1465.19 1471.03 1463.82 Q1472.86 1462.43 1472.86 1459.84 Q1472.86 1457.18 1470.96 1455.77 Q1469.08 1454.33 1465.56 1454.33 Q1463.64 1454.33 1461.44 1454.75 Q1459.25 1455.16 1456.61 1456.04 L1456.61 1451.88 Q1459.27 1451.14 1461.58 1450.77 Q1463.92 1450.39 1465.98 1450.39 Q1471.31 1450.39 1474.41 1452.83 Q1477.51 1455.23 1477.51 1459.35 Q1477.51 1462.22 1475.87 1464.21 Q1474.22 1466.18 1471.19 1466.95 Z\" fill=\"#ffffff\" fill-rule=\"evenodd\" fill-opacity=\"1\" /><path clip-path=\"url(#clip990)\" d=\"M1881.96 1455.09 L1870.15 1473.54 L1881.96 1473.54 L1881.96 1455.09 M1880.73 1451.02 L1886.61 1451.02 L1886.61 1473.54 L1891.54 1473.54 L1891.54 1477.43 L1886.61 1477.43 L1886.61 1485.58 L1881.96 1485.58 L1881.96 1477.43 L1866.36 1477.43 L1866.36 1472.92 L1880.73 1451.02 Z\" fill=\"#ffffff\" fill-rule=\"evenodd\" fill-opacity=\"1\" /><path clip-path=\"url(#clip990)\" d=\"M2281.23 1451.02 L2299.59 1451.02 L2299.59 1454.96 L2285.52 1454.96 L2285.52 1463.43 Q2286.53 1463.08 2287.55 1462.92 Q2288.57 1462.73 2289.59 1462.73 Q2295.38 1462.73 2298.76 1465.9 Q2302.14 1469.08 2302.14 1474.49 Q2302.14 1480.07 2298.66 1483.17 Q2295.19 1486.25 2288.87 1486.25 Q2286.7 1486.25 2284.43 1485.88 Q2282.18 1485.51 2279.77 1484.77 L2279.77 1480.07 Q2281.86 1481.2 2284.08 1481.76 Q2286.3 1482.32 2288.78 1482.32 Q2292.78 1482.32 2295.12 1480.21 Q2297.46 1478.1 2297.46 1474.49 Q2297.46 1470.88 2295.12 1468.77 Q2292.78 1466.67 2288.78 1466.67 Q2286.9 1466.67 2285.03 1467.08 Q2283.18 1467.5 2281.23 1468.38 L2281.23 1451.02 Z\" fill=\"#ffffff\" fill-rule=\"evenodd\" fill-opacity=\"1\" /><path clip-path=\"url(#clip990)\" d=\"M1260 1522.27 L1260 1532.4 L1272.06 1532.4 L1272.06 1536.95 L1260 1536.95 L1260 1556.3 Q1260 1560.66 1261.18 1561.9 Q1262.39 1563.14 1266.05 1563.14 L1272.06 1563.14 L1272.06 1568.04 L1266.05 1568.04 Q1259.27 1568.04 1256.69 1565.53 Q1254.11 1562.98 1254.11 1556.3 L1254.11 1536.95 L1249.81 1536.95 L1249.81 1532.4 L1254.11 1532.4 L1254.11 1522.27 L1260 1522.27 Z\" fill=\"#ffffff\" fill-rule=\"evenodd\" fill-opacity=\"1\" /><polyline clip-path=\"url(#clip992)\" style=\"stroke:#adb2b7; stroke-linecap:butt; stroke-linejoin:round; stroke-width:2; stroke-opacity:0.1; fill:none\" points=\"\n",
       "  169.121,1384.24 2352.76,1384.24 \n",
       "  \"/>\n",
       "<polyline clip-path=\"url(#clip992)\" style=\"stroke:#adb2b7; stroke-linecap:butt; stroke-linejoin:round; stroke-width:2; stroke-opacity:0.1; fill:none\" points=\"\n",
       "  169.121,1176.55 2352.76,1176.55 \n",
       "  \"/>\n",
       "<polyline clip-path=\"url(#clip992)\" style=\"stroke:#adb2b7; stroke-linecap:butt; stroke-linejoin:round; stroke-width:2; stroke-opacity:0.1; fill:none\" points=\"\n",
       "  169.121,968.861 2352.76,968.861 \n",
       "  \"/>\n",
       "<polyline clip-path=\"url(#clip992)\" style=\"stroke:#adb2b7; stroke-linecap:butt; stroke-linejoin:round; stroke-width:2; stroke-opacity:0.1; fill:none\" points=\"\n",
       "  169.121,761.173 2352.76,761.173 \n",
       "  \"/>\n",
       "<polyline clip-path=\"url(#clip992)\" style=\"stroke:#adb2b7; stroke-linecap:butt; stroke-linejoin:round; stroke-width:2; stroke-opacity:0.1; fill:none\" points=\"\n",
       "  169.121,553.485 2352.76,553.485 \n",
       "  \"/>\n",
       "<polyline clip-path=\"url(#clip992)\" style=\"stroke:#adb2b7; stroke-linecap:butt; stroke-linejoin:round; stroke-width:2; stroke-opacity:0.1; fill:none\" points=\"\n",
       "  169.121,345.796 2352.76,345.796 \n",
       "  \"/>\n",
       "<polyline clip-path=\"url(#clip992)\" style=\"stroke:#adb2b7; stroke-linecap:butt; stroke-linejoin:round; stroke-width:2; stroke-opacity:0.1; fill:none\" points=\"\n",
       "  169.121,138.108 2352.76,138.108 \n",
       "  \"/>\n",
       "<polyline clip-path=\"url(#clip990)\" style=\"stroke:#adb2b7; stroke-linecap:butt; stroke-linejoin:round; stroke-width:4; stroke-opacity:1; fill:none\" points=\"\n",
       "  169.121,1423.18 169.121,47.2441 \n",
       "  \"/>\n",
       "<polyline clip-path=\"url(#clip990)\" style=\"stroke:#adb2b7; stroke-linecap:butt; stroke-linejoin:round; stroke-width:4; stroke-opacity:1; fill:none\" points=\"\n",
       "  169.121,1384.24 188.019,1384.24 \n",
       "  \"/>\n",
       "<polyline clip-path=\"url(#clip990)\" style=\"stroke:#adb2b7; stroke-linecap:butt; stroke-linejoin:round; stroke-width:4; stroke-opacity:1; fill:none\" points=\"\n",
       "  169.121,1176.55 188.019,1176.55 \n",
       "  \"/>\n",
       "<polyline clip-path=\"url(#clip990)\" style=\"stroke:#adb2b7; stroke-linecap:butt; stroke-linejoin:round; stroke-width:4; stroke-opacity:1; fill:none\" points=\"\n",
       "  169.121,968.861 188.019,968.861 \n",
       "  \"/>\n",
       "<polyline clip-path=\"url(#clip990)\" style=\"stroke:#adb2b7; stroke-linecap:butt; stroke-linejoin:round; stroke-width:4; stroke-opacity:1; fill:none\" points=\"\n",
       "  169.121,761.173 188.019,761.173 \n",
       "  \"/>\n",
       "<polyline clip-path=\"url(#clip990)\" style=\"stroke:#adb2b7; stroke-linecap:butt; stroke-linejoin:round; stroke-width:4; stroke-opacity:1; fill:none\" points=\"\n",
       "  169.121,553.485 188.019,553.485 \n",
       "  \"/>\n",
       "<polyline clip-path=\"url(#clip990)\" style=\"stroke:#adb2b7; stroke-linecap:butt; stroke-linejoin:round; stroke-width:4; stroke-opacity:1; fill:none\" points=\"\n",
       "  169.121,345.796 188.019,345.796 \n",
       "  \"/>\n",
       "<polyline clip-path=\"url(#clip990)\" style=\"stroke:#adb2b7; stroke-linecap:butt; stroke-linejoin:round; stroke-width:4; stroke-opacity:1; fill:none\" points=\"\n",
       "  169.121,138.108 188.019,138.108 \n",
       "  \"/>\n",
       "<path clip-path=\"url(#clip990)\" d=\"M121.177 1370.04 Q117.566 1370.04 115.737 1373.6 Q113.932 1377.14 113.932 1384.27 Q113.932 1391.38 115.737 1394.94 Q117.566 1398.49 121.177 1398.49 Q124.811 1398.49 126.617 1394.94 Q128.445 1391.38 128.445 1384.27 Q128.445 1377.14 126.617 1373.6 Q124.811 1370.04 121.177 1370.04 M121.177 1366.33 Q126.987 1366.33 130.043 1370.94 Q133.121 1375.52 133.121 1384.27 Q133.121 1393 130.043 1397.61 Q126.987 1402.19 121.177 1402.19 Q115.367 1402.19 112.288 1397.61 Q109.233 1393 109.233 1384.27 Q109.233 1375.52 112.288 1370.94 Q115.367 1366.33 121.177 1366.33 Z\" fill=\"#ffffff\" fill-rule=\"evenodd\" fill-opacity=\"1\" /><path clip-path=\"url(#clip990)\" d=\"M85.0429 1189.89 L101.362 1189.89 L101.362 1193.83 L79.4179 1193.83 L79.4179 1189.89 Q82.0799 1187.14 86.6632 1182.51 Q91.2697 1177.86 92.4502 1176.52 Q94.6956 1173.99 95.5752 1172.26 Q96.478 1170.5 96.478 1168.81 Q96.478 1166.05 94.5336 1164.32 Q92.6123 1162.58 89.5104 1162.58 Q87.3114 1162.58 84.8577 1163.34 Q82.4271 1164.11 79.6494 1165.66 L79.6494 1160.94 Q82.4734 1159.8 84.9271 1159.22 Q87.3808 1158.64 89.4178 1158.64 Q94.7882 1158.64 97.9826 1161.33 Q101.177 1164.02 101.177 1168.51 Q101.177 1170.64 100.367 1172.56 Q99.5798 1174.45 97.4734 1177.05 Q96.8947 1177.72 93.7928 1180.94 Q90.691 1184.13 85.0429 1189.89 Z\" fill=\"#ffffff\" fill-rule=\"evenodd\" fill-opacity=\"1\" /><path clip-path=\"url(#clip990)\" d=\"M121.177 1162.35 Q117.566 1162.35 115.737 1165.91 Q113.932 1169.45 113.932 1176.58 Q113.932 1183.69 115.737 1187.26 Q117.566 1190.8 121.177 1190.8 Q124.811 1190.8 126.617 1187.26 Q128.445 1183.69 128.445 1176.58 Q128.445 1169.45 126.617 1165.91 Q124.811 1162.35 121.177 1162.35 M121.177 1158.64 Q126.987 1158.64 130.043 1163.25 Q133.121 1167.83 133.121 1176.58 Q133.121 1185.31 130.043 1189.92 Q126.987 1194.5 121.177 1194.5 Q115.367 1194.5 112.288 1189.92 Q109.233 1185.31 109.233 1176.58 Q109.233 1167.83 112.288 1163.25 Q115.367 1158.64 121.177 1158.64 Z\" fill=\"#ffffff\" fill-rule=\"evenodd\" fill-opacity=\"1\" /><path clip-path=\"url(#clip990)\" d=\"M93.8623 955.655 L82.0568 974.104 L93.8623 974.104 L93.8623 955.655 M92.6354 951.581 L98.515 951.581 L98.515 974.104 L103.446 974.104 L103.446 977.993 L98.515 977.993 L98.515 986.141 L93.8623 986.141 L93.8623 977.993 L78.2605 977.993 L78.2605 973.479 L92.6354 951.581 Z\" fill=\"#ffffff\" fill-rule=\"evenodd\" fill-opacity=\"1\" /><path clip-path=\"url(#clip990)\" d=\"M121.177 954.66 Q117.566 954.66 115.737 958.225 Q113.932 961.767 113.932 968.896 Q113.932 976.003 115.737 979.567 Q117.566 983.109 121.177 983.109 Q124.811 983.109 126.617 979.567 Q128.445 976.003 128.445 968.896 Q128.445 961.767 126.617 958.225 Q124.811 954.66 121.177 954.66 M121.177 950.956 Q126.987 950.956 130.043 955.563 Q133.121 960.146 133.121 968.896 Q133.121 977.623 130.043 982.229 Q126.987 986.813 121.177 986.813 Q115.367 986.813 112.288 982.229 Q109.233 977.623 109.233 968.896 Q109.233 960.146 112.288 955.563 Q115.367 950.956 121.177 950.956 Z\" fill=\"#ffffff\" fill-rule=\"evenodd\" fill-opacity=\"1\" /><path clip-path=\"url(#clip990)\" d=\"M91.5938 759.31 Q88.4456 759.31 86.5938 761.462 Q84.7651 763.615 84.7651 767.365 Q84.7651 771.092 86.5938 773.268 Q88.4456 775.421 91.5938 775.421 Q94.7419 775.421 96.5706 773.268 Q98.4224 771.092 98.4224 767.365 Q98.4224 763.615 96.5706 761.462 Q94.7419 759.31 91.5938 759.31 M100.876 744.657 L100.876 748.916 Q99.1169 748.083 97.3113 747.643 Q95.5289 747.203 93.7697 747.203 Q89.1401 747.203 86.6864 750.328 Q84.2558 753.453 83.9086 759.773 Q85.2743 757.759 87.3345 756.694 Q89.3947 755.606 91.8715 755.606 Q97.0798 755.606 100.089 758.777 Q103.121 761.925 103.121 767.365 Q103.121 772.689 99.9733 775.907 Q96.8252 779.124 91.5938 779.124 Q85.5984 779.124 82.4271 774.541 Q79.2559 769.935 79.2559 761.208 Q79.2559 753.013 83.1447 748.152 Q87.0336 743.268 93.5845 743.268 Q95.3437 743.268 97.1261 743.615 Q98.9317 743.962 100.876 744.657 Z\" fill=\"#ffffff\" fill-rule=\"evenodd\" fill-opacity=\"1\" /><path clip-path=\"url(#clip990)\" d=\"M121.177 746.972 Q117.566 746.972 115.737 750.537 Q113.932 754.078 113.932 761.208 Q113.932 768.314 115.737 771.879 Q117.566 775.421 121.177 775.421 Q124.811 775.421 126.617 771.879 Q128.445 768.314 128.445 761.208 Q128.445 754.078 126.617 750.537 Q124.811 746.972 121.177 746.972 M121.177 743.268 Q126.987 743.268 130.043 747.874 Q133.121 752.458 133.121 761.208 Q133.121 769.935 130.043 774.541 Q126.987 779.124 121.177 779.124 Q115.367 779.124 112.288 774.541 Q109.233 769.935 109.233 761.208 Q109.233 752.458 112.288 747.874 Q115.367 743.268 121.177 743.268 Z\" fill=\"#ffffff\" fill-rule=\"evenodd\" fill-opacity=\"1\" /><path clip-path=\"url(#clip990)\" d=\"M91.0151 554.353 Q87.6817 554.353 85.7605 556.135 Q83.8623 557.917 83.8623 561.042 Q83.8623 564.167 85.7605 565.95 Q87.6817 567.732 91.0151 567.732 Q94.3484 567.732 96.2697 565.95 Q98.1909 564.144 98.1909 561.042 Q98.1909 557.917 96.2697 556.135 Q94.3715 554.353 91.0151 554.353 M86.3392 552.362 Q83.3299 551.621 81.6401 549.561 Q79.9735 547.501 79.9735 544.538 Q79.9735 540.394 82.9133 537.987 Q85.8762 535.58 91.0151 535.58 Q96.1771 535.58 99.1169 537.987 Q102.057 540.394 102.057 544.538 Q102.057 547.501 100.367 549.561 Q98.7002 551.621 95.7141 552.362 Q99.0937 553.149 100.969 555.441 Q102.867 557.732 102.867 561.042 Q102.867 566.066 99.7882 568.751 Q96.7326 571.436 91.0151 571.436 Q85.2975 571.436 82.2188 568.751 Q79.1633 566.066 79.1633 561.042 Q79.1633 557.732 81.0614 555.441 Q82.9595 553.149 86.3392 552.362 M84.6262 544.978 Q84.6262 547.663 86.2929 549.167 Q87.9827 550.672 91.0151 550.672 Q94.0243 550.672 95.7141 549.167 Q97.4271 547.663 97.4271 544.978 Q97.4271 542.293 95.7141 540.788 Q94.0243 539.283 91.0151 539.283 Q87.9827 539.283 86.2929 540.788 Q84.6262 542.293 84.6262 544.978 Z\" fill=\"#ffffff\" fill-rule=\"evenodd\" fill-opacity=\"1\" /><path clip-path=\"url(#clip990)\" d=\"M121.177 539.283 Q117.566 539.283 115.737 542.848 Q113.932 546.39 113.932 553.519 Q113.932 560.626 115.737 564.191 Q117.566 567.732 121.177 567.732 Q124.811 567.732 126.617 564.191 Q128.445 560.626 128.445 553.519 Q128.445 546.39 126.617 542.848 Q124.811 539.283 121.177 539.283 M121.177 535.58 Q126.987 535.58 130.043 540.186 Q133.121 544.769 133.121 553.519 Q133.121 562.246 130.043 566.853 Q126.987 571.436 121.177 571.436 Q115.367 571.436 112.288 566.853 Q109.233 562.246 109.233 553.519 Q109.233 544.769 112.288 540.186 Q115.367 535.58 121.177 535.58 Z\" fill=\"#ffffff\" fill-rule=\"evenodd\" fill-opacity=\"1\" /><path clip-path=\"url(#clip990)\" d=\"M51.6634 359.141 L59.3023 359.141 L59.3023 332.775 L50.9921 334.442 L50.9921 330.183 L59.256 328.516 L63.9319 328.516 L63.9319 359.141 L71.5707 359.141 L71.5707 363.076 L51.6634 363.076 L51.6634 359.141 Z\" fill=\"#ffffff\" fill-rule=\"evenodd\" fill-opacity=\"1\" /><path clip-path=\"url(#clip990)\" d=\"M91.0151 331.595 Q87.404 331.595 85.5753 335.16 Q83.7697 338.701 83.7697 345.831 Q83.7697 352.937 85.5753 356.502 Q87.404 360.044 91.0151 360.044 Q94.6493 360.044 96.4548 356.502 Q98.2835 352.937 98.2835 345.831 Q98.2835 338.701 96.4548 335.16 Q94.6493 331.595 91.0151 331.595 M91.0151 327.891 Q96.8252 327.891 99.8808 332.498 Q102.959 337.081 102.959 345.831 Q102.959 354.558 99.8808 359.164 Q96.8252 363.747 91.0151 363.747 Q85.2049 363.747 82.1262 359.164 Q79.0707 354.558 79.0707 345.831 Q79.0707 337.081 82.1262 332.498 Q85.2049 327.891 91.0151 327.891 Z\" fill=\"#ffffff\" fill-rule=\"evenodd\" fill-opacity=\"1\" /><path clip-path=\"url(#clip990)\" d=\"M121.177 331.595 Q117.566 331.595 115.737 335.16 Q113.932 338.701 113.932 345.831 Q113.932 352.937 115.737 356.502 Q117.566 360.044 121.177 360.044 Q124.811 360.044 126.617 356.502 Q128.445 352.937 128.445 345.831 Q128.445 338.701 126.617 335.16 Q124.811 331.595 121.177 331.595 M121.177 327.891 Q126.987 327.891 130.043 332.498 Q133.121 337.081 133.121 345.831 Q133.121 354.558 130.043 359.164 Q126.987 363.747 121.177 363.747 Q115.367 363.747 112.288 359.164 Q109.233 354.558 109.233 345.831 Q109.233 337.081 112.288 332.498 Q115.367 327.891 121.177 327.891 Z\" fill=\"#ffffff\" fill-rule=\"evenodd\" fill-opacity=\"1\" /><path clip-path=\"url(#clip990)\" d=\"M51.6634 151.453 L59.3023 151.453 L59.3023 125.087 L50.9921 126.754 L50.9921 122.494 L59.256 120.828 L63.9319 120.828 L63.9319 151.453 L71.5707 151.453 L71.5707 155.388 L51.6634 155.388 L51.6634 151.453 Z\" fill=\"#ffffff\" fill-rule=\"evenodd\" fill-opacity=\"1\" /><path clip-path=\"url(#clip990)\" d=\"M85.0429 151.453 L101.362 151.453 L101.362 155.388 L79.4179 155.388 L79.4179 151.453 Q82.0799 148.698 86.6632 144.068 Q91.2697 139.416 92.4502 138.073 Q94.6956 135.55 95.5752 133.814 Q96.478 132.055 96.478 130.365 Q96.478 127.61 94.5336 125.874 Q92.6123 124.138 89.5104 124.138 Q87.3114 124.138 84.8577 124.902 Q82.4271 125.666 79.6494 127.217 L79.6494 122.494 Q82.4734 121.36 84.9271 120.781 Q87.3808 120.203 89.4178 120.203 Q94.7882 120.203 97.9826 122.888 Q101.177 125.573 101.177 130.064 Q101.177 132.193 100.367 134.115 Q99.5798 136.013 97.4734 138.605 Q96.8947 139.277 93.7928 142.494 Q90.691 145.689 85.0429 151.453 Z\" fill=\"#ffffff\" fill-rule=\"evenodd\" fill-opacity=\"1\" /><path clip-path=\"url(#clip990)\" d=\"M121.177 123.906 Q117.566 123.906 115.737 127.471 Q113.932 131.013 113.932 138.142 Q113.932 145.249 115.737 148.814 Q117.566 152.355 121.177 152.355 Q124.811 152.355 126.617 148.814 Q128.445 145.249 128.445 138.142 Q128.445 131.013 126.617 127.471 Q124.811 123.906 121.177 123.906 M121.177 120.203 Q126.987 120.203 130.043 124.809 Q133.121 129.393 133.121 138.142 Q133.121 146.869 130.043 151.476 Q126.987 156.059 121.177 156.059 Q115.367 156.059 112.288 151.476 Q109.233 146.869 109.233 138.142 Q109.233 129.393 112.288 124.809 Q115.367 120.203 121.177 120.203 Z\" fill=\"#ffffff\" fill-rule=\"evenodd\" fill-opacity=\"1\" /><polyline clip-path=\"url(#clip992)\" style=\"stroke:#0000ff; stroke-linecap:butt; stroke-linejoin:round; stroke-width:4; stroke-opacity:1; fill:none\" points=\"\n",
       "  230.922,1384.24 313.324,1382.16 395.725,1380.08 478.126,1378.01 560.528,1375.93 642.929,1373.85 725.33,1371.78 807.731,1369.7 890.133,1367.62 972.534,1365.55 \n",
       "  1054.94,1363.47 1137.34,1361.39 1219.74,1359.32 1302.14,1357.24 1384.54,1355.16 1466.94,1353.09 1549.34,1351.01 1631.74,1348.93 1714.15,1346.85 1796.55,1344.78 \n",
       "  1878.95,1342.7 1961.35,1340.62 2043.75,1338.55 2126.15,1336.47 2208.55,1334.39 2290.95,1332.32 \n",
       "  \"/>\n",
       "<polyline clip-path=\"url(#clip992)\" style=\"stroke:#000000; stroke-linecap:butt; stroke-linejoin:round; stroke-width:4; stroke-opacity:1; fill:none\" points=\"\n",
       "  230.922,1384.24 313.324,1383.82 395.725,1382.58 478.126,1380.5 560.528,1377.59 642.929,1373.85 725.33,1369.28 807.731,1363.88 890.133,1357.65 972.534,1350.59 \n",
       "  1054.94,1342.7 1137.34,1333.98 1219.74,1324.42 1302.14,1314.04 1384.54,1302.82 1466.94,1290.78 1549.34,1277.9 1631.74,1264.19 1714.15,1249.66 1796.55,1234.29 \n",
       "  1878.95,1218.09 1961.35,1201.06 2043.75,1183.2 2126.15,1164.5 2208.55,1144.98 2290.95,1124.63 \n",
       "  \"/>\n",
       "<polyline clip-path=\"url(#clip992)\" style=\"stroke:#ff0000; stroke-linecap:butt; stroke-linejoin:round; stroke-width:4; stroke-opacity:1; fill:none\" points=\"\n",
       "  230.922,1384.24 313.324,1384.16 395.725,1383.57 478.126,1382 560.528,1378.92 642.929,1373.85 725.33,1366.29 807.731,1355.74 890.133,1341.7 972.534,1323.68 \n",
       "  1054.94,1301.16 1137.34,1273.66 1219.74,1240.68 1302.14,1201.72 1384.54,1156.28 1466.94,1103.86 1549.34,1043.96 1631.74,976.089 1714.15,899.743 1796.55,814.424 \n",
       "  1878.95,719.635 1961.35,614.877 2043.75,499.652 2126.15,373.46 2208.55,235.804 2290.95,86.1857 \n",
       "  \"/>\n",
       "<path clip-path=\"url(#clip990)\" d=\"\n",
       "M1817.25 300.469 L2279.97 300.469 L2279.97 93.1086 L1817.25 93.1086  Z\n",
       "  \" fill=\"#363d46\" fill-rule=\"evenodd\" fill-opacity=\"1\"/>\n",
       "<polyline clip-path=\"url(#clip990)\" style=\"stroke:#ffffff; stroke-linecap:butt; stroke-linejoin:round; stroke-width:4; stroke-opacity:1; fill:none\" points=\"\n",
       "  1817.25,300.469 2279.97,300.469 2279.97,93.1086 1817.25,93.1086 1817.25,300.469 \n",
       "  \"/>\n",
       "<polyline clip-path=\"url(#clip990)\" style=\"stroke:#0000ff; stroke-linecap:butt; stroke-linejoin:round; stroke-width:4; stroke-opacity:1; fill:none\" points=\"\n",
       "  1841.51,144.949 1987.09,144.949 \n",
       "  \"/>\n",
       "<path clip-path=\"url(#clip990)\" d=\"M2011.35 126.21 L2015.61 126.21 L2015.61 162.229 L2011.35 162.229 L2011.35 126.21 Z\" fill=\"#ffffff\" fill-rule=\"evenodd\" fill-opacity=\"1\" /><path clip-path=\"url(#clip990)\" d=\"M2024.52 136.303 L2028.78 136.303 L2028.78 162.229 L2024.52 162.229 L2024.52 136.303 M2024.52 126.21 L2028.78 126.21 L2028.78 131.604 L2024.52 131.604 L2024.52 126.21 Z\" fill=\"#ffffff\" fill-rule=\"evenodd\" fill-opacity=\"1\" /><path clip-path=\"url(#clip990)\" d=\"M2059.24 146.581 L2059.24 162.229 L2054.99 162.229 L2054.99 146.719 Q2054.99 143.039 2053.55 141.21 Q2052.12 139.382 2049.24 139.382 Q2045.8 139.382 2043.8 141.581 Q2041.81 143.78 2041.81 147.576 L2041.81 162.229 L2037.53 162.229 L2037.53 136.303 L2041.81 136.303 L2041.81 140.331 Q2043.34 137.993 2045.4 136.835 Q2047.49 135.678 2050.19 135.678 Q2054.66 135.678 2056.95 138.456 Q2059.24 141.21 2059.24 146.581 Z\" fill=\"#ffffff\" fill-rule=\"evenodd\" fill-opacity=\"1\" /><path clip-path=\"url(#clip990)\" d=\"M2089.92 148.201 L2089.92 150.284 L2070.33 150.284 Q2070.61 154.682 2072.97 156.997 Q2075.36 159.289 2079.59 159.289 Q2082.05 159.289 2084.34 158.687 Q2086.65 158.085 2088.92 156.881 L2088.92 160.909 Q2086.63 161.881 2084.22 162.391 Q2081.81 162.9 2079.34 162.9 Q2073.13 162.9 2069.5 159.289 Q2065.89 155.678 2065.89 149.52 Q2065.89 143.155 2069.31 139.428 Q2072.76 135.678 2078.6 135.678 Q2083.83 135.678 2086.86 139.057 Q2089.92 142.414 2089.92 148.201 M2085.66 146.951 Q2085.61 143.456 2083.69 141.372 Q2081.79 139.289 2078.64 139.289 Q2075.08 139.289 2072.93 141.303 Q2070.8 143.317 2070.47 146.974 L2085.66 146.951 Z\" fill=\"#ffffff\" fill-rule=\"evenodd\" fill-opacity=\"1\" /><path clip-path=\"url(#clip990)\" d=\"M2108.69 149.196 Q2103.53 149.196 2101.54 150.377 Q2099.55 151.557 2099.55 154.405 Q2099.55 156.673 2101.03 158.016 Q2102.53 159.335 2105.1 159.335 Q2108.64 159.335 2110.77 156.835 Q2112.92 154.312 2112.92 150.145 L2112.92 149.196 L2108.69 149.196 M2117.18 147.437 L2117.18 162.229 L2112.92 162.229 L2112.92 158.293 Q2111.47 160.655 2109.29 161.789 Q2107.11 162.9 2103.97 162.9 Q2099.99 162.9 2097.62 160.678 Q2095.29 158.432 2095.29 154.682 Q2095.29 150.307 2098.2 148.085 Q2101.14 145.863 2106.95 145.863 L2112.92 145.863 L2112.92 145.446 Q2112.92 142.507 2110.98 140.909 Q2109.06 139.289 2105.56 139.289 Q2103.34 139.289 2101.24 139.821 Q2099.13 140.354 2097.18 141.419 L2097.18 137.483 Q2099.52 136.581 2101.72 136.141 Q2103.92 135.678 2106 135.678 Q2111.63 135.678 2114.41 138.594 Q2117.18 141.511 2117.18 147.437 Z\" fill=\"#ffffff\" fill-rule=\"evenodd\" fill-opacity=\"1\" /><path clip-path=\"url(#clip990)\" d=\"M2140.98 140.284 Q2140.26 139.868 2139.41 139.682 Q2138.57 139.474 2137.55 139.474 Q2133.94 139.474 2132 141.835 Q2130.08 144.173 2130.08 148.571 L2130.08 162.229 L2125.8 162.229 L2125.8 136.303 L2130.08 136.303 L2130.08 140.331 Q2131.42 137.969 2133.57 136.835 Q2135.73 135.678 2138.8 135.678 Q2139.24 135.678 2139.78 135.747 Q2140.31 135.794 2140.96 135.909 L2140.98 140.284 Z\" fill=\"#ffffff\" fill-rule=\"evenodd\" fill-opacity=\"1\" /><polyline clip-path=\"url(#clip990)\" style=\"stroke:#000000; stroke-linecap:butt; stroke-linejoin:round; stroke-width:4; stroke-opacity:1; fill:none\" points=\"\n",
       "  1841.51,196.789 1987.09,196.789 \n",
       "  \"/>\n",
       "<path clip-path=\"url(#clip990)\" d=\"M2015.75 201.129 Q2015.75 205.828 2017.67 208.513 Q2019.62 211.175 2022.99 211.175 Q2026.37 211.175 2028.32 208.513 Q2030.26 205.828 2030.26 201.129 Q2030.26 196.43 2028.32 193.768 Q2026.37 191.083 2022.99 191.083 Q2019.62 191.083 2017.67 193.768 Q2015.75 196.43 2015.75 201.129 M2030.26 210.18 Q2028.92 212.495 2026.86 213.629 Q2024.82 214.74 2021.95 214.74 Q2017.25 214.74 2014.29 210.99 Q2011.35 207.24 2011.35 201.129 Q2011.35 195.018 2014.29 191.268 Q2017.25 187.518 2021.95 187.518 Q2024.82 187.518 2026.86 188.652 Q2028.92 189.763 2030.26 192.078 L2030.26 188.143 L2034.52 188.143 L2034.52 223.93 L2030.26 223.93 L2030.26 210.18 Z\" fill=\"#ffffff\" fill-rule=\"evenodd\" fill-opacity=\"1\" /><path clip-path=\"url(#clip990)\" d=\"M2042.86 203.837 L2042.86 188.143 L2047.12 188.143 L2047.12 203.675 Q2047.12 207.356 2048.55 209.208 Q2049.99 211.036 2052.86 211.036 Q2056.3 211.036 2058.3 208.837 Q2060.31 206.638 2060.31 202.842 L2060.31 188.143 L2064.57 188.143 L2064.57 214.069 L2060.31 214.069 L2060.31 210.087 Q2058.76 212.448 2056.7 213.606 Q2054.66 214.74 2051.95 214.74 Q2047.49 214.74 2045.17 211.962 Q2042.86 209.184 2042.86 203.837 M2053.57 187.518 L2053.57 187.518 Z\" fill=\"#ffffff\" fill-rule=\"evenodd\" fill-opacity=\"1\" /><path clip-path=\"url(#clip990)\" d=\"M2085.12 201.036 Q2079.96 201.036 2077.97 202.217 Q2075.98 203.397 2075.98 206.245 Q2075.98 208.513 2077.46 209.856 Q2078.97 211.175 2081.54 211.175 Q2085.08 211.175 2087.21 208.675 Q2089.36 206.152 2089.36 201.985 L2089.36 201.036 L2085.12 201.036 M2093.62 199.277 L2093.62 214.069 L2089.36 214.069 L2089.36 210.133 Q2087.9 212.495 2085.73 213.629 Q2083.55 214.74 2080.4 214.74 Q2076.42 214.74 2074.06 212.518 Q2071.72 210.272 2071.72 206.522 Q2071.72 202.147 2074.64 199.925 Q2077.58 197.703 2083.39 197.703 L2089.36 197.703 L2089.36 197.286 Q2089.36 194.347 2087.42 192.749 Q2085.49 191.129 2082 191.129 Q2079.78 191.129 2077.67 191.661 Q2075.56 192.194 2073.62 193.259 L2073.62 189.323 Q2075.96 188.421 2078.16 187.981 Q2080.36 187.518 2082.44 187.518 Q2088.06 187.518 2090.84 190.434 Q2093.62 193.351 2093.62 199.277 Z\" fill=\"#ffffff\" fill-rule=\"evenodd\" fill-opacity=\"1\" /><path clip-path=\"url(#clip990)\" d=\"M2119.45 192.078 L2119.45 178.05 L2123.71 178.05 L2123.71 214.069 L2119.45 214.069 L2119.45 210.18 Q2118.11 212.495 2116.05 213.629 Q2114.01 214.74 2111.14 214.74 Q2106.44 214.74 2103.48 210.99 Q2100.54 207.24 2100.54 201.129 Q2100.54 195.018 2103.48 191.268 Q2106.44 187.518 2111.14 187.518 Q2114.01 187.518 2116.05 188.652 Q2118.11 189.763 2119.45 192.078 M2104.94 201.129 Q2104.94 205.828 2106.86 208.513 Q2108.8 211.175 2112.18 211.175 Q2115.56 211.175 2117.51 208.513 Q2119.45 205.828 2119.45 201.129 Q2119.45 196.43 2117.51 193.768 Q2115.56 191.083 2112.18 191.083 Q2108.8 191.083 2106.86 193.768 Q2104.94 196.43 2104.94 201.129 Z\" fill=\"#ffffff\" fill-rule=\"evenodd\" fill-opacity=\"1\" /><path clip-path=\"url(#clip990)\" d=\"M2147.51 192.124 Q2146.79 191.708 2145.93 191.522 Q2145.1 191.314 2144.08 191.314 Q2140.47 191.314 2138.53 193.675 Q2136.61 196.013 2136.61 200.411 L2136.61 214.069 L2132.32 214.069 L2132.32 188.143 L2136.61 188.143 L2136.61 192.171 Q2137.95 189.809 2140.1 188.675 Q2142.25 187.518 2145.33 187.518 Q2145.77 187.518 2146.3 187.587 Q2146.84 187.634 2147.48 187.749 L2147.51 192.124 Z\" fill=\"#ffffff\" fill-rule=\"evenodd\" fill-opacity=\"1\" /><path clip-path=\"url(#clip990)\" d=\"M2163.76 201.036 Q2158.6 201.036 2156.61 202.217 Q2154.61 203.397 2154.61 206.245 Q2154.61 208.513 2156.1 209.856 Q2157.6 211.175 2160.17 211.175 Q2163.71 211.175 2165.84 208.675 Q2167.99 206.152 2167.99 201.985 L2167.99 201.036 L2163.76 201.036 M2172.25 199.277 L2172.25 214.069 L2167.99 214.069 L2167.99 210.133 Q2166.54 212.495 2164.36 213.629 Q2162.18 214.74 2159.04 214.74 Q2155.05 214.74 2152.69 212.518 Q2150.36 210.272 2150.36 206.522 Q2150.36 202.147 2153.27 199.925 Q2156.21 197.703 2162.02 197.703 L2167.99 197.703 L2167.99 197.286 Q2167.99 194.347 2166.05 192.749 Q2164.13 191.129 2160.63 191.129 Q2158.41 191.129 2156.3 191.661 Q2154.2 192.194 2152.25 193.259 L2152.25 189.323 Q2154.59 188.421 2156.79 187.981 Q2158.99 187.518 2161.07 187.518 Q2166.7 187.518 2169.48 190.434 Q2172.25 193.351 2172.25 199.277 Z\" fill=\"#ffffff\" fill-rule=\"evenodd\" fill-opacity=\"1\" /><path clip-path=\"url(#clip990)\" d=\"M2185.24 180.782 L2185.24 188.143 L2194.01 188.143 L2194.01 191.453 L2185.24 191.453 L2185.24 205.527 Q2185.24 208.698 2186.1 209.601 Q2186.98 210.504 2189.64 210.504 L2194.01 210.504 L2194.01 214.069 L2189.64 214.069 Q2184.71 214.069 2182.83 212.24 Q2180.96 210.388 2180.96 205.527 L2180.96 191.453 L2177.83 191.453 L2177.83 188.143 L2180.96 188.143 L2180.96 180.782 L2185.24 180.782 Z\" fill=\"#ffffff\" fill-rule=\"evenodd\" fill-opacity=\"1\" /><path clip-path=\"url(#clip990)\" d=\"M2199.61 188.143 L2203.87 188.143 L2203.87 214.069 L2199.61 214.069 L2199.61 188.143 M2199.61 178.05 L2203.87 178.05 L2203.87 183.444 L2199.61 183.444 L2199.61 178.05 Z\" fill=\"#ffffff\" fill-rule=\"evenodd\" fill-opacity=\"1\" /><path clip-path=\"url(#clip990)\" d=\"M2231.44 189.138 L2231.44 193.12 Q2229.64 192.124 2227.81 191.638 Q2226 191.129 2224.15 191.129 Q2220.01 191.129 2217.72 193.768 Q2215.42 196.384 2215.42 201.129 Q2215.42 205.874 2217.72 208.513 Q2220.01 211.129 2224.15 211.129 Q2226 211.129 2227.81 210.643 Q2229.64 210.133 2231.44 209.138 L2231.44 213.073 Q2229.66 213.907 2227.74 214.323 Q2225.84 214.74 2223.69 214.74 Q2217.83 214.74 2214.38 211.059 Q2210.93 207.379 2210.93 201.129 Q2210.93 194.786 2214.41 191.152 Q2217.9 187.518 2223.97 187.518 Q2225.93 187.518 2227.81 187.935 Q2229.68 188.328 2231.44 189.138 Z\" fill=\"#ffffff\" fill-rule=\"evenodd\" fill-opacity=\"1\" /><polyline clip-path=\"url(#clip990)\" style=\"stroke:#ff0000; stroke-linecap:butt; stroke-linejoin:round; stroke-width:4; stroke-opacity:1; fill:none\" points=\"\n",
       "  1841.51,248.629 1987.09,248.629 \n",
       "  \"/>\n",
       "<path clip-path=\"url(#clip990)\" d=\"M2031.86 240.978 L2031.86 244.96 Q2030.06 243.964 2028.23 243.478 Q2026.42 242.969 2024.57 242.969 Q2020.43 242.969 2018.13 245.608 Q2015.84 248.224 2015.84 252.969 Q2015.84 257.714 2018.13 260.353 Q2020.43 262.969 2024.57 262.969 Q2026.42 262.969 2028.23 262.483 Q2030.06 261.973 2031.86 260.978 L2031.86 264.913 Q2030.08 265.747 2028.16 266.163 Q2026.26 266.58 2024.11 266.58 Q2018.25 266.58 2014.8 262.899 Q2011.35 259.219 2011.35 252.969 Q2011.35 246.626 2014.82 242.992 Q2018.32 239.358 2024.38 239.358 Q2026.35 239.358 2028.23 239.775 Q2030.1 240.168 2031.86 240.978 Z\" fill=\"#ffffff\" fill-rule=\"evenodd\" fill-opacity=\"1\" /><path clip-path=\"url(#clip990)\" d=\"M2038.83 255.677 L2038.83 239.983 L2043.09 239.983 L2043.09 255.515 Q2043.09 259.196 2044.52 261.048 Q2045.96 262.876 2048.83 262.876 Q2052.28 262.876 2054.27 260.677 Q2056.28 258.478 2056.28 254.682 L2056.28 239.983 L2060.54 239.983 L2060.54 265.909 L2056.28 265.909 L2056.28 261.927 Q2054.73 264.288 2052.67 265.446 Q2050.63 266.58 2047.93 266.58 Q2043.46 266.58 2041.14 263.802 Q2038.83 261.024 2038.83 255.677 M2049.55 239.358 L2049.55 239.358 Z\" fill=\"#ffffff\" fill-rule=\"evenodd\" fill-opacity=\"1\" /><path clip-path=\"url(#clip990)\" d=\"M2087.93 252.969 Q2087.93 248.27 2085.98 245.608 Q2084.06 242.923 2080.68 242.923 Q2077.3 242.923 2075.36 245.608 Q2073.43 248.27 2073.43 252.969 Q2073.43 257.668 2075.36 260.353 Q2077.3 263.015 2080.68 263.015 Q2084.06 263.015 2085.98 260.353 Q2087.93 257.668 2087.93 252.969 M2073.43 243.918 Q2074.78 241.603 2076.81 240.492 Q2078.87 239.358 2081.72 239.358 Q2086.44 239.358 2089.38 243.108 Q2092.35 246.858 2092.35 252.969 Q2092.35 259.08 2089.38 262.83 Q2086.44 266.58 2081.72 266.58 Q2078.87 266.58 2076.81 265.469 Q2074.78 264.335 2073.43 262.02 L2073.43 265.909 L2069.15 265.909 L2069.15 229.89 L2073.43 229.89 L2073.43 243.918 Z\" fill=\"#ffffff\" fill-rule=\"evenodd\" fill-opacity=\"1\" /><path clip-path=\"url(#clip990)\" d=\"M2099.41 239.983 L2103.67 239.983 L2103.67 265.909 L2099.41 265.909 L2099.41 239.983 M2099.41 229.89 L2103.67 229.89 L2103.67 235.284 L2099.41 235.284 L2099.41 229.89 Z\" fill=\"#ffffff\" fill-rule=\"evenodd\" fill-opacity=\"1\" /><path clip-path=\"url(#clip990)\" d=\"M2131.24 240.978 L2131.24 244.96 Q2129.43 243.964 2127.6 243.478 Q2125.8 242.969 2123.94 242.969 Q2119.8 242.969 2117.51 245.608 Q2115.22 248.224 2115.22 252.969 Q2115.22 257.714 2117.51 260.353 Q2119.8 262.969 2123.94 262.969 Q2125.8 262.969 2127.6 262.483 Q2129.43 261.973 2131.24 260.978 L2131.24 264.913 Q2129.45 265.747 2127.53 266.163 Q2125.63 266.58 2123.48 266.58 Q2117.62 266.58 2114.17 262.899 Q2110.73 259.219 2110.73 252.969 Q2110.73 246.626 2114.2 242.992 Q2117.69 239.358 2123.76 239.358 Q2125.73 239.358 2127.6 239.775 Q2129.48 240.168 2131.24 240.978 Z\" fill=\"#ffffff\" fill-rule=\"evenodd\" fill-opacity=\"1\" /></svg>\n"
      ]
     },
     "execution_count": 4,
     "metadata": {
      "filenames": {
       "image/svg+xml": "/home/runner/work/hpc-book/hpc-book/src/_build/jupyter_execute/Plots_jl_13_0.svg"
      }
     },
     "output_type": "execute_result"
    }
   ],
   "source": [
    "theme(:dark)\n",
    "\n",
    "t = 0:0.2:5\n",
    "\n",
    "plot(t, t, color=:blue, label=\"linear\", xlab=\"t\")\n",
    "plot!(t, t .^ 2, color=\"black\", label=\"quadratic\")\n",
    "plot!(t, t .^ 3, color=\"red\", label=\"cubic\")"
   ]
  },
  {
   "cell_type": "markdown",
   "id": "fcffd1cf",
   "metadata": {
    "slideshow": {
     "slide_type": "fragment"
    }
   },
   "source": [
    "You can add attributes to the `theme` function and those will become the default settings for all plots that follow."
   ]
  },
  {
   "cell_type": "code",
   "execution_count": 5,
   "id": "985ab999",
   "metadata": {
    "slideshow": {
     "slide_type": "-"
    }
   },
   "outputs": [
    {
     "data": {
      "image/svg+xml": [
       "<?xml version=\"1.0\" encoding=\"utf-8\"?>\n",
       "<svg xmlns=\"http://www.w3.org/2000/svg\" xmlns:xlink=\"http://www.w3.org/1999/xlink\" width=\"600\" height=\"400\" viewBox=\"0 0 2400 1600\">\n",
       "<defs>\n",
       "  <clipPath id=\"clip030\">\n",
       "    <rect x=\"0\" y=\"0\" width=\"2400\" height=\"1600\"/>\n",
       "  </clipPath>\n",
       "</defs>\n",
       "<path clip-path=\"url(#clip030)\" d=\"\n",
       "M0 1600 L2400 1600 L2400 0 L0 0  Z\n",
       "  \" fill=\"#363d46\" fill-rule=\"evenodd\" fill-opacity=\"1\"/>\n",
       "<defs>\n",
       "  <clipPath id=\"clip031\">\n",
       "    <rect x=\"480\" y=\"0\" width=\"1681\" height=\"1600\"/>\n",
       "  </clipPath>\n",
       "</defs>\n",
       "<path clip-path=\"url(#clip030)\" d=\"\n",
       "M169.121 1423.18 L2352.76 1423.18 L2352.76 47.2441 L169.121 47.2441  Z\n",
       "  \" fill=\"#30343b\" fill-rule=\"evenodd\" fill-opacity=\"1\"/>\n",
       "<defs>\n",
       "  <clipPath id=\"clip032\">\n",
       "    <rect x=\"169\" y=\"47\" width=\"2185\" height=\"1377\"/>\n",
       "  </clipPath>\n",
       "</defs>\n",
       "<polyline clip-path=\"url(#clip030)\" style=\"stroke:#adb2b7; stroke-linecap:butt; stroke-linejoin:round; stroke-width:4; stroke-opacity:1; fill:none\" points=\"\n",
       "  169.121,1423.18 2352.76,1423.18 \n",
       "  \"/>\n",
       "<polyline clip-path=\"url(#clip030)\" style=\"stroke:#adb2b7; stroke-linecap:butt; stroke-linejoin:round; stroke-width:4; stroke-opacity:1; fill:none\" points=\"\n",
       "  230.922,1423.18 230.922,1404.28 \n",
       "  \"/>\n",
       "<polyline clip-path=\"url(#clip030)\" style=\"stroke:#adb2b7; stroke-linecap:butt; stroke-linejoin:round; stroke-width:4; stroke-opacity:1; fill:none\" points=\"\n",
       "  642.929,1423.18 642.929,1404.28 \n",
       "  \"/>\n",
       "<polyline clip-path=\"url(#clip030)\" style=\"stroke:#adb2b7; stroke-linecap:butt; stroke-linejoin:round; stroke-width:4; stroke-opacity:1; fill:none\" points=\"\n",
       "  1054.94,1423.18 1054.94,1404.28 \n",
       "  \"/>\n",
       "<polyline clip-path=\"url(#clip030)\" style=\"stroke:#adb2b7; stroke-linecap:butt; stroke-linejoin:round; stroke-width:4; stroke-opacity:1; fill:none\" points=\"\n",
       "  1466.94,1423.18 1466.94,1404.28 \n",
       "  \"/>\n",
       "<polyline clip-path=\"url(#clip030)\" style=\"stroke:#adb2b7; stroke-linecap:butt; stroke-linejoin:round; stroke-width:4; stroke-opacity:1; fill:none\" points=\"\n",
       "  1878.95,1423.18 1878.95,1404.28 \n",
       "  \"/>\n",
       "<polyline clip-path=\"url(#clip030)\" style=\"stroke:#adb2b7; stroke-linecap:butt; stroke-linejoin:round; stroke-width:4; stroke-opacity:1; fill:none\" points=\"\n",
       "  2290.95,1423.18 2290.95,1404.28 \n",
       "  \"/>\n",
       "<path clip-path=\"url(#clip030)\" d=\"M230.922 1454.1 Q227.311 1454.1 225.483 1457.66 Q223.677 1461.2 223.677 1468.33 Q223.677 1475.44 225.483 1479.01 Q227.311 1482.55 230.922 1482.55 Q234.557 1482.55 236.362 1479.01 Q238.191 1475.44 238.191 1468.33 Q238.191 1461.2 236.362 1457.66 Q234.557 1454.1 230.922 1454.1 M230.922 1450.39 Q236.732 1450.39 239.788 1455 Q242.867 1459.58 242.867 1468.33 Q242.867 1477.06 239.788 1481.67 Q236.732 1486.25 230.922 1486.25 Q225.112 1486.25 222.033 1481.67 Q218.978 1477.06 218.978 1468.33 Q218.978 1459.58 222.033 1455 Q225.112 1450.39 230.922 1450.39 Z\" fill=\"#ffffff\" fill-rule=\"evenodd\" fill-opacity=\"1\" /><path clip-path=\"url(#clip030)\" d=\"M633.311 1481.64 L640.95 1481.64 L640.95 1455.28 L632.64 1456.95 L632.64 1452.69 L640.903 1451.02 L645.579 1451.02 L645.579 1481.64 L653.218 1481.64 L653.218 1485.58 L633.311 1485.58 L633.311 1481.64 Z\" fill=\"#ffffff\" fill-rule=\"evenodd\" fill-opacity=\"1\" /><path clip-path=\"url(#clip030)\" d=\"M1049.59 1481.64 L1065.91 1481.64 L1065.91 1485.58 L1043.96 1485.58 L1043.96 1481.64 Q1046.63 1478.89 1051.21 1474.26 Q1055.81 1469.61 1057 1468.27 Q1059.24 1465.74 1060.12 1464.01 Q1061.02 1462.25 1061.02 1460.56 Q1061.02 1457.8 1059.08 1456.07 Q1057.16 1454.33 1054.06 1454.33 Q1051.86 1454.33 1049.4 1455.09 Q1046.97 1455.86 1044.19 1457.41 L1044.19 1452.69 Q1047.02 1451.55 1049.47 1450.97 Q1051.93 1450.39 1053.96 1450.39 Q1059.33 1450.39 1062.53 1453.08 Q1065.72 1455.77 1065.72 1460.26 Q1065.72 1462.39 1064.91 1464.31 Q1064.13 1466.2 1062.02 1468.8 Q1061.44 1469.47 1058.34 1472.69 Q1055.24 1475.88 1049.59 1481.64 Z\" fill=\"#ffffff\" fill-rule=\"evenodd\" fill-opacity=\"1\" /><path clip-path=\"url(#clip030)\" d=\"M1471.19 1466.95 Q1474.55 1467.66 1476.42 1469.93 Q1478.32 1472.2 1478.32 1475.53 Q1478.32 1480.65 1474.8 1483.45 Q1471.28 1486.25 1464.8 1486.25 Q1462.62 1486.25 1460.31 1485.81 Q1458.02 1485.39 1455.56 1484.54 L1455.56 1480.02 Q1457.51 1481.16 1459.82 1481.74 Q1462.14 1482.32 1464.66 1482.32 Q1469.06 1482.32 1471.35 1480.58 Q1473.67 1478.84 1473.67 1475.53 Q1473.67 1472.48 1471.51 1470.77 Q1469.38 1469.03 1465.56 1469.03 L1461.54 1469.03 L1461.54 1465.19 L1465.75 1465.19 Q1469.2 1465.19 1471.03 1463.82 Q1472.86 1462.43 1472.86 1459.84 Q1472.86 1457.18 1470.96 1455.77 Q1469.08 1454.33 1465.56 1454.33 Q1463.64 1454.33 1461.44 1454.75 Q1459.25 1455.16 1456.61 1456.04 L1456.61 1451.88 Q1459.27 1451.14 1461.58 1450.77 Q1463.92 1450.39 1465.98 1450.39 Q1471.31 1450.39 1474.41 1452.83 Q1477.51 1455.23 1477.51 1459.35 Q1477.51 1462.22 1475.87 1464.21 Q1474.22 1466.18 1471.19 1466.95 Z\" fill=\"#ffffff\" fill-rule=\"evenodd\" fill-opacity=\"1\" /><path clip-path=\"url(#clip030)\" d=\"M1881.96 1455.09 L1870.15 1473.54 L1881.96 1473.54 L1881.96 1455.09 M1880.73 1451.02 L1886.61 1451.02 L1886.61 1473.54 L1891.54 1473.54 L1891.54 1477.43 L1886.61 1477.43 L1886.61 1485.58 L1881.96 1485.58 L1881.96 1477.43 L1866.36 1477.43 L1866.36 1472.92 L1880.73 1451.02 Z\" fill=\"#ffffff\" fill-rule=\"evenodd\" fill-opacity=\"1\" /><path clip-path=\"url(#clip030)\" d=\"M2281.23 1451.02 L2299.59 1451.02 L2299.59 1454.96 L2285.52 1454.96 L2285.52 1463.43 Q2286.53 1463.08 2287.55 1462.92 Q2288.57 1462.73 2289.59 1462.73 Q2295.38 1462.73 2298.76 1465.9 Q2302.14 1469.08 2302.14 1474.49 Q2302.14 1480.07 2298.66 1483.17 Q2295.19 1486.25 2288.87 1486.25 Q2286.7 1486.25 2284.43 1485.88 Q2282.18 1485.51 2279.77 1484.77 L2279.77 1480.07 Q2281.86 1481.2 2284.08 1481.76 Q2286.3 1482.32 2288.78 1482.32 Q2292.78 1482.32 2295.12 1480.21 Q2297.46 1478.1 2297.46 1474.49 Q2297.46 1470.88 2295.12 1468.77 Q2292.78 1466.67 2288.78 1466.67 Q2286.9 1466.67 2285.03 1467.08 Q2283.18 1467.5 2281.23 1468.38 L2281.23 1451.02 Z\" fill=\"#ffffff\" fill-rule=\"evenodd\" fill-opacity=\"1\" /><path clip-path=\"url(#clip030)\" d=\"M1260 1522.27 L1260 1532.4 L1272.06 1532.4 L1272.06 1536.95 L1260 1536.95 L1260 1556.3 Q1260 1560.66 1261.18 1561.9 Q1262.39 1563.14 1266.05 1563.14 L1272.06 1563.14 L1272.06 1568.04 L1266.05 1568.04 Q1259.27 1568.04 1256.69 1565.53 Q1254.11 1562.98 1254.11 1556.3 L1254.11 1536.95 L1249.81 1536.95 L1249.81 1532.4 L1254.11 1532.4 L1254.11 1522.27 L1260 1522.27 Z\" fill=\"#ffffff\" fill-rule=\"evenodd\" fill-opacity=\"1\" /><polyline clip-path=\"url(#clip030)\" style=\"stroke:#adb2b7; stroke-linecap:butt; stroke-linejoin:round; stroke-width:4; stroke-opacity:1; fill:none\" points=\"\n",
       "  169.121,1423.18 169.121,47.2441 \n",
       "  \"/>\n",
       "<polyline clip-path=\"url(#clip030)\" style=\"stroke:#adb2b7; stroke-linecap:butt; stroke-linejoin:round; stroke-width:4; stroke-opacity:1; fill:none\" points=\"\n",
       "  169.121,1384.24 188.019,1384.24 \n",
       "  \"/>\n",
       "<polyline clip-path=\"url(#clip030)\" style=\"stroke:#adb2b7; stroke-linecap:butt; stroke-linejoin:round; stroke-width:4; stroke-opacity:1; fill:none\" points=\"\n",
       "  169.121,1176.55 188.019,1176.55 \n",
       "  \"/>\n",
       "<polyline clip-path=\"url(#clip030)\" style=\"stroke:#adb2b7; stroke-linecap:butt; stroke-linejoin:round; stroke-width:4; stroke-opacity:1; fill:none\" points=\"\n",
       "  169.121,968.861 188.019,968.861 \n",
       "  \"/>\n",
       "<polyline clip-path=\"url(#clip030)\" style=\"stroke:#adb2b7; stroke-linecap:butt; stroke-linejoin:round; stroke-width:4; stroke-opacity:1; fill:none\" points=\"\n",
       "  169.121,761.173 188.019,761.173 \n",
       "  \"/>\n",
       "<polyline clip-path=\"url(#clip030)\" style=\"stroke:#adb2b7; stroke-linecap:butt; stroke-linejoin:round; stroke-width:4; stroke-opacity:1; fill:none\" points=\"\n",
       "  169.121,553.485 188.019,553.485 \n",
       "  \"/>\n",
       "<polyline clip-path=\"url(#clip030)\" style=\"stroke:#adb2b7; stroke-linecap:butt; stroke-linejoin:round; stroke-width:4; stroke-opacity:1; fill:none\" points=\"\n",
       "  169.121,345.796 188.019,345.796 \n",
       "  \"/>\n",
       "<polyline clip-path=\"url(#clip030)\" style=\"stroke:#adb2b7; stroke-linecap:butt; stroke-linejoin:round; stroke-width:4; stroke-opacity:1; fill:none\" points=\"\n",
       "  169.121,138.108 188.019,138.108 \n",
       "  \"/>\n",
       "<path clip-path=\"url(#clip030)\" d=\"M121.177 1370.04 Q117.566 1370.04 115.737 1373.6 Q113.932 1377.14 113.932 1384.27 Q113.932 1391.38 115.737 1394.94 Q117.566 1398.49 121.177 1398.49 Q124.811 1398.49 126.617 1394.94 Q128.445 1391.38 128.445 1384.27 Q128.445 1377.14 126.617 1373.6 Q124.811 1370.04 121.177 1370.04 M121.177 1366.33 Q126.987 1366.33 130.043 1370.94 Q133.121 1375.52 133.121 1384.27 Q133.121 1393 130.043 1397.61 Q126.987 1402.19 121.177 1402.19 Q115.367 1402.19 112.288 1397.61 Q109.233 1393 109.233 1384.27 Q109.233 1375.52 112.288 1370.94 Q115.367 1366.33 121.177 1366.33 Z\" fill=\"#ffffff\" fill-rule=\"evenodd\" fill-opacity=\"1\" /><path clip-path=\"url(#clip030)\" d=\"M85.0429 1189.89 L101.362 1189.89 L101.362 1193.83 L79.4179 1193.83 L79.4179 1189.89 Q82.0799 1187.14 86.6632 1182.51 Q91.2697 1177.86 92.4502 1176.52 Q94.6956 1173.99 95.5752 1172.26 Q96.478 1170.5 96.478 1168.81 Q96.478 1166.05 94.5336 1164.32 Q92.6123 1162.58 89.5104 1162.58 Q87.3114 1162.58 84.8577 1163.34 Q82.4271 1164.11 79.6494 1165.66 L79.6494 1160.94 Q82.4734 1159.8 84.9271 1159.22 Q87.3808 1158.64 89.4178 1158.64 Q94.7882 1158.64 97.9826 1161.33 Q101.177 1164.02 101.177 1168.51 Q101.177 1170.64 100.367 1172.56 Q99.5798 1174.45 97.4734 1177.05 Q96.8947 1177.72 93.7928 1180.94 Q90.691 1184.13 85.0429 1189.89 Z\" fill=\"#ffffff\" fill-rule=\"evenodd\" fill-opacity=\"1\" /><path clip-path=\"url(#clip030)\" d=\"M121.177 1162.35 Q117.566 1162.35 115.737 1165.91 Q113.932 1169.45 113.932 1176.58 Q113.932 1183.69 115.737 1187.26 Q117.566 1190.8 121.177 1190.8 Q124.811 1190.8 126.617 1187.26 Q128.445 1183.69 128.445 1176.58 Q128.445 1169.45 126.617 1165.91 Q124.811 1162.35 121.177 1162.35 M121.177 1158.64 Q126.987 1158.64 130.043 1163.25 Q133.121 1167.83 133.121 1176.58 Q133.121 1185.31 130.043 1189.92 Q126.987 1194.5 121.177 1194.5 Q115.367 1194.5 112.288 1189.92 Q109.233 1185.31 109.233 1176.58 Q109.233 1167.83 112.288 1163.25 Q115.367 1158.64 121.177 1158.64 Z\" fill=\"#ffffff\" fill-rule=\"evenodd\" fill-opacity=\"1\" /><path clip-path=\"url(#clip030)\" d=\"M93.8623 955.655 L82.0568 974.104 L93.8623 974.104 L93.8623 955.655 M92.6354 951.581 L98.515 951.581 L98.515 974.104 L103.446 974.104 L103.446 977.993 L98.515 977.993 L98.515 986.141 L93.8623 986.141 L93.8623 977.993 L78.2605 977.993 L78.2605 973.479 L92.6354 951.581 Z\" fill=\"#ffffff\" fill-rule=\"evenodd\" fill-opacity=\"1\" /><path clip-path=\"url(#clip030)\" d=\"M121.177 954.66 Q117.566 954.66 115.737 958.225 Q113.932 961.767 113.932 968.896 Q113.932 976.003 115.737 979.567 Q117.566 983.109 121.177 983.109 Q124.811 983.109 126.617 979.567 Q128.445 976.003 128.445 968.896 Q128.445 961.767 126.617 958.225 Q124.811 954.66 121.177 954.66 M121.177 950.956 Q126.987 950.956 130.043 955.563 Q133.121 960.146 133.121 968.896 Q133.121 977.623 130.043 982.229 Q126.987 986.813 121.177 986.813 Q115.367 986.813 112.288 982.229 Q109.233 977.623 109.233 968.896 Q109.233 960.146 112.288 955.563 Q115.367 950.956 121.177 950.956 Z\" fill=\"#ffffff\" fill-rule=\"evenodd\" fill-opacity=\"1\" /><path clip-path=\"url(#clip030)\" d=\"M91.5938 759.31 Q88.4456 759.31 86.5938 761.462 Q84.7651 763.615 84.7651 767.365 Q84.7651 771.092 86.5938 773.268 Q88.4456 775.421 91.5938 775.421 Q94.7419 775.421 96.5706 773.268 Q98.4224 771.092 98.4224 767.365 Q98.4224 763.615 96.5706 761.462 Q94.7419 759.31 91.5938 759.31 M100.876 744.657 L100.876 748.916 Q99.1169 748.083 97.3113 747.643 Q95.5289 747.203 93.7697 747.203 Q89.1401 747.203 86.6864 750.328 Q84.2558 753.453 83.9086 759.773 Q85.2743 757.759 87.3345 756.694 Q89.3947 755.606 91.8715 755.606 Q97.0798 755.606 100.089 758.777 Q103.121 761.925 103.121 767.365 Q103.121 772.689 99.9733 775.907 Q96.8252 779.124 91.5938 779.124 Q85.5984 779.124 82.4271 774.541 Q79.2559 769.935 79.2559 761.208 Q79.2559 753.013 83.1447 748.152 Q87.0336 743.268 93.5845 743.268 Q95.3437 743.268 97.1261 743.615 Q98.9317 743.962 100.876 744.657 Z\" fill=\"#ffffff\" fill-rule=\"evenodd\" fill-opacity=\"1\" /><path clip-path=\"url(#clip030)\" d=\"M121.177 746.972 Q117.566 746.972 115.737 750.537 Q113.932 754.078 113.932 761.208 Q113.932 768.314 115.737 771.879 Q117.566 775.421 121.177 775.421 Q124.811 775.421 126.617 771.879 Q128.445 768.314 128.445 761.208 Q128.445 754.078 126.617 750.537 Q124.811 746.972 121.177 746.972 M121.177 743.268 Q126.987 743.268 130.043 747.874 Q133.121 752.458 133.121 761.208 Q133.121 769.935 130.043 774.541 Q126.987 779.124 121.177 779.124 Q115.367 779.124 112.288 774.541 Q109.233 769.935 109.233 761.208 Q109.233 752.458 112.288 747.874 Q115.367 743.268 121.177 743.268 Z\" fill=\"#ffffff\" fill-rule=\"evenodd\" fill-opacity=\"1\" /><path clip-path=\"url(#clip030)\" d=\"M91.0151 554.353 Q87.6817 554.353 85.7605 556.135 Q83.8623 557.917 83.8623 561.042 Q83.8623 564.167 85.7605 565.95 Q87.6817 567.732 91.0151 567.732 Q94.3484 567.732 96.2697 565.95 Q98.1909 564.144 98.1909 561.042 Q98.1909 557.917 96.2697 556.135 Q94.3715 554.353 91.0151 554.353 M86.3392 552.362 Q83.3299 551.621 81.6401 549.561 Q79.9735 547.501 79.9735 544.538 Q79.9735 540.394 82.9133 537.987 Q85.8762 535.58 91.0151 535.58 Q96.1771 535.58 99.1169 537.987 Q102.057 540.394 102.057 544.538 Q102.057 547.501 100.367 549.561 Q98.7002 551.621 95.7141 552.362 Q99.0937 553.149 100.969 555.441 Q102.867 557.732 102.867 561.042 Q102.867 566.066 99.7882 568.751 Q96.7326 571.436 91.0151 571.436 Q85.2975 571.436 82.2188 568.751 Q79.1633 566.066 79.1633 561.042 Q79.1633 557.732 81.0614 555.441 Q82.9595 553.149 86.3392 552.362 M84.6262 544.978 Q84.6262 547.663 86.2929 549.167 Q87.9827 550.672 91.0151 550.672 Q94.0243 550.672 95.7141 549.167 Q97.4271 547.663 97.4271 544.978 Q97.4271 542.293 95.7141 540.788 Q94.0243 539.283 91.0151 539.283 Q87.9827 539.283 86.2929 540.788 Q84.6262 542.293 84.6262 544.978 Z\" fill=\"#ffffff\" fill-rule=\"evenodd\" fill-opacity=\"1\" /><path clip-path=\"url(#clip030)\" d=\"M121.177 539.283 Q117.566 539.283 115.737 542.848 Q113.932 546.39 113.932 553.519 Q113.932 560.626 115.737 564.191 Q117.566 567.732 121.177 567.732 Q124.811 567.732 126.617 564.191 Q128.445 560.626 128.445 553.519 Q128.445 546.39 126.617 542.848 Q124.811 539.283 121.177 539.283 M121.177 535.58 Q126.987 535.58 130.043 540.186 Q133.121 544.769 133.121 553.519 Q133.121 562.246 130.043 566.853 Q126.987 571.436 121.177 571.436 Q115.367 571.436 112.288 566.853 Q109.233 562.246 109.233 553.519 Q109.233 544.769 112.288 540.186 Q115.367 535.58 121.177 535.58 Z\" fill=\"#ffffff\" fill-rule=\"evenodd\" fill-opacity=\"1\" /><path clip-path=\"url(#clip030)\" d=\"M51.6634 359.141 L59.3023 359.141 L59.3023 332.775 L50.9921 334.442 L50.9921 330.183 L59.256 328.516 L63.9319 328.516 L63.9319 359.141 L71.5707 359.141 L71.5707 363.076 L51.6634 363.076 L51.6634 359.141 Z\" fill=\"#ffffff\" fill-rule=\"evenodd\" fill-opacity=\"1\" /><path clip-path=\"url(#clip030)\" d=\"M91.0151 331.595 Q87.404 331.595 85.5753 335.16 Q83.7697 338.701 83.7697 345.831 Q83.7697 352.937 85.5753 356.502 Q87.404 360.044 91.0151 360.044 Q94.6493 360.044 96.4548 356.502 Q98.2835 352.937 98.2835 345.831 Q98.2835 338.701 96.4548 335.16 Q94.6493 331.595 91.0151 331.595 M91.0151 327.891 Q96.8252 327.891 99.8808 332.498 Q102.959 337.081 102.959 345.831 Q102.959 354.558 99.8808 359.164 Q96.8252 363.747 91.0151 363.747 Q85.2049 363.747 82.1262 359.164 Q79.0707 354.558 79.0707 345.831 Q79.0707 337.081 82.1262 332.498 Q85.2049 327.891 91.0151 327.891 Z\" fill=\"#ffffff\" fill-rule=\"evenodd\" fill-opacity=\"1\" /><path clip-path=\"url(#clip030)\" d=\"M121.177 331.595 Q117.566 331.595 115.737 335.16 Q113.932 338.701 113.932 345.831 Q113.932 352.937 115.737 356.502 Q117.566 360.044 121.177 360.044 Q124.811 360.044 126.617 356.502 Q128.445 352.937 128.445 345.831 Q128.445 338.701 126.617 335.16 Q124.811 331.595 121.177 331.595 M121.177 327.891 Q126.987 327.891 130.043 332.498 Q133.121 337.081 133.121 345.831 Q133.121 354.558 130.043 359.164 Q126.987 363.747 121.177 363.747 Q115.367 363.747 112.288 359.164 Q109.233 354.558 109.233 345.831 Q109.233 337.081 112.288 332.498 Q115.367 327.891 121.177 327.891 Z\" fill=\"#ffffff\" fill-rule=\"evenodd\" fill-opacity=\"1\" /><path clip-path=\"url(#clip030)\" d=\"M51.6634 151.453 L59.3023 151.453 L59.3023 125.087 L50.9921 126.754 L50.9921 122.494 L59.256 120.828 L63.9319 120.828 L63.9319 151.453 L71.5707 151.453 L71.5707 155.388 L51.6634 155.388 L51.6634 151.453 Z\" fill=\"#ffffff\" fill-rule=\"evenodd\" fill-opacity=\"1\" /><path clip-path=\"url(#clip030)\" d=\"M85.0429 151.453 L101.362 151.453 L101.362 155.388 L79.4179 155.388 L79.4179 151.453 Q82.0799 148.698 86.6632 144.068 Q91.2697 139.416 92.4502 138.073 Q94.6956 135.55 95.5752 133.814 Q96.478 132.055 96.478 130.365 Q96.478 127.61 94.5336 125.874 Q92.6123 124.138 89.5104 124.138 Q87.3114 124.138 84.8577 124.902 Q82.4271 125.666 79.6494 127.217 L79.6494 122.494 Q82.4734 121.36 84.9271 120.781 Q87.3808 120.203 89.4178 120.203 Q94.7882 120.203 97.9826 122.888 Q101.177 125.573 101.177 130.064 Q101.177 132.193 100.367 134.115 Q99.5798 136.013 97.4734 138.605 Q96.8947 139.277 93.7928 142.494 Q90.691 145.689 85.0429 151.453 Z\" fill=\"#ffffff\" fill-rule=\"evenodd\" fill-opacity=\"1\" /><path clip-path=\"url(#clip030)\" d=\"M121.177 123.906 Q117.566 123.906 115.737 127.471 Q113.932 131.013 113.932 138.142 Q113.932 145.249 115.737 148.814 Q117.566 152.355 121.177 152.355 Q124.811 152.355 126.617 148.814 Q128.445 145.249 128.445 138.142 Q128.445 131.013 126.617 127.471 Q124.811 123.906 121.177 123.906 M121.177 120.203 Q126.987 120.203 130.043 124.809 Q133.121 129.393 133.121 138.142 Q133.121 146.869 130.043 151.476 Q126.987 156.059 121.177 156.059 Q115.367 156.059 112.288 151.476 Q109.233 146.869 109.233 138.142 Q109.233 129.393 112.288 124.809 Q115.367 120.203 121.177 120.203 Z\" fill=\"#ffffff\" fill-rule=\"evenodd\" fill-opacity=\"1\" /><polyline clip-path=\"url(#clip032)\" style=\"stroke:#0000ff; stroke-linecap:butt; stroke-linejoin:round; stroke-width:4; stroke-opacity:1; fill:none\" points=\"\n",
       "  230.922,1384.24 313.324,1382.16 395.725,1380.08 478.126,1378.01 560.528,1375.93 642.929,1373.85 725.33,1371.78 807.731,1369.7 890.133,1367.62 972.534,1365.55 \n",
       "  1054.94,1363.47 1137.34,1361.39 1219.74,1359.32 1302.14,1357.24 1384.54,1355.16 1466.94,1353.09 1549.34,1351.01 1631.74,1348.93 1714.15,1346.85 1796.55,1344.78 \n",
       "  1878.95,1342.7 1961.35,1340.62 2043.75,1338.55 2126.15,1336.47 2208.55,1334.39 2290.95,1332.32 \n",
       "  \"/>\n",
       "<polyline clip-path=\"url(#clip032)\" style=\"stroke:#000000; stroke-linecap:butt; stroke-linejoin:round; stroke-width:4; stroke-opacity:1; fill:none\" points=\"\n",
       "  230.922,1384.24 313.324,1383.82 395.725,1382.58 478.126,1380.5 560.528,1377.59 642.929,1373.85 725.33,1369.28 807.731,1363.88 890.133,1357.65 972.534,1350.59 \n",
       "  1054.94,1342.7 1137.34,1333.98 1219.74,1324.42 1302.14,1314.04 1384.54,1302.82 1466.94,1290.78 1549.34,1277.9 1631.74,1264.19 1714.15,1249.66 1796.55,1234.29 \n",
       "  1878.95,1218.09 1961.35,1201.06 2043.75,1183.2 2126.15,1164.5 2208.55,1144.98 2290.95,1124.63 \n",
       "  \"/>\n",
       "<polyline clip-path=\"url(#clip032)\" style=\"stroke:#ff0000; stroke-linecap:butt; stroke-linejoin:round; stroke-width:4; stroke-opacity:1; fill:none\" points=\"\n",
       "  230.922,1384.24 313.324,1384.16 395.725,1383.57 478.126,1382 560.528,1378.92 642.929,1373.85 725.33,1366.29 807.731,1355.74 890.133,1341.7 972.534,1323.68 \n",
       "  1054.94,1301.16 1137.34,1273.66 1219.74,1240.68 1302.14,1201.72 1384.54,1156.28 1466.94,1103.86 1549.34,1043.96 1631.74,976.089 1714.15,899.743 1796.55,814.424 \n",
       "  1878.95,719.635 1961.35,614.877 2043.75,499.652 2126.15,373.46 2208.55,235.804 2290.95,86.1857 \n",
       "  \"/>\n",
       "<path clip-path=\"url(#clip030)\" d=\"\n",
       "M1817.25 300.469 L2279.97 300.469 L2279.97 93.1086 L1817.25 93.1086  Z\n",
       "  \" fill=\"#363d46\" fill-rule=\"evenodd\" fill-opacity=\"1\"/>\n",
       "<polyline clip-path=\"url(#clip030)\" style=\"stroke:#ffffff; stroke-linecap:butt; stroke-linejoin:round; stroke-width:4; stroke-opacity:1; fill:none\" points=\"\n",
       "  1817.25,300.469 2279.97,300.469 2279.97,93.1086 1817.25,93.1086 1817.25,300.469 \n",
       "  \"/>\n",
       "<polyline clip-path=\"url(#clip030)\" style=\"stroke:#0000ff; stroke-linecap:butt; stroke-linejoin:round; stroke-width:4; stroke-opacity:1; fill:none\" points=\"\n",
       "  1841.51,144.949 1987.09,144.949 \n",
       "  \"/>\n",
       "<path clip-path=\"url(#clip030)\" d=\"M2011.35 126.21 L2015.61 126.21 L2015.61 162.229 L2011.35 162.229 L2011.35 126.21 Z\" fill=\"#ffffff\" fill-rule=\"evenodd\" fill-opacity=\"1\" /><path clip-path=\"url(#clip030)\" d=\"M2024.52 136.303 L2028.78 136.303 L2028.78 162.229 L2024.52 162.229 L2024.52 136.303 M2024.52 126.21 L2028.78 126.21 L2028.78 131.604 L2024.52 131.604 L2024.52 126.21 Z\" fill=\"#ffffff\" fill-rule=\"evenodd\" fill-opacity=\"1\" /><path clip-path=\"url(#clip030)\" d=\"M2059.24 146.581 L2059.24 162.229 L2054.99 162.229 L2054.99 146.719 Q2054.99 143.039 2053.55 141.21 Q2052.12 139.382 2049.24 139.382 Q2045.8 139.382 2043.8 141.581 Q2041.81 143.78 2041.81 147.576 L2041.81 162.229 L2037.53 162.229 L2037.53 136.303 L2041.81 136.303 L2041.81 140.331 Q2043.34 137.993 2045.4 136.835 Q2047.49 135.678 2050.19 135.678 Q2054.66 135.678 2056.95 138.456 Q2059.24 141.21 2059.24 146.581 Z\" fill=\"#ffffff\" fill-rule=\"evenodd\" fill-opacity=\"1\" /><path clip-path=\"url(#clip030)\" d=\"M2089.92 148.201 L2089.92 150.284 L2070.33 150.284 Q2070.61 154.682 2072.97 156.997 Q2075.36 159.289 2079.59 159.289 Q2082.05 159.289 2084.34 158.687 Q2086.65 158.085 2088.92 156.881 L2088.92 160.909 Q2086.63 161.881 2084.22 162.391 Q2081.81 162.9 2079.34 162.9 Q2073.13 162.9 2069.5 159.289 Q2065.89 155.678 2065.89 149.52 Q2065.89 143.155 2069.31 139.428 Q2072.76 135.678 2078.6 135.678 Q2083.83 135.678 2086.86 139.057 Q2089.92 142.414 2089.92 148.201 M2085.66 146.951 Q2085.61 143.456 2083.69 141.372 Q2081.79 139.289 2078.64 139.289 Q2075.08 139.289 2072.93 141.303 Q2070.8 143.317 2070.47 146.974 L2085.66 146.951 Z\" fill=\"#ffffff\" fill-rule=\"evenodd\" fill-opacity=\"1\" /><path clip-path=\"url(#clip030)\" d=\"M2108.69 149.196 Q2103.53 149.196 2101.54 150.377 Q2099.55 151.557 2099.55 154.405 Q2099.55 156.673 2101.03 158.016 Q2102.53 159.335 2105.1 159.335 Q2108.64 159.335 2110.77 156.835 Q2112.92 154.312 2112.92 150.145 L2112.92 149.196 L2108.69 149.196 M2117.18 147.437 L2117.18 162.229 L2112.92 162.229 L2112.92 158.293 Q2111.47 160.655 2109.29 161.789 Q2107.11 162.9 2103.97 162.9 Q2099.99 162.9 2097.62 160.678 Q2095.29 158.432 2095.29 154.682 Q2095.29 150.307 2098.2 148.085 Q2101.14 145.863 2106.95 145.863 L2112.92 145.863 L2112.92 145.446 Q2112.92 142.507 2110.98 140.909 Q2109.06 139.289 2105.56 139.289 Q2103.34 139.289 2101.24 139.821 Q2099.13 140.354 2097.18 141.419 L2097.18 137.483 Q2099.52 136.581 2101.72 136.141 Q2103.92 135.678 2106 135.678 Q2111.63 135.678 2114.41 138.594 Q2117.18 141.511 2117.18 147.437 Z\" fill=\"#ffffff\" fill-rule=\"evenodd\" fill-opacity=\"1\" /><path clip-path=\"url(#clip030)\" d=\"M2140.98 140.284 Q2140.26 139.868 2139.41 139.682 Q2138.57 139.474 2137.55 139.474 Q2133.94 139.474 2132 141.835 Q2130.08 144.173 2130.08 148.571 L2130.08 162.229 L2125.8 162.229 L2125.8 136.303 L2130.08 136.303 L2130.08 140.331 Q2131.42 137.969 2133.57 136.835 Q2135.73 135.678 2138.8 135.678 Q2139.24 135.678 2139.78 135.747 Q2140.31 135.794 2140.96 135.909 L2140.98 140.284 Z\" fill=\"#ffffff\" fill-rule=\"evenodd\" fill-opacity=\"1\" /><polyline clip-path=\"url(#clip030)\" style=\"stroke:#000000; stroke-linecap:butt; stroke-linejoin:round; stroke-width:4; stroke-opacity:1; fill:none\" points=\"\n",
       "  1841.51,196.789 1987.09,196.789 \n",
       "  \"/>\n",
       "<path clip-path=\"url(#clip030)\" d=\"M2015.75 201.129 Q2015.75 205.828 2017.67 208.513 Q2019.62 211.175 2022.99 211.175 Q2026.37 211.175 2028.32 208.513 Q2030.26 205.828 2030.26 201.129 Q2030.26 196.43 2028.32 193.768 Q2026.37 191.083 2022.99 191.083 Q2019.62 191.083 2017.67 193.768 Q2015.75 196.43 2015.75 201.129 M2030.26 210.18 Q2028.92 212.495 2026.86 213.629 Q2024.82 214.74 2021.95 214.74 Q2017.25 214.74 2014.29 210.99 Q2011.35 207.24 2011.35 201.129 Q2011.35 195.018 2014.29 191.268 Q2017.25 187.518 2021.95 187.518 Q2024.82 187.518 2026.86 188.652 Q2028.92 189.763 2030.26 192.078 L2030.26 188.143 L2034.52 188.143 L2034.52 223.93 L2030.26 223.93 L2030.26 210.18 Z\" fill=\"#ffffff\" fill-rule=\"evenodd\" fill-opacity=\"1\" /><path clip-path=\"url(#clip030)\" d=\"M2042.86 203.837 L2042.86 188.143 L2047.12 188.143 L2047.12 203.675 Q2047.12 207.356 2048.55 209.208 Q2049.99 211.036 2052.86 211.036 Q2056.3 211.036 2058.3 208.837 Q2060.31 206.638 2060.31 202.842 L2060.31 188.143 L2064.57 188.143 L2064.57 214.069 L2060.31 214.069 L2060.31 210.087 Q2058.76 212.448 2056.7 213.606 Q2054.66 214.74 2051.95 214.74 Q2047.49 214.74 2045.17 211.962 Q2042.86 209.184 2042.86 203.837 M2053.57 187.518 L2053.57 187.518 Z\" fill=\"#ffffff\" fill-rule=\"evenodd\" fill-opacity=\"1\" /><path clip-path=\"url(#clip030)\" d=\"M2085.12 201.036 Q2079.96 201.036 2077.97 202.217 Q2075.98 203.397 2075.98 206.245 Q2075.98 208.513 2077.46 209.856 Q2078.97 211.175 2081.54 211.175 Q2085.08 211.175 2087.21 208.675 Q2089.36 206.152 2089.36 201.985 L2089.36 201.036 L2085.12 201.036 M2093.62 199.277 L2093.62 214.069 L2089.36 214.069 L2089.36 210.133 Q2087.9 212.495 2085.73 213.629 Q2083.55 214.74 2080.4 214.74 Q2076.42 214.74 2074.06 212.518 Q2071.72 210.272 2071.72 206.522 Q2071.72 202.147 2074.64 199.925 Q2077.58 197.703 2083.39 197.703 L2089.36 197.703 L2089.36 197.286 Q2089.36 194.347 2087.42 192.749 Q2085.49 191.129 2082 191.129 Q2079.78 191.129 2077.67 191.661 Q2075.56 192.194 2073.62 193.259 L2073.62 189.323 Q2075.96 188.421 2078.16 187.981 Q2080.36 187.518 2082.44 187.518 Q2088.06 187.518 2090.84 190.434 Q2093.62 193.351 2093.62 199.277 Z\" fill=\"#ffffff\" fill-rule=\"evenodd\" fill-opacity=\"1\" /><path clip-path=\"url(#clip030)\" d=\"M2119.45 192.078 L2119.45 178.05 L2123.71 178.05 L2123.71 214.069 L2119.45 214.069 L2119.45 210.18 Q2118.11 212.495 2116.05 213.629 Q2114.01 214.74 2111.14 214.74 Q2106.44 214.74 2103.48 210.99 Q2100.54 207.24 2100.54 201.129 Q2100.54 195.018 2103.48 191.268 Q2106.44 187.518 2111.14 187.518 Q2114.01 187.518 2116.05 188.652 Q2118.11 189.763 2119.45 192.078 M2104.94 201.129 Q2104.94 205.828 2106.86 208.513 Q2108.8 211.175 2112.18 211.175 Q2115.56 211.175 2117.51 208.513 Q2119.45 205.828 2119.45 201.129 Q2119.45 196.43 2117.51 193.768 Q2115.56 191.083 2112.18 191.083 Q2108.8 191.083 2106.86 193.768 Q2104.94 196.43 2104.94 201.129 Z\" fill=\"#ffffff\" fill-rule=\"evenodd\" fill-opacity=\"1\" /><path clip-path=\"url(#clip030)\" d=\"M2147.51 192.124 Q2146.79 191.708 2145.93 191.522 Q2145.1 191.314 2144.08 191.314 Q2140.47 191.314 2138.53 193.675 Q2136.61 196.013 2136.61 200.411 L2136.61 214.069 L2132.32 214.069 L2132.32 188.143 L2136.61 188.143 L2136.61 192.171 Q2137.95 189.809 2140.1 188.675 Q2142.25 187.518 2145.33 187.518 Q2145.77 187.518 2146.3 187.587 Q2146.84 187.634 2147.48 187.749 L2147.51 192.124 Z\" fill=\"#ffffff\" fill-rule=\"evenodd\" fill-opacity=\"1\" /><path clip-path=\"url(#clip030)\" d=\"M2163.76 201.036 Q2158.6 201.036 2156.61 202.217 Q2154.61 203.397 2154.61 206.245 Q2154.61 208.513 2156.1 209.856 Q2157.6 211.175 2160.17 211.175 Q2163.71 211.175 2165.84 208.675 Q2167.99 206.152 2167.99 201.985 L2167.99 201.036 L2163.76 201.036 M2172.25 199.277 L2172.25 214.069 L2167.99 214.069 L2167.99 210.133 Q2166.54 212.495 2164.36 213.629 Q2162.18 214.74 2159.04 214.74 Q2155.05 214.74 2152.69 212.518 Q2150.36 210.272 2150.36 206.522 Q2150.36 202.147 2153.27 199.925 Q2156.21 197.703 2162.02 197.703 L2167.99 197.703 L2167.99 197.286 Q2167.99 194.347 2166.05 192.749 Q2164.13 191.129 2160.63 191.129 Q2158.41 191.129 2156.3 191.661 Q2154.2 192.194 2152.25 193.259 L2152.25 189.323 Q2154.59 188.421 2156.79 187.981 Q2158.99 187.518 2161.07 187.518 Q2166.7 187.518 2169.48 190.434 Q2172.25 193.351 2172.25 199.277 Z\" fill=\"#ffffff\" fill-rule=\"evenodd\" fill-opacity=\"1\" /><path clip-path=\"url(#clip030)\" d=\"M2185.24 180.782 L2185.24 188.143 L2194.01 188.143 L2194.01 191.453 L2185.24 191.453 L2185.24 205.527 Q2185.24 208.698 2186.1 209.601 Q2186.98 210.504 2189.64 210.504 L2194.01 210.504 L2194.01 214.069 L2189.64 214.069 Q2184.71 214.069 2182.83 212.24 Q2180.96 210.388 2180.96 205.527 L2180.96 191.453 L2177.83 191.453 L2177.83 188.143 L2180.96 188.143 L2180.96 180.782 L2185.24 180.782 Z\" fill=\"#ffffff\" fill-rule=\"evenodd\" fill-opacity=\"1\" /><path clip-path=\"url(#clip030)\" d=\"M2199.61 188.143 L2203.87 188.143 L2203.87 214.069 L2199.61 214.069 L2199.61 188.143 M2199.61 178.05 L2203.87 178.05 L2203.87 183.444 L2199.61 183.444 L2199.61 178.05 Z\" fill=\"#ffffff\" fill-rule=\"evenodd\" fill-opacity=\"1\" /><path clip-path=\"url(#clip030)\" d=\"M2231.44 189.138 L2231.44 193.12 Q2229.64 192.124 2227.81 191.638 Q2226 191.129 2224.15 191.129 Q2220.01 191.129 2217.72 193.768 Q2215.42 196.384 2215.42 201.129 Q2215.42 205.874 2217.72 208.513 Q2220.01 211.129 2224.15 211.129 Q2226 211.129 2227.81 210.643 Q2229.64 210.133 2231.44 209.138 L2231.44 213.073 Q2229.66 213.907 2227.74 214.323 Q2225.84 214.74 2223.69 214.74 Q2217.83 214.74 2214.38 211.059 Q2210.93 207.379 2210.93 201.129 Q2210.93 194.786 2214.41 191.152 Q2217.9 187.518 2223.97 187.518 Q2225.93 187.518 2227.81 187.935 Q2229.68 188.328 2231.44 189.138 Z\" fill=\"#ffffff\" fill-rule=\"evenodd\" fill-opacity=\"1\" /><polyline clip-path=\"url(#clip030)\" style=\"stroke:#ff0000; stroke-linecap:butt; stroke-linejoin:round; stroke-width:4; stroke-opacity:1; fill:none\" points=\"\n",
       "  1841.51,248.629 1987.09,248.629 \n",
       "  \"/>\n",
       "<path clip-path=\"url(#clip030)\" d=\"M2031.86 240.978 L2031.86 244.96 Q2030.06 243.964 2028.23 243.478 Q2026.42 242.969 2024.57 242.969 Q2020.43 242.969 2018.13 245.608 Q2015.84 248.224 2015.84 252.969 Q2015.84 257.714 2018.13 260.353 Q2020.43 262.969 2024.57 262.969 Q2026.42 262.969 2028.23 262.483 Q2030.06 261.973 2031.86 260.978 L2031.86 264.913 Q2030.08 265.747 2028.16 266.163 Q2026.26 266.58 2024.11 266.58 Q2018.25 266.58 2014.8 262.899 Q2011.35 259.219 2011.35 252.969 Q2011.35 246.626 2014.82 242.992 Q2018.32 239.358 2024.38 239.358 Q2026.35 239.358 2028.23 239.775 Q2030.1 240.168 2031.86 240.978 Z\" fill=\"#ffffff\" fill-rule=\"evenodd\" fill-opacity=\"1\" /><path clip-path=\"url(#clip030)\" d=\"M2038.83 255.677 L2038.83 239.983 L2043.09 239.983 L2043.09 255.515 Q2043.09 259.196 2044.52 261.048 Q2045.96 262.876 2048.83 262.876 Q2052.28 262.876 2054.27 260.677 Q2056.28 258.478 2056.28 254.682 L2056.28 239.983 L2060.54 239.983 L2060.54 265.909 L2056.28 265.909 L2056.28 261.927 Q2054.73 264.288 2052.67 265.446 Q2050.63 266.58 2047.93 266.58 Q2043.46 266.58 2041.14 263.802 Q2038.83 261.024 2038.83 255.677 M2049.55 239.358 L2049.55 239.358 Z\" fill=\"#ffffff\" fill-rule=\"evenodd\" fill-opacity=\"1\" /><path clip-path=\"url(#clip030)\" d=\"M2087.93 252.969 Q2087.93 248.27 2085.98 245.608 Q2084.06 242.923 2080.68 242.923 Q2077.3 242.923 2075.36 245.608 Q2073.43 248.27 2073.43 252.969 Q2073.43 257.668 2075.36 260.353 Q2077.3 263.015 2080.68 263.015 Q2084.06 263.015 2085.98 260.353 Q2087.93 257.668 2087.93 252.969 M2073.43 243.918 Q2074.78 241.603 2076.81 240.492 Q2078.87 239.358 2081.72 239.358 Q2086.44 239.358 2089.38 243.108 Q2092.35 246.858 2092.35 252.969 Q2092.35 259.08 2089.38 262.83 Q2086.44 266.58 2081.72 266.58 Q2078.87 266.58 2076.81 265.469 Q2074.78 264.335 2073.43 262.02 L2073.43 265.909 L2069.15 265.909 L2069.15 229.89 L2073.43 229.89 L2073.43 243.918 Z\" fill=\"#ffffff\" fill-rule=\"evenodd\" fill-opacity=\"1\" /><path clip-path=\"url(#clip030)\" d=\"M2099.41 239.983 L2103.67 239.983 L2103.67 265.909 L2099.41 265.909 L2099.41 239.983 M2099.41 229.89 L2103.67 229.89 L2103.67 235.284 L2099.41 235.284 L2099.41 229.89 Z\" fill=\"#ffffff\" fill-rule=\"evenodd\" fill-opacity=\"1\" /><path clip-path=\"url(#clip030)\" d=\"M2131.24 240.978 L2131.24 244.96 Q2129.43 243.964 2127.6 243.478 Q2125.8 242.969 2123.94 242.969 Q2119.8 242.969 2117.51 245.608 Q2115.22 248.224 2115.22 252.969 Q2115.22 257.714 2117.51 260.353 Q2119.8 262.969 2123.94 262.969 Q2125.8 262.969 2127.6 262.483 Q2129.43 261.973 2131.24 260.978 L2131.24 264.913 Q2129.45 265.747 2127.53 266.163 Q2125.63 266.58 2123.48 266.58 Q2117.62 266.58 2114.17 262.899 Q2110.73 259.219 2110.73 252.969 Q2110.73 246.626 2114.2 242.992 Q2117.69 239.358 2123.76 239.358 Q2125.73 239.358 2127.6 239.775 Q2129.48 240.168 2131.24 240.978 Z\" fill=\"#ffffff\" fill-rule=\"evenodd\" fill-opacity=\"1\" /></svg>\n"
      ]
     },
     "execution_count": 5,
     "metadata": {
      "filenames": {
       "image/svg+xml": "/home/runner/work/hpc-book/hpc-book/src/_build/jupyter_execute/Plots_jl_15_0.svg"
      }
     },
     "output_type": "execute_result"
    }
   ],
   "source": [
    "theme(:dark, grid=:false)\n",
    "\n",
    "t = 0:0.2:5\n",
    "\n",
    "plot(t, t, color=:blue, label=\"linear\", xlab=\"t\")\n",
    "plot!(t, t .^ 2, color=\"black\", label=\"quadratic\")\n",
    "plot!(t, t .^ 3, color=\"red\", label=\"cubic\")"
   ]
  },
  {
   "cell_type": "markdown",
   "id": "d05ef582",
   "metadata": {
    "slideshow": {
     "slide_type": "slide"
    }
   },
   "source": [
    "## Subplots / layouts"
   ]
  },
  {
   "cell_type": "code",
   "execution_count": 6,
   "id": "2db29857",
   "metadata": {
    "slideshow": {
     "slide_type": "skip"
    },
    "tags": [
     "output_scroll"
    ]
   },
   "outputs": [
    {
     "ename": "LoadError",
     "evalue": "ArgumentError: Package Tables not found in current path:\n- Run `import Pkg; Pkg.add(\"Tables\")` to install the Tables package.\n",
     "output_type": "error",
     "traceback": [
      "ArgumentError: Package Tables not found in current path:\n- Run `import Pkg; Pkg.add(\"Tables\")` to install the Tables package.\n",
      "",
      "Stacktrace:",
      " [1] require(into::Module, mod::Symbol)",
      "   @ Base ./loading.jl:967",
      " [2] eval",
      "   @ ./boot.jl:373 [inlined]",
      " [3] include_string(mapexpr::typeof(REPL.softscope), mod::Module, code::String, filename::String)",
      "   @ Base ./loading.jl:1196"
     ]
    }
   ],
   "source": [
    "using CSV\n",
    "using Tables\n",
    "\n",
    "data = CSV.File(\"data/200wells.csv\", header=false, skipto=2) |> Tables.matrix\n",
    "permeability = data[:, 6]\n",
    "porosity = data[:, 5];"
   ]
  },
  {
   "cell_type": "code",
   "execution_count": null,
   "id": "020a4f84",
   "metadata": {
    "slideshow": {
     "slide_type": "-"
    }
   },
   "outputs": [],
   "source": [
    "theme(:default, label=nothing)\n",
    "\n",
    "\n",
    "p1 = scatter(porosity, permeability, xlabel=\"porosity\", ylabel=\"permeability\")\n",
    "p2 = histogram(porosity, title=\"Porosity\")\n",
    "p3 = histogram(permeability, title=\"Permeability\")\n",
    "\n",
    "\n",
    "l = @layout [\n",
    "    a{0.6w} [b{0.5h}\n",
    "             c{0.5h}  ]\n",
    "]\n",
    "plot(p1, p2, p3, layout=l)"
   ]
  },
  {
   "cell_type": "markdown",
   "id": "f51d0275",
   "metadata": {
    "slideshow": {
     "slide_type": "slide"
    }
   },
   "source": [
    "## Contour plots"
   ]
  },
  {
   "cell_type": "markdown",
   "id": "d767a51f",
   "metadata": {
    "slideshow": {
     "slide_type": "skip"
    }
   },
   "source": [
    "The following is an example of a filled contour plot in Plots.jl using the command. This figure shows the depth of a petroleum reservoir.\n",
    "\n",
    "Contour plots must have data that is defined on a rectangular grid in the $(x, y)$ plane.  In the example below, the file `nechelik.npy` has already been organized in this way.  Scattered data must be interpolated onto a rectangular grid.  Any data that has the format of a floating point `NaN` will be shown as white space in the contour plot."
   ]
  },
  {
   "cell_type": "code",
   "execution_count": null,
   "id": "5d42752c",
   "metadata": {
    "slideshow": {
     "slide_type": "skip"
    }
   },
   "outputs": [],
   "source": [
    "using NPZ\n",
    "\n",
    "data = npzread(\"data/nechelik.npy\")\n",
    "\n",
    "X = data[1, :, :]\n",
    "Y = data[2, :, :]\n",
    "Z = data[3, :, :];"
   ]
  },
  {
   "cell_type": "code",
   "execution_count": null,
   "id": "423771ea",
   "metadata": {
    "slideshow": {
     "slide_type": "-"
    }
   },
   "outputs": [],
   "source": [
    "contourf(X[1, :], Y[:, 1], Z, linewidth=0, grid=false)"
   ]
  },
  {
   "cell_type": "markdown",
   "id": "5c3c695a",
   "metadata": {
    "slideshow": {
     "slide_type": "slide"
    }
   },
   "source": [
    "## Surface plots"
   ]
  },
  {
   "cell_type": "markdown",
   "id": "cedf7a23",
   "metadata": {
    "slideshow": {
     "slide_type": "skip"
    }
   },
   "source": [
    "The following example is a surface plot; however, the default *backend* [`GR`]([https://docs.juliaplots.org/stable/backends/#[GR]) does not interpolate the surface well.  It's better to use a different backend."
   ]
  },
  {
   "cell_type": "code",
   "execution_count": null,
   "id": "442134cc",
   "metadata": {
    "slideshow": {
     "slide_type": "-"
    }
   },
   "outputs": [],
   "source": [
    "plot(X, Y, Z, st=:surface)"
   ]
  },
  {
   "cell_type": "markdown",
   "id": "4d42ee55",
   "metadata": {
    "slideshow": {
     "slide_type": "subslide"
    }
   },
   "source": [
    "### Plotly backend"
   ]
  },
  {
   "cell_type": "markdown",
   "id": "420369b4",
   "metadata": {
    "slideshow": {
     "slide_type": "skip"
    }
   },
   "source": [
    "Not only does the Plotly backend interpolate the surface better, it also allows for interactive plots. More information and a full list of backends is available [here](https://docs.juliaplots.org/latest/backends/)."
   ]
  },
  {
   "cell_type": "code",
   "execution_count": null,
   "id": "12cb8fe0",
   "metadata": {
    "slideshow": {
     "slide_type": "-"
    }
   },
   "outputs": [],
   "source": [
    "plotlyjs()\n",
    "plot(X, Y, Z, st=:surface)"
   ]
  },
  {
   "cell_type": "code",
   "execution_count": null,
   "id": "9458cdf0",
   "metadata": {
    "hide_input": true,
    "init_cell": true,
    "javascript_last_cell": true,
    "jupyter": {
     "source_hidden": true
    },
    "slideshow": {
     "slide_type": "skip"
    },
    "tags": [
     "remove_cell"
    ]
   },
   "outputs": [],
   "source": [
    "macro javascript_str(s) display(\"text/javascript\", s); end\n",
    "javascript\"\"\"\n",
    "function hideElements(elements, start) {\n",
    "for(var i = 0, length = elements.length; i < length;i++) {\n",
    "    if(i >= start) {\n",
    "        elements[i].style.display = \"none\";\n",
    "    }\n",
    "}\n",
    "}\n",
    "var prompt_elements = document.getElementsByClassName(\"prompt\");\n",
    "hideElements(prompt_elements, 0)\n",
    "\"\"\""
   ]
  }
 ],
 "metadata": {
  "jupytext": {
   "formats": "ipynb,md:myst",
   "text_representation": {
    "extension": ".md",
    "format_name": "myst",
    "format_version": 0.13,
    "jupytext_version": "1.11.5"
   }
  },
  "kernelspec": {
   "display_name": "Julia 1.7.2",
   "language": "julia",
   "name": "julia-1.7"
  },
  "language_info": {
   "file_extension": ".jl",
   "mimetype": "application/julia",
   "name": "julia",
   "version": "1.7.2"
  },
  "source_map": [
   15,
   19,
   35,
   39,
   43,
   53,
   57,
   61,
   65,
   73,
   77,
   89,
   93,
   97,
   111,
   115,
   129,
   133,
   147,
   167,
   171,
   177,
   191,
   199,
   203,
   207,
   215,
   219,
   223,
   232
  ]
 },
 "nbformat": 4,
 "nbformat_minor": 5
}