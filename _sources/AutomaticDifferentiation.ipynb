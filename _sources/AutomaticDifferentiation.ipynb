{
 "cells": [
  {
   "cell_type": "markdown",
   "id": "5c48572b",
   "metadata": {
    "slideshow": {
     "slide_type": "skip"
    }
   },
   "source": [
    "# Automatic Differentiation"
   ]
  },
  {
   "cell_type": "markdown",
   "id": "508c3b59",
   "metadata": {
    "slideshow": {
     "slide_type": "slide"
    }
   },
   "source": [
    "## Recall the chain rule\n",
    "\n",
    "Any computer program can be thought of as a composition of functions, i.e.\n",
    "\n",
    "$$\n",
    "output = f(g(h(input))) = f(g(h(w_0)) = f(g(w_1)) = f(w_2) = w_3\n",
    "$$\n",
    "\n",
    "where\n",
    "\n",
    "\\begin{align*}\n",
    "w_0 &= input \\\\\n",
    "w_1 &= h(w_0) \\\\\n",
    "w_2 &= g(w_1) \\\\\n",
    "w_3 &= f(w_2) = output\n",
    "\\end{align*}\n",
    "\n",
    "If we want to compute\n",
    "\n",
    "$$\n",
    "\\frac{d}{d(input)}(output)\n",
    "$$\n",
    "\n",
    "we can use the chain rule, i.e.\n",
    "\n",
    "$$\n",
    "\\frac{d}{d(input)}(output) = \\frac{d(output)}{dw_2}\\frac{dw_2}{dw_1}\\frac{dw_1}{d(input)}\n",
    "$$\n",
    "\n",
    "\n",
    "The computer can do this for us!  See [here](https://en.wikipedia.org/wiki/Automatic_differentiation) for more details."
   ]
  },
  {
   "cell_type": "markdown",
   "id": "951e894d",
   "metadata": {
    "slideshow": {
     "slide_type": "slide"
    }
   },
   "source": [
    "## Forward vs. Reverse Mode AD\n",
    "\n",
    " * **Forward AD** traverses the chain rule from inside to outside\n",
    "     * Easy to implement\n",
    "     * Lower memory footprint\n",
    "     \n",
    "     \n",
    " * **Reverse AD** traverses the chain rule from outside to inside\n",
    "     * Requires half the operations of Forward AD\n",
    "     * More difficult to implement \n",
    "     * Larger memory footprint"
   ]
  },
  {
   "cell_type": "markdown",
   "id": "965d99ec",
   "metadata": {
    "slideshow": {
     "slide_type": "slide"
    }
   },
   "source": [
    "## ForwardDiff.jl \n",
    "\n",
    "Forward mode AD in Julia\n",
    "\n",
    "Let's start with the example $f(x) = 3 x^2$ which of course has the analytic derivative\n",
    "\n",
    "$$\n",
    "f'(x) = 6 x\n",
    "$$"
   ]
  },
  {
   "cell_type": "code",
   "execution_count": 1,
   "id": "af10d258",
   "metadata": {},
   "outputs": [
    {
     "data": {
      "text/plain": [
       "18"
      ]
     },
     "execution_count": 1,
     "metadata": {},
     "output_type": "execute_result"
    }
   ],
   "source": [
    "using ForwardDiff\n",
    "\n",
    "f(x) = 3*x^2\n",
    "\n",
    "ForwardDiff.derivative(f, 3)"
   ]
  },
  {
   "cell_type": "markdown",
   "id": "0ea6f07e",
   "metadata": {
    "slideshow": {
     "slide_type": "subslide"
    }
   },
   "source": [
    "## In place functions"
   ]
  },
  {
   "cell_type": "code",
   "execution_count": 2,
   "id": "02217d88",
   "metadata": {
    "slideshow": {
     "slide_type": "-"
    }
   },
   "outputs": [
    {
     "name": "stdout",
     "output_type": "stream",
     "text": [
      "y = [27.0, 81.0]\n"
     ]
    }
   ],
   "source": [
    "function f!(y, x)\n",
    "  y[1] = 3.0 * x^2\n",
    "  y[2] = x^4\n",
    "  nothing\n",
    "end\n",
    "\n",
    "y = [0.0, 0.0]\n",
    "f!(y, 3)\n",
    "@show y;"
   ]
  },
  {
   "cell_type": "code",
   "execution_count": 3,
   "id": "496a770d",
   "metadata": {
    "slideshow": {
     "slide_type": "fragment"
    }
   },
   "outputs": [
    {
     "data": {
      "text/plain": [
       "2-element Vector{Float64}:\n",
       "  18.0\n",
       " 108.0"
      ]
     },
     "execution_count": 3,
     "metadata": {},
     "output_type": "execute_result"
    }
   ],
   "source": [
    "y = [0.0, 0.0]\n",
    "ForwardDiff.derivative(f!, y, 3)"
   ]
  },
  {
   "cell_type": "code",
   "execution_count": 4,
   "id": "f0fc2dc5",
   "metadata": {
    "slideshow": {
     "slide_type": "fragment"
    }
   },
   "outputs": [
    {
     "name": "stdout",
     "output_type": "stream",
     "text": [
      "dy = [18.0, 108.0]\n"
     ]
    }
   ],
   "source": [
    "y = [0.0, 0.0]\n",
    "dy = [0.0, 0.0]\n",
    "ForwardDiff.derivative!(dy, f!, y, 3)\n",
    "@show dy;"
   ]
  },
  {
   "cell_type": "markdown",
   "id": "70f6c96d",
   "metadata": {
    "slideshow": {
     "slide_type": "subslide"
    }
   },
   "source": [
    "### Gradients\n",
    "\n",
    "Recall the gradient of a scalar function is\n",
    "\n",
    "$$\n",
    "\\nabla f(x_1, x_2) = \\left[ \\frac{\\partial f}{\\partial x_1}, \\frac{\\partial f}{\\partial x_2}\\right]\n",
    "$$"
   ]
  },
  {
   "cell_type": "code",
   "execution_count": 5,
   "id": "3a738c3e",
   "metadata": {
    "slideshow": {
     "slide_type": "-"
    }
   },
   "outputs": [
    {
     "data": {
      "text/plain": [
       "19.0"
      ]
     },
     "execution_count": 5,
     "metadata": {},
     "output_type": "execute_result"
    }
   ],
   "source": [
    "g(x) = 3.0 * x[1]^2 + x[2]^4\n",
    "g([1.0, 2.0])"
   ]
  },
  {
   "cell_type": "code",
   "execution_count": 6,
   "id": "b2598963",
   "metadata": {
    "slideshow": {
     "slide_type": "fragment"
    }
   },
   "outputs": [
    {
     "data": {
      "text/plain": [
       "2-element Vector{Float64}:\n",
       "  6.0\n",
       " 32.0"
      ]
     },
     "execution_count": 6,
     "metadata": {},
     "output_type": "execute_result"
    }
   ],
   "source": [
    "ForwardDiff.gradient(g, [1.0, 2.0])"
   ]
  },
  {
   "cell_type": "code",
   "execution_count": 7,
   "id": "cf9347ad",
   "metadata": {
    "slideshow": {
     "slide_type": "fragment"
    }
   },
   "outputs": [
    {
     "data": {
      "text/plain": [
       "19.0"
      ]
     },
     "execution_count": 7,
     "metadata": {},
     "output_type": "execute_result"
    }
   ],
   "source": [
    "h(x, p) = p[1] * x[1]^2 + p[2] * x[2]^4\n",
    "\n",
    "h([1.0, 2.0], [3.0, 1.0])"
   ]
  },
  {
   "cell_type": "code",
   "execution_count": 8,
   "id": "11610239",
   "metadata": {
    "slideshow": {
     "slide_type": "fragment"
    }
   },
   "outputs": [
    {
     "data": {
      "text/plain": [
       "2-element Vector{Float64}:\n",
       "  6.0\n",
       " 32.0"
      ]
     },
     "execution_count": 8,
     "metadata": {},
     "output_type": "execute_result"
    }
   ],
   "source": [
    "ForwardDiff.gradient(x -> h(x, [3.0, 1.0]), [1.0, 2.0])"
   ]
  },
  {
   "cell_type": "markdown",
   "id": "9040c597",
   "metadata": {
    "slideshow": {
     "slide_type": "subslide"
    }
   },
   "source": [
    "### Jacobian\n",
    "\n",
    "Recall the Jacobian of a vector function is\n",
    "\n",
    "$$\n",
    "\\nabla \\vec{f}(x_1, x_2) = \n",
    "\\begin{bmatrix}\n",
    "\\frac{\\partial f_1}{\\partial x_1} & \\frac{\\partial f_1}{\\partial x_2} \\\\\n",
    "\\frac{\\partial f_2}{\\partial x_1} & \\frac{\\partial f_2}{\\partial x_2}\n",
    "\\end{bmatrix}\n",
    "$$"
   ]
  },
  {
   "cell_type": "code",
   "execution_count": 9,
   "id": "8d21cb4e",
   "metadata": {
    "slideshow": {
     "slide_type": "-"
    }
   },
   "outputs": [
    {
     "data": {
      "text/plain": [
       "2-element Vector{Float64}:\n",
       " 27.0\n",
       "  3.0"
      ]
     },
     "execution_count": 9,
     "metadata": {},
     "output_type": "execute_result"
    }
   ],
   "source": [
    "function f2(x)\n",
    "  [3.0 * x[1]^2, x[1] * x[2]^4]\n",
    "end\n",
    "\n",
    "f2([3.0, 1.0])"
   ]
  },
  {
   "cell_type": "code",
   "execution_count": 10,
   "id": "9f48bb8b",
   "metadata": {
    "slideshow": {
     "slide_type": "fragment"
    }
   },
   "outputs": [
    {
     "data": {
      "text/plain": [
       "2×2 Matrix{Float64}:\n",
       " 18.0   0.0\n",
       "  1.0  12.0"
      ]
     },
     "execution_count": 10,
     "metadata": {},
     "output_type": "execute_result"
    }
   ],
   "source": [
    "ForwardDiff.jacobian(f2, [3.0, 1.0])"
   ]
  },
  {
   "cell_type": "markdown",
   "id": "db0be08a",
   "metadata": {
    "slideshow": {
     "slide_type": "slide"
    }
   },
   "source": [
    "### Other AD packages in Julia\n",
    "\n",
    " * [Zygote.jl](https://fluxml.ai/Zygote.jl/latest/) - Reverse Mode AD, source-to-source\n",
    " \n",
    " * [Diffractor.jl](https://github.com/JuliaDiff/Diffractor.jl) - Next generation AD package w/ API similar to Zygote"
   ]
  },
  {
   "cell_type": "code",
   "execution_count": 11,
   "id": "03e8da03",
   "metadata": {
    "hide_input": true,
    "init_cell": true,
    "javascript_last_cell": true,
    "jupyter": {
     "source_hidden": true
    },
    "slideshow": {
     "slide_type": "skip"
    },
    "tags": [
     "remove_cell"
    ]
   },
   "outputs": [
    {
     "data": {
      "application/javascript": [
       "function hideElements(elements, start) {\n",
       "for(var i = 0, length = elements.length; i < length;i++) {\n",
       "    if(i >= start) {\n",
       "        elements[i].style.display = \"none\";\n",
       "    }\n",
       "}\n",
       "}\n",
       "var prompt_elements = document.getElementsByClassName(\"prompt\");\n",
       "hideElements(prompt_elements, 0)\n"
      ]
     },
     "metadata": {},
     "output_type": "display_data"
    }
   ],
   "source": [
    "macro javascript_str(s) display(\"text/javascript\", s); end\n",
    "javascript\"\"\"\n",
    "function hideElements(elements, start) {\n",
    "for(var i = 0, length = elements.length; i < length;i++) {\n",
    "    if(i >= start) {\n",
    "        elements[i].style.display = \"none\";\n",
    "    }\n",
    "}\n",
    "}\n",
    "var prompt_elements = document.getElementsByClassName(\"prompt\");\n",
    "hideElements(prompt_elements, 0)\n",
    "\"\"\""
   ]
  }
 ],
 "metadata": {
  "jupytext": {
   "text_representation": {
    "extension": ".md",
    "format_name": "myst",
    "format_version": 0.13,
    "jupytext_version": "1.11.5"
   }
  },
  "kernelspec": {
   "display_name": "Julia 1.7.2",
   "language": "julia",
   "name": "julia-1.7"
  },
  "language_info": {
   "file_extension": ".jl",
   "mimetype": "application/julia",
   "name": "julia",
   "version": "1.7.2"
  },
  "source_map": [
   14,
   18,
   52,
   66,
   78,
   86,
   90,
   106,
   115,
   126,
   136,
   145,
   153,
   163,
   171,
   185,
   197,
   205,
   213
  ]
 },
 "nbformat": 4,
 "nbformat_minor": 5
}