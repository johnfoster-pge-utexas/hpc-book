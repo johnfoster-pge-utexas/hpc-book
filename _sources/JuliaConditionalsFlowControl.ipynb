{
 "cells": [
  {
   "cell_type": "markdown",
   "id": "41132163",
   "metadata": {
    "slideshow": {
     "slide_type": "skip"
    }
   },
   "source": [
    "# Conditionals and Flow Control\n",
    "\n",
    "*Conditional statements* are tests to return whether a given comparison between two variables is `true` or `false`.  They are used in combination with `if`-statements to control the flow of a program.  For example, we may want to check if the inputs to a particular function or program is within some valid range, or non-negative. In the event that it is a valid input, we proceed with the calculations. In the event that it is an invalid input, we terminate the program and prompt the user to input a parameter that is valid."
   ]
  },
  {
   "cell_type": "markdown",
   "id": "1524a793",
   "metadata": {
    "slideshow": {
     "slide_type": "slide"
    }
   },
   "source": [
    "## Conditional operators\n",
    "\n",
    "The conditional operators in Julia consist of the following:\n",
    "\n",
    "  * `==` for testing if two data types are **equal** to each other\n",
    "  * `!=` for testing if two data types are **not equal** to each other\n",
    "  * `>` for testing if one data type is **greater than** another\n",
    "  * `<` for testing if one data type is **less than** another\n",
    "  * `>=` for testing if one data type is **greater than or equal to** another\n",
    "  * `<=` for testing if one data type is **less than or equal to** another\n",
    "  \n",
    "A few code examples with obvious outputs are shown below"
   ]
  },
  {
   "cell_type": "code",
   "execution_count": 1,
   "id": "97c56eae",
   "metadata": {
    "slideshow": {
     "slide_type": "fragment"
    }
   },
   "outputs": [
    {
     "name": "stdout",
     "output_type": "stream",
     "text": [
      "true\n",
      "true\n",
      "true\n",
      "true\n",
      "true\n",
      "true\n"
     ]
    }
   ],
   "source": [
    "println(5 == 5)\n",
    "println(5 != 6)\n",
    "println(10 > 9)\n",
    "println(9 < 10)\n",
    "println(10 >= 10)\n",
    "println(9 <= 10)"
   ]
  },
  {
   "cell_type": "markdown",
   "id": "09adbc0a",
   "metadata": {
    "slideshow": {
     "slide_type": "fragment"
    }
   },
   "source": [
    "You can *negate* any operation above by placing a `!` in front of it, e.g."
   ]
  },
  {
   "cell_type": "code",
   "execution_count": 2,
   "id": "e32a82c0",
   "metadata": {
    "slideshow": {
     "slide_type": "-"
    }
   },
   "outputs": [
    {
     "data": {
      "text/plain": [
       "false"
      ]
     },
     "execution_count": 2,
     "metadata": {},
     "output_type": "execute_result"
    }
   ],
   "source": [
    "!(5 == 5)"
   ]
  },
  {
   "cell_type": "markdown",
   "id": "de29a5b6",
   "metadata": {
    "slideshow": {
     "slide_type": "subslide"
    }
   },
   "source": [
    "### Testing subsets"
   ]
  },
  {
   "cell_type": "markdown",
   "id": "f2a705a1",
   "metadata": {
    "slideshow": {
     "slide_type": "-"
    }
   },
   "source": [
    "You can also test if one element is a subset of another, e.g."
   ]
  },
  {
   "cell_type": "code",
   "execution_count": 3,
   "id": "da6ab0a4",
   "metadata": {
    "slideshow": {
     "slide_type": "-"
    }
   },
   "outputs": [
    {
     "data": {
      "text/plain": [
       "true"
      ]
     },
     "execution_count": 3,
     "metadata": {},
     "output_type": "execute_result"
    }
   ],
   "source": [
    "1 in [1, 2, 3]"
   ]
  },
  {
   "cell_type": "code",
   "execution_count": 4,
   "id": "9e1bb094",
   "metadata": {
    "slideshow": {
     "slide_type": "fragment"
    }
   },
   "outputs": [
    {
     "data": {
      "text/plain": [
       "true"
      ]
     },
     "execution_count": 4,
     "metadata": {},
     "output_type": "execute_result"
    }
   ],
   "source": [
    "1 in (1, 2, 3)"
   ]
  },
  {
   "cell_type": "code",
   "execution_count": 5,
   "id": "b8e7b652",
   "metadata": {
    "slideshow": {
     "slide_type": "fragment"
    }
   },
   "outputs": [
    {
     "data": {
      "text/plain": [
       "true"
      ]
     },
     "execution_count": 5,
     "metadata": {},
     "output_type": "execute_result"
    }
   ],
   "source": [
    "dict = Dict(\"key1\" => 1, \"key2\" => 2, \"key3\" => 3)\n",
    "\n",
    "haskey(dict, \"key1\")"
   ]
  },
  {
   "cell_type": "code",
   "execution_count": 6,
   "id": "e552a970",
   "metadata": {
    "slideshow": {
     "slide_type": "fragment"
    }
   },
   "outputs": [
    {
     "data": {
      "text/plain": [
       "true"
      ]
     },
     "execution_count": 6,
     "metadata": {},
     "output_type": "execute_result"
    }
   ],
   "source": [
    "1 in values(dict)"
   ]
  },
  {
   "cell_type": "markdown",
   "id": "5af64b81",
   "metadata": {
    "slideshow": {
     "slide_type": "fragment"
    }
   },
   "source": [
    "For strings we need to use the function `occursin()`"
   ]
  },
  {
   "cell_type": "code",
   "execution_count": 7,
   "id": "b8276625",
   "metadata": {
    "slideshow": {
     "slide_type": "-"
    }
   },
   "outputs": [
    {
     "data": {
      "text/plain": [
       "true"
      ]
     },
     "execution_count": 7,
     "metadata": {},
     "output_type": "execute_result"
    }
   ],
   "source": [
    "occursin(\"Hello\", \"Hello, World!\")"
   ]
  },
  {
   "cell_type": "markdown",
   "id": "e7737d7b",
   "metadata": {
    "slideshow": {
     "slide_type": "subslide"
    }
   },
   "source": [
    "### `and` / `or` operations\n",
    "\n",
    "We can combine multiple conditional statements using the `&&` and `||` operators.  For example,"
   ]
  },
  {
   "cell_type": "code",
   "execution_count": 8,
   "id": "68f504dd",
   "metadata": {
    "slideshow": {
     "slide_type": "-"
    }
   },
   "outputs": [
    {
     "data": {
      "text/plain": [
       "true"
      ]
     },
     "execution_count": 8,
     "metadata": {},
     "output_type": "execute_result"
    }
   ],
   "source": [
    "(9 <= 9) && (9 < 10)"
   ]
  },
  {
   "cell_type": "markdown",
   "id": "cbd9124b",
   "metadata": {
    "slideshow": {
     "slide_type": "fragment"
    }
   },
   "source": [
    "These follow the following boolean logic\n",
    "\n",
    " * true `and` true = true\n",
    " * true `and` false = false\n",
    " * false `and` false = false\n",
    " * true `or` true = true\n",
    " * true `or` false = true\n",
    " * false `or` false = false\n",
    " \n",
    "As many `&&` and `||` statements can be combined as desired.  It's a good idea to use parenthesis when combining multiple `and`/`or` operations to ensure clarity in the order of operations."
   ]
  },
  {
   "cell_type": "code",
   "execution_count": 9,
   "id": "711a8359",
   "metadata": {
    "slideshow": {
     "slide_type": "-"
    }
   },
   "outputs": [
    {
     "data": {
      "text/plain": [
       "true"
      ]
     },
     "execution_count": 9,
     "metadata": {},
     "output_type": "execute_result"
    }
   ],
   "source": [
    "(true && false) || true"
   ]
  },
  {
   "cell_type": "markdown",
   "id": "fcc4c43d",
   "metadata": {
    "slideshow": {
     "slide_type": "slide"
    }
   },
   "source": [
    "## `if`, `elseif`, `else` statements"
   ]
  },
  {
   "cell_type": "markdown",
   "id": "1022fccd",
   "metadata": {
    "slideshow": {
     "slide_type": "skip"
    }
   },
   "source": [
    "We control the flow of a program with `if`-statements.  `if`-statements use conditionals as a test and then execute code in the *body* of the `if`-statement when the test is `true`.  Below we define a function that takes a number `x` as an argument and prints `\"x is positive\"` if (and only if) the input value for `x` is greater than 0."
   ]
  },
  {
   "cell_type": "code",
   "execution_count": 10,
   "id": "a45644dc",
   "metadata": {
    "slideshow": {
     "slide_type": "-"
    }
   },
   "outputs": [
    {
     "data": {
      "text/plain": [
       "test_if_x_is_positive (generic function with 1 method)"
      ]
     },
     "execution_count": 10,
     "metadata": {},
     "output_type": "execute_result"
    }
   ],
   "source": [
    "function test_if_x_is_positive(x)\n",
    "    if x > 0\n",
    "        println(\"x is positive\")\n",
    "    end\n",
    "end"
   ]
  },
  {
   "cell_type": "markdown",
   "id": "1ab6e13b",
   "metadata": {
    "slideshow": {
     "slide_type": "skip"
    }
   },
   "source": [
    "Running the function with a few inputs"
   ]
  },
  {
   "cell_type": "code",
   "execution_count": 11,
   "id": "4cf52ff4",
   "metadata": {
    "slideshow": {
     "slide_type": "fragment"
    }
   },
   "outputs": [
    {
     "name": "stdout",
     "output_type": "stream",
     "text": [
      "x is positive\n"
     ]
    }
   ],
   "source": [
    "test_if_x_is_positive(5)"
   ]
  },
  {
   "cell_type": "code",
   "execution_count": 12,
   "id": "d172b752",
   "metadata": {
    "slideshow": {
     "slide_type": "fragment"
    }
   },
   "outputs": [],
   "source": [
    "test_if_x_is_positive(-5)"
   ]
  },
  {
   "cell_type": "markdown",
   "id": "a86b2790",
   "metadata": {
    "slideshow": {
     "slide_type": "skip"
    }
   },
   "source": [
    "Notice the second function call does not return anything at all, this is because the conditional statement evaluated to `False` and therefore the body of the `if`-statement was never executed.  We can add a `else` clause to the `elif`-statement (shorthand for *else if* that will execute given another conditional statement, perhaps checking to see if `x` is negative."
   ]
  },
  {
   "cell_type": "code",
   "execution_count": 13,
   "id": "7d6d2b78",
   "metadata": {
    "slideshow": {
     "slide_type": "fragment"
    }
   },
   "outputs": [
    {
     "data": {
      "text/plain": [
       "test_if_x_is_positive_or_negative (generic function with 1 method)"
      ]
     },
     "execution_count": 13,
     "metadata": {},
     "output_type": "execute_result"
    }
   ],
   "source": [
    "function test_if_x_is_positive_or_negative(x)\n",
    "    if x > 0\n",
    "        println(\"x is positive\")\n",
    "    elseif x < 0\n",
    "        println(\"x is negative\")\n",
    "    end\n",
    "end"
   ]
  },
  {
   "cell_type": "markdown",
   "id": "e392f11e",
   "metadata": {
    "slideshow": {
     "slide_type": "skip"
    }
   },
   "source": [
    "Running the function with a few inputs"
   ]
  },
  {
   "cell_type": "code",
   "execution_count": 14,
   "id": "08dd68bd",
   "metadata": {
    "slideshow": {
     "slide_type": "fragment"
    }
   },
   "outputs": [
    {
     "name": "stdout",
     "output_type": "stream",
     "text": [
      "x is positive\n",
      "x is negative\n"
     ]
    }
   ],
   "source": [
    "test_if_x_is_positive_or_negative(5)\n",
    "test_if_x_is_positive_or_negative(-5)"
   ]
  },
  {
   "cell_type": "markdown",
   "id": "e84d400e",
   "metadata": {
    "slideshow": {
     "slide_type": "skip"
    }
   },
   "source": [
    "achieves the expected result.  What about the case when `x` is exactly 0?"
   ]
  },
  {
   "cell_type": "code",
   "execution_count": 15,
   "id": "041c3ace",
   "metadata": {
    "slideshow": {
     "slide_type": "fragment"
    }
   },
   "outputs": [],
   "source": [
    "test_if_x_is_positive_or_negative(0)"
   ]
  },
  {
   "cell_type": "markdown",
   "id": "5aa97145",
   "metadata": {
    "slideshow": {
     "slide_type": "skip"
    }
   },
   "source": [
    "This case does not return any print statements because neither condition is met.  We could write a thrid condition to test if `x` is identically zero, or we could use an `else` clause which can be thought of as the \"otherwise\" condition.  The `else`-statement will execute in the event that none of the `if` or `elseif` conditions have been met. An `else`-statement is not followed by a condition."
   ]
  },
  {
   "cell_type": "code",
   "execution_count": 16,
   "id": "42beed62",
   "metadata": {
    "slideshow": {
     "slide_type": "fragment"
    }
   },
   "outputs": [
    {
     "data": {
      "text/plain": [
       "test_if_x_is_positive_or_negative (generic function with 1 method)"
      ]
     },
     "execution_count": 16,
     "metadata": {},
     "output_type": "execute_result"
    }
   ],
   "source": [
    "function test_if_x_is_positive_or_negative(x)\n",
    "    if x > 0\n",
    "        println(\"x is positive\")\n",
    "    elseif x < 0\n",
    "        println(\"x is negative\")\n",
    "    else\n",
    "        println(\"x is 0!\")\n",
    "    end\n",
    "end"
   ]
  },
  {
   "cell_type": "code",
   "execution_count": 17,
   "id": "9eaad941",
   "metadata": {
    "slideshow": {
     "slide_type": "-"
    }
   },
   "outputs": [
    {
     "name": "stdout",
     "output_type": "stream",
     "text": [
      "x is 0!\n"
     ]
    }
   ],
   "source": [
    "test_if_x_is_positive_or_negative(0)"
   ]
  },
  {
   "cell_type": "markdown",
   "id": "3ee521b9",
   "metadata": {
    "slideshow": {
     "slide_type": "subslide"
    }
   },
   "source": [
    "### Nesting"
   ]
  },
  {
   "cell_type": "markdown",
   "id": "a12b7aec",
   "metadata": {
    "slideshow": {
     "slide_type": "skip"
    }
   },
   "source": [
    "You can also nest `if`-statements inside each other. There is no limit to how many times this can be done.  An example is below.  This function takes two arguments `x` and `truncate_value`.  If `x` is less than`truncate_value` it returns `truncate_value`, otherwise is returns `x`.  It also allows `truncate_value` to be defined as `nothing` in which case it returns `x`."
   ]
  },
  {
   "cell_type": "code",
   "execution_count": 18,
   "id": "3980aaf8",
   "metadata": {
    "slideshow": {
     "slide_type": "-"
    }
   },
   "outputs": [
    {
     "data": {
      "text/plain": [
       "truncate (generic function with 1 method)"
      ]
     },
     "execution_count": 18,
     "metadata": {},
     "output_type": "execute_result"
    }
   ],
   "source": [
    "function truncate(x, truncate_value)\n",
    "    if truncate_value != nothing\n",
    "        \n",
    "        if x < truncate_value\n",
    "            return truncate_value\n",
    "        else\n",
    "            return x\n",
    "        end\n",
    "    else\n",
    "        return x\n",
    "    end\n",
    "end"
   ]
  },
  {
   "cell_type": "code",
   "execution_count": 19,
   "id": "6dc0ff5c",
   "metadata": {
    "slideshow": {
     "slide_type": "-"
    }
   },
   "outputs": [
    {
     "name": "stdout",
     "output_type": "stream",
     "text": [
      "truncate(5, 4) = 5\n",
      "truncate(-4, 0) = 0\n",
      "truncate(5, nothing) = 5\n"
     ]
    }
   ],
   "source": [
    "@show truncate(5, 4)\n",
    "@show truncate(-4, 0)\n",
    "@show truncate(5, nothing);"
   ]
  },
  {
   "cell_type": "markdown",
   "id": "d6f061e6",
   "metadata": {
    "slideshow": {
     "slide_type": "skip"
    }
   },
   "source": [
    "While you can nest `if`-statements to any level, the readability of the code begins to suffer the deeper you go.  At some point, it's generally better for readability and debugging mistakes in the code to break out some of the logic into smaller functions.  The example above is really too simple for this to be necessary, but an example is shown below to demonstrate the idea."
   ]
  },
  {
   "cell_type": "markdown",
   "id": "d15e3c0b",
   "metadata": {
    "slideshow": {
     "slide_type": "skip"
    },
    "tags": [
     "popout"
    ]
   },
   "source": [
    "The underscore `_` in the function name `_truncate` is simply a convention to indicate that this function is never intended to be called directly by a user, but rather just a function that will be called in the body of other functions."
   ]
  },
  {
   "cell_type": "code",
   "execution_count": 20,
   "id": "0c0f3e3a",
   "metadata": {
    "slideshow": {
     "slide_type": "skip"
    }
   },
   "outputs": [
    {
     "data": {
      "text/plain": [
       "truncate (generic function with 1 method)"
      ]
     },
     "execution_count": 20,
     "metadata": {},
     "output_type": "execute_result"
    }
   ],
   "source": [
    "function _truncate(x, truncate_value)\n",
    "    \n",
    "    if x < truncate_value\n",
    "        return truncate_value\n",
    "    else\n",
    "        return x \n",
    "    end\n",
    "end\n",
    "    \n",
    "function truncate(x, truncate_value)\n",
    "    \n",
    "    if truncate_value != nothing\n",
    "        \n",
    "        return _truncate(x, truncate_value)\n",
    "    \n",
    "    else\n",
    "        return x\n",
    "    end\n",
    "end"
   ]
  },
  {
   "cell_type": "code",
   "execution_count": 21,
   "id": "69b98fd7",
   "metadata": {
    "slideshow": {
     "slide_type": "skip"
    }
   },
   "outputs": [
    {
     "data": {
      "text/plain": [
       "0"
      ]
     },
     "execution_count": 21,
     "metadata": {},
     "output_type": "execute_result"
    }
   ],
   "source": [
    "truncate(-4, 0)"
   ]
  },
  {
   "cell_type": "markdown",
   "id": "cfa8a738",
   "metadata": {
    "slideshow": {
     "slide_type": "skip"
    }
   },
   "source": [
    "The first function `_truncate` performs the truncation operation, but would error if `truncate_value = nothing`.  The second function checks to ensure that `truncate_value != nothing` and if this is `true`, then it calls the first function."
   ]
  },
  {
   "cell_type": "markdown",
   "id": "c1acb361",
   "metadata": {
    "slideshow": {
     "slide_type": "subslide"
    }
   },
   "source": [
    "### Ternary operator\n",
    "\n",
    "The ternary operator is a shorthand single line `if`/`else` statement that has the form\n",
    "\n",
    "`test ? do if test is true : do if test is false`"
   ]
  },
  {
   "cell_type": "code",
   "execution_count": 22,
   "id": "280712e4",
   "metadata": {
    "slideshow": {
     "slide_type": "fragment"
    }
   },
   "outputs": [
    {
     "data": {
      "text/plain": [
       "ternary_truncate (generic function with 1 method)"
      ]
     },
     "execution_count": 22,
     "metadata": {},
     "output_type": "execute_result"
    }
   ],
   "source": [
    "ternary_truncate(x, truncate_value) = x < truncate_value ? truncate_value : x "
   ]
  },
  {
   "cell_type": "code",
   "execution_count": 23,
   "id": "17553ef0",
   "metadata": {
    "slideshow": {
     "slide_type": "-"
    }
   },
   "outputs": [
    {
     "name": "stdout",
     "output_type": "stream",
     "text": [
      "ternary_truncate(-4, 0) = 0\n",
      "ternary_truncate(5, 0) = 5\n"
     ]
    }
   ],
   "source": [
    "@show ternary_truncate(-4, 0)\n",
    "@show ternary_truncate(5, 0);"
   ]
  },
  {
   "cell_type": "code",
   "execution_count": 24,
   "id": "9d733388",
   "metadata": {
    "hide_input": true,
    "init_cell": true,
    "slideshow": {
     "slide_type": "skip"
    },
    "tags": [
     "remove_cell"
    ]
   },
   "outputs": [
    {
     "data": {
      "application/javascript": [
       "function hideElements(elements, start) {\n",
       "for(var i = 0, length = elements.length; i < length;i++) {\n",
       "    if(i >= start) {\n",
       "        elements[i].style.display = \"none\";\n",
       "    }\n",
       "}\n",
       "}\n",
       "var prompt_elements = document.getElementsByClassName(\"prompt\");\n",
       "hideElements(prompt_elements, 0)\n"
      ]
     },
     "metadata": {},
     "output_type": "display_data"
    }
   ],
   "source": [
    "macro javascript_str(s) display(\"text/javascript\", s); end\n",
    "javascript\"\"\"\n",
    "function hideElements(elements, start) {\n",
    "for(var i = 0, length = elements.length; i < length;i++) {\n",
    "    if(i >= start) {\n",
    "        elements[i].style.display = \"none\";\n",
    "    }\n",
    "}\n",
    "}\n",
    "var prompt_elements = document.getElementsByClassName(\"prompt\");\n",
    "hideElements(prompt_elements, 0)\n",
    "\"\"\""
   ]
  }
 ],
 "metadata": {
  "jupytext": {
   "text_representation": {
    "extension": ".md",
    "format_name": "myst",
    "format_version": 0.13,
    "jupytext_version": "1.11.5"
   }
  },
  "kernelspec": {
   "display_name": "Julia 1.7.2",
   "language": "julia",
   "name": "julia-1.7"
  },
  "language_info": {
   "file_extension": ".jl",
   "mimetype": "application/julia",
   "name": "julia",
   "version": "1.7.2"
  },
  "source_map": [
   15,
   21,
   36,
   49,
   53,
   61,
   65,
   69,
   77,
   85,
   95,
   103,
   107,
   115,
   121,
   129,
   142,
   150,
   154,
   158,
   170,
   174,
   182,
   190,
   194,
   208,
   212,
   221,
   225,
   233,
   237,
   253,
   261,
   265,
   269,
   288,
   298,
   302,
   306,
   332,
   340,
   344,
   352,
   360,
   369
  ]
 },
 "nbformat": 4,
 "nbformat_minor": 5
}