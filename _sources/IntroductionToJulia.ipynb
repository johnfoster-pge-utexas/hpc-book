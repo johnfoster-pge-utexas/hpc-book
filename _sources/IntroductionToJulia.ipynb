{
 "cells": [
  {
   "cell_type": "markdown",
   "id": "5f96003d",
   "metadata": {
    "slideshow": {
     "slide_type": "slide"
    }
   },
   "source": [
    "```{image} images/julia_logo.png\n",
    ":alt: julia-logo\n",
    ":width: 300px\n",
    ":align: center\n",
    "```"
   ]
  },
  {
   "cell_type": "markdown",
   "id": "585d0278",
   "metadata": {
    "slideshow": {
     "slide_type": "slide"
    }
   },
   "source": [
    "# Why Julia?\n",
    "\n",
    " * Fast\n",
    " \n",
    " * Dynamic, but... optionally typed\n",
    " \n",
    " * Composable (mulitple dispatch)\n",
    "  \n",
    " * General Purpose\n",
    " \n",
    " * Open Source\n",
    " \n",
    " * Amazing Packages (e.g. DifferentialEquations.jl, Flux.jl)\n",
    " \n",
    " * Growing community ([Slack Workspace](https://join.slack.com/t/julialang/shared_invite/zt-w0pifg7p-18IUSkZy_WpofNumiTTROQ))"
   ]
  },
  {
   "cell_type": "markdown",
   "id": "f329d2c1",
   "metadata": {
    "slideshow": {
     "slide_type": "subslide"
    }
   },
   "source": [
    "# How fast?\n",
    "\n",
    "```{image} images/benchmarks.png\n",
    ":alt: benchmarks\n",
    ":width: 600px\n",
    ":align: center\n",
    "```"
   ]
  },
  {
   "cell_type": "markdown",
   "id": "7fbb3216",
   "metadata": {
    "slideshow": {
     "slide_type": "subslide"
    }
   },
   "source": [
    "# Multiple Dispatch"
   ]
  },
  {
   "cell_type": "code",
   "execution_count": 1,
   "id": "ee7ac94b",
   "metadata": {
    "slideshow": {
     "slide_type": "-"
    }
   },
   "outputs": [
    {
     "data": {
      "text/plain": [
       "my_add (generic function with 2 methods)"
      ]
     },
     "execution_count": 1,
     "metadata": {},
     "output_type": "execute_result"
    }
   ],
   "source": [
    "my_add(x::Int, y::Int) = x + y\n",
    "my_add(x::Float64, y::Float64) = x + y"
   ]
  },
  {
   "cell_type": "code",
   "execution_count": 2,
   "id": "dd74f3e5",
   "metadata": {
    "slideshow": {
     "slide_type": "-"
    }
   },
   "outputs": [
    {
     "data": {
      "text/plain": [
       "3"
      ]
     },
     "execution_count": 2,
     "metadata": {},
     "output_type": "execute_result"
    }
   ],
   "source": [
    "my_add(1, 2)"
   ]
  },
  {
   "cell_type": "code",
   "execution_count": 3,
   "id": "3bbb961b",
   "metadata": {
    "slideshow": {
     "slide_type": "-"
    }
   },
   "outputs": [
    {
     "ename": "LoadError",
     "evalue": "MethodError: no method matching my_add(::Float64, ::Int64)\n\u001b[0mClosest candidates are:\n\u001b[0m  my_add(\u001b[91m::Int64\u001b[39m, ::Int64) at In[1]:1\n\u001b[0m  my_add(::Float64, \u001b[91m::Float64\u001b[39m) at In[1]:2",
     "output_type": "error",
     "traceback": [
      "MethodError: no method matching my_add(::Float64, ::Int64)\n\u001b[0mClosest candidates are:\n\u001b[0m  my_add(\u001b[91m::Int64\u001b[39m, ::Int64) at In[1]:1\n\u001b[0m  my_add(::Float64, \u001b[91m::Float64\u001b[39m) at In[1]:2",
      "",
      "Stacktrace:",
      " [1] top-level scope",
      "   @ In[3]:1",
      " [2] eval",
      "   @ ./boot.jl:373 [inlined]",
      " [3] include_string(mapexpr::typeof(REPL.softscope), mod::Module, code::String, filename::String)",
      "   @ Base ./loading.jl:1196"
     ]
    }
   ],
   "source": [
    "my_add(1.0, 2)"
   ]
  },
  {
   "cell_type": "markdown",
   "id": "fdc611d1",
   "metadata": {
    "slideshow": {
     "slide_type": "fragment"
    }
   },
   "source": [
    "---"
   ]
  },
  {
   "cell_type": "code",
   "execution_count": 4,
   "id": "8329bc36",
   "metadata": {
    "slideshow": {
     "slide_type": "-"
    }
   },
   "outputs": [
    {
     "data": {
      "text/plain": [
       "my_add (generic function with 3 methods)"
      ]
     },
     "execution_count": 4,
     "metadata": {},
     "output_type": "execute_result"
    }
   ],
   "source": [
    "my_add(x::String, y::String) = \"$(x) $(y)\""
   ]
  },
  {
   "cell_type": "code",
   "execution_count": 5,
   "id": "d93df596",
   "metadata": {
    "slideshow": {
     "slide_type": "-"
    }
   },
   "outputs": [
    {
     "data": {
      "text/plain": [
       "\"Hello World!\""
      ]
     },
     "execution_count": 5,
     "metadata": {},
     "output_type": "execute_result"
    }
   ],
   "source": [
    "my_add(\"Hello\", \"World!\")"
   ]
  },
  {
   "cell_type": "code",
   "execution_count": 6,
   "id": "189e3582",
   "metadata": {
    "slideshow": {
     "slide_type": "fragment"
    }
   },
   "outputs": [
    {
     "data": {
      "text/plain": [
       "+ (generic function with 209 methods)"
      ]
     },
     "execution_count": 6,
     "metadata": {},
     "output_type": "execute_result"
    }
   ],
   "source": [
    "import Base.+\n",
    "+(x::String, y::String) = my_add(x, y)"
   ]
  },
  {
   "cell_type": "code",
   "execution_count": 7,
   "id": "9668188a",
   "metadata": {
    "slideshow": {
     "slide_type": "-"
    }
   },
   "outputs": [
    {
     "data": {
      "text/plain": [
       "\"Hello World!\""
      ]
     },
     "execution_count": 7,
     "metadata": {},
     "output_type": "execute_result"
    }
   ],
   "source": [
    "\"Hello\" + \"World!\""
   ]
  },
  {
   "cell_type": "markdown",
   "id": "a4eeec75",
   "metadata": {
    "slideshow": {
     "slide_type": "fragment"
    }
   },
   "source": [
    "---"
   ]
  },
  {
   "cell_type": "code",
   "execution_count": 8,
   "id": "e90e4eed",
   "metadata": {
    "slideshow": {
     "slide_type": "-"
    }
   },
   "outputs": [
    {
     "data": {
      "text/plain": [
       "my_add (generic function with 4 methods)"
      ]
     },
     "execution_count": 8,
     "metadata": {},
     "output_type": "execute_result"
    }
   ],
   "source": [
    "struct Point\n",
    "    x::Float64\n",
    "    y::Float64\n",
    "end\n",
    "\n",
    "my_add(A::Point, B::Point) = Point(A.x + B.x, A.y + B.y)"
   ]
  },
  {
   "cell_type": "code",
   "execution_count": 9,
   "id": "062ba46d",
   "metadata": {
    "slideshow": {
     "slide_type": "-"
    }
   },
   "outputs": [
    {
     "data": {
      "text/plain": [
       "Point(2.0, 4.0)"
      ]
     },
     "execution_count": 9,
     "metadata": {},
     "output_type": "execute_result"
    }
   ],
   "source": [
    "A = Point(1.0, 2.0)\n",
    "B = Point(1.0, 2.0)\n",
    "my_add(A,B)"
   ]
  },
  {
   "cell_type": "markdown",
   "id": "670758c8",
   "metadata": {
    "slideshow": {
     "slide_type": "subslide"
    }
   },
   "source": [
    "# Generic programming"
   ]
  },
  {
   "cell_type": "code",
   "execution_count": 10,
   "id": "0f5a100d",
   "metadata": {
    "slideshow": {
     "slide_type": "-"
    }
   },
   "outputs": [
    {
     "data": {
      "text/latex": [
       "$51.0 \\pm 0.17$"
      ],
      "text/plain": [
       "51.0 ± 0.17"
      ]
     },
     "execution_count": 10,
     "metadata": {},
     "output_type": "execute_result"
    }
   ],
   "source": [
    "using Measurements\n",
    "\n",
    "x = 5.23 ± 0.14\n",
    "y = 45.77 ± 0.1\n",
    "\n",
    "x + y"
   ]
  },
  {
   "cell_type": "markdown",
   "id": "807c104a",
   "metadata": {
    "slideshow": {
     "slide_type": "fragment"
    }
   },
   "source": [
    "## Simple pendulum\n",
    "\n",
    "$$\n",
    "\\ddot{\\theta} = \\frac{g}{L} \\theta\n",
    "$$\n",
    "\n",
    "[Example Source](https://tutorials.sciml.ai/html/type_handling/02-uncertainties.html)"
   ]
  },
  {
   "cell_type": "code",
   "execution_count": 11,
   "id": "acb4dcec",
   "metadata": {
    "slideshow": {
     "slide_type": "-"
    }
   },
   "outputs": [
    {
     "ename": "InterruptException",
     "evalue": "InterruptException:",
     "output_type": "error",
     "traceback": [
      "InterruptException:",
      "",
      "Stacktrace:",
      "  [1] optimize_ticks(x_min::Float64, x_max::Float64; extend_ticks::Bool, Q::Vector{Tuple{Float64, Float64}}, k_min::Int64, k_max::Int64, k_ideal::Int64, granularity_weight::Float64, simplicity_weight::Float64, coverage_weight::Float64, niceness_weight::Float64, strict_span::Bool, span_buffer::Nothing, scale::Symbol)",
      "    @ PlotUtils ~/.julia/packages/PlotUtils/rTTui/src/ticks.jl:154",
      "  [2] optimal_ticks_and_labels(ticks::Nothing, alims::Tuple{Float64, Float64}, scale::Symbol, formatter::Symbol)",
      "    @ Plots ~/.julia/packages/Plots/NQpB8/src/axes.jl:170",
      "  [3] get_ticks(::Symbol, ::Vector{Float64}, ::Vector{Any}, ::Tuple{Float64, Float64}, ::Vararg{Any})",
      "    @ Plots ~/.julia/packages/Plots/NQpB8/src/axes.jl:320",
      "  [4] get_ticks(sp::Plots.Subplot{Plots.GRBackend}, axis::Plots.Axis; update::Bool)",
      "    @ Plots ~/.julia/packages/Plots/NQpB8/src/axes.jl:241",
      "  [5] get_ticks",
      "    @ ~/.julia/packages/Plots/NQpB8/src/axes.jl:224 [inlined]",
      "  [6] _update_min_padding!(sp::Plots.Subplot{Plots.GRBackend})",
      "    @ Plots ~/.julia/packages/Plots/NQpB8/src/backends/gr.jl:888",
      "  [7] iterate",
      "    @ ./generator.jl:47 [inlined]",
      "  [8] _collect(c::Matrix{AbstractLayout}, itr::Base.Generator{Matrix{AbstractLayout}, typeof(Plots._update_min_padding!)}, #unused#::Base.EltypeUnknown, isz::Base.HasShape{2})",
      "    @ Base ./array.jl:744",
      "  [9] collect_similar",
      "    @ ./array.jl:653 [inlined]",
      " [10] map",
      "    @ ./abstractarray.jl:2849 [inlined]",
      " [11] _update_min_padding!(layout::Plots.GridLayout)",
      "    @ Plots ~/.julia/packages/Plots/NQpB8/src/layouts.jl:290",
      " [12] prepare_output(plt::Plots.Plot{Plots.GRBackend})",
      "    @ Plots ~/.julia/packages/Plots/NQpB8/src/plot.jl:224",
      " [13] show(io::IOBuffer, m::MIME{Symbol(\"image/svg+xml\")}, plt::Plots.Plot{Plots.GRBackend})",
      "    @ Plots ~/.julia/packages/Plots/NQpB8/src/output.jl:204",
      " [14] sprint(::Function, ::MIME{Symbol(\"image/svg+xml\")}, ::Vararg{Any}; context::Nothing, sizehint::Int64)",
      "    @ Base ./strings/io.jl:114",
      " [15] sprint",
      "    @ ./strings/io.jl:108 [inlined]",
      " [16] _ijulia_display_dict(plt::Plots.Plot{Plots.GRBackend})",
      "    @ Plots ~/.julia/packages/Plots/NQpB8/src/ijulia.jl:47",
      " [17] display_dict(plt::Plots.Plot{Plots.GRBackend})",
      "    @ Plots ~/.julia/packages/Plots/NQpB8/src/init.jl:92",
      " [18] #invokelatest#2",
      "    @ ./essentials.jl:716 [inlined]",
      " [19] invokelatest",
      "    @ ./essentials.jl:714 [inlined]",
      " [20] execute_request(socket::ZMQ.Socket, msg::IJulia.Msg)",
      "    @ IJulia ~/.julia/packages/IJulia/e8kqU/src/execute_request.jl:112",
      " [21] #invokelatest#2",
      "    @ ./essentials.jl:716 [inlined]",
      " [22] invokelatest",
      "    @ ./essentials.jl:714 [inlined]",
      " [23] eventloop(socket::ZMQ.Socket)",
      "    @ IJulia ~/.julia/packages/IJulia/e8kqU/src/eventloop.jl:8",
      " [24] (::IJulia.var\"#15#18\")()",
      "    @ IJulia ./task.jl:423"
     ]
    }
   ],
   "source": [
    "using DifferentialEquations, Measurements, Plots\n",
    "\n",
    "g = 9.79 ± 0.02; # Gravitational constants\n",
    "L = 1.00 ± 0.01; # Length of the pendulum\n",
    "\n",
    "#Initial Conditions\n",
    "u₀ = [0 ± 0, π / 60 ± 0.01] # Initial speed and initial angle\n",
    "tspan = (0.0, 6.3)\n",
    "\n",
    "#Define the problem\n",
    "function simplependulum(du,u,p,t)\n",
    "    θ  = u[1]\n",
    "    dθ = u[2]\n",
    "    du[1] = dθ\n",
    "    du[2] = -(g/L)*θ\n",
    "end\n",
    "\n",
    "#Pass to solvers\n",
    "prob = ODEProblem(simplependulum, u₀, tspan)\n",
    "sol = solve(prob, Tsit5(), reltol = 1e-6)\n",
    "\n",
    "# Analytic solution\n",
    "u = u₀[2] .* cos.(sqrt(g / L) .* sol.t)\n",
    "\n",
    "plot(sol.t, getindex.(sol.u, 2), label = \"Numerical\")\n",
    "plot!(sol.t, u, label = \"Analytic\")"
   ]
  },
  {
   "cell_type": "code",
   "execution_count": null,
   "id": "68989fc7",
   "metadata": {
    "hide_input": true,
    "init_cell": true,
    "slideshow": {
     "slide_type": "skip"
    },
    "tags": [
     "remove_cell"
    ]
   },
   "outputs": [],
   "source": [
    "macro javascript_str(s) display(\"text/javascript\", s); end\n",
    "javascript\"\"\"\n",
    "function hideElements(elements, start) {\n",
    "for(var i = 0, length = elements.length; i < length;i++) {\n",
    "    if(i >= start) {\n",
    "        elements[i].style.display = \"none\";\n",
    "    }\n",
    "}\n",
    "}\n",
    "var prompt_elements = document.getElementsByClassName(\"prompt\");\n",
    "hideElements(prompt_elements, 0)\n",
    "\"\"\""
   ]
  }
 ],
 "metadata": {
  "jupytext": {
   "text_representation": {
    "extension": ".md",
    "format_name": "myst",
    "format_version": 0.13,
    "jupytext_version": "1.11.5"
   }
  },
  "kernelspec": {
   "display_name": "Julia 1.7.2",
   "language": "julia",
   "name": "julia-1.7"
  },
  "language_info": {
   "file_extension": ".jl",
   "mimetype": "application/julia",
   "name": "julia",
   "version": "1.7.2"
  },
  "source_map": [
   14,
   22,
   40,
   50,
   54,
   63,
   71,
   79,
   83,
   91,
   99,
   108,
   116,
   120,
   133,
   143,
   147,
   160,
   170,
   203
  ]
 },
 "nbformat": 4,
 "nbformat_minor": 5
}