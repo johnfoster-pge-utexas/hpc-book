{
 "cells": [
  {
   "cell_type": "markdown",
   "id": "f70c30c3",
   "metadata": {
    "slideshow": {
     "slide_type": "slide"
    }
   },
   "source": [
    "```{image} images/julia_logo.png\n",
    ":alt: julia-logo\n",
    ":width: 300px\n",
    ":align: center\n",
    "```"
   ]
  },
  {
   "cell_type": "markdown",
   "id": "8fa2e526",
   "metadata": {
    "slideshow": {
     "slide_type": "slide"
    }
   },
   "source": [
    "# Why Julia?\n",
    "\n",
    " * Fast\n",
    " \n",
    " * Dynamic, but... optionally typed\n",
    " \n",
    " * Composable (mulitple dispatch)\n",
    "  \n",
    " * General Purpose\n",
    " \n",
    " * Open Source\n",
    " \n",
    " * Amazing Packages (e.g. DifferentialEquations.jl, Flux.jl)\n",
    " \n",
    " * Growing community ([Slack Workspace](https://join.slack.com/t/julialang/shared_invite/zt-w0pifg7p-18IUSkZy_WpofNumiTTROQ))"
   ]
  },
  {
   "cell_type": "markdown",
   "id": "cf0bf07a",
   "metadata": {
    "slideshow": {
     "slide_type": "subslide"
    }
   },
   "source": [
    "# How fast?\n",
    "\n",
    "```{image} images/benchmarks.png\n",
    ":alt: benchmarks\n",
    ":width: 600px\n",
    ":align: center\n",
    "```"
   ]
  },
  {
   "cell_type": "markdown",
   "id": "31d9ac5c",
   "metadata": {
    "slideshow": {
     "slide_type": "subslide"
    }
   },
   "source": [
    "# Multiple Dispatch"
   ]
  },
  {
   "cell_type": "code",
   "execution_count": 1,
   "id": "812bf6d2",
   "metadata": {
    "slideshow": {
     "slide_type": "-"
    }
   },
   "outputs": [
    {
     "data": {
      "text/plain": [
       "my_add (generic function with 2 methods)"
      ]
     },
     "execution_count": 1,
     "metadata": {},
     "output_type": "execute_result"
    }
   ],
   "source": [
    "my_add(x::Int, y::Int) = x + y\n",
    "my_add(x::Float64, y::Float64) = x + y"
   ]
  },
  {
   "cell_type": "code",
   "execution_count": 2,
   "id": "ea258e6b",
   "metadata": {
    "slideshow": {
     "slide_type": "-"
    }
   },
   "outputs": [
    {
     "data": {
      "text/plain": [
       "3"
      ]
     },
     "execution_count": 2,
     "metadata": {},
     "output_type": "execute_result"
    }
   ],
   "source": [
    "my_add(1, 2)"
   ]
  },
  {
   "cell_type": "code",
   "execution_count": 3,
   "id": "b375039b",
   "metadata": {
    "slideshow": {
     "slide_type": "-"
    }
   },
   "outputs": [
    {
     "ename": "LoadError",
     "evalue": "MethodError: no method matching my_add(::Float64, ::Int64)\n\u001b[0mClosest candidates are:\n\u001b[0m  my_add(\u001b[91m::Int64\u001b[39m, ::Int64) at In[1]:1\n\u001b[0m  my_add(::Float64, \u001b[91m::Float64\u001b[39m) at In[1]:2",
     "output_type": "error",
     "traceback": [
      "MethodError: no method matching my_add(::Float64, ::Int64)\n\u001b[0mClosest candidates are:\n\u001b[0m  my_add(\u001b[91m::Int64\u001b[39m, ::Int64) at In[1]:1\n\u001b[0m  my_add(::Float64, \u001b[91m::Float64\u001b[39m) at In[1]:2",
      "",
      "Stacktrace:",
      " [1] top-level scope",
      "   @ In[3]:1",
      " [2] eval",
      "   @ ./boot.jl:373 [inlined]",
      " [3] include_string(mapexpr::typeof(REPL.softscope), mod::Module, code::String, filename::String)",
      "   @ Base ./loading.jl:1196"
     ]
    }
   ],
   "source": [
    "my_add(1.0, 2)"
   ]
  },
  {
   "cell_type": "markdown",
   "id": "a5e1f031",
   "metadata": {
    "slideshow": {
     "slide_type": "fragment"
    }
   },
   "source": [
    "---"
   ]
  },
  {
   "cell_type": "code",
   "execution_count": 4,
   "id": "7686291b",
   "metadata": {
    "slideshow": {
     "slide_type": "-"
    }
   },
   "outputs": [
    {
     "data": {
      "text/plain": [
       "my_add (generic function with 3 methods)"
      ]
     },
     "execution_count": 4,
     "metadata": {},
     "output_type": "execute_result"
    }
   ],
   "source": [
    "my_add(x::String, y::String) = \"$(x) $(y)\""
   ]
  },
  {
   "cell_type": "code",
   "execution_count": 5,
   "id": "db480eb4",
   "metadata": {
    "slideshow": {
     "slide_type": "-"
    }
   },
   "outputs": [
    {
     "data": {
      "text/plain": [
       "\"Hello World!\""
      ]
     },
     "execution_count": 5,
     "metadata": {},
     "output_type": "execute_result"
    }
   ],
   "source": [
    "my_add(\"Hello\", \"World!\")"
   ]
  },
  {
   "cell_type": "code",
   "execution_count": 6,
   "id": "9e7375b7",
   "metadata": {
    "slideshow": {
     "slide_type": "fragment"
    }
   },
   "outputs": [
    {
     "data": {
      "text/plain": [
       "+ (generic function with 209 methods)"
      ]
     },
     "execution_count": 6,
     "metadata": {},
     "output_type": "execute_result"
    }
   ],
   "source": [
    "import Base.+\n",
    "+(x::String, y::String) = my_add(x, y)"
   ]
  },
  {
   "cell_type": "code",
   "execution_count": 7,
   "id": "09ea69a2",
   "metadata": {
    "slideshow": {
     "slide_type": "-"
    }
   },
   "outputs": [
    {
     "data": {
      "text/plain": [
       "\"Hello World!\""
      ]
     },
     "execution_count": 7,
     "metadata": {},
     "output_type": "execute_result"
    }
   ],
   "source": [
    "\"Hello\" + \"World!\""
   ]
  },
  {
   "cell_type": "markdown",
   "id": "3634b0a0",
   "metadata": {
    "slideshow": {
     "slide_type": "fragment"
    }
   },
   "source": [
    "---"
   ]
  },
  {
   "cell_type": "code",
   "execution_count": 8,
   "id": "13f65493",
   "metadata": {
    "slideshow": {
     "slide_type": "-"
    }
   },
   "outputs": [
    {
     "data": {
      "text/plain": [
       "my_add (generic function with 4 methods)"
      ]
     },
     "execution_count": 8,
     "metadata": {},
     "output_type": "execute_result"
    }
   ],
   "source": [
    "struct Point\n",
    "    x::Float64\n",
    "    y::Float64\n",
    "end\n",
    "\n",
    "my_add(A::Point, B::Point) = Point(A.x + B.x, A.y + B.y)"
   ]
  },
  {
   "cell_type": "code",
   "execution_count": 9,
   "id": "bd962cf3",
   "metadata": {
    "slideshow": {
     "slide_type": "-"
    }
   },
   "outputs": [
    {
     "data": {
      "text/plain": [
       "Point(2.0, 4.0)"
      ]
     },
     "execution_count": 9,
     "metadata": {},
     "output_type": "execute_result"
    }
   ],
   "source": [
    "A = Point(1.0, 2.0)\n",
    "B = Point(1.0, 2.0)\n",
    "my_add(A,B)"
   ]
  },
  {
   "cell_type": "markdown",
   "id": "9be88090",
   "metadata": {
    "slideshow": {
     "slide_type": "subslide"
    }
   },
   "source": [
    "# Generic programming"
   ]
  },
  {
   "cell_type": "code",
   "execution_count": 10,
   "id": "68d0632e",
   "metadata": {
    "slideshow": {
     "slide_type": "-"
    }
   },
   "outputs": [
    {
     "data": {
      "text/latex": [
       "$51.0 \\pm 0.17$"
      ],
      "text/plain": [
       "51.0 ± 0.17"
      ]
     },
     "execution_count": 10,
     "metadata": {},
     "output_type": "execute_result"
    }
   ],
   "source": [
    "using Measurements\n",
    "\n",
    "x = 5.23 ± 0.14\n",
    "y = 45.77 ± 0.1\n",
    "\n",
    "x + y"
   ]
  },
  {
   "cell_type": "markdown",
   "id": "41bd5ae5",
   "metadata": {
    "slideshow": {
     "slide_type": "fragment"
    }
   },
   "source": [
    "## Simple pendulum\n",
    "\n",
    "$$\n",
    "\\ddot{\\theta} = \\frac{g}{L} \\theta\n",
    "$$\n",
    "\n",
    "[Example Source](https://tutorials.sciml.ai/html/type_handling/02-uncertainties.html)"
   ]
  },
  {
   "cell_type": "code",
   "execution_count": 11,
   "id": "88875a4b",
   "metadata": {
    "slideshow": {
     "slide_type": "-"
    }
   },
   "outputs": [
    {
     "ename": "LoadError",
     "evalue": "InterruptException:",
     "output_type": "error",
     "traceback": [
      "InterruptException:",
      "",
      "Stacktrace:",
      "  [1] broadcasted",
      "    @ ./broadcast.jl:1305 [inlined]",
      "  [2] broadcasted",
      "    @ ./broadcast.jl:1297 [inlined]",
      "  [3] findall(testf::Function, A::Vector{Dict{Symbol, Any}})",
      "    @ Base ./array.jl:2257",
      "  [4] process_sliced_series_attributes!(plt::Plots.Plot{Plots.GRBackend}, kw_list::Vector{Dict{Symbol, Any}})",
      "    @ Plots ~/.julia/packages/Plots/NQpB8/src/pipeline.jl:144",
      "  [5] _process_seriesrecipes!(plt::Any, kw_list::Any)",
      "    @ RecipesPipeline ~/.julia/packages/RecipesPipeline/oVorB/src/series_recipe.jl:16",
      "  [6] recipe_pipeline!(plt::Any, plotattributes::Any, args::Any)",
      "    @ RecipesPipeline ~/.julia/packages/RecipesPipeline/oVorB/src/RecipesPipeline.jl:97",
      "  [7] _plot!(plt::Plots.Plot, plotattributes::Any, args::Any)",
      "    @ Plots ~/.julia/packages/Plots/NQpB8/src/plot.jl:208",
      "  [8] plot(::Any, ::Vararg{Any}; kw::Base.Pairs{Symbol, V, Tuple{Vararg{Symbol, N}}, NamedTuple{names, T}} where {V, N, names, T<:Tuple{Vararg{Any, N}}})",
      "    @ Plots ~/.julia/packages/Plots/NQpB8/src/plot.jl:91",
      "  [9] top-level scope",
      "    @ In[11]:25",
      " [10] eval",
      "    @ ./boot.jl:373 [inlined]",
      " [11] include_string(mapexpr::typeof(REPL.softscope), mod::Module, code::String, filename::String)",
      "    @ Base ./loading.jl:1196"
     ]
    }
   ],
   "source": [
    "using DifferentialEquations, Measurements, Plots\n",
    "\n",
    "g = 9.79 ± 0.02; # Gravitational constants\n",
    "L = 1.00 ± 0.01; # Length of the pendulum\n",
    "\n",
    "#Initial Conditions\n",
    "u₀ = [0 ± 0, π / 60 ± 0.01] # Initial speed and initial angle\n",
    "tspan = (0.0, 6.3)\n",
    "\n",
    "#Define the problem\n",
    "function simplependulum(du,u,p,t)\n",
    "    θ  = u[1]\n",
    "    dθ = u[2]\n",
    "    du[1] = dθ\n",
    "    du[2] = -(g/L)*θ\n",
    "end\n",
    "\n",
    "#Pass to solvers\n",
    "prob = ODEProblem(simplependulum, u₀, tspan)\n",
    "sol = solve(prob, Tsit5(), reltol = 1e-6)\n",
    "\n",
    "# Analytic solution\n",
    "u = u₀[2] .* cos.(sqrt(g / L) .* sol.t)\n",
    "\n",
    "plot(sol.t, getindex.(sol.u, 2), label = \"Numerical\")\n",
    "plot!(sol.t, u, label = \"Analytic\")"
   ]
  },
  {
   "cell_type": "code",
   "execution_count": null,
   "id": "4e132bdf",
   "metadata": {
    "hide_input": true,
    "init_cell": true,
    "slideshow": {
     "slide_type": "skip"
    },
    "tags": [
     "remove_cell"
    ]
   },
   "outputs": [],
   "source": [
    "macro javascript_str(s) display(\"text/javascript\", s); end\n",
    "javascript\"\"\"\n",
    "function hideElements(elements, start) {\n",
    "for(var i = 0, length = elements.length; i < length;i++) {\n",
    "    if(i >= start) {\n",
    "        elements[i].style.display = \"none\";\n",
    "    }\n",
    "}\n",
    "}\n",
    "var prompt_elements = document.getElementsByClassName(\"prompt\");\n",
    "hideElements(prompt_elements, 0)\n",
    "\"\"\""
   ]
  }
 ],
 "metadata": {
  "jupytext": {
   "text_representation": {
    "extension": ".md",
    "format_name": "myst",
    "format_version": 0.13,
    "jupytext_version": "1.11.5"
   }
  },
  "kernelspec": {
   "display_name": "Julia 1.7.2",
   "language": "julia",
   "name": "julia-1.7"
  },
  "language_info": {
   "file_extension": ".jl",
   "mimetype": "application/julia",
   "name": "julia",
   "version": "1.7.2"
  },
  "source_map": [
   14,
   22,
   40,
   50,
   54,
   63,
   71,
   79,
   83,
   91,
   99,
   108,
   116,
   120,
   133,
   143,
   147,
   160,
   170,
   203
  ]
 },
 "nbformat": 4,
 "nbformat_minor": 5
}