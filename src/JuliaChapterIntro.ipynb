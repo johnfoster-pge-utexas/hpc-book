{
 "cells": [
  {
   "cell_type": "markdown",
   "id": "236c03d0",
   "metadata": {
    "slideshow": {
     "slide_type": "skip"
    }
   },
   "source": [
    "# Introduction to Julia\n",
    "\n",
    "This chapter contains a succinct introduction to the Julia programming language.  It's written \n",
    "with the expectation that the reader has some familiarity with computer\n",
    "programming languages.  For example, someone who has been programming in Python\n",
    "should be able able to grasp the concepts as presented in the coming sections.\n",
    "This chapter is not a replacement for the Julia Language documentation which is\n",
    "very thorough and will be referenced throughout for further reading."
   ]
  }
 ],
 "metadata": {
  "kernelspec": {
   "display_name": "Julia 1.6.2",
   "language": "julia",
   "name": "julia-1.6"
  }
 },
 "nbformat": 4,
 "nbformat_minor": 5
}
